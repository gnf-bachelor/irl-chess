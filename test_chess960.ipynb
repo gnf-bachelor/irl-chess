{
 "cells": [
  {
   "cell_type": "code",
   "execution_count": 1,
   "id": "initial_id",
   "metadata": {
    "collapsed": true,
    "ExecuteTime": {
     "end_time": "2024-05-31T11:33:36.465992500Z",
     "start_time": "2024-05-31T11:33:26.410317700Z"
    }
   },
   "outputs": [],
   "source": [
    "import os\n",
    "from os.path import join\n",
    "import chess.pgn\n",
    "import numpy as np\n",
    "import json\n",
    "from joblib import Parallel, delayed\n",
    "from tqdm import tqdm\n",
    "from maia_chess import load_maia_network\n",
    "from irl_chess.chess_utils.sunfish_utils import board2sunfish, sunfish_move_to_str, str_to_sunfish_move, get_new_pst\n",
    "from irl_chess.chess_utils.sunfish import piece, pst\n",
    "from irl_chess.models.sunfish_GRW import sunfish_move\n",
    "from irl_chess.misc_utils.load_save_utils import get_board_after_n, is_valid_game"
   ]
  },
  {
   "cell_type": "code",
   "outputs": [
    {
     "name": "stderr",
     "output_type": "stream",
     "text": [
      "Looking through file 0:   1%|          | 3875086/746967475 [00:07<22:56, 539650.16it/s]\n"
     ]
    }
   ],
   "source": [
    "config_lower = {'min_elo':1400, 'max_elo':1600, 'n_endgame':20}\n",
    "chess_boards, moves = [], []\n",
    "i = 0\n",
    "n_boards = 100\n",
    "n_midgame = 8\n",
    "while len(chess_boards) < n_boards:\n",
    "    pgn_path = 'data/960/lichess_db_chess960_rated_2024-04.pgn'\n",
    "    progress = 0\n",
    "    with open(pgn_path) as pgn:\n",
    "        size = os.path.getsize(pgn_path)\n",
    "        with tqdm(total=size, desc=f'Looking through file {i}') as pbar:\n",
    "            while len(chess_boards) < n_boards:\n",
    "                game = chess.pgn.read_game(pgn)\n",
    "                if is_valid_game(game, config_data=config_lower):\n",
    "                    board_midgame, move_midgame = get_board_after_n(game,n_midgame)\n",
    "                    chess_boards.append(board_midgame)\n",
    "                    moves.append(sunfish_move_to_str(move_midgame))\n",
    "\n",
    "                pbar.update(pgn.tell() - progress)\n",
    "                progress = pgn.tell()\n",
    "                if size <= progress:\n",
    "                    break\n",
    "        i += 1"
   ],
   "metadata": {
    "collapsed": false,
    "ExecuteTime": {
     "end_time": "2024-05-31T12:06:04.797144600Z",
     "start_time": "2024-05-31T12:05:57.565401300Z"
    }
   },
   "id": "2d6ac1b4db6e75fc",
   "execution_count": 9
  },
  {
   "cell_type": "code",
   "outputs": [
    {
     "name": "stdout",
     "output_type": "stream",
     "text": [
      "Model loaded successfully!\n"
     ]
    },
    {
     "name": "stderr",
     "output_type": "stream",
     "text": [
      "100%|██████████| 100/100 [01:34<00:00,  1.06it/s]"
     ]
    },
    {
     "name": "stdout",
     "output_type": "stream",
     "text": [
      "Sunfish accuracy: 0.24, Maia accuracy: 0.38\n"
     ]
    },
    {
     "name": "stderr",
     "output_type": "stream",
     "text": [
      "\n"
     ]
    }
   ],
   "source": [
    "maia_high = load_maia_network(1500, parent='maia_chess/')\n",
    "R_high = np.array([100,280,320,420,928,65000])\n",
    "pst_high = get_new_pst(R_high)\n",
    "\n",
    "maia_acc = 0\n",
    "sf_acc = 0\n",
    "for board, move in tqdm(list(zip(chess_boards, moves))):\n",
    "    maia_move = maia_high.getTopMovesCP(board, 1)[0][0]\n",
    "    sf_move = sunfish_move(board2sunfish(board, 0), pst_high,time_limit=0.5, move_only=True)\n",
    "    sf_move = sunfish_move_to_str(sf_move)\n",
    "    maia_acc += maia_move == move\n",
    "    sf_acc += sf_move == move\n",
    "maia_acc, sf_acc = maia_acc/n_boards, sf_acc/n_boards\n",
    "print(f'Sunfish accuracy: {sf_acc}, Maia accuracy: {maia_acc}')"
   ],
   "metadata": {
    "collapsed": false,
    "ExecuteTime": {
     "end_time": "2024-05-31T12:07:45.966471400Z",
     "start_time": "2024-05-31T12:06:11.684443500Z"
    }
   },
   "id": "99d22a49b29b6b34",
   "execution_count": 10
  },
  {
   "cell_type": "code",
   "outputs": [],
   "source": [],
   "metadata": {
    "collapsed": false
   },
   "id": "426da786d1e49c5d"
  }
 ],
 "metadata": {
  "kernelspec": {
   "display_name": "Python 3",
   "language": "python",
   "name": "python3"
  },
  "language_info": {
   "codemirror_mode": {
    "name": "ipython",
    "version": 2
   },
   "file_extension": ".py",
   "mimetype": "text/x-python",
   "name": "python",
   "nbconvert_exporter": "python",
   "pygments_lexer": "ipython2",
   "version": "2.7.6"
  }
 },
 "nbformat": 4,
 "nbformat_minor": 5
}
