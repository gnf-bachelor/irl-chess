{
 "cells": [
  {
   "cell_type": "code",
   "outputs": [
    {
     "name": "stderr",
     "output_type": "stream",
     "text": [
      "[D:matplotlib] matplotlib data path: %s\n",
      "[D:matplotlib] CONFIGDIR=%s\n",
      "[D:matplotlib] interactive is %s\n",
      "[D:matplotlib] platform is %s\n",
      "[D:matplotlib] CACHEDIR=%s\n",
      "[D:matplotlib.font_manager] Using fontManager instance from %s\n"
     ]
    }
   ],
   "source": [
    "import os\n",
    "from os.path import join\n",
    "import chess.pgn\n",
    "import numpy as np\n",
    "import json\n",
    "import requests\n",
    "from bs4 import BeautifulSoup\n",
    "from requests_html import HTMLSession\n",
    "from joblib import Parallel, delayed\n",
    "from tqdm import tqdm\n",
    "from irl_chess.misc_utils.utils import union_dicts\n",
    "from irl_chess.chess_utils.sunfish_utils import board2sunfish, eval_pos, sunfish_move_to_str, str_to_sunfish_move, get_new_pst\n",
    "from irl_chess.chess_utils.sunfish import piece, pst\n",
    "from irl_chess.models.sunfish_GRW import sunfish_move\n",
    "from collections import defaultdict\n",
    "from irl_chess.misc_utils.load_save_utils import fix_cwd, load_config, get_board_after_n, get_states"
   ],
   "metadata": {
    "collapsed": true,
    "ExecuteTime": {
     "end_time": "2024-05-23T12:01:05.045461400Z",
     "start_time": "2024-05-23T12:00:57.993699800Z"
    }
   },
   "id": "initial_id",
   "execution_count": 1
  },
  {
   "cell_type": "code",
   "outputs": [],
   "source": [
    "with open('data/move_percentages/moves_1000-1200_fixed', 'r') as f:\n",
    "    moves_dict = json.load(f)\n",
    "n_boards = 500\n",
    "sunfish_boards = [board2sunfish(fen, 0) for fen in list(moves_dict.keys())[:n_boards]]\n",
    "move_dicts = [move_dict for fen, move_dict in list(moves_dict.items())[:n_boards]]\n",
    "player_moves = [max(move_dict, key=lambda k: move_dict[k][0] - (k == 'sum')) for move_dict in move_dicts]"
   ],
   "metadata": {
    "collapsed": false,
    "ExecuteTime": {
     "end_time": "2024-05-20T10:33:45.647993100Z",
     "start_time": "2024-05-20T10:33:45.097411500Z"
    }
   },
   "id": "52d61fa8f66c9689",
   "execution_count": 2
  },
  {
   "cell_type": "code",
   "outputs": [
    {
     "name": "stderr",
     "output_type": "stream",
     "text": [
      "\n",
      "Getting true moves:   0%|          | 0/500 [00:00<?, ?it/s]\u001B[A\n",
      "Getting true moves:   3%|▎         | 14/500 [00:00<00:19, 24.37it/s]\u001B[A\n",
      "Getting true moves:   4%|▍         | 21/500 [00:02<01:05,  7.37it/s]\u001B[A\n",
      "Getting true moves:   6%|▌         | 28/500 [00:03<01:01,  7.69it/s]\u001B[A\n",
      "Getting true moves:   7%|▋         | 35/500 [00:04<01:13,  6.29it/s]\u001B[A\n",
      "Getting true moves:   8%|▊         | 42/500 [00:05<01:05,  6.95it/s]\u001B[A\n",
      "Getting true moves:  10%|▉         | 49/500 [00:06<01:06,  6.74it/s]\u001B[A\n",
      "Getting true moves:  11%|█         | 56/500 [00:07<01:07,  6.58it/s]\u001B[A\n",
      "Getting true moves:  13%|█▎        | 63/500 [00:08<01:06,  6.58it/s]\u001B[A\n",
      "Getting true moves:  14%|█▍        | 70/500 [00:10<01:08,  6.28it/s]\u001B[A\n",
      "Getting true moves:  15%|█▌        | 77/500 [00:11<01:05,  6.49it/s]\u001B[A\n",
      "Getting true moves:  17%|█▋        | 84/500 [00:12<01:06,  6.28it/s]\u001B[A\n",
      "Getting true moves:  18%|█▊        | 91/500 [00:17<02:09,  3.15it/s]\u001B[A\n",
      "Getting true moves:  20%|█▉        | 98/500 [00:18<01:55,  3.47it/s]\u001B[A\n",
      "Getting true moves:  21%|██        | 105/500 [00:19<01:40,  3.94it/s]\u001B[A\n",
      "Getting true moves:  22%|██▏       | 112/500 [00:21<01:40,  3.87it/s]\u001B[A\n",
      "Getting true moves:  24%|██▍       | 119/500 [00:23<01:45,  3.60it/s]\u001B[A\n",
      "Getting true moves:  25%|██▌       | 126/500 [00:25<01:44,  3.57it/s]\u001B[A\n",
      "Getting true moves:  27%|██▋       | 133/500 [00:27<01:35,  3.83it/s]\u001B[A"
     ]
    },
    {
     "ename": "KeyboardInterrupt",
     "evalue": "",
     "output_type": "error",
     "traceback": [
      "\u001B[1;31m---------------------------------------------------------------------------\u001B[0m",
      "\u001B[1;31mKeyboardInterrupt\u001B[0m                         Traceback (most recent call last)",
      "Cell \u001B[1;32mIn[16], line 3\u001B[0m\n\u001B[0;32m      1\u001B[0m R \u001B[38;5;241m=\u001B[39m np\u001B[38;5;241m.\u001B[39marray([\u001B[38;5;241m100\u001B[39m,\u001B[38;5;241m100\u001B[39m,\u001B[38;5;241m100\u001B[39m,\u001B[38;5;241m100\u001B[39m,\u001B[38;5;241m100\u001B[39m,\u001B[38;5;241m65000\u001B[39m])\n\u001B[0;32m      2\u001B[0m pst_new \u001B[38;5;241m=\u001B[39m get_new_pst(R)\n\u001B[1;32m----> 3\u001B[0m actions_true \u001B[38;5;241m=\u001B[39m \u001B[43mParallel\u001B[49m\u001B[43m(\u001B[49m\u001B[43mn_jobs\u001B[49m\u001B[38;5;241;43m=\u001B[39;49m\u001B[38;5;241;43m-\u001B[39;49m\u001B[38;5;241;43m2\u001B[39;49m\u001B[43m)\u001B[49m\u001B[43m(\u001B[49m\u001B[43mdelayed\u001B[49m\u001B[43m(\u001B[49m\u001B[43msunfish_move\u001B[49m\u001B[43m)\u001B[49m\u001B[43m(\u001B[49m\u001B[43mstate\u001B[49m\u001B[43m,\u001B[49m\u001B[43m \u001B[49m\u001B[43mpst_new\u001B[49m\u001B[43m,\u001B[49m\u001B[43m \u001B[49m\u001B[38;5;241;43m0.5\u001B[39;49m\u001B[43m,\u001B[49m\u001B[43m \u001B[49m\u001B[43mmove_only\u001B[49m\u001B[38;5;241;43m=\u001B[39;49m\u001B[38;5;28;43;01mTrue\u001B[39;49;00m\u001B[43m)\u001B[49m\n\u001B[0;32m      4\u001B[0m \u001B[43m                        \u001B[49m\u001B[38;5;28;43;01mfor\u001B[39;49;00m\u001B[43m \u001B[49m\u001B[43mstate\u001B[49m\u001B[43m \u001B[49m\u001B[38;5;129;43;01min\u001B[39;49;00m\u001B[43m \u001B[49m\u001B[43mtqdm\u001B[49m\u001B[43m(\u001B[49m\u001B[43msunfish_boards\u001B[49m\u001B[43m,\u001B[49m\u001B[43m \u001B[49m\u001B[43mdesc\u001B[49m\u001B[38;5;241;43m=\u001B[39;49m\u001B[38;5;124;43m'\u001B[39;49m\u001B[38;5;124;43mGetting true moves\u001B[39;49m\u001B[38;5;124;43m'\u001B[39;49m\u001B[43m,\u001B[49m\u001B[43m \u001B[49m\u001B[43m)\u001B[49m\u001B[43m)\u001B[49m\n",
      "File \u001B[1;32m~\\.conda\\envs\\irl-chess-v6\\lib\\site-packages\\joblib\\parallel.py:1952\u001B[0m, in \u001B[0;36mParallel.__call__\u001B[1;34m(self, iterable)\u001B[0m\n\u001B[0;32m   1946\u001B[0m \u001B[38;5;66;03m# The first item from the output is blank, but it makes the interpreter\u001B[39;00m\n\u001B[0;32m   1947\u001B[0m \u001B[38;5;66;03m# progress until it enters the Try/Except block of the generator and\u001B[39;00m\n\u001B[0;32m   1948\u001B[0m \u001B[38;5;66;03m# reach the first `yield` statement. This starts the aynchronous\u001B[39;00m\n\u001B[0;32m   1949\u001B[0m \u001B[38;5;66;03m# dispatch of the tasks to the workers.\u001B[39;00m\n\u001B[0;32m   1950\u001B[0m \u001B[38;5;28mnext\u001B[39m(output)\n\u001B[1;32m-> 1952\u001B[0m \u001B[38;5;28;01mreturn\u001B[39;00m output \u001B[38;5;28;01mif\u001B[39;00m \u001B[38;5;28mself\u001B[39m\u001B[38;5;241m.\u001B[39mreturn_generator \u001B[38;5;28;01melse\u001B[39;00m \u001B[38;5;28;43mlist\u001B[39;49m\u001B[43m(\u001B[49m\u001B[43moutput\u001B[49m\u001B[43m)\u001B[49m\n",
      "File \u001B[1;32m~\\.conda\\envs\\irl-chess-v6\\lib\\site-packages\\joblib\\parallel.py:1595\u001B[0m, in \u001B[0;36mParallel._get_outputs\u001B[1;34m(self, iterator, pre_dispatch)\u001B[0m\n\u001B[0;32m   1592\u001B[0m     \u001B[38;5;28;01myield\u001B[39;00m\n\u001B[0;32m   1594\u001B[0m     \u001B[38;5;28;01mwith\u001B[39;00m \u001B[38;5;28mself\u001B[39m\u001B[38;5;241m.\u001B[39m_backend\u001B[38;5;241m.\u001B[39mretrieval_context():\n\u001B[1;32m-> 1595\u001B[0m         \u001B[38;5;28;01myield from\u001B[39;00m \u001B[38;5;28mself\u001B[39m\u001B[38;5;241m.\u001B[39m_retrieve()\n\u001B[0;32m   1597\u001B[0m \u001B[38;5;28;01mexcept\u001B[39;00m \u001B[38;5;167;01mGeneratorExit\u001B[39;00m:\n\u001B[0;32m   1598\u001B[0m     \u001B[38;5;66;03m# The generator has been garbage collected before being fully\u001B[39;00m\n\u001B[0;32m   1599\u001B[0m     \u001B[38;5;66;03m# consumed. This aborts the remaining tasks if possible and warn\u001B[39;00m\n\u001B[0;32m   1600\u001B[0m     \u001B[38;5;66;03m# the user if necessary.\u001B[39;00m\n\u001B[0;32m   1601\u001B[0m     \u001B[38;5;28mself\u001B[39m\u001B[38;5;241m.\u001B[39m_exception \u001B[38;5;241m=\u001B[39m \u001B[38;5;28;01mTrue\u001B[39;00m\n",
      "File \u001B[1;32m~\\.conda\\envs\\irl-chess-v6\\lib\\site-packages\\joblib\\parallel.py:1707\u001B[0m, in \u001B[0;36mParallel._retrieve\u001B[1;34m(self)\u001B[0m\n\u001B[0;32m   1702\u001B[0m \u001B[38;5;66;03m# If the next job is not ready for retrieval yet, we just wait for\u001B[39;00m\n\u001B[0;32m   1703\u001B[0m \u001B[38;5;66;03m# async callbacks to progress.\u001B[39;00m\n\u001B[0;32m   1704\u001B[0m \u001B[38;5;28;01mif\u001B[39;00m ((\u001B[38;5;28mlen\u001B[39m(\u001B[38;5;28mself\u001B[39m\u001B[38;5;241m.\u001B[39m_jobs) \u001B[38;5;241m==\u001B[39m \u001B[38;5;241m0\u001B[39m) \u001B[38;5;129;01mor\u001B[39;00m\n\u001B[0;32m   1705\u001B[0m     (\u001B[38;5;28mself\u001B[39m\u001B[38;5;241m.\u001B[39m_jobs[\u001B[38;5;241m0\u001B[39m]\u001B[38;5;241m.\u001B[39mget_status(\n\u001B[0;32m   1706\u001B[0m         timeout\u001B[38;5;241m=\u001B[39m\u001B[38;5;28mself\u001B[39m\u001B[38;5;241m.\u001B[39mtimeout) \u001B[38;5;241m==\u001B[39m TASK_PENDING)):\n\u001B[1;32m-> 1707\u001B[0m     \u001B[43mtime\u001B[49m\u001B[38;5;241;43m.\u001B[39;49m\u001B[43msleep\u001B[49m\u001B[43m(\u001B[49m\u001B[38;5;241;43m0.01\u001B[39;49m\u001B[43m)\u001B[49m\n\u001B[0;32m   1708\u001B[0m     \u001B[38;5;28;01mcontinue\u001B[39;00m\n\u001B[0;32m   1710\u001B[0m \u001B[38;5;66;03m# We need to be careful: the job list can be filling up as\u001B[39;00m\n\u001B[0;32m   1711\u001B[0m \u001B[38;5;66;03m# we empty it and Python list are not thread-safe by\u001B[39;00m\n\u001B[0;32m   1712\u001B[0m \u001B[38;5;66;03m# default hence the use of the lock\u001B[39;00m\n",
      "\u001B[1;31mKeyboardInterrupt\u001B[0m: "
     ]
    }
   ],
   "source": [
    "R = np.array([100, 280, 320, 479, 929, 60000])\n",
    "pst_new = get_new_pst(R)\n",
    "actions_true = Parallel(n_jobs=-2)(delayed(sunfish_move)(state, pst_new, 0.5, move_only=True)\n",
    "                        for state in tqdm(sunfish_boards, desc='Getting true moves', ))"
   ],
   "metadata": {
    "collapsed": false,
    "ExecuteTime": {
     "end_time": "2024-05-20T07:42:11.499060Z",
     "start_time": "2024-05-20T07:41:41.020968200Z"
    }
   },
   "id": "93084088e75f2279",
   "execution_count": 16
  },
  {
   "cell_type": "code",
   "outputs": [
    {
     "name": "stderr",
     "output_type": "stream",
     "text": [
      "\n",
      "\n",
      "\n",
      "\n",
      "Getting new actions:   0%|          | 0/500 [00:00<?, ?it/s]\u001B[A\u001B[A\u001B[A\u001B[A\n",
      "\n",
      "\n",
      "\n",
      "Getting new actions:   3%|▎         | 14/500 [00:00<00:21, 22.60it/s]\u001B[A\u001B[A\u001B[A\u001B[A\n",
      "\n",
      "\n",
      "\n",
      "Getting new actions:   4%|▍         | 21/500 [00:01<00:45, 10.53it/s]\u001B[A\u001B[A\u001B[A\u001B[A\n",
      "\n",
      "\n",
      "\n",
      "Getting new actions:   6%|▌         | 28/500 [00:02<00:49,  9.48it/s]\u001B[A\u001B[A\u001B[A\u001B[A\n",
      "\n",
      "\n",
      "\n",
      "Getting new actions:   7%|▋         | 35/500 [00:03<00:49,  9.38it/s]\u001B[A\u001B[A\u001B[A\u001B[A\n",
      "\n",
      "\n",
      "\n",
      "Getting new actions:   8%|▊         | 42/500 [00:04<00:46,  9.91it/s]\u001B[A\u001B[A\u001B[A\u001B[A\n",
      "\n",
      "\n",
      "\n",
      "Getting new actions:  10%|▉         | 49/500 [00:05<00:54,  8.27it/s]\u001B[A\u001B[A\u001B[A\u001B[A\n",
      "\n",
      "\n",
      "\n",
      "Getting new actions:  11%|█         | 56/500 [00:06<00:56,  7.88it/s]\u001B[A\u001B[A\u001B[A\u001B[A\n",
      "\n",
      "\n",
      "\n",
      "Getting new actions:  13%|█▎        | 63/500 [00:06<00:52,  8.31it/s]\u001B[A\u001B[A\u001B[A\u001B[A\n",
      "\n",
      "\n",
      "\n",
      "Getting new actions:  14%|█▍        | 70/500 [00:08<01:02,  6.85it/s]\u001B[A\u001B[A\u001B[A\u001B[A\n",
      "\n",
      "\n",
      "\n",
      "Getting new actions:  15%|█▌        | 77/500 [00:09<00:56,  7.44it/s]\u001B[A\u001B[A\u001B[A\u001B[A\n",
      "\n",
      "\n",
      "\n",
      "Getting new actions:  17%|█▋        | 84/500 [00:09<00:54,  7.66it/s]\u001B[A\u001B[A\u001B[A\u001B[A\n",
      "\n",
      "\n",
      "\n",
      "Getting new actions:  18%|█▊        | 91/500 [00:10<00:55,  7.31it/s]\u001B[A\u001B[A\u001B[A\u001B[A\n",
      "\n",
      "\n",
      "\n",
      "Getting new actions:  20%|█▉        | 98/500 [00:11<00:52,  7.63it/s]\u001B[A\u001B[A\u001B[A\u001B[A\n",
      "\n",
      "\n",
      "\n",
      "Getting new actions:  21%|██        | 105/500 [00:12<00:53,  7.41it/s]\u001B[A\u001B[A\u001B[A\u001B[A\n",
      "\n",
      "\n",
      "\n",
      "Getting new actions:  22%|██▏       | 112/500 [00:14<00:56,  6.86it/s]\u001B[A\u001B[A\u001B[A\u001B[A\n",
      "\n",
      "\n",
      "\n",
      "Getting new actions:  24%|██▍       | 119/500 [00:15<00:58,  6.54it/s]\u001B[A\u001B[A\u001B[A\u001B[A\n",
      "\n",
      "\n",
      "\n",
      "Getting new actions:  25%|██▌       | 126/500 [00:16<00:57,  6.54it/s]\u001B[A\u001B[A\u001B[A\u001B[A\n",
      "\n",
      "\n",
      "\n",
      "Getting new actions:  27%|██▋       | 133/500 [00:17<00:51,  7.07it/s]\u001B[A\u001B[A\u001B[A\u001B[A\n",
      "\n",
      "\n",
      "\n",
      "Getting new actions:  28%|██▊       | 140/500 [00:18<00:55,  6.46it/s]\u001B[A\u001B[A\u001B[A\u001B[A\n",
      "\n",
      "\n",
      "\n",
      "Getting new actions:  29%|██▉       | 147/500 [00:19<00:53,  6.56it/s]\u001B[A\u001B[A\u001B[A\u001B[A\n",
      "\n",
      "\n",
      "\n",
      "Getting new actions:  31%|███       | 154/500 [00:20<00:51,  6.78it/s]\u001B[A\u001B[A\u001B[A\u001B[A\n",
      "\n",
      "\n",
      "\n",
      "Getting new actions:  32%|███▏      | 161/500 [00:21<00:47,  7.08it/s]\u001B[A\u001B[A\u001B[A\u001B[A\n",
      "\n",
      "\n",
      "\n",
      "Getting new actions:  34%|███▎      | 168/500 [00:22<00:43,  7.61it/s]\u001B[A\u001B[A\u001B[A\u001B[A\n",
      "\n",
      "\n",
      "\n",
      "Getting new actions:  35%|███▌      | 175/500 [00:23<00:44,  7.28it/s]\u001B[A\u001B[A\u001B[A\u001B[A\n",
      "\n",
      "\n",
      "\n",
      "Getting new actions:  36%|███▋      | 182/500 [00:24<00:46,  6.77it/s]\u001B[A\u001B[A\u001B[A\u001B[A\n",
      "\n",
      "\n",
      "\n",
      "Getting new actions:  38%|███▊      | 189/500 [00:25<00:51,  6.07it/s]\u001B[A\u001B[A\u001B[A\u001B[A\n",
      "\n",
      "\n",
      "\n",
      "Getting new actions:  39%|███▉      | 196/500 [00:26<00:45,  6.62it/s]\u001B[A\u001B[A\u001B[A\u001B[A\n",
      "\n",
      "\n",
      "\n",
      "Getting new actions:  41%|████      | 203/500 [00:27<00:47,  6.25it/s]\u001B[A\u001B[A\u001B[A\u001B[A\n",
      "\n",
      "\n",
      "\n",
      "Getting new actions:  42%|████▏     | 210/500 [00:29<00:50,  5.78it/s]\u001B[A\u001B[A\u001B[A\u001B[A\n",
      "\n",
      "\n",
      "\n",
      "Getting new actions:  43%|████▎     | 217/500 [00:30<00:48,  5.88it/s]\u001B[A\u001B[A\u001B[A\u001B[A\n",
      "\n",
      "\n",
      "\n",
      "Getting new actions:  45%|████▍     | 224/500 [00:31<00:41,  6.57it/s]\u001B[A\u001B[A\u001B[A\u001B[A\n",
      "\n",
      "\n",
      "\n",
      "Getting new actions:  46%|████▌     | 231/500 [00:32<00:39,  6.80it/s]\u001B[A\u001B[A\u001B[A\u001B[A\n",
      "\n",
      "\n",
      "\n",
      "Getting new actions:  48%|████▊     | 238/500 [00:33<00:38,  6.86it/s]\u001B[A\u001B[A\u001B[A\u001B[A\n",
      "\n",
      "\n",
      "\n",
      "Getting new actions:  49%|████▉     | 245/500 [00:33<00:32,  7.79it/s]\u001B[A\u001B[A\u001B[A\u001B[A\n",
      "\n",
      "\n",
      "\n",
      "Getting new actions:  50%|█████     | 252/500 [00:34<00:33,  7.45it/s]\u001B[A\u001B[A\u001B[A\u001B[A\n",
      "\n",
      "\n",
      "\n",
      "Getting new actions:  52%|█████▏    | 259/500 [00:35<00:33,  7.24it/s]\u001B[A\u001B[A\u001B[A\u001B[A\n",
      "\n",
      "\n",
      "\n",
      "Getting new actions:  53%|█████▎    | 266/500 [00:36<00:30,  7.56it/s]\u001B[A\u001B[A\u001B[A\u001B[A\n",
      "\n",
      "\n",
      "\n",
      "Getting new actions:  55%|█████▍    | 273/500 [00:37<00:33,  6.77it/s]\u001B[A\u001B[A\u001B[A\u001B[A\n",
      "\n",
      "\n",
      "\n",
      "Getting new actions:  56%|█████▌    | 280/500 [00:38<00:30,  7.18it/s]\u001B[A\u001B[A\u001B[A\u001B[A\n",
      "\n",
      "\n",
      "\n",
      "Getting new actions:  57%|█████▋    | 287/500 [00:40<00:35,  5.99it/s]\u001B[A\u001B[A\u001B[A\u001B[A\n",
      "\n",
      "\n",
      "\n",
      "Getting new actions:  59%|█████▉    | 294/500 [00:41<00:33,  6.15it/s]\u001B[A\u001B[A\u001B[A\u001B[A\n",
      "\n",
      "\n",
      "\n",
      "Getting new actions:  60%|██████    | 301/500 [00:42<00:30,  6.54it/s]\u001B[A\u001B[A\u001B[A\u001B[A\n",
      "\n",
      "\n",
      "\n",
      "Getting new actions:  62%|██████▏   | 308/500 [00:43<00:27,  7.03it/s]\u001B[A\u001B[A\u001B[A\u001B[A\n",
      "\n",
      "\n",
      "\n",
      "Getting new actions:  63%|██████▎   | 315/500 [00:44<00:25,  7.23it/s]\u001B[A\u001B[A\u001B[A\u001B[A\n",
      "\n",
      "\n",
      "\n",
      "Getting new actions:  64%|██████▍   | 322/500 [00:44<00:24,  7.26it/s]\u001B[A\u001B[A\u001B[A\u001B[A\n",
      "\n",
      "\n",
      "\n",
      "Getting new actions:  66%|██████▌   | 329/500 [00:45<00:21,  8.00it/s]\u001B[A\u001B[A\u001B[A\u001B[A\n",
      "\n",
      "\n",
      "\n",
      "Getting new actions:  67%|██████▋   | 336/500 [00:46<00:23,  7.03it/s]\u001B[A\u001B[A\u001B[A\u001B[A\n",
      "\n",
      "\n",
      "\n",
      "Getting new actions:  69%|██████▊   | 343/500 [00:48<00:23,  6.70it/s]\u001B[A\u001B[A\u001B[A\u001B[A\n",
      "\n",
      "\n",
      "\n",
      "Getting new actions:  70%|███████   | 350/500 [00:48<00:20,  7.19it/s]\u001B[A\u001B[A\u001B[A\u001B[A\n",
      "\n",
      "\n",
      "\n",
      "Getting new actions:  71%|███████▏  | 357/500 [00:50<00:20,  6.89it/s]\u001B[A\u001B[A\u001B[A\u001B[A\n",
      "\n",
      "\n",
      "\n",
      "Getting new actions:  73%|███████▎  | 364/500 [00:51<00:19,  6.89it/s]\u001B[A\u001B[A\u001B[A\u001B[A\n",
      "\n",
      "\n",
      "\n",
      "Getting new actions:  74%|███████▍  | 371/500 [00:52<00:20,  6.24it/s]\u001B[A\u001B[A\u001B[A\u001B[A\n",
      "\n",
      "\n",
      "\n",
      "Getting new actions:  76%|███████▌  | 378/500 [00:53<00:19,  6.11it/s]\u001B[A\u001B[A\u001B[A\u001B[A\n",
      "\n",
      "\n",
      "\n",
      "Getting new actions:  77%|███████▋  | 385/500 [00:54<00:18,  6.19it/s]\u001B[A\u001B[A\u001B[A\u001B[A\n",
      "\n",
      "\n",
      "\n",
      "Getting new actions:  78%|███████▊  | 392/500 [00:56<00:18,  5.86it/s]\u001B[A\u001B[A\u001B[A\u001B[A\n",
      "\n",
      "\n",
      "\n",
      "Getting new actions:  80%|███████▉  | 399/500 [00:57<00:16,  6.22it/s]\u001B[A\u001B[A\u001B[A\u001B[A\n",
      "\n",
      "\n",
      "\n",
      "Getting new actions:  81%|████████  | 406/500 [00:59<00:18,  4.95it/s]\u001B[A\u001B[A\u001B[A\u001B[A\n",
      "\n",
      "\n",
      "\n",
      "Getting new actions:  83%|████████▎ | 413/500 [01:00<00:16,  5.35it/s]\u001B[A\u001B[A\u001B[A\u001B[A\n",
      "\n",
      "\n",
      "\n",
      "Getting new actions:  84%|████████▍ | 420/500 [01:01<00:14,  5.53it/s]\u001B[A\u001B[A\u001B[A\u001B[A\n",
      "\n",
      "\n",
      "\n",
      "Getting new actions:  85%|████████▌ | 427/500 [01:02<00:12,  6.00it/s]\u001B[A\u001B[A\u001B[A\u001B[A\n",
      "\n",
      "\n",
      "\n",
      "Getting new actions:  87%|████████▋ | 434/500 [01:02<00:09,  6.79it/s]\u001B[A\u001B[A\u001B[A\u001B[A\n",
      "\n",
      "\n",
      "\n",
      "Getting new actions:  88%|████████▊ | 441/500 [01:04<00:09,  6.19it/s]\u001B[A\u001B[A\u001B[A\u001B[A\n",
      "\n",
      "\n",
      "\n",
      "Getting new actions:  90%|████████▉ | 448/500 [01:05<00:07,  6.59it/s]\u001B[A\u001B[A\u001B[A\u001B[A\n",
      "\n",
      "\n",
      "\n",
      "Getting new actions:  91%|█████████ | 455/500 [01:05<00:06,  7.35it/s]\u001B[A\u001B[A\u001B[A\u001B[A\n",
      "\n",
      "\n",
      "\n",
      "Getting new actions:  92%|█████████▏| 462/500 [01:07<00:05,  6.99it/s]\u001B[A\u001B[A\u001B[A\u001B[A\n",
      "\n",
      "\n",
      "\n",
      "Getting new actions:  94%|█████████▍| 469/500 [01:07<00:04,  7.12it/s]\u001B[A\u001B[A\u001B[A\u001B[A\n",
      "\n",
      "\n",
      "\n",
      "Getting new actions:  95%|█████████▌| 476/500 [01:09<00:03,  6.76it/s]\u001B[A\u001B[A\u001B[A\u001B[A\n",
      "\n",
      "\n",
      "\n",
      "Getting new actions:  97%|█████████▋| 483/500 [01:09<00:02,  7.45it/s]\u001B[A\u001B[A\u001B[A\u001B[A\n",
      "\n",
      "\n",
      "\n",
      "Getting new actions:  98%|█████████▊| 490/500 [01:10<00:01,  7.05it/s]\u001B[A\u001B[A\u001B[A\u001B[A\n",
      "\n",
      "\n",
      "\n",
      "Getting new actions: 100%|██████████| 500/500 [01:11<00:00,  6.96it/s]\u001B[A\u001B[A\u001B[A\u001B[A\n"
     ]
    },
    {
     "name": "stdout",
     "output_type": "stream",
     "text": [
      "0.472\n"
     ]
    }
   ],
   "source": [
    "R = np.array([100, 200, 200, 479, 929, 60000])\n",
    "pst_new = get_new_pst(R)\n",
    "moves = Parallel(n_jobs=-2)(delayed(sunfish_move)(state, pst, 0.5, move_only=True)\n",
    "                    for state in tqdm(sunfish_boards, desc='Getting new actions'))\n",
    "moves = [sunfish_move_to_str(move) for move in moves]\n",
    "acc = sum([a == a_new for a, a_new in list(zip(player_moves, moves))]) / n_boards\n",
    "print(acc)"
   ],
   "metadata": {
    "collapsed": false,
    "ExecuteTime": {
     "end_time": "2024-05-20T08:47:29.208001900Z",
     "start_time": "2024-05-20T08:46:15.206284100Z"
    }
   },
   "id": "17ac1eb4136516bb",
   "execution_count": 28
  },
  {
   "cell_type": "code",
   "outputs": [
    {
     "name": "stdout",
     "output_type": "stream",
     "text": [
      "{'time_limit': 200, 'R_true': [100, 280, 320, 479, 929, 60000], 'overwrite': False, 'n_files': 3, 'min_elo': 800, 'max_elo': 1200, 'n_midgame': 15, 'n_endgame': 30, 'n_boards': 1000, 'n_threads': -2, 'move_function': 'player_move', 'move_percentage_data': False}\n",
      "{'time_limit': 200, 'R_true': [100, 280, 320, 479, 929, 60000], 'overwrite': False, 'n_files': 3, 'min_elo': 1600, 'max_elo': 1800, 'n_midgame': 15, 'n_endgame': 30, 'n_boards': 1000, 'n_threads': -2, 'move_function': 'player_move', 'move_percentage_data': False}\n"
     ]
    }
   ],
   "source": [
    "with open('experiment_configs\\\\depths\\\\config_lower.json', 'r') as file:\n",
    "    config_lower = json.load(file)\n",
    "print(config_lower)\n",
    "    \n",
    "with open('experiment_configs\\\\depths\\\\config_upper.json', 'r') as file:\n",
    "    config_upper = json.load(file)\n",
    "print(config_upper)"
   ],
   "metadata": {
    "collapsed": false,
    "ExecuteTime": {
     "end_time": "2024-05-20T12:07:04.404603900Z",
     "start_time": "2024-05-20T12:07:04.353610600Z"
    }
   },
   "id": "fda32815ad66d082",
   "execution_count": 8
  },
  {
   "cell_type": "code",
   "outputs": [
    {
     "name": "stdout",
     "output_type": "stream",
     "text": [
      "\n",
      "\n",
      "-------------------  1/12  -------------------\n",
      "\n",
      "\n",
      "Time taken: 0.00 seconds for file\n",
      "Time taken: 0.00 seconds in total\n",
      "\n",
      "\n",
      "-------------------  2/12  -------------------\n",
      "\n",
      "\n",
      "Time taken: 0.00 seconds for file\n",
      "Time taken: 0.00 seconds in total\n",
      "\n",
      "\n",
      "-------------------  3/12  -------------------\n",
      "\n",
      "\n",
      "Time taken: 0.00 seconds for file\n",
      "Time taken: 0.00 seconds in total\n",
      "C:\\Users\\nikol\\Documents\\GitHub\\irl-chess\\data\\raw\\lichess_db_standard_rated_2013-01.pgn\n"
     ]
    },
    {
     "name": "stderr",
     "output_type": "stream",
     "text": [
      "Looking through file 0: 100%|██████████| 92811021/92811021 [08:56<00:00, 172935.14it/s]\n"
     ]
    },
    {
     "name": "stdout",
     "output_type": "stream",
     "text": [
      "C:\\Users\\nikol\\Documents\\GitHub\\irl-chess\\data\\raw\\lichess_db_standard_rated_2014-01.pgn\n"
     ]
    },
    {
     "name": "stderr",
     "output_type": "stream",
     "text": [
      "Looking through file 1:   8%|▊         | 47917332/574506567 [05:46<1:03:25, 138366.10it/s]\n"
     ]
    },
    {
     "name": "stdout",
     "output_type": "stream",
     "text": [
      "Got lower, now upper\n",
      "\n",
      "\n",
      "-------------------  1/12  -------------------\n",
      "\n",
      "\n",
      "Time taken: 0.00 seconds for file\n",
      "Time taken: 0.00 seconds in total\n",
      "\n",
      "\n",
      "-------------------  2/12  -------------------\n",
      "\n",
      "\n",
      "Time taken: 0.00 seconds for file\n",
      "Time taken: 0.00 seconds in total\n",
      "\n",
      "\n",
      "-------------------  3/12  -------------------\n",
      "\n",
      "\n",
      "Time taken: 0.00 seconds for file\n",
      "Time taken: 0.00 seconds in total\n",
      "C:\\Users\\nikol\\Documents\\GitHub\\irl-chess\\data\\raw\\lichess_db_standard_rated_2013-01.pgn\n"
     ]
    },
    {
     "name": "stderr",
     "output_type": "stream",
     "text": [
      "Looking through file 0:   4%|▍         | 3708614/92811021 [00:22<09:10, 161753.32it/s]\n"
     ]
    }
   ],
   "source": [
    "websites_filepath = join(os.getcwd(), 'downloads', 'lichess_websites.txt')\n",
    "file_path_data = join(os.getcwd(), 'data', 'raw')\n",
    "\n",
    "sunfish_boards_lower, player_moves_lower = get_states(websites_filepath=websites_filepath,\n",
    "                                                        file_path_data=file_path_data,\n",
    "                                                        config_data=config_lower)\n",
    "player_moves_lower = [sunfish_move_to_str(move) for move in player_moves_lower]\n",
    "\n",
    "print('Got lower, now upper')\n",
    "\n",
    "sunfish_boards_upper, player_moves_upper = get_states(websites_filepath=websites_filepath,\n",
    "                                                        file_path_data=file_path_data,\n",
    "                                                        config_data=config_upper)\n",
    "player_moves_upper = [sunfish_move_to_str(move) for move in player_moves_upper]"
   ],
   "metadata": {
    "collapsed": false,
    "ExecuteTime": {
     "end_time": "2024-05-20T12:22:15.674196100Z",
     "start_time": "2024-05-20T12:07:08.926528100Z"
    }
   },
   "id": "dd42fad979a3538c",
   "execution_count": 9
  },
  {
   "cell_type": "code",
   "outputs": [
    {
     "name": "stdout",
     "output_type": "stream",
     "text": [
      "\n",
      " Depth: 1 \n",
      " --------------------\n"
     ]
    },
    {
     "name": "stderr",
     "output_type": "stream",
     "text": [
      "100%|██████████| 1000/1000 [00:20<00:00, 49.56it/s]\n",
      "100%|██████████| 1000/1000 [00:04<00:00, 201.29it/s]\n"
     ]
    },
    {
     "name": "stdout",
     "output_type": "stream",
     "text": [
      "\n",
      " Depth: 2 \n",
      " --------------------\n"
     ]
    },
    {
     "name": "stderr",
     "output_type": "stream",
     "text": [
      "100%|██████████| 1000/1000 [00:33<00:00, 29.61it/s]\n",
      "100%|██████████| 1000/1000 [00:48<00:00, 20.45it/s]\n"
     ]
    },
    {
     "name": "stdout",
     "output_type": "stream",
     "text": [
      "\n",
      " Depth: 3 \n",
      " --------------------\n"
     ]
    },
    {
     "name": "stderr",
     "output_type": "stream",
     "text": [
      "100%|██████████| 1000/1000 [01:31<00:00, 10.97it/s]\n",
      "100%|██████████| 1000/1000 [01:53<00:00,  8.82it/s]\n"
     ]
    },
    {
     "name": "stdout",
     "output_type": "stream",
     "text": [
      "\n",
      " Depth: 4 \n",
      " --------------------\n"
     ]
    },
    {
     "name": "stderr",
     "output_type": "stream",
     "text": [
      "100%|██████████| 1000/1000 [07:03<00:00,  2.36it/s]\n",
      "100%|██████████| 1000/1000 [07:55<00:00,  2.11it/s]\n"
     ]
    },
    {
     "name": "stdout",
     "output_type": "stream",
     "text": [
      "\n",
      " Depth: 5 \n",
      " --------------------\n"
     ]
    },
    {
     "name": "stderr",
     "output_type": "stream",
     "text": [
      "100%|██████████| 1000/1000 [17:05<00:00,  1.03s/it]\n",
      "100%|██████████| 1000/1000 [20:25<00:00,  1.23s/it]\n"
     ]
    },
    {
     "name": "stdout",
     "output_type": "stream",
     "text": [
      "Depth scores for ELO 800-1200: [0.307, 0.294, 0.29, 0.288, 0.285]\n",
      "Depth scores for ELO 1600-1800: [0.339, 0.343, 0.363, 0.364, 0.366]\n"
     ]
    }
   ],
   "source": [
    "def correct_at_depth(player_move, state, depth):\n",
    "    move = sunfish_move(state, pst, time_limit=200, max_depth=depth, move_only=True)\n",
    "    #top_5_moves = top_k_moves(move_dict, 5)\n",
    "    return player_move == sunfish_move_to_str(move)\n",
    "\n",
    "n_threads = config_lower['n_threads']\n",
    "n_boards = config_lower['n_boards']\n",
    "with Parallel(n_jobs=n_threads) as parallel:\n",
    "    depths = [1,2,3,4,5]\n",
    "    depth_scores_lower = [0] * len(depths)\n",
    "    depth_scores_upper = [0] * len(depths)\n",
    "    for i, depth in enumerate(depths):\n",
    "        print(f'\\n Depth: {depth} \\n', '-'*20)\n",
    "        correct_lower = parallel(delayed(correct_at_depth)(player_move, state, depth)\n",
    "                                 for player_move, state in tqdm(list(zip(player_moves_lower, sunfish_boards_lower))))\n",
    "        correct_upper = parallel(delayed(correct_at_depth)(player_move, state, depth)\n",
    "                                 for player_move, state in tqdm(list(zip(player_moves_upper, sunfish_boards_upper))))\n",
    "        depth_scores_lower[i] = sum(correct_lower)/n_boards\n",
    "        depth_scores_upper[i] = sum(correct_upper)/n_boards\n",
    "lower_min_elo = config_lower['min_elo']\n",
    "lower_max_elo = config_lower['max_elo']\n",
    "upper_min_elo = config_upper['min_elo']\n",
    "upper_max_elo = config_upper['max_elo']\n",
    "print(f'Depth scores for ELO {lower_min_elo}-{lower_max_elo}: {depth_scores_lower}')\n",
    "print(f'Depth scores for ELO {upper_min_elo}-{upper_max_elo}: {depth_scores_upper}')"
   ],
   "metadata": {
    "collapsed": false,
    "ExecuteTime": {
     "end_time": "2024-05-20T13:21:57.543144700Z",
     "start_time": "2024-05-20T12:23:12.824342300Z"
    }
   },
   "id": "4bd704f62f9152e7",
   "execution_count": 10
  },
  {
   "cell_type": "code",
   "outputs": [
    {
     "name": "stdout",
     "output_type": "stream",
     "text": [
      "b1c3\n"
     ]
    },
    {
     "ename": "KeyboardInterrupt",
     "evalue": "",
     "output_type": "error",
     "traceback": [
      "\u001B[1;31m---------------------------------------------------------------------------\u001B[0m",
      "\u001B[1;31mKeyboardInterrupt\u001B[0m                         Traceback (most recent call last)",
      "Cell \u001B[1;32mIn[32], line 3\u001B[0m\n\u001B[0;32m      1\u001B[0m i \u001B[38;5;241m=\u001B[39m \u001B[38;5;241m20\u001B[39m\n\u001B[0;32m      2\u001B[0m \u001B[38;5;28mprint\u001B[39m(actions[i])\n\u001B[1;32m----> 3\u001B[0m _, _, move_dict \u001B[38;5;241m=\u001B[39m \u001B[43msunfish_move\u001B[49m\u001B[43m(\u001B[49m\u001B[43mstates\u001B[49m\u001B[43m[\u001B[49m\u001B[43mi\u001B[49m\u001B[43m]\u001B[49m\u001B[43m,\u001B[49m\u001B[43m \u001B[49m\u001B[43mpst\u001B[49m\u001B[43m,\u001B[49m\u001B[43m \u001B[49m\u001B[38;5;241;43m1000\u001B[39;49m\u001B[43m,\u001B[49m\u001B[43m \u001B[49m\u001B[43mmax_depth\u001B[49m\u001B[38;5;241;43m=\u001B[39;49m\u001B[38;5;241;43m4\u001B[39;49m\u001B[43m)\u001B[49m\n\u001B[0;32m      4\u001B[0m moves \u001B[38;5;241m=\u001B[39m \u001B[38;5;28mset\u001B[39m([sunfish_move_to_str(move) \u001B[38;5;28;01mfor\u001B[39;00m move \u001B[38;5;129;01min\u001B[39;00m move_dict\u001B[38;5;241m.\u001B[39mkeys()])\n\u001B[0;32m      5\u001B[0m \u001B[38;5;28mprint\u001B[39m(actions[i] \u001B[38;5;129;01min\u001B[39;00m moves)\n",
      "File \u001B[1;32m~\\Documents\\GitHub\\irl-chess\\irl_chess\\models\\sunfish_GRW.py:53\u001B[0m, in \u001B[0;36msunfish_move\u001B[1;34m(state, pst, time_limit, max_depth, move_only, run_at_least)\u001B[0m\n\u001B[0;32m     51\u001B[0m count \u001B[38;5;241m=\u001B[39m \u001B[38;5;241m0\u001B[39m\n\u001B[0;32m     52\u001B[0m count_gamma \u001B[38;5;241m=\u001B[39m \u001B[38;5;241m0\u001B[39m\n\u001B[1;32m---> 53\u001B[0m \u001B[38;5;28;01mfor\u001B[39;00m depth, gamma, score, move \u001B[38;5;129;01min\u001B[39;00m searcher\u001B[38;5;241m.\u001B[39msearch([state]):\n\u001B[0;32m     54\u001B[0m     count \u001B[38;5;241m+\u001B[39m\u001B[38;5;241m=\u001B[39m \u001B[38;5;241m1\u001B[39m\n\u001B[0;32m     55\u001B[0m     \u001B[38;5;28;01mif\u001B[39;00m score \u001B[38;5;241m>\u001B[39m\u001B[38;5;241m=\u001B[39m gamma:\n",
      "File \u001B[1;32m~\\Documents\\GitHub\\irl-chess\\irl_chess\\models\\sunfish_GRW.py:53\u001B[0m, in \u001B[0;36msunfish_move\u001B[1;34m(state, pst, time_limit, max_depth, move_only, run_at_least)\u001B[0m\n\u001B[0;32m     51\u001B[0m count \u001B[38;5;241m=\u001B[39m \u001B[38;5;241m0\u001B[39m\n\u001B[0;32m     52\u001B[0m count_gamma \u001B[38;5;241m=\u001B[39m \u001B[38;5;241m0\u001B[39m\n\u001B[1;32m---> 53\u001B[0m \u001B[38;5;28;01mfor\u001B[39;00m depth, gamma, score, move \u001B[38;5;129;01min\u001B[39;00m searcher\u001B[38;5;241m.\u001B[39msearch([state]):\n\u001B[0;32m     54\u001B[0m     count \u001B[38;5;241m+\u001B[39m\u001B[38;5;241m=\u001B[39m \u001B[38;5;241m1\u001B[39m\n\u001B[0;32m     55\u001B[0m     \u001B[38;5;28;01mif\u001B[39;00m score \u001B[38;5;241m>\u001B[39m\u001B[38;5;241m=\u001B[39m gamma:\n",
      "File \u001B[1;32m_pydevd_bundle\\pydevd_cython_win32_310_64.pyx:1187\u001B[0m, in \u001B[0;36m_pydevd_bundle.pydevd_cython_win32_310_64.SafeCallWrapper.__call__\u001B[1;34m()\u001B[0m\n",
      "File \u001B[1;32m_pydevd_bundle\\pydevd_cython_win32_310_64.pyx:627\u001B[0m, in \u001B[0;36m_pydevd_bundle.pydevd_cython_win32_310_64.PyDBFrame.trace_dispatch\u001B[1;34m()\u001B[0m\n",
      "File \u001B[1;32m_pydevd_bundle\\pydevd_cython_win32_310_64.pyx:1103\u001B[0m, in \u001B[0;36m_pydevd_bundle.pydevd_cython_win32_310_64.PyDBFrame.trace_dispatch\u001B[1;34m()\u001B[0m\n",
      "File \u001B[1;32m_pydevd_bundle\\pydevd_cython_win32_310_64.pyx:1061\u001B[0m, in \u001B[0;36m_pydevd_bundle.pydevd_cython_win32_310_64.PyDBFrame.trace_dispatch\u001B[1;34m()\u001B[0m\n",
      "File \u001B[1;32mC:\\Program Files\\JetBrains\\PyCharm 2023.3.3\\plugins\\python\\helpers-pro\\jupyter_debug\\pydev_jupyter_plugin.py:169\u001B[0m, in \u001B[0;36mstop\u001B[1;34m(plugin, pydb, frame, event, args, stop_info, arg, step_cmd)\u001B[0m\n\u001B[0;32m    167\u001B[0m     frame \u001B[38;5;241m=\u001B[39m suspend_jupyter(main_debugger, thread, frame, step_cmd)\n\u001B[0;32m    168\u001B[0m     \u001B[38;5;28;01mif\u001B[39;00m frame:\n\u001B[1;32m--> 169\u001B[0m         \u001B[43mmain_debugger\u001B[49m\u001B[38;5;241;43m.\u001B[39;49m\u001B[43mdo_wait_suspend\u001B[49m\u001B[43m(\u001B[49m\u001B[43mthread\u001B[49m\u001B[43m,\u001B[49m\u001B[43m \u001B[49m\u001B[43mframe\u001B[49m\u001B[43m,\u001B[49m\u001B[43m \u001B[49m\u001B[43mevent\u001B[49m\u001B[43m,\u001B[49m\u001B[43m \u001B[49m\u001B[43marg\u001B[49m\u001B[43m)\u001B[49m\n\u001B[0;32m    170\u001B[0m         \u001B[38;5;28;01mreturn\u001B[39;00m \u001B[38;5;28;01mTrue\u001B[39;00m\n\u001B[0;32m    171\u001B[0m \u001B[38;5;28;01mreturn\u001B[39;00m \u001B[38;5;28;01mFalse\u001B[39;00m\n",
      "File \u001B[1;32mC:\\Program Files\\JetBrains\\PyCharm 2023.3.3\\plugins\\python\\helpers\\pydev\\pydevd.py:1184\u001B[0m, in \u001B[0;36mPyDB.do_wait_suspend\u001B[1;34m(self, thread, frame, event, arg, send_suspend_message, is_unhandled_exception)\u001B[0m\n\u001B[0;32m   1181\u001B[0m         from_this_thread\u001B[38;5;241m.\u001B[39mappend(frame_id)\n\u001B[0;32m   1183\u001B[0m \u001B[38;5;28;01mwith\u001B[39;00m \u001B[38;5;28mself\u001B[39m\u001B[38;5;241m.\u001B[39m_threads_suspended_single_notification\u001B[38;5;241m.\u001B[39mnotify_thread_suspended(thread_id, stop_reason):\n\u001B[1;32m-> 1184\u001B[0m     \u001B[38;5;28;43mself\u001B[39;49m\u001B[38;5;241;43m.\u001B[39;49m\u001B[43m_do_wait_suspend\u001B[49m\u001B[43m(\u001B[49m\u001B[43mthread\u001B[49m\u001B[43m,\u001B[49m\u001B[43m \u001B[49m\u001B[43mframe\u001B[49m\u001B[43m,\u001B[49m\u001B[43m \u001B[49m\u001B[43mevent\u001B[49m\u001B[43m,\u001B[49m\u001B[43m \u001B[49m\u001B[43marg\u001B[49m\u001B[43m,\u001B[49m\u001B[43m \u001B[49m\u001B[43msuspend_type\u001B[49m\u001B[43m,\u001B[49m\u001B[43m \u001B[49m\u001B[43mfrom_this_thread\u001B[49m\u001B[43m)\u001B[49m\n",
      "File \u001B[1;32mC:\\Program Files\\JetBrains\\PyCharm 2023.3.3\\plugins\\python\\helpers\\pydev\\pydevd.py:1199\u001B[0m, in \u001B[0;36mPyDB._do_wait_suspend\u001B[1;34m(self, thread, frame, event, arg, suspend_type, from_this_thread)\u001B[0m\n\u001B[0;32m   1196\u001B[0m             \u001B[38;5;28mself\u001B[39m\u001B[38;5;241m.\u001B[39m_call_mpl_hook()\n\u001B[0;32m   1198\u001B[0m         \u001B[38;5;28mself\u001B[39m\u001B[38;5;241m.\u001B[39mprocess_internal_commands()\n\u001B[1;32m-> 1199\u001B[0m         \u001B[43mtime\u001B[49m\u001B[38;5;241;43m.\u001B[39;49m\u001B[43msleep\u001B[49m\u001B[43m(\u001B[49m\u001B[38;5;241;43m0.01\u001B[39;49m\u001B[43m)\u001B[49m\n\u001B[0;32m   1201\u001B[0m \u001B[38;5;28mself\u001B[39m\u001B[38;5;241m.\u001B[39mcancel_async_evaluation(get_current_thread_id(thread), \u001B[38;5;28mstr\u001B[39m(\u001B[38;5;28mid\u001B[39m(frame)))\n\u001B[0;32m   1203\u001B[0m \u001B[38;5;66;03m# process any stepping instructions\u001B[39;00m\n",
      "\u001B[1;31mKeyboardInterrupt\u001B[0m: "
     ]
    }
   ],
   "source": [
    "i = 20\n",
    "print(actions[i])\n",
    "_, _, move_dict = sunfish_move(states[i], pst, 1000, max_depth=4)\n",
    "moves = set([sunfish_move_to_str(move) for move in move_dict.keys()])\n",
    "print(actions[i] in moves)"
   ],
   "metadata": {
    "collapsed": false,
    "ExecuteTime": {
     "end_time": "2024-05-03T08:51:45.344657700Z",
     "start_time": "2024-05-03T08:51:07.164010300Z"
    }
   },
   "id": "961bcccfc66acc83",
   "execution_count": 32
  },
  {
   "cell_type": "code",
   "outputs": [
    {
     "data": {
      "text/plain": "8"
     },
     "execution_count": 8,
     "metadata": {},
     "output_type": "execute_result"
    }
   ],
   "source": [
    "actions.index('d1e2')"
   ],
   "metadata": {
    "collapsed": false,
    "ExecuteTime": {
     "end_time": "2024-05-03T08:26:16.484189900Z",
     "start_time": "2024-05-03T08:26:16.414527500Z"
    }
   },
   "id": "483d9427ae3db4a1",
   "execution_count": 8
  },
  {
   "cell_type": "code",
   "outputs": [
    {
     "name": "stdout",
     "output_type": "stream",
     "text": [
      "{'g1f3': [0.42, 1873], 'd1e2': [0.16, 702], 'h2h3': [0.07, 294], 'b1c3': [0.05, 220], 'c1f4': [0.05, 220], 'd3d4': [0.05, 211], 'g1e2': [0.04, 179], 'c1e3': [0.04, 164], 'c2c4': [0.03, 126], 'd1f3': [0.02, 103], 'c2c3': [0.02, 101], 'a2a3': [0.01, 31], 'sum': [1.0, 4410]}\n"
     ]
    },
    {
     "data": {
      "text/plain": "Board('r1bqkbnr/p4ppp/2p5/2pp4/8/3P4/PPP2PPP/RNBQK1NR w KQkq - 0 7')",
      "image/svg+xml": "<svg xmlns=\"http://www.w3.org/2000/svg\" xmlns:xlink=\"http://www.w3.org/1999/xlink\" viewBox=\"0 0 390 390\" width=\"390\" height=\"390\"><desc><pre>r . b q k b n r\np . . . . p p p\n. . p . . . . .\n. . p p . . . .\n. . . . . . . .\n. . . P . . . .\nP P P . . P P P\nR N B Q K . N R</pre></desc><defs><g id=\"white-pawn\" class=\"white pawn\"><path d=\"M22.5 9c-2.21 0-4 1.79-4 4 0 .89.29 1.71.78 2.38C17.33 16.5 16 18.59 16 21c0 2.03.94 3.84 2.41 5.03-3 1.06-7.41 5.55-7.41 13.47h23c0-7.92-4.41-12.41-7.41-13.47 1.47-1.19 2.41-3 2.41-5.03 0-2.41-1.33-4.5-3.28-5.62.49-.67.78-1.49.78-2.38 0-2.21-1.79-4-4-4z\" fill=\"#fff\" stroke=\"#000\" stroke-width=\"1.5\" stroke-linecap=\"round\" /></g><g id=\"white-knight\" class=\"white knight\" fill=\"none\" fill-rule=\"evenodd\" stroke=\"#000\" stroke-width=\"1.5\" stroke-linecap=\"round\" stroke-linejoin=\"round\"><path d=\"M 22,10 C 32.5,11 38.5,18 38,39 L 15,39 C 15,30 25,32.5 23,18\" style=\"fill:#ffffff; stroke:#000000;\" /><path d=\"M 24,18 C 24.38,20.91 18.45,25.37 16,27 C 13,29 13.18,31.34 11,31 C 9.958,30.06 12.41,27.96 11,28 C 10,28 11.19,29.23 10,30 C 9,30 5.997,31 6,26 C 6,24 12,14 12,14 C 12,14 13.89,12.1 14,10.5 C 13.27,9.506 13.5,8.5 13.5,7.5 C 14.5,6.5 16.5,10 16.5,10 L 18.5,10 C 18.5,10 19.28,8.008 21,7 C 22,7 22,10 22,10\" style=\"fill:#ffffff; stroke:#000000;\" /><path d=\"M 9.5 25.5 A 0.5 0.5 0 1 1 8.5,25.5 A 0.5 0.5 0 1 1 9.5 25.5 z\" style=\"fill:#000000; stroke:#000000;\" /><path d=\"M 15 15.5 A 0.5 1.5 0 1 1 14,15.5 A 0.5 1.5 0 1 1 15 15.5 z\" transform=\"matrix(0.866,0.5,-0.5,0.866,9.693,-5.173)\" style=\"fill:#000000; stroke:#000000;\" /></g><g id=\"white-bishop\" class=\"white bishop\" fill=\"none\" fill-rule=\"evenodd\" stroke=\"#000\" stroke-width=\"1.5\" stroke-linecap=\"round\" stroke-linejoin=\"round\"><g fill=\"#fff\" stroke-linecap=\"butt\"><path d=\"M9 36c3.39-.97 10.11.43 13.5-2 3.39 2.43 10.11 1.03 13.5 2 0 0 1.65.54 3 2-.68.97-1.65.99-3 .5-3.39-.97-10.11.46-13.5-1-3.39 1.46-10.11.03-13.5 1-1.354.49-2.323.47-3-.5 1.354-1.94 3-2 3-2zM15 32c2.5 2.5 12.5 2.5 15 0 .5-1.5 0-2 0-2 0-2.5-2.5-4-2.5-4 5.5-1.5 6-11.5-5-15.5-11 4-10.5 14-5 15.5 0 0-2.5 1.5-2.5 4 0 0-.5.5 0 2zM25 8a2.5 2.5 0 1 1-5 0 2.5 2.5 0 1 1 5 0z\" /></g><path d=\"M17.5 26h10M15 30h15m-7.5-14.5v5M20 18h5\" stroke-linejoin=\"miter\" /></g><g id=\"white-rook\" class=\"white rook\" fill=\"#fff\" fill-rule=\"evenodd\" stroke=\"#000\" stroke-width=\"1.5\" stroke-linecap=\"round\" stroke-linejoin=\"round\"><path d=\"M9 39h27v-3H9v3zM12 36v-4h21v4H12zM11 14V9h4v2h5V9h5v2h5V9h4v5\" stroke-linecap=\"butt\" /><path d=\"M34 14l-3 3H14l-3-3\" /><path d=\"M31 17v12.5H14V17\" stroke-linecap=\"butt\" stroke-linejoin=\"miter\" /><path d=\"M31 29.5l1.5 2.5h-20l1.5-2.5\" /><path d=\"M11 14h23\" fill=\"none\" stroke-linejoin=\"miter\" /></g><g id=\"white-queen\" class=\"white queen\" fill=\"#fff\" fill-rule=\"evenodd\" stroke=\"#000\" stroke-width=\"1.5\" stroke-linecap=\"round\" stroke-linejoin=\"round\"><path d=\"M8 12a2 2 0 1 1-4 0 2 2 0 1 1 4 0zM24.5 7.5a2 2 0 1 1-4 0 2 2 0 1 1 4 0zM41 12a2 2 0 1 1-4 0 2 2 0 1 1 4 0zM16 8.5a2 2 0 1 1-4 0 2 2 0 1 1 4 0zM33 9a2 2 0 1 1-4 0 2 2 0 1 1 4 0z\" /><path d=\"M9 26c8.5-1.5 21-1.5 27 0l2-12-7 11V11l-5.5 13.5-3-15-3 15-5.5-14V25L7 14l2 12zM9 26c0 2 1.5 2 2.5 4 1 1.5 1 1 .5 3.5-1.5 1-1.5 2.5-1.5 2.5-1.5 1.5.5 2.5.5 2.5 6.5 1 16.5 1 23 0 0 0 1.5-1 0-2.5 0 0 .5-1.5-1-2.5-.5-2.5-.5-2 .5-3.5 1-2 2.5-2 2.5-4-8.5-1.5-18.5-1.5-27 0z\" stroke-linecap=\"butt\" /><path d=\"M11.5 30c3.5-1 18.5-1 22 0M12 33.5c6-1 15-1 21 0\" fill=\"none\" /></g><g id=\"white-king\" class=\"white king\" fill=\"none\" fill-rule=\"evenodd\" stroke=\"#000\" stroke-width=\"1.5\" stroke-linecap=\"round\" stroke-linejoin=\"round\"><path d=\"M22.5 11.63V6M20 8h5\" stroke-linejoin=\"miter\" /><path d=\"M22.5 25s4.5-7.5 3-10.5c0 0-1-2.5-3-2.5s-3 2.5-3 2.5c-1.5 3 3 10.5 3 10.5\" fill=\"#fff\" stroke-linecap=\"butt\" stroke-linejoin=\"miter\" /><path d=\"M11.5 37c5.5 3.5 15.5 3.5 21 0v-7s9-4.5 6-10.5c-4-6.5-13.5-3.5-16 4V27v-3.5c-3.5-7.5-13-10.5-16-4-3 6 5 10 5 10V37z\" fill=\"#fff\" /><path d=\"M11.5 30c5.5-3 15.5-3 21 0m-21 3.5c5.5-3 15.5-3 21 0m-21 3.5c5.5-3 15.5-3 21 0\" /></g><g id=\"black-pawn\" class=\"black pawn\"><path d=\"M22.5 9c-2.21 0-4 1.79-4 4 0 .89.29 1.71.78 2.38C17.33 16.5 16 18.59 16 21c0 2.03.94 3.84 2.41 5.03-3 1.06-7.41 5.55-7.41 13.47h23c0-7.92-4.41-12.41-7.41-13.47 1.47-1.19 2.41-3 2.41-5.03 0-2.41-1.33-4.5-3.28-5.62.49-.67.78-1.49.78-2.38 0-2.21-1.79-4-4-4z\" fill=\"#000\" stroke=\"#000\" stroke-width=\"1.5\" stroke-linecap=\"round\" /></g><g id=\"black-knight\" class=\"black knight\" fill=\"none\" fill-rule=\"evenodd\" stroke=\"#000\" stroke-width=\"1.5\" stroke-linecap=\"round\" stroke-linejoin=\"round\"><path d=\"M 22,10 C 32.5,11 38.5,18 38,39 L 15,39 C 15,30 25,32.5 23,18\" style=\"fill:#000000; stroke:#000000;\" /><path d=\"M 24,18 C 24.38,20.91 18.45,25.37 16,27 C 13,29 13.18,31.34 11,31 C 9.958,30.06 12.41,27.96 11,28 C 10,28 11.19,29.23 10,30 C 9,30 5.997,31 6,26 C 6,24 12,14 12,14 C 12,14 13.89,12.1 14,10.5 C 13.27,9.506 13.5,8.5 13.5,7.5 C 14.5,6.5 16.5,10 16.5,10 L 18.5,10 C 18.5,10 19.28,8.008 21,7 C 22,7 22,10 22,10\" style=\"fill:#000000; stroke:#000000;\" /><path d=\"M 9.5 25.5 A 0.5 0.5 0 1 1 8.5,25.5 A 0.5 0.5 0 1 1 9.5 25.5 z\" style=\"fill:#ececec; stroke:#ececec;\" /><path d=\"M 15 15.5 A 0.5 1.5 0 1 1 14,15.5 A 0.5 1.5 0 1 1 15 15.5 z\" transform=\"matrix(0.866,0.5,-0.5,0.866,9.693,-5.173)\" style=\"fill:#ececec; stroke:#ececec;\" /><path d=\"M 24.55,10.4 L 24.1,11.85 L 24.6,12 C 27.75,13 30.25,14.49 32.5,18.75 C 34.75,23.01 35.75,29.06 35.25,39 L 35.2,39.5 L 37.45,39.5 L 37.5,39 C 38,28.94 36.62,22.15 34.25,17.66 C 31.88,13.17 28.46,11.02 25.06,10.5 L 24.55,10.4 z \" style=\"fill:#ececec; stroke:none;\" /></g><g id=\"black-bishop\" class=\"black bishop\" fill=\"none\" fill-rule=\"evenodd\" stroke=\"#000\" stroke-width=\"1.5\" stroke-linecap=\"round\" stroke-linejoin=\"round\"><path d=\"M9 36c3.39-.97 10.11.43 13.5-2 3.39 2.43 10.11 1.03 13.5 2 0 0 1.65.54 3 2-.68.97-1.65.99-3 .5-3.39-.97-10.11.46-13.5-1-3.39 1.46-10.11.03-13.5 1-1.354.49-2.323.47-3-.5 1.354-1.94 3-2 3-2zm6-4c2.5 2.5 12.5 2.5 15 0 .5-1.5 0-2 0-2 0-2.5-2.5-4-2.5-4 5.5-1.5 6-11.5-5-15.5-11 4-10.5 14-5 15.5 0 0-2.5 1.5-2.5 4 0 0-.5.5 0 2zM25 8a2.5 2.5 0 1 1-5 0 2.5 2.5 0 1 1 5 0z\" fill=\"#000\" stroke-linecap=\"butt\" /><path d=\"M17.5 26h10M15 30h15m-7.5-14.5v5M20 18h5\" stroke=\"#fff\" stroke-linejoin=\"miter\" /></g><g id=\"black-rook\" class=\"black rook\" fill=\"#000\" fill-rule=\"evenodd\" stroke=\"#000\" stroke-width=\"1.5\" stroke-linecap=\"round\" stroke-linejoin=\"round\"><path d=\"M9 39h27v-3H9v3zM12.5 32l1.5-2.5h17l1.5 2.5h-20zM12 36v-4h21v4H12z\" stroke-linecap=\"butt\" /><path d=\"M14 29.5v-13h17v13H14z\" stroke-linecap=\"butt\" stroke-linejoin=\"miter\" /><path d=\"M14 16.5L11 14h23l-3 2.5H14zM11 14V9h4v2h5V9h5v2h5V9h4v5H11z\" stroke-linecap=\"butt\" /><path d=\"M12 35.5h21M13 31.5h19M14 29.5h17M14 16.5h17M11 14h23\" fill=\"none\" stroke=\"#fff\" stroke-width=\"1\" stroke-linejoin=\"miter\" /></g><g id=\"black-queen\" class=\"black queen\" fill=\"#000\" fill-rule=\"evenodd\" stroke=\"#000\" stroke-width=\"1.5\" stroke-linecap=\"round\" stroke-linejoin=\"round\"><g fill=\"#000\" stroke=\"none\"><circle cx=\"6\" cy=\"12\" r=\"2.75\" /><circle cx=\"14\" cy=\"9\" r=\"2.75\" /><circle cx=\"22.5\" cy=\"8\" r=\"2.75\" /><circle cx=\"31\" cy=\"9\" r=\"2.75\" /><circle cx=\"39\" cy=\"12\" r=\"2.75\" /></g><path d=\"M9 26c8.5-1.5 21-1.5 27 0l2.5-12.5L31 25l-.3-14.1-5.2 13.6-3-14.5-3 14.5-5.2-13.6L14 25 6.5 13.5 9 26zM9 26c0 2 1.5 2 2.5 4 1 1.5 1 1 .5 3.5-1.5 1-1.5 2.5-1.5 2.5-1.5 1.5.5 2.5.5 2.5 6.5 1 16.5 1 23 0 0 0 1.5-1 0-2.5 0 0 .5-1.5-1-2.5-.5-2.5-.5-2 .5-3.5 1-2 2.5-2 2.5-4-8.5-1.5-18.5-1.5-27 0z\" stroke-linecap=\"butt\" /><path d=\"M11 38.5a35 35 1 0 0 23 0\" fill=\"none\" stroke-linecap=\"butt\" /><path d=\"M11 29a35 35 1 0 1 23 0M12.5 31.5h20M11.5 34.5a35 35 1 0 0 22 0M10.5 37.5a35 35 1 0 0 24 0\" fill=\"none\" stroke=\"#fff\" /></g><g id=\"black-king\" class=\"black king\" fill=\"none\" fill-rule=\"evenodd\" stroke=\"#000\" stroke-width=\"1.5\" stroke-linecap=\"round\" stroke-linejoin=\"round\"><path d=\"M22.5 11.63V6\" stroke-linejoin=\"miter\" /><path d=\"M22.5 25s4.5-7.5 3-10.5c0 0-1-2.5-3-2.5s-3 2.5-3 2.5c-1.5 3 3 10.5 3 10.5\" fill=\"#000\" stroke-linecap=\"butt\" stroke-linejoin=\"miter\" /><path d=\"M11.5 37c5.5 3.5 15.5 3.5 21 0v-7s9-4.5 6-10.5c-4-6.5-13.5-3.5-16 4V27v-3.5c-3.5-7.5-13-10.5-16-4-3 6 5 10 5 10V37z\" fill=\"#000\" /><path d=\"M20 8h5\" stroke-linejoin=\"miter\" /><path d=\"M32 29.5s8.5-4 6.03-9.65C34.15 14 25 18 22.5 24.5l.01 2.1-.01-2.1C20 18 9.906 14 6.997 19.85c-2.497 5.65 4.853 9 4.853 9M11.5 30c5.5-3 15.5-3 21 0m-21 3.5c5.5-3 15.5-3 21 0m-21 3.5c5.5-3 15.5-3 21 0\" stroke=\"#fff\" /></g></defs><rect x=\"7.5\" y=\"7.5\" width=\"375\" height=\"375\" fill=\"none\" stroke=\"#212121\" stroke-width=\"15\" /><g transform=\"translate(20, 1) scale(0.75, 0.75)\" fill=\"#e5e5e5\" stroke=\"#e5e5e5\"><path d=\"M23.328 10.016q-1.742 0-2.414.398-.672.398-.672 1.36 0 .765.5 1.218.508.445 1.375.445 1.196 0 1.914-.843.727-.852.727-2.258v-.32zm2.867-.594v4.992h-1.437v-1.328q-.492.797-1.227 1.18-.734.375-1.797.375-1.343 0-2.14-.75-.79-.758-.79-2.024 0-1.476.985-2.226.992-.75 2.953-.75h2.016V8.75q0-.992-.656-1.531-.649-.547-1.829-.547-.75 0-1.46.18-.711.18-1.368.539V6.062q.79-.304 1.532-.453.742-.156 1.445-.156 1.898 0 2.836.984.937.985.937 2.985z\" /></g><g transform=\"translate(20, 375) scale(0.75, 0.75)\" fill=\"#e5e5e5\" stroke=\"#e5e5e5\"><path d=\"M23.328 10.016q-1.742 0-2.414.398-.672.398-.672 1.36 0 .765.5 1.218.508.445 1.375.445 1.196 0 1.914-.843.727-.852.727-2.258v-.32zm2.867-.594v4.992h-1.437v-1.328q-.492.797-1.227 1.18-.734.375-1.797.375-1.343 0-2.14-.75-.79-.758-.79-2.024 0-1.476.985-2.226.992-.75 2.953-.75h2.016V8.75q0-.992-.656-1.531-.649-.547-1.829-.547-.75 0-1.46.18-.711.18-1.368.539V6.062q.79-.304 1.532-.453.742-.156 1.445-.156 1.898 0 2.836.984.937.985.937 2.985z\" /></g><g transform=\"translate(65, 1) scale(0.75, 0.75)\" fill=\"#e5e5e5\" stroke=\"#e5e5e5\"><path d=\"M24.922 10.047q0-1.586-.656-2.485-.649-.906-1.79-.906-1.14 0-1.796.906-.649.899-.649 2.485 0 1.586.649 2.492.656.898 1.797.898 1.14 0 1.789-.898.656-.906.656-2.492zm-4.89-3.055q.452-.781 1.14-1.156.695-.383 1.656-.383 1.594 0 2.586 1.266 1 1.265 1 3.328 0 2.062-1 3.328-.992 1.266-2.586 1.266-.96 0-1.656-.375-.688-.383-1.14-1.164v1.312h-1.446V2.258h1.445z\" /></g><g transform=\"translate(65, 375) scale(0.75, 0.75)\" fill=\"#e5e5e5\" stroke=\"#e5e5e5\"><path d=\"M24.922 10.047q0-1.586-.656-2.485-.649-.906-1.79-.906-1.14 0-1.796.906-.649.899-.649 2.485 0 1.586.649 2.492.656.898 1.797.898 1.14 0 1.789-.898.656-.906.656-2.492zm-4.89-3.055q.452-.781 1.14-1.156.695-.383 1.656-.383 1.594 0 2.586 1.266 1 1.265 1 3.328 0 2.062-1 3.328-.992 1.266-2.586 1.266-.96 0-1.656-.375-.688-.383-1.14-1.164v1.312h-1.446V2.258h1.445z\" /></g><g transform=\"translate(110, 1) scale(0.75, 0.75)\" fill=\"#e5e5e5\" stroke=\"#e5e5e5\"><path d=\"M25.96 6v1.344q-.608-.336-1.226-.5-.609-.172-1.234-.172-1.398 0-2.172.89-.773.883-.773 2.485 0 1.601.773 2.492.774.883 2.172.883.625 0 1.234-.164.618-.172 1.227-.508v1.328q-.602.281-1.25.422-.64.14-1.367.14-1.977 0-3.14-1.242-1.165-1.242-1.165-3.351 0-2.14 1.172-3.367 1.18-1.227 3.227-1.227.664 0 1.296.14.633.134 1.227.407z\" /></g><g transform=\"translate(110, 375) scale(0.75, 0.75)\" fill=\"#e5e5e5\" stroke=\"#e5e5e5\"><path d=\"M25.96 6v1.344q-.608-.336-1.226-.5-.609-.172-1.234-.172-1.398 0-2.172.89-.773.883-.773 2.485 0 1.601.773 2.492.774.883 2.172.883.625 0 1.234-.164.618-.172 1.227-.508v1.328q-.602.281-1.25.422-.64.14-1.367.14-1.977 0-3.14-1.242-1.165-1.242-1.165-3.351 0-2.14 1.172-3.367 1.18-1.227 3.227-1.227.664 0 1.296.14.633.134 1.227.407z\" /></g><g transform=\"translate(155, 1) scale(0.75, 0.75)\" fill=\"#e5e5e5\" stroke=\"#e5e5e5\"><path d=\"M24.973 6.992V2.258h1.437v12.156h-1.437v-1.312q-.453.78-1.149 1.164-.687.375-1.656.375-1.586 0-2.586-1.266-.992-1.266-.992-3.328 0-2.063.992-3.328 1-1.266 2.586-1.266.969 0 1.656.383.696.375 1.149 1.156zm-4.899 3.055q0 1.586.649 2.492.656.898 1.797.898 1.14 0 1.796-.898.657-.906.657-2.492 0-1.586-.657-2.485-.656-.906-1.796-.906-1.141 0-1.797.906-.649.899-.649 2.485z\" /></g><g transform=\"translate(155, 375) scale(0.75, 0.75)\" fill=\"#e5e5e5\" stroke=\"#e5e5e5\"><path d=\"M24.973 6.992V2.258h1.437v12.156h-1.437v-1.312q-.453.78-1.149 1.164-.687.375-1.656.375-1.586 0-2.586-1.266-.992-1.266-.992-3.328 0-2.063.992-3.328 1-1.266 2.586-1.266.969 0 1.656.383.696.375 1.149 1.156zm-4.899 3.055q0 1.586.649 2.492.656.898 1.797.898 1.14 0 1.796-.898.657-.906.657-2.492 0-1.586-.657-2.485-.656-.906-1.796-.906-1.141 0-1.797.906-.649.899-.649 2.485z\" /></g><g transform=\"translate(200, 1) scale(0.75, 0.75)\" fill=\"#e5e5e5\" stroke=\"#e5e5e5\"><path d=\"M26.555 9.68v.703h-6.61q.094 1.484.89 2.265.806.774 2.235.774.828 0 1.602-.203.781-.203 1.547-.61v1.36q-.774.328-1.586.5-.813.172-1.649.172-2.093 0-3.32-1.22-1.219-1.218-1.219-3.296 0-2.148 1.157-3.406 1.164-1.266 3.132-1.266 1.766 0 2.79 1.14 1.03 1.134 1.03 3.087zm-1.438-.422q-.015-1.18-.664-1.883-.64-.703-1.703-.703-1.203 0-1.93.68-.718.68-.828 1.914z\" /></g><g transform=\"translate(200, 375) scale(0.75, 0.75)\" fill=\"#e5e5e5\" stroke=\"#e5e5e5\"><path d=\"M26.555 9.68v.703h-6.61q.094 1.484.89 2.265.806.774 2.235.774.828 0 1.602-.203.781-.203 1.547-.61v1.36q-.774.328-1.586.5-.813.172-1.649.172-2.093 0-3.32-1.22-1.219-1.218-1.219-3.296 0-2.148 1.157-3.406 1.164-1.266 3.132-1.266 1.766 0 2.79 1.14 1.03 1.134 1.03 3.087zm-1.438-.422q-.015-1.18-.664-1.883-.64-.703-1.703-.703-1.203 0-1.93.68-.718.68-.828 1.914z\" /></g><g transform=\"translate(245, 1) scale(0.75, 0.75)\" fill=\"#e5e5e5\" stroke=\"#e5e5e5\"><path d=\"M25.285 2.258v1.195H23.91q-.773 0-1.078.313-.297.312-.297 1.125v.773h2.367v1.117h-2.367v7.633H21.09V6.781h-1.375V5.664h1.375v-.61q0-1.46.68-2.124.68-.672 2.156-.672z\" /></g><g transform=\"translate(245, 375) scale(0.75, 0.75)\" fill=\"#e5e5e5\" stroke=\"#e5e5e5\"><path d=\"M25.285 2.258v1.195H23.91q-.773 0-1.078.313-.297.312-.297 1.125v.773h2.367v1.117h-2.367v7.633H21.09V6.781h-1.375V5.664h1.375v-.61q0-1.46.68-2.124.68-.672 2.156-.672z\" /></g><g transform=\"translate(290, 1) scale(0.75, 0.75)\" fill=\"#e5e5e5\" stroke=\"#e5e5e5\"><path d=\"M24.973 9.937q0-1.562-.649-2.421-.64-.86-1.804-.86-1.157 0-1.805.86-.64.859-.64 2.421 0 1.555.64 2.415.648.859 1.805.859 1.164 0 1.804-.86.649-.859.649-2.414zm1.437 3.391q0 2.234-.992 3.32-.992 1.094-3.04 1.094-.757 0-1.429-.117-.672-.11-1.304-.344v-1.398q.632.344 1.25.508.617.164 1.257.164 1.414 0 2.118-.743.703-.734.703-2.226v-.711q-.446.773-1.141 1.156-.695.383-1.664.383-1.61 0-2.594-1.227-.984-1.226-.984-3.25 0-2.03.984-3.257.985-1.227 2.594-1.227.969 0 1.664.383t1.14 1.156V5.664h1.438z\" /></g><g transform=\"translate(290, 375) scale(0.75, 0.75)\" fill=\"#e5e5e5\" stroke=\"#e5e5e5\"><path d=\"M24.973 9.937q0-1.562-.649-2.421-.64-.86-1.804-.86-1.157 0-1.805.86-.64.859-.64 2.421 0 1.555.64 2.415.648.859 1.805.859 1.164 0 1.804-.86.649-.859.649-2.414zm1.437 3.391q0 2.234-.992 3.32-.992 1.094-3.04 1.094-.757 0-1.429-.117-.672-.11-1.304-.344v-1.398q.632.344 1.25.508.617.164 1.257.164 1.414 0 2.118-.743.703-.734.703-2.226v-.711q-.446.773-1.141 1.156-.695.383-1.664.383-1.61 0-2.594-1.227-.984-1.226-.984-3.25 0-2.03.984-3.257.985-1.227 2.594-1.227.969 0 1.664.383t1.14 1.156V5.664h1.438z\" /></g><g transform=\"translate(335, 1) scale(0.75, 0.75)\" fill=\"#e5e5e5\" stroke=\"#e5e5e5\"><path d=\"M26.164 9.133v5.281h-1.437V9.18q0-1.243-.485-1.86-.484-.617-1.453-.617-1.164 0-1.836.742-.672.742-.672 2.024v4.945h-1.445V2.258h1.445v4.765q.516-.789 1.211-1.18.703-.39 1.617-.39 1.508 0 2.282.938.773.93.773 2.742z\" /></g><g transform=\"translate(335, 375) scale(0.75, 0.75)\" fill=\"#e5e5e5\" stroke=\"#e5e5e5\"><path d=\"M26.164 9.133v5.281h-1.437V9.18q0-1.243-.485-1.86-.484-.617-1.453-.617-1.164 0-1.836.742-.672.742-.672 2.024v4.945h-1.445V2.258h1.445v4.765q.516-.789 1.211-1.18.703-.39 1.617-.39 1.508 0 2.282.938.773.93.773 2.742z\" /></g><g transform=\"translate(0, 335) scale(0.75, 0.75)\" fill=\"#e5e5e5\" stroke=\"#e5e5e5\"><path d=\"M6.754 26.996h2.578v-8.898l-2.805.562v-1.437l2.79-.563h1.578v10.336h2.578v1.328h-6.72z\" /></g><g transform=\"translate(375, 335) scale(0.75, 0.75)\" fill=\"#e5e5e5\" stroke=\"#e5e5e5\"><path d=\"M6.754 26.996h2.578v-8.898l-2.805.562v-1.437l2.79-.563h1.578v10.336h2.578v1.328h-6.72z\" /></g><g transform=\"translate(0, 290) scale(0.75, 0.75)\" fill=\"#e5e5e5\" stroke=\"#e5e5e5\"><path d=\"M8.195 26.996h5.508v1.328H6.297v-1.328q.898-.93 2.445-2.492 1.555-1.57 1.953-2.024.758-.851 1.055-1.437.305-.594.305-1.164 0-.93-.657-1.516-.648-.586-1.695-.586-.742 0-1.57.258-.82.258-1.758.781v-1.593q.953-.383 1.781-.578.828-.196 1.516-.196 1.812 0 2.89.906 1.079.907 1.079 2.422 0 .72-.274 1.368-.265.64-.976 1.515-.196.227-1.243 1.313-1.046 1.078-2.953 3.023z\" /></g><g transform=\"translate(375, 290) scale(0.75, 0.75)\" fill=\"#e5e5e5\" stroke=\"#e5e5e5\"><path d=\"M8.195 26.996h5.508v1.328H6.297v-1.328q.898-.93 2.445-2.492 1.555-1.57 1.953-2.024.758-.851 1.055-1.437.305-.594.305-1.164 0-.93-.657-1.516-.648-.586-1.695-.586-.742 0-1.57.258-.82.258-1.758.781v-1.593q.953-.383 1.781-.578.828-.196 1.516-.196 1.812 0 2.89.906 1.079.907 1.079 2.422 0 .72-.274 1.368-.265.64-.976 1.515-.196.227-1.243 1.313-1.046 1.078-2.953 3.023z\" /></g><g transform=\"translate(0, 245) scale(0.75, 0.75)\" fill=\"#e5e5e5\" stroke=\"#e5e5e5\"><path d=\"M11.434 22.035q1.132.242 1.765 1.008.64.766.64 1.89 0 1.727-1.187 2.672-1.187.946-3.375.946-.734 0-1.515-.149-.774-.14-1.602-.43V26.45q.656.383 1.438.578.78.196 1.632.196 1.485 0 2.258-.586.782-.586.782-1.703 0-1.032-.727-1.61-.719-.586-2.008-.586h-1.36v-1.297h1.423q1.164 0 1.78-.46.618-.47.618-1.344 0-.899-.64-1.375-.633-.485-1.82-.485-.65 0-1.391.141-.743.14-1.633.437V16.95q.898-.25 1.68-.375.788-.125 1.484-.125 1.797 0 2.844.82 1.046.813 1.046 2.204 0 .968-.554 1.64-.555.664-1.578.922z\" /></g><g transform=\"translate(375, 245) scale(0.75, 0.75)\" fill=\"#e5e5e5\" stroke=\"#e5e5e5\"><path d=\"M11.434 22.035q1.132.242 1.765 1.008.64.766.64 1.89 0 1.727-1.187 2.672-1.187.946-3.375.946-.734 0-1.515-.149-.774-.14-1.602-.43V26.45q.656.383 1.438.578.78.196 1.632.196 1.485 0 2.258-.586.782-.586.782-1.703 0-1.032-.727-1.61-.719-.586-2.008-.586h-1.36v-1.297h1.423q1.164 0 1.78-.46.618-.47.618-1.344 0-.899-.64-1.375-.633-.485-1.82-.485-.65 0-1.391.141-.743.14-1.633.437V16.95q.898-.25 1.68-.375.788-.125 1.484-.125 1.797 0 2.844.82 1.046.813 1.046 2.204 0 .968-.554 1.64-.555.664-1.578.922z\" /></g><g transform=\"translate(0, 200) scale(0.75, 0.75)\" fill=\"#e5e5e5\" stroke=\"#e5e5e5\"><path d=\"M11.016 18.035L7.03 24.262h3.985zm-.414-1.375h1.984v7.602h1.664v1.312h-1.664v2.75h-1.57v-2.75H5.75v-1.523z\" /></g><g transform=\"translate(375, 200) scale(0.75, 0.75)\" fill=\"#e5e5e5\" stroke=\"#e5e5e5\"><path d=\"M11.016 18.035L7.03 24.262h3.985zm-.414-1.375h1.984v7.602h1.664v1.312h-1.664v2.75h-1.57v-2.75H5.75v-1.523z\" /></g><g transform=\"translate(0, 155) scale(0.75, 0.75)\" fill=\"#e5e5e5\" stroke=\"#e5e5e5\"><path d=\"M6.719 16.66h6.195v1.328h-4.75v2.86q.344-.118.688-.172.343-.063.687-.063 1.953 0 3.094 1.07 1.14 1.07 1.14 2.899 0 1.883-1.171 2.93-1.172 1.039-3.305 1.039-.735 0-1.5-.125-.758-.125-1.57-.375v-1.586q.703.383 1.453.57.75.188 1.586.188 1.351 0 2.14-.711.79-.711.79-1.93 0-1.219-.79-1.93-.789-.71-2.14-.71-.633 0-1.266.14-.625.14-1.281.438z\" /></g><g transform=\"translate(375, 155) scale(0.75, 0.75)\" fill=\"#e5e5e5\" stroke=\"#e5e5e5\"><path d=\"M6.719 16.66h6.195v1.328h-4.75v2.86q.344-.118.688-.172.343-.063.687-.063 1.953 0 3.094 1.07 1.14 1.07 1.14 2.899 0 1.883-1.171 2.93-1.172 1.039-3.305 1.039-.735 0-1.5-.125-.758-.125-1.57-.375v-1.586q.703.383 1.453.57.75.188 1.586.188 1.351 0 2.14-.711.79-.711.79-1.93 0-1.219-.79-1.93-.789-.71-2.14-.71-.633 0-1.266.14-.625.14-1.281.438z\" /></g><g transform=\"translate(0, 110) scale(0.75, 0.75)\" fill=\"#e5e5e5\" stroke=\"#e5e5e5\"><path d=\"M10.137 21.863q-1.063 0-1.688.727-.617.726-.617 1.992 0 1.258.617 1.992.625.727 1.688.727 1.062 0 1.68-.727.624-.734.624-1.992 0-1.266-.625-1.992-.617-.727-1.68-.727zm3.133-4.945v1.437q-.594-.28-1.204-.43-.601-.148-1.195-.148-1.562 0-2.39 1.055-.82 1.055-.938 3.188.46-.68 1.156-1.04.696-.367 1.531-.367 1.758 0 2.774 1.07 1.023 1.063 1.023 2.899 0 1.797-1.062 2.883-1.063 1.086-2.828 1.086-2.024 0-3.094-1.547-1.07-1.555-1.07-4.5 0-2.766 1.312-4.406 1.313-1.649 3.524-1.649.593 0 1.195.117.61.118 1.266.352z\" /></g><g transform=\"translate(375, 110) scale(0.75, 0.75)\" fill=\"#e5e5e5\" stroke=\"#e5e5e5\"><path d=\"M10.137 21.863q-1.063 0-1.688.727-.617.726-.617 1.992 0 1.258.617 1.992.625.727 1.688.727 1.062 0 1.68-.727.624-.734.624-1.992 0-1.266-.625-1.992-.617-.727-1.68-.727zm3.133-4.945v1.437q-.594-.28-1.204-.43-.601-.148-1.195-.148-1.562 0-2.39 1.055-.82 1.055-.938 3.188.46-.68 1.156-1.04.696-.367 1.531-.367 1.758 0 2.774 1.07 1.023 1.063 1.023 2.899 0 1.797-1.062 2.883-1.063 1.086-2.828 1.086-2.024 0-3.094-1.547-1.07-1.555-1.07-4.5 0-2.766 1.312-4.406 1.313-1.649 3.524-1.649.593 0 1.195.117.61.118 1.266.352z\" /></g><g transform=\"translate(0, 65) scale(0.75, 0.75)\" fill=\"#e5e5e5\" stroke=\"#e5e5e5\"><path d=\"M6.25 16.66h7.5v.672L9.516 28.324H7.867l3.985-10.336H6.25z\" /></g><g transform=\"translate(375, 65) scale(0.75, 0.75)\" fill=\"#e5e5e5\" stroke=\"#e5e5e5\"><path d=\"M6.25 16.66h7.5v.672L9.516 28.324H7.867l3.985-10.336H6.25z\" /></g><g transform=\"translate(0, 20) scale(0.75, 0.75)\" fill=\"#e5e5e5\" stroke=\"#e5e5e5\"><path d=\"M10 22.785q-1.125 0-1.773.602-.641.601-.641 1.656t.64 1.656q.649.602 1.774.602t1.773-.602q.649-.61.649-1.656 0-1.055-.649-1.656-.64-.602-1.773-.602zm-1.578-.672q-1.016-.25-1.586-.945-.563-.695-.563-1.695 0-1.399.993-2.211 1-.813 2.734-.813 1.742 0 2.734.813.993.812.993 2.21 0 1-.57 1.696-.563.695-1.571.945 1.14.266 1.773 1.04.641.773.641 1.89 0 1.695-1.04 2.602-1.03.906-2.96.906t-2.969-.906Q6 26.738 6 25.043q0-1.117.64-1.89.641-.774 1.782-1.04zm-.578-2.492q0 .906.562 1.414.57.508 1.594.508 1.016 0 1.586-.508.578-.508.578-1.414 0-.906-.578-1.414-.57-.508-1.586-.508-1.023 0-1.594.508-.562.508-.562 1.414z\" /></g><g transform=\"translate(375, 20) scale(0.75, 0.75)\" fill=\"#e5e5e5\" stroke=\"#e5e5e5\"><path d=\"M10 22.785q-1.125 0-1.773.602-.641.601-.641 1.656t.64 1.656q.649.602 1.774.602t1.773-.602q.649-.61.649-1.656 0-1.055-.649-1.656-.64-.602-1.773-.602zm-1.578-.672q-1.016-.25-1.586-.945-.563-.695-.563-1.695 0-1.399.993-2.211 1-.813 2.734-.813 1.742 0 2.734.813.993.812.993 2.21 0 1-.57 1.696-.563.695-1.571.945 1.14.266 1.773 1.04.641.773.641 1.89 0 1.695-1.04 2.602-1.03.906-2.96.906t-2.969-.906Q6 26.738 6 25.043q0-1.117.64-1.89.641-.774 1.782-1.04zm-.578-2.492q0 .906.562 1.414.57.508 1.594.508 1.016 0 1.586-.508.578-.508.578-1.414 0-.906-.578-1.414-.57-.508-1.586-.508-1.023 0-1.594.508-.562.508-.562 1.414z\" /></g><rect x=\"15\" y=\"330\" width=\"45\" height=\"45\" class=\"square dark a1\" stroke=\"none\" fill=\"#d18b47\" /><rect x=\"60\" y=\"330\" width=\"45\" height=\"45\" class=\"square light b1\" stroke=\"none\" fill=\"#ffce9e\" /><rect x=\"105\" y=\"330\" width=\"45\" height=\"45\" class=\"square dark c1\" stroke=\"none\" fill=\"#d18b47\" /><rect x=\"150\" y=\"330\" width=\"45\" height=\"45\" class=\"square light d1\" stroke=\"none\" fill=\"#ffce9e\" /><rect x=\"195\" y=\"330\" width=\"45\" height=\"45\" class=\"square dark e1\" stroke=\"none\" fill=\"#d18b47\" /><rect x=\"240\" y=\"330\" width=\"45\" height=\"45\" class=\"square light f1\" stroke=\"none\" fill=\"#ffce9e\" /><rect x=\"285\" y=\"330\" width=\"45\" height=\"45\" class=\"square dark g1\" stroke=\"none\" fill=\"#d18b47\" /><rect x=\"330\" y=\"330\" width=\"45\" height=\"45\" class=\"square light h1\" stroke=\"none\" fill=\"#ffce9e\" /><rect x=\"15\" y=\"285\" width=\"45\" height=\"45\" class=\"square light a2\" stroke=\"none\" fill=\"#ffce9e\" /><rect x=\"60\" y=\"285\" width=\"45\" height=\"45\" class=\"square dark b2\" stroke=\"none\" fill=\"#d18b47\" /><rect x=\"105\" y=\"285\" width=\"45\" height=\"45\" class=\"square light c2\" stroke=\"none\" fill=\"#ffce9e\" /><rect x=\"150\" y=\"285\" width=\"45\" height=\"45\" class=\"square dark d2\" stroke=\"none\" fill=\"#d18b47\" /><rect x=\"195\" y=\"285\" width=\"45\" height=\"45\" class=\"square light e2\" stroke=\"none\" fill=\"#ffce9e\" /><rect x=\"240\" y=\"285\" width=\"45\" height=\"45\" class=\"square dark f2\" stroke=\"none\" fill=\"#d18b47\" /><rect x=\"285\" y=\"285\" width=\"45\" height=\"45\" class=\"square light g2\" stroke=\"none\" fill=\"#ffce9e\" /><rect x=\"330\" y=\"285\" width=\"45\" height=\"45\" class=\"square dark h2\" stroke=\"none\" fill=\"#d18b47\" /><rect x=\"15\" y=\"240\" width=\"45\" height=\"45\" class=\"square dark a3\" stroke=\"none\" fill=\"#d18b47\" /><rect x=\"60\" y=\"240\" width=\"45\" height=\"45\" class=\"square light b3\" stroke=\"none\" fill=\"#ffce9e\" /><rect x=\"105\" y=\"240\" width=\"45\" height=\"45\" class=\"square dark c3\" stroke=\"none\" fill=\"#d18b47\" /><rect x=\"150\" y=\"240\" width=\"45\" height=\"45\" class=\"square light d3\" stroke=\"none\" fill=\"#ffce9e\" /><rect x=\"195\" y=\"240\" width=\"45\" height=\"45\" class=\"square dark e3\" stroke=\"none\" fill=\"#d18b47\" /><rect x=\"240\" y=\"240\" width=\"45\" height=\"45\" class=\"square light f3\" stroke=\"none\" fill=\"#ffce9e\" /><rect x=\"285\" y=\"240\" width=\"45\" height=\"45\" class=\"square dark g3\" stroke=\"none\" fill=\"#d18b47\" /><rect x=\"330\" y=\"240\" width=\"45\" height=\"45\" class=\"square light h3\" stroke=\"none\" fill=\"#ffce9e\" /><rect x=\"15\" y=\"195\" width=\"45\" height=\"45\" class=\"square light a4\" stroke=\"none\" fill=\"#ffce9e\" /><rect x=\"60\" y=\"195\" width=\"45\" height=\"45\" class=\"square dark b4\" stroke=\"none\" fill=\"#d18b47\" /><rect x=\"105\" y=\"195\" width=\"45\" height=\"45\" class=\"square light c4\" stroke=\"none\" fill=\"#ffce9e\" /><rect x=\"150\" y=\"195\" width=\"45\" height=\"45\" class=\"square dark d4\" stroke=\"none\" fill=\"#d18b47\" /><rect x=\"195\" y=\"195\" width=\"45\" height=\"45\" class=\"square light e4\" stroke=\"none\" fill=\"#ffce9e\" /><rect x=\"240\" y=\"195\" width=\"45\" height=\"45\" class=\"square dark f4\" stroke=\"none\" fill=\"#d18b47\" /><rect x=\"285\" y=\"195\" width=\"45\" height=\"45\" class=\"square light g4\" stroke=\"none\" fill=\"#ffce9e\" /><rect x=\"330\" y=\"195\" width=\"45\" height=\"45\" class=\"square dark h4\" stroke=\"none\" fill=\"#d18b47\" /><rect x=\"15\" y=\"150\" width=\"45\" height=\"45\" class=\"square dark a5\" stroke=\"none\" fill=\"#d18b47\" /><rect x=\"60\" y=\"150\" width=\"45\" height=\"45\" class=\"square light b5\" stroke=\"none\" fill=\"#ffce9e\" /><rect x=\"105\" y=\"150\" width=\"45\" height=\"45\" class=\"square dark c5\" stroke=\"none\" fill=\"#d18b47\" /><rect x=\"150\" y=\"150\" width=\"45\" height=\"45\" class=\"square light d5\" stroke=\"none\" fill=\"#ffce9e\" /><rect x=\"195\" y=\"150\" width=\"45\" height=\"45\" class=\"square dark e5\" stroke=\"none\" fill=\"#d18b47\" /><rect x=\"240\" y=\"150\" width=\"45\" height=\"45\" class=\"square light f5\" stroke=\"none\" fill=\"#ffce9e\" /><rect x=\"285\" y=\"150\" width=\"45\" height=\"45\" class=\"square dark g5\" stroke=\"none\" fill=\"#d18b47\" /><rect x=\"330\" y=\"150\" width=\"45\" height=\"45\" class=\"square light h5\" stroke=\"none\" fill=\"#ffce9e\" /><rect x=\"15\" y=\"105\" width=\"45\" height=\"45\" class=\"square light a6\" stroke=\"none\" fill=\"#ffce9e\" /><rect x=\"60\" y=\"105\" width=\"45\" height=\"45\" class=\"square dark b6\" stroke=\"none\" fill=\"#d18b47\" /><rect x=\"105\" y=\"105\" width=\"45\" height=\"45\" class=\"square light c6\" stroke=\"none\" fill=\"#ffce9e\" /><rect x=\"150\" y=\"105\" width=\"45\" height=\"45\" class=\"square dark d6\" stroke=\"none\" fill=\"#d18b47\" /><rect x=\"195\" y=\"105\" width=\"45\" height=\"45\" class=\"square light e6\" stroke=\"none\" fill=\"#ffce9e\" /><rect x=\"240\" y=\"105\" width=\"45\" height=\"45\" class=\"square dark f6\" stroke=\"none\" fill=\"#d18b47\" /><rect x=\"285\" y=\"105\" width=\"45\" height=\"45\" class=\"square light g6\" stroke=\"none\" fill=\"#ffce9e\" /><rect x=\"330\" y=\"105\" width=\"45\" height=\"45\" class=\"square dark h6\" stroke=\"none\" fill=\"#d18b47\" /><rect x=\"15\" y=\"60\" width=\"45\" height=\"45\" class=\"square dark a7\" stroke=\"none\" fill=\"#d18b47\" /><rect x=\"60\" y=\"60\" width=\"45\" height=\"45\" class=\"square light b7\" stroke=\"none\" fill=\"#ffce9e\" /><rect x=\"105\" y=\"60\" width=\"45\" height=\"45\" class=\"square dark c7\" stroke=\"none\" fill=\"#d18b47\" /><rect x=\"150\" y=\"60\" width=\"45\" height=\"45\" class=\"square light d7\" stroke=\"none\" fill=\"#ffce9e\" /><rect x=\"195\" y=\"60\" width=\"45\" height=\"45\" class=\"square dark e7\" stroke=\"none\" fill=\"#d18b47\" /><rect x=\"240\" y=\"60\" width=\"45\" height=\"45\" class=\"square light f7\" stroke=\"none\" fill=\"#ffce9e\" /><rect x=\"285\" y=\"60\" width=\"45\" height=\"45\" class=\"square dark g7\" stroke=\"none\" fill=\"#d18b47\" /><rect x=\"330\" y=\"60\" width=\"45\" height=\"45\" class=\"square light h7\" stroke=\"none\" fill=\"#ffce9e\" /><rect x=\"15\" y=\"15\" width=\"45\" height=\"45\" class=\"square light a8\" stroke=\"none\" fill=\"#ffce9e\" /><rect x=\"60\" y=\"15\" width=\"45\" height=\"45\" class=\"square dark b8\" stroke=\"none\" fill=\"#d18b47\" /><rect x=\"105\" y=\"15\" width=\"45\" height=\"45\" class=\"square light c8\" stroke=\"none\" fill=\"#ffce9e\" /><rect x=\"150\" y=\"15\" width=\"45\" height=\"45\" class=\"square dark d8\" stroke=\"none\" fill=\"#d18b47\" /><rect x=\"195\" y=\"15\" width=\"45\" height=\"45\" class=\"square light e8\" stroke=\"none\" fill=\"#ffce9e\" /><rect x=\"240\" y=\"15\" width=\"45\" height=\"45\" class=\"square dark f8\" stroke=\"none\" fill=\"#d18b47\" /><rect x=\"285\" y=\"15\" width=\"45\" height=\"45\" class=\"square light g8\" stroke=\"none\" fill=\"#ffce9e\" /><rect x=\"330\" y=\"15\" width=\"45\" height=\"45\" class=\"square dark h8\" stroke=\"none\" fill=\"#d18b47\" /><use href=\"#white-rook\" xlink:href=\"#white-rook\" transform=\"translate(15, 330)\" /><use href=\"#white-knight\" xlink:href=\"#white-knight\" transform=\"translate(60, 330)\" /><use href=\"#white-bishop\" xlink:href=\"#white-bishop\" transform=\"translate(105, 330)\" /><use href=\"#white-queen\" xlink:href=\"#white-queen\" transform=\"translate(150, 330)\" /><use href=\"#white-king\" xlink:href=\"#white-king\" transform=\"translate(195, 330)\" /><use href=\"#white-knight\" xlink:href=\"#white-knight\" transform=\"translate(285, 330)\" /><use href=\"#white-rook\" xlink:href=\"#white-rook\" transform=\"translate(330, 330)\" /><use href=\"#white-pawn\" xlink:href=\"#white-pawn\" transform=\"translate(15, 285)\" /><use href=\"#white-pawn\" xlink:href=\"#white-pawn\" transform=\"translate(60, 285)\" /><use href=\"#white-pawn\" xlink:href=\"#white-pawn\" transform=\"translate(105, 285)\" /><use href=\"#white-pawn\" xlink:href=\"#white-pawn\" transform=\"translate(240, 285)\" /><use href=\"#white-pawn\" xlink:href=\"#white-pawn\" transform=\"translate(285, 285)\" /><use href=\"#white-pawn\" xlink:href=\"#white-pawn\" transform=\"translate(330, 285)\" /><use href=\"#white-pawn\" xlink:href=\"#white-pawn\" transform=\"translate(150, 240)\" /><use href=\"#black-pawn\" xlink:href=\"#black-pawn\" transform=\"translate(105, 150)\" /><use href=\"#black-pawn\" xlink:href=\"#black-pawn\" transform=\"translate(150, 150)\" /><use href=\"#black-pawn\" xlink:href=\"#black-pawn\" transform=\"translate(105, 105)\" /><use href=\"#black-pawn\" xlink:href=\"#black-pawn\" transform=\"translate(15, 60)\" /><use href=\"#black-pawn\" xlink:href=\"#black-pawn\" transform=\"translate(240, 60)\" /><use href=\"#black-pawn\" xlink:href=\"#black-pawn\" transform=\"translate(285, 60)\" /><use href=\"#black-pawn\" xlink:href=\"#black-pawn\" transform=\"translate(330, 60)\" /><use href=\"#black-rook\" xlink:href=\"#black-rook\" transform=\"translate(15, 15)\" /><use href=\"#black-bishop\" xlink:href=\"#black-bishop\" transform=\"translate(105, 15)\" /><use href=\"#black-queen\" xlink:href=\"#black-queen\" transform=\"translate(150, 15)\" /><use href=\"#black-king\" xlink:href=\"#black-king\" transform=\"translate(195, 15)\" /><use href=\"#black-bishop\" xlink:href=\"#black-bishop\" transform=\"translate(240, 15)\" /><use href=\"#black-knight\" xlink:href=\"#black-knight\" transform=\"translate(285, 15)\" /><use href=\"#black-rook\" xlink:href=\"#black-rook\" transform=\"translate(330, 15)\" /></svg>"
     },
     "execution_count": 10,
     "metadata": {},
     "output_type": "execute_result"
    }
   ],
   "source": [
    "\n",
    "stop = False\n",
    "for i, (pos, moves) in enumerate(moves_dict.items()):\n",
    "    board = chess.Board(pos)\n",
    "    legal_moves = {move.uci() for move in list(board.legal_moves)}\n",
    "    if not board.turn:\n",
    "        stop = True\n",
    "    for move in list(moves.keys()):\n",
    "        if move not in legal_moves and move != 'sum':\n",
    "            print(f'Move {move} not in {legal_moves}, fen: {fen}')\n",
    "            stop = True\n",
    "            break\n",
    "    if stop:\n",
    "        'Whoops'\n",
    "        break\n",
    "print(moves)\n",
    "board"
   ],
   "metadata": {
    "collapsed": false,
    "ExecuteTime": {
     "end_time": "2024-04-30T09:27:14.398529900Z",
     "start_time": "2024-04-30T09:27:13.696635500Z"
    }
   },
   "id": "7de0a57e699be4b4",
   "execution_count": 10
  },
  {
   "cell_type": "code",
   "outputs": [
    {
     "name": "stdout",
     "output_type": "stream",
     "text": [
      "Collecting selenium\n",
      "  Downloading selenium-4.19.0-py3-none-any.whl.metadata (6.9 kB)\n",
      "Requirement already satisfied: urllib3<3,>=1.26 in c:\\users\\nikol\\.conda\\envs\\irl-chess-v6\\lib\\site-packages (from urllib3[socks]<3,>=1.26->selenium) (1.26.18)\n",
      "Collecting trio~=0.17 (from selenium)\n",
      "  Downloading trio-0.25.0-py3-none-any.whl.metadata (8.7 kB)\n",
      "Collecting trio-websocket~=0.9 (from selenium)\n",
      "  Downloading trio_websocket-0.11.1-py3-none-any.whl.metadata (4.7 kB)\n",
      "Requirement already satisfied: certifi>=2021.10.8 in c:\\users\\nikol\\.conda\\envs\\irl-chess-v6\\lib\\site-packages (from selenium) (2023.11.17)\n",
      "Requirement already satisfied: typing_extensions>=4.9.0 in c:\\users\\nikol\\.conda\\envs\\irl-chess-v6\\lib\\site-packages (from selenium) (4.9.0)\n",
      "Requirement already satisfied: attrs>=23.2.0 in c:\\users\\nikol\\.conda\\envs\\irl-chess-v6\\lib\\site-packages (from trio~=0.17->selenium) (23.2.0)\n",
      "Collecting sortedcontainers (from trio~=0.17->selenium)\n",
      "  Downloading sortedcontainers-2.4.0-py2.py3-none-any.whl.metadata (10 kB)\n",
      "Requirement already satisfied: idna in c:\\users\\nikol\\.conda\\envs\\irl-chess-v6\\lib\\site-packages (from trio~=0.17->selenium) (3.6)\n",
      "Collecting outcome (from trio~=0.17->selenium)\n",
      "  Downloading outcome-1.3.0.post0-py2.py3-none-any.whl.metadata (2.6 kB)\n",
      "Requirement already satisfied: sniffio>=1.3.0 in c:\\users\\nikol\\.conda\\envs\\irl-chess-v6\\lib\\site-packages (from trio~=0.17->selenium) (1.3.0)\n",
      "Requirement already satisfied: cffi>=1.14 in c:\\users\\nikol\\.conda\\envs\\irl-chess-v6\\lib\\site-packages (from trio~=0.17->selenium) (1.16.0)\n",
      "Requirement already satisfied: exceptiongroup in c:\\users\\nikol\\.conda\\envs\\irl-chess-v6\\lib\\site-packages (from trio~=0.17->selenium) (1.2.0)\n",
      "Collecting wsproto>=0.14 (from trio-websocket~=0.9->selenium)\n",
      "  Downloading wsproto-1.2.0-py3-none-any.whl.metadata (5.6 kB)\n",
      "Requirement already satisfied: PySocks!=1.5.7,<2.0,>=1.5.6 in c:\\users\\nikol\\.conda\\envs\\irl-chess-v6\\lib\\site-packages (from urllib3[socks]<3,>=1.26->selenium) (1.7.1)\n",
      "Requirement already satisfied: pycparser in c:\\users\\nikol\\.conda\\envs\\irl-chess-v6\\lib\\site-packages (from cffi>=1.14->trio~=0.17->selenium) (2.21)\n",
      "Collecting h11<1,>=0.9.0 (from wsproto>=0.14->trio-websocket~=0.9->selenium)\n",
      "  Using cached h11-0.14.0-py3-none-any.whl.metadata (8.2 kB)\n",
      "Downloading selenium-4.19.0-py3-none-any.whl (10.5 MB)\n",
      "   ---------------------------------------- 0.0/10.5 MB ? eta -:--:--\n",
      "   ---------------------------------------- 0.0/10.5 MB 960.0 kB/s eta 0:00:11\n",
      "   ---------------------------------------- 0.1/10.5 MB 1.3 MB/s eta 0:00:09\n",
      "    --------------------------------------- 0.2/10.5 MB 1.3 MB/s eta 0:00:08\n",
      "    --------------------------------------- 0.2/10.5 MB 1.3 MB/s eta 0:00:08\n",
      "   - -------------------------------------- 0.3/10.5 MB 1.4 MB/s eta 0:00:08\n",
      "   - -------------------------------------- 0.4/10.5 MB 1.3 MB/s eta 0:00:08\n",
      "   - -------------------------------------- 0.5/10.5 MB 1.5 MB/s eta 0:00:07\n",
      "   -- ------------------------------------- 0.5/10.5 MB 1.5 MB/s eta 0:00:07\n",
      "   -- ------------------------------------- 0.6/10.5 MB 1.6 MB/s eta 0:00:07\n",
      "   -- ------------------------------------- 0.7/10.5 MB 1.6 MB/s eta 0:00:07\n",
      "   --- ------------------------------------ 0.8/10.5 MB 1.6 MB/s eta 0:00:06\n",
      "   --- ------------------------------------ 0.9/10.5 MB 1.6 MB/s eta 0:00:06\n",
      "   --- ------------------------------------ 1.0/10.5 MB 1.7 MB/s eta 0:00:06\n",
      "   ---- ----------------------------------- 1.1/10.5 MB 1.7 MB/s eta 0:00:06\n",
      "   ---- ----------------------------------- 1.3/10.5 MB 1.8 MB/s eta 0:00:06\n",
      "   ----- ---------------------------------- 1.3/10.5 MB 1.8 MB/s eta 0:00:05\n",
      "   ----- ---------------------------------- 1.5/10.5 MB 1.9 MB/s eta 0:00:05\n",
      "   ------ --------------------------------- 1.6/10.5 MB 1.9 MB/s eta 0:00:05\n",
      "   ------ --------------------------------- 1.8/10.5 MB 2.0 MB/s eta 0:00:05\n",
      "   ------- -------------------------------- 1.9/10.5 MB 2.0 MB/s eta 0:00:05\n",
      "   ------- -------------------------------- 2.0/10.5 MB 2.1 MB/s eta 0:00:05\n",
      "   -------- ------------------------------- 2.2/10.5 MB 2.2 MB/s eta 0:00:04\n",
      "   -------- ------------------------------- 2.3/10.5 MB 2.2 MB/s eta 0:00:04\n",
      "   --------- ------------------------------ 2.5/10.5 MB 2.2 MB/s eta 0:00:04\n",
      "   ---------- ----------------------------- 2.7/10.5 MB 2.3 MB/s eta 0:00:04\n",
      "   ---------- ----------------------------- 2.8/10.5 MB 2.3 MB/s eta 0:00:04\n",
      "   ----------- ---------------------------- 3.0/10.5 MB 2.4 MB/s eta 0:00:04\n",
      "   ------------ --------------------------- 3.2/10.5 MB 2.4 MB/s eta 0:00:04\n",
      "   ------------ --------------------------- 3.3/10.5 MB 2.5 MB/s eta 0:00:03\n",
      "   ------------- -------------------------- 3.6/10.5 MB 2.6 MB/s eta 0:00:03\n",
      "   -------------- ------------------------- 3.7/10.5 MB 2.6 MB/s eta 0:00:03\n",
      "   --------------- ------------------------ 4.0/10.5 MB 2.7 MB/s eta 0:00:03\n",
      "   ---------------- ----------------------- 4.2/10.5 MB 2.8 MB/s eta 0:00:03\n",
      "   ----------------- ---------------------- 4.5/10.5 MB 2.9 MB/s eta 0:00:03\n",
      "   ------------------ --------------------- 4.8/10.5 MB 2.9 MB/s eta 0:00:02\n",
      "   ------------------- -------------------- 5.1/10.5 MB 3.0 MB/s eta 0:00:02\n",
      "   -------------------- ------------------- 5.4/10.5 MB 3.1 MB/s eta 0:00:02\n",
      "   --------------------- ------------------ 5.7/10.5 MB 3.2 MB/s eta 0:00:02\n",
      "   ---------------------- ----------------- 5.9/10.5 MB 3.2 MB/s eta 0:00:02\n",
      "   ----------------------- ---------------- 6.1/10.5 MB 3.3 MB/s eta 0:00:02\n",
      "   ------------------------ --------------- 6.4/10.5 MB 3.4 MB/s eta 0:00:02\n",
      "   ------------------------- -------------- 6.8/10.5 MB 3.5 MB/s eta 0:00:02\n",
      "   --------------------------- ------------ 7.2/10.5 MB 3.6 MB/s eta 0:00:01\n",
      "   ---------------------------- ----------- 7.5/10.5 MB 3.7 MB/s eta 0:00:01\n",
      "   ----------------------------- ---------- 7.9/10.5 MB 3.8 MB/s eta 0:00:01\n",
      "   ------------------------------- -------- 8.2/10.5 MB 3.8 MB/s eta 0:00:01\n",
      "   --------------------------------- ------ 8.7/10.5 MB 4.0 MB/s eta 0:00:01\n",
      "   ---------------------------------- ----- 9.1/10.5 MB 4.1 MB/s eta 0:00:01\n",
      "   ------------------------------------ --- 9.7/10.5 MB 4.2 MB/s eta 0:00:01\n",
      "   -------------------------------------- - 10.1/10.5 MB 4.3 MB/s eta 0:00:01\n",
      "   ---------------------------------------  10.5/10.5 MB 4.7 MB/s eta 0:00:01\n",
      "   ---------------------------------------- 10.5/10.5 MB 4.6 MB/s eta 0:00:00\n",
      "Downloading trio-0.25.0-py3-none-any.whl (467 kB)\n",
      "   ---------------------------------------- 0.0/467.2 kB ? eta -:--:--\n",
      "   --------------------------------------- 467.2/467.2 kB 14.7 MB/s eta 0:00:00\n",
      "Downloading trio_websocket-0.11.1-py3-none-any.whl (17 kB)\n",
      "Downloading wsproto-1.2.0-py3-none-any.whl (24 kB)\n",
      "Downloading outcome-1.3.0.post0-py2.py3-none-any.whl (10 kB)\n",
      "Downloading sortedcontainers-2.4.0-py2.py3-none-any.whl (29 kB)\n",
      "Using cached h11-0.14.0-py3-none-any.whl (58 kB)\n",
      "Installing collected packages: sortedcontainers, outcome, h11, wsproto, trio, trio-websocket, selenium\n",
      "Successfully installed h11-0.14.0 outcome-1.3.0.post0 selenium-4.19.0 sortedcontainers-2.4.0 trio-0.25.0 trio-websocket-0.11.1 wsproto-1.2.0\n"
     ]
    }
   ],
   "source": [
    "!pip install selenium"
   ],
   "metadata": {
    "collapsed": false,
    "ExecuteTime": {
     "end_time": "2024-04-19T14:53:14.218942200Z",
     "start_time": "2024-04-19T14:52:57.364966700Z"
    }
   },
   "id": "6a41aa6651fdd974",
   "execution_count": 6
  },
  {
   "cell_type": "code",
   "outputs": [],
   "source": [
    "def top_k_moves(move_dict, k, verbose=False):\n",
    "    score_matrix = np.zeros((len(move_dict), 200), dtype=float) - np.inf\n",
    "    for i, (move, scores) in enumerate(move_dict.items()):\n",
    "        score_matrix[i, :len(scores)] = scores\n",
    "    moves_at_depth = (score_matrix != -np.inf).sum(axis=0)\n",
    "    top_moves_depth = sum(moves_at_depth > k)\n",
    "    top_moves_idxs = np.where(score_matrix[:, top_moves_depth] != -np.inf)[0]\n",
    "    if verbose:\n",
    "        print('Intermediary moves')\n",
    "        print({sunfish_move_to_str(move) for i, move in enumerate(move_dict) if i in top_moves_idxs}, '\\n')\n",
    "    score_matrix[top_moves_idxs, top_moves_depth-1] = -np.inf\n",
    "    missing_moves = k - len(top_moves_idxs)\n",
    "    if verbose:\n",
    "        print(missing_moves)\n",
    "    if missing_moves:\n",
    "        top_moves_idxs = np.append(top_moves_idxs, score_matrix[:, top_moves_depth-1].argsort()[-missing_moves:])\n",
    "    return {sunfish_move_to_str(move) for i, move in enumerate(move_dict) if i in top_moves_idxs}"
   ],
   "metadata": {
    "collapsed": false,
    "ExecuteTime": {
     "end_time": "2024-04-26T07:30:55.447959900Z",
     "start_time": "2024-04-26T07:30:55.414033400Z"
    }
   },
   "id": "420e4153b8e1f449",
   "execution_count": 9
  },
  {
   "cell_type": "code",
   "outputs": [
    {
     "name": "stderr",
     "output_type": "stream",
     "text": [
      "  4%|▍         | 4/100 [00:04<01:39,  1.04s/it]"
     ]
    },
    {
     "name": "stdout",
     "output_type": "stream",
     "text": [
      "Failure\n"
     ]
    },
    {
     "name": "stderr",
     "output_type": "stream",
     "text": [
      "  7%|▋         | 7/100 [00:07<01:38,  1.06s/it]"
     ]
    },
    {
     "name": "stdout",
     "output_type": "stream",
     "text": [
      "Failure\n"
     ]
    },
    {
     "name": "stderr",
     "output_type": "stream",
     "text": [
      "  9%|▉         | 9/100 [00:08<01:26,  1.05it/s]"
     ]
    },
    {
     "name": "stdout",
     "output_type": "stream",
     "text": [
      "Failure\n"
     ]
    },
    {
     "name": "stderr",
     "output_type": "stream",
     "text": [
      " 25%|██▌       | 25/100 [00:20<00:55,  1.35it/s]"
     ]
    },
    {
     "name": "stdout",
     "output_type": "stream",
     "text": [
      "Failure\n"
     ]
    },
    {
     "name": "stderr",
     "output_type": "stream",
     "text": [
      " 35%|███▌      | 35/100 [00:31<00:55,  1.17it/s]"
     ]
    },
    {
     "name": "stdout",
     "output_type": "stream",
     "text": [
      "Failure\n"
     ]
    },
    {
     "name": "stderr",
     "output_type": "stream",
     "text": [
      " 47%|████▋     | 47/100 [00:41<00:40,  1.31it/s]"
     ]
    },
    {
     "name": "stdout",
     "output_type": "stream",
     "text": [
      "Failure\n"
     ]
    },
    {
     "name": "stderr",
     "output_type": "stream",
     "text": [
      " 53%|█████▎    | 53/100 [00:45<00:30,  1.53it/s]"
     ]
    },
    {
     "name": "stdout",
     "output_type": "stream",
     "text": [
      "Failure\n"
     ]
    },
    {
     "name": "stderr",
     "output_type": "stream",
     "text": [
      " 58%|█████▊    | 58/100 [00:51<00:56,  1.35s/it]"
     ]
    },
    {
     "name": "stdout",
     "output_type": "stream",
     "text": [
      "Failure\n"
     ]
    },
    {
     "name": "stderr",
     "output_type": "stream",
     "text": [
      " 74%|███████▍  | 74/100 [01:05<00:18,  1.40it/s]"
     ]
    },
    {
     "name": "stdout",
     "output_type": "stream",
     "text": [
      "Failure\n"
     ]
    },
    {
     "name": "stderr",
     "output_type": "stream",
     "text": [
      " 77%|███████▋  | 77/100 [01:07<00:17,  1.30it/s]"
     ]
    },
    {
     "name": "stdout",
     "output_type": "stream",
     "text": [
      "Failure\n"
     ]
    },
    {
     "name": "stderr",
     "output_type": "stream",
     "text": [
      " 86%|████████▌ | 86/100 [01:14<00:13,  1.04it/s]"
     ]
    },
    {
     "name": "stdout",
     "output_type": "stream",
     "text": [
      "Failure\n"
     ]
    },
    {
     "name": "stderr",
     "output_type": "stream",
     "text": [
      " 99%|█████████▉| 99/100 [01:28<00:01,  1.13s/it]"
     ]
    },
    {
     "name": "stdout",
     "output_type": "stream",
     "text": [
      "Failure\n"
     ]
    },
    {
     "name": "stderr",
     "output_type": "stream",
     "text": [
      "100%|██████████| 100/100 [01:29<00:00,  1.11it/s]"
     ]
    },
    {
     "name": "stdout",
     "output_type": "stream",
     "text": [
      "12/100\n"
     ]
    },
    {
     "name": "stderr",
     "output_type": "stream",
     "text": [
      "\n"
     ]
    }
   ],
   "source": [
    "pgn = open(\"data/raw/lichess_db_standard_rated_2013-01.pgn\")\n",
    "failures = 0\n",
    "for i in tqdm(range(100)):\n",
    "    game = chess.pgn.read_game(pgn)\n",
    "    board = game.board()\n",
    "    state, player_move = get_board_after_n(game, 15)\n",
    "    sf_state = board2sunfish(state, 300)\n",
    "    if not state.turn:\n",
    "        state = state.transform(chess.flip_horizontal)\n",
    "        state.apply_mirror()\n",
    "    player_move = sunfish_move_to_str(player_move)\n",
    "    move, best_moves, move_dict = sunfish_move(sf_state, pst, 0.5, move_only=False)\n",
    "    best_moves = {sunfish_move_to_str(move) for move in best_moves.keys()}\n",
    "    top_moves = top_k_moves(move_dict, len(best_moves))\n",
    "    if not top_moves == best_moves:\n",
    "        print('Failure')\n",
    "        failures += 1\n",
    "print(f'{failures}/100')"
   ],
   "metadata": {
    "collapsed": false,
    "ExecuteTime": {
     "end_time": "2024-04-19T13:39:29.863862200Z",
     "start_time": "2024-04-19T13:38:00.081143100Z"
    }
   },
   "id": "1b4e307b9b5a3a43",
   "execution_count": 13
  },
  {
   "cell_type": "code",
   "outputs": [
    {
     "name": "stderr",
     "output_type": "stream",
     "text": [
      "100%|██████████| 7/7 [00:00<00:00, 301.59it/s]\n"
     ]
    },
    {
     "name": "stdout",
     "output_type": "stream",
     "text": [
      "Sunfish best move: h4g6\n",
      "Sunfish moves: {'f4c7', 'f1d3', 'c3d5', 'h4g6', 'h4f5'}\n",
      "Player move: h4g6\n"
     ]
    },
    {
     "data": {
      "text/plain": "Board('1kr1q1nr/ppp3pp/2n1ppb1/3p4/1b1P1B1N/2N1P3/PPP2PPP/1KR1QB1R w - - 3 8')",
      "image/svg+xml": "<svg xmlns=\"http://www.w3.org/2000/svg\" xmlns:xlink=\"http://www.w3.org/1999/xlink\" viewBox=\"0 0 390 390\" width=\"390\" height=\"390\"><desc><pre>. k r . q . n r\np p p . . . p p\n. . n . p p b .\n. . . p . . . .\n. b . P . B . N\n. . N . P . . .\nP P P . . P P P\n. K R . Q B . R</pre></desc><defs><g id=\"white-pawn\" class=\"white pawn\"><path d=\"M22.5 9c-2.21 0-4 1.79-4 4 0 .89.29 1.71.78 2.38C17.33 16.5 16 18.59 16 21c0 2.03.94 3.84 2.41 5.03-3 1.06-7.41 5.55-7.41 13.47h23c0-7.92-4.41-12.41-7.41-13.47 1.47-1.19 2.41-3 2.41-5.03 0-2.41-1.33-4.5-3.28-5.62.49-.67.78-1.49.78-2.38 0-2.21-1.79-4-4-4z\" fill=\"#fff\" stroke=\"#000\" stroke-width=\"1.5\" stroke-linecap=\"round\" /></g><g id=\"white-knight\" class=\"white knight\" fill=\"none\" fill-rule=\"evenodd\" stroke=\"#000\" stroke-width=\"1.5\" stroke-linecap=\"round\" stroke-linejoin=\"round\"><path d=\"M 22,10 C 32.5,11 38.5,18 38,39 L 15,39 C 15,30 25,32.5 23,18\" style=\"fill:#ffffff; stroke:#000000;\" /><path d=\"M 24,18 C 24.38,20.91 18.45,25.37 16,27 C 13,29 13.18,31.34 11,31 C 9.958,30.06 12.41,27.96 11,28 C 10,28 11.19,29.23 10,30 C 9,30 5.997,31 6,26 C 6,24 12,14 12,14 C 12,14 13.89,12.1 14,10.5 C 13.27,9.506 13.5,8.5 13.5,7.5 C 14.5,6.5 16.5,10 16.5,10 L 18.5,10 C 18.5,10 19.28,8.008 21,7 C 22,7 22,10 22,10\" style=\"fill:#ffffff; stroke:#000000;\" /><path d=\"M 9.5 25.5 A 0.5 0.5 0 1 1 8.5,25.5 A 0.5 0.5 0 1 1 9.5 25.5 z\" style=\"fill:#000000; stroke:#000000;\" /><path d=\"M 15 15.5 A 0.5 1.5 0 1 1 14,15.5 A 0.5 1.5 0 1 1 15 15.5 z\" transform=\"matrix(0.866,0.5,-0.5,0.866,9.693,-5.173)\" style=\"fill:#000000; stroke:#000000;\" /></g><g id=\"white-bishop\" class=\"white bishop\" fill=\"none\" fill-rule=\"evenodd\" stroke=\"#000\" stroke-width=\"1.5\" stroke-linecap=\"round\" stroke-linejoin=\"round\"><g fill=\"#fff\" stroke-linecap=\"butt\"><path d=\"M9 36c3.39-.97 10.11.43 13.5-2 3.39 2.43 10.11 1.03 13.5 2 0 0 1.65.54 3 2-.68.97-1.65.99-3 .5-3.39-.97-10.11.46-13.5-1-3.39 1.46-10.11.03-13.5 1-1.354.49-2.323.47-3-.5 1.354-1.94 3-2 3-2zM15 32c2.5 2.5 12.5 2.5 15 0 .5-1.5 0-2 0-2 0-2.5-2.5-4-2.5-4 5.5-1.5 6-11.5-5-15.5-11 4-10.5 14-5 15.5 0 0-2.5 1.5-2.5 4 0 0-.5.5 0 2zM25 8a2.5 2.5 0 1 1-5 0 2.5 2.5 0 1 1 5 0z\" /></g><path d=\"M17.5 26h10M15 30h15m-7.5-14.5v5M20 18h5\" stroke-linejoin=\"miter\" /></g><g id=\"white-rook\" class=\"white rook\" fill=\"#fff\" fill-rule=\"evenodd\" stroke=\"#000\" stroke-width=\"1.5\" stroke-linecap=\"round\" stroke-linejoin=\"round\"><path d=\"M9 39h27v-3H9v3zM12 36v-4h21v4H12zM11 14V9h4v2h5V9h5v2h5V9h4v5\" stroke-linecap=\"butt\" /><path d=\"M34 14l-3 3H14l-3-3\" /><path d=\"M31 17v12.5H14V17\" stroke-linecap=\"butt\" stroke-linejoin=\"miter\" /><path d=\"M31 29.5l1.5 2.5h-20l1.5-2.5\" /><path d=\"M11 14h23\" fill=\"none\" stroke-linejoin=\"miter\" /></g><g id=\"white-queen\" class=\"white queen\" fill=\"#fff\" fill-rule=\"evenodd\" stroke=\"#000\" stroke-width=\"1.5\" stroke-linecap=\"round\" stroke-linejoin=\"round\"><path d=\"M8 12a2 2 0 1 1-4 0 2 2 0 1 1 4 0zM24.5 7.5a2 2 0 1 1-4 0 2 2 0 1 1 4 0zM41 12a2 2 0 1 1-4 0 2 2 0 1 1 4 0zM16 8.5a2 2 0 1 1-4 0 2 2 0 1 1 4 0zM33 9a2 2 0 1 1-4 0 2 2 0 1 1 4 0z\" /><path d=\"M9 26c8.5-1.5 21-1.5 27 0l2-12-7 11V11l-5.5 13.5-3-15-3 15-5.5-14V25L7 14l2 12zM9 26c0 2 1.5 2 2.5 4 1 1.5 1 1 .5 3.5-1.5 1-1.5 2.5-1.5 2.5-1.5 1.5.5 2.5.5 2.5 6.5 1 16.5 1 23 0 0 0 1.5-1 0-2.5 0 0 .5-1.5-1-2.5-.5-2.5-.5-2 .5-3.5 1-2 2.5-2 2.5-4-8.5-1.5-18.5-1.5-27 0z\" stroke-linecap=\"butt\" /><path d=\"M11.5 30c3.5-1 18.5-1 22 0M12 33.5c6-1 15-1 21 0\" fill=\"none\" /></g><g id=\"white-king\" class=\"white king\" fill=\"none\" fill-rule=\"evenodd\" stroke=\"#000\" stroke-width=\"1.5\" stroke-linecap=\"round\" stroke-linejoin=\"round\"><path d=\"M22.5 11.63V6M20 8h5\" stroke-linejoin=\"miter\" /><path d=\"M22.5 25s4.5-7.5 3-10.5c0 0-1-2.5-3-2.5s-3 2.5-3 2.5c-1.5 3 3 10.5 3 10.5\" fill=\"#fff\" stroke-linecap=\"butt\" stroke-linejoin=\"miter\" /><path d=\"M11.5 37c5.5 3.5 15.5 3.5 21 0v-7s9-4.5 6-10.5c-4-6.5-13.5-3.5-16 4V27v-3.5c-3.5-7.5-13-10.5-16-4-3 6 5 10 5 10V37z\" fill=\"#fff\" /><path d=\"M11.5 30c5.5-3 15.5-3 21 0m-21 3.5c5.5-3 15.5-3 21 0m-21 3.5c5.5-3 15.5-3 21 0\" /></g><g id=\"black-pawn\" class=\"black pawn\"><path d=\"M22.5 9c-2.21 0-4 1.79-4 4 0 .89.29 1.71.78 2.38C17.33 16.5 16 18.59 16 21c0 2.03.94 3.84 2.41 5.03-3 1.06-7.41 5.55-7.41 13.47h23c0-7.92-4.41-12.41-7.41-13.47 1.47-1.19 2.41-3 2.41-5.03 0-2.41-1.33-4.5-3.28-5.62.49-.67.78-1.49.78-2.38 0-2.21-1.79-4-4-4z\" fill=\"#000\" stroke=\"#000\" stroke-width=\"1.5\" stroke-linecap=\"round\" /></g><g id=\"black-knight\" class=\"black knight\" fill=\"none\" fill-rule=\"evenodd\" stroke=\"#000\" stroke-width=\"1.5\" stroke-linecap=\"round\" stroke-linejoin=\"round\"><path d=\"M 22,10 C 32.5,11 38.5,18 38,39 L 15,39 C 15,30 25,32.5 23,18\" style=\"fill:#000000; stroke:#000000;\" /><path d=\"M 24,18 C 24.38,20.91 18.45,25.37 16,27 C 13,29 13.18,31.34 11,31 C 9.958,30.06 12.41,27.96 11,28 C 10,28 11.19,29.23 10,30 C 9,30 5.997,31 6,26 C 6,24 12,14 12,14 C 12,14 13.89,12.1 14,10.5 C 13.27,9.506 13.5,8.5 13.5,7.5 C 14.5,6.5 16.5,10 16.5,10 L 18.5,10 C 18.5,10 19.28,8.008 21,7 C 22,7 22,10 22,10\" style=\"fill:#000000; stroke:#000000;\" /><path d=\"M 9.5 25.5 A 0.5 0.5 0 1 1 8.5,25.5 A 0.5 0.5 0 1 1 9.5 25.5 z\" style=\"fill:#ececec; stroke:#ececec;\" /><path d=\"M 15 15.5 A 0.5 1.5 0 1 1 14,15.5 A 0.5 1.5 0 1 1 15 15.5 z\" transform=\"matrix(0.866,0.5,-0.5,0.866,9.693,-5.173)\" style=\"fill:#ececec; stroke:#ececec;\" /><path d=\"M 24.55,10.4 L 24.1,11.85 L 24.6,12 C 27.75,13 30.25,14.49 32.5,18.75 C 34.75,23.01 35.75,29.06 35.25,39 L 35.2,39.5 L 37.45,39.5 L 37.5,39 C 38,28.94 36.62,22.15 34.25,17.66 C 31.88,13.17 28.46,11.02 25.06,10.5 L 24.55,10.4 z \" style=\"fill:#ececec; stroke:none;\" /></g><g id=\"black-bishop\" class=\"black bishop\" fill=\"none\" fill-rule=\"evenodd\" stroke=\"#000\" stroke-width=\"1.5\" stroke-linecap=\"round\" stroke-linejoin=\"round\"><path d=\"M9 36c3.39-.97 10.11.43 13.5-2 3.39 2.43 10.11 1.03 13.5 2 0 0 1.65.54 3 2-.68.97-1.65.99-3 .5-3.39-.97-10.11.46-13.5-1-3.39 1.46-10.11.03-13.5 1-1.354.49-2.323.47-3-.5 1.354-1.94 3-2 3-2zm6-4c2.5 2.5 12.5 2.5 15 0 .5-1.5 0-2 0-2 0-2.5-2.5-4-2.5-4 5.5-1.5 6-11.5-5-15.5-11 4-10.5 14-5 15.5 0 0-2.5 1.5-2.5 4 0 0-.5.5 0 2zM25 8a2.5 2.5 0 1 1-5 0 2.5 2.5 0 1 1 5 0z\" fill=\"#000\" stroke-linecap=\"butt\" /><path d=\"M17.5 26h10M15 30h15m-7.5-14.5v5M20 18h5\" stroke=\"#fff\" stroke-linejoin=\"miter\" /></g><g id=\"black-rook\" class=\"black rook\" fill=\"#000\" fill-rule=\"evenodd\" stroke=\"#000\" stroke-width=\"1.5\" stroke-linecap=\"round\" stroke-linejoin=\"round\"><path d=\"M9 39h27v-3H9v3zM12.5 32l1.5-2.5h17l1.5 2.5h-20zM12 36v-4h21v4H12z\" stroke-linecap=\"butt\" /><path d=\"M14 29.5v-13h17v13H14z\" stroke-linecap=\"butt\" stroke-linejoin=\"miter\" /><path d=\"M14 16.5L11 14h23l-3 2.5H14zM11 14V9h4v2h5V9h5v2h5V9h4v5H11z\" stroke-linecap=\"butt\" /><path d=\"M12 35.5h21M13 31.5h19M14 29.5h17M14 16.5h17M11 14h23\" fill=\"none\" stroke=\"#fff\" stroke-width=\"1\" stroke-linejoin=\"miter\" /></g><g id=\"black-queen\" class=\"black queen\" fill=\"#000\" fill-rule=\"evenodd\" stroke=\"#000\" stroke-width=\"1.5\" stroke-linecap=\"round\" stroke-linejoin=\"round\"><g fill=\"#000\" stroke=\"none\"><circle cx=\"6\" cy=\"12\" r=\"2.75\" /><circle cx=\"14\" cy=\"9\" r=\"2.75\" /><circle cx=\"22.5\" cy=\"8\" r=\"2.75\" /><circle cx=\"31\" cy=\"9\" r=\"2.75\" /><circle cx=\"39\" cy=\"12\" r=\"2.75\" /></g><path d=\"M9 26c8.5-1.5 21-1.5 27 0l2.5-12.5L31 25l-.3-14.1-5.2 13.6-3-14.5-3 14.5-5.2-13.6L14 25 6.5 13.5 9 26zM9 26c0 2 1.5 2 2.5 4 1 1.5 1 1 .5 3.5-1.5 1-1.5 2.5-1.5 2.5-1.5 1.5.5 2.5.5 2.5 6.5 1 16.5 1 23 0 0 0 1.5-1 0-2.5 0 0 .5-1.5-1-2.5-.5-2.5-.5-2 .5-3.5 1-2 2.5-2 2.5-4-8.5-1.5-18.5-1.5-27 0z\" stroke-linecap=\"butt\" /><path d=\"M11 38.5a35 35 1 0 0 23 0\" fill=\"none\" stroke-linecap=\"butt\" /><path d=\"M11 29a35 35 1 0 1 23 0M12.5 31.5h20M11.5 34.5a35 35 1 0 0 22 0M10.5 37.5a35 35 1 0 0 24 0\" fill=\"none\" stroke=\"#fff\" /></g><g id=\"black-king\" class=\"black king\" fill=\"none\" fill-rule=\"evenodd\" stroke=\"#000\" stroke-width=\"1.5\" stroke-linecap=\"round\" stroke-linejoin=\"round\"><path d=\"M22.5 11.63V6\" stroke-linejoin=\"miter\" /><path d=\"M22.5 25s4.5-7.5 3-10.5c0 0-1-2.5-3-2.5s-3 2.5-3 2.5c-1.5 3 3 10.5 3 10.5\" fill=\"#000\" stroke-linecap=\"butt\" stroke-linejoin=\"miter\" /><path d=\"M11.5 37c5.5 3.5 15.5 3.5 21 0v-7s9-4.5 6-10.5c-4-6.5-13.5-3.5-16 4V27v-3.5c-3.5-7.5-13-10.5-16-4-3 6 5 10 5 10V37z\" fill=\"#000\" /><path d=\"M20 8h5\" stroke-linejoin=\"miter\" /><path d=\"M32 29.5s8.5-4 6.03-9.65C34.15 14 25 18 22.5 24.5l.01 2.1-.01-2.1C20 18 9.906 14 6.997 19.85c-2.497 5.65 4.853 9 4.853 9M11.5 30c5.5-3 15.5-3 21 0m-21 3.5c5.5-3 15.5-3 21 0m-21 3.5c5.5-3 15.5-3 21 0\" stroke=\"#fff\" /></g></defs><rect x=\"7.5\" y=\"7.5\" width=\"375\" height=\"375\" fill=\"none\" stroke=\"#212121\" stroke-width=\"15\" /><g transform=\"translate(20, 1) scale(0.75, 0.75)\" fill=\"#e5e5e5\" stroke=\"#e5e5e5\"><path d=\"M23.328 10.016q-1.742 0-2.414.398-.672.398-.672 1.36 0 .765.5 1.218.508.445 1.375.445 1.196 0 1.914-.843.727-.852.727-2.258v-.32zm2.867-.594v4.992h-1.437v-1.328q-.492.797-1.227 1.18-.734.375-1.797.375-1.343 0-2.14-.75-.79-.758-.79-2.024 0-1.476.985-2.226.992-.75 2.953-.75h2.016V8.75q0-.992-.656-1.531-.649-.547-1.829-.547-.75 0-1.46.18-.711.18-1.368.539V6.062q.79-.304 1.532-.453.742-.156 1.445-.156 1.898 0 2.836.984.937.985.937 2.985z\" /></g><g transform=\"translate(20, 375) scale(0.75, 0.75)\" fill=\"#e5e5e5\" stroke=\"#e5e5e5\"><path d=\"M23.328 10.016q-1.742 0-2.414.398-.672.398-.672 1.36 0 .765.5 1.218.508.445 1.375.445 1.196 0 1.914-.843.727-.852.727-2.258v-.32zm2.867-.594v4.992h-1.437v-1.328q-.492.797-1.227 1.18-.734.375-1.797.375-1.343 0-2.14-.75-.79-.758-.79-2.024 0-1.476.985-2.226.992-.75 2.953-.75h2.016V8.75q0-.992-.656-1.531-.649-.547-1.829-.547-.75 0-1.46.18-.711.18-1.368.539V6.062q.79-.304 1.532-.453.742-.156 1.445-.156 1.898 0 2.836.984.937.985.937 2.985z\" /></g><g transform=\"translate(65, 1) scale(0.75, 0.75)\" fill=\"#e5e5e5\" stroke=\"#e5e5e5\"><path d=\"M24.922 10.047q0-1.586-.656-2.485-.649-.906-1.79-.906-1.14 0-1.796.906-.649.899-.649 2.485 0 1.586.649 2.492.656.898 1.797.898 1.14 0 1.789-.898.656-.906.656-2.492zm-4.89-3.055q.452-.781 1.14-1.156.695-.383 1.656-.383 1.594 0 2.586 1.266 1 1.265 1 3.328 0 2.062-1 3.328-.992 1.266-2.586 1.266-.96 0-1.656-.375-.688-.383-1.14-1.164v1.312h-1.446V2.258h1.445z\" /></g><g transform=\"translate(65, 375) scale(0.75, 0.75)\" fill=\"#e5e5e5\" stroke=\"#e5e5e5\"><path d=\"M24.922 10.047q0-1.586-.656-2.485-.649-.906-1.79-.906-1.14 0-1.796.906-.649.899-.649 2.485 0 1.586.649 2.492.656.898 1.797.898 1.14 0 1.789-.898.656-.906.656-2.492zm-4.89-3.055q.452-.781 1.14-1.156.695-.383 1.656-.383 1.594 0 2.586 1.266 1 1.265 1 3.328 0 2.062-1 3.328-.992 1.266-2.586 1.266-.96 0-1.656-.375-.688-.383-1.14-1.164v1.312h-1.446V2.258h1.445z\" /></g><g transform=\"translate(110, 1) scale(0.75, 0.75)\" fill=\"#e5e5e5\" stroke=\"#e5e5e5\"><path d=\"M25.96 6v1.344q-.608-.336-1.226-.5-.609-.172-1.234-.172-1.398 0-2.172.89-.773.883-.773 2.485 0 1.601.773 2.492.774.883 2.172.883.625 0 1.234-.164.618-.172 1.227-.508v1.328q-.602.281-1.25.422-.64.14-1.367.14-1.977 0-3.14-1.242-1.165-1.242-1.165-3.351 0-2.14 1.172-3.367 1.18-1.227 3.227-1.227.664 0 1.296.14.633.134 1.227.407z\" /></g><g transform=\"translate(110, 375) scale(0.75, 0.75)\" fill=\"#e5e5e5\" stroke=\"#e5e5e5\"><path d=\"M25.96 6v1.344q-.608-.336-1.226-.5-.609-.172-1.234-.172-1.398 0-2.172.89-.773.883-.773 2.485 0 1.601.773 2.492.774.883 2.172.883.625 0 1.234-.164.618-.172 1.227-.508v1.328q-.602.281-1.25.422-.64.14-1.367.14-1.977 0-3.14-1.242-1.165-1.242-1.165-3.351 0-2.14 1.172-3.367 1.18-1.227 3.227-1.227.664 0 1.296.14.633.134 1.227.407z\" /></g><g transform=\"translate(155, 1) scale(0.75, 0.75)\" fill=\"#e5e5e5\" stroke=\"#e5e5e5\"><path d=\"M24.973 6.992V2.258h1.437v12.156h-1.437v-1.312q-.453.78-1.149 1.164-.687.375-1.656.375-1.586 0-2.586-1.266-.992-1.266-.992-3.328 0-2.063.992-3.328 1-1.266 2.586-1.266.969 0 1.656.383.696.375 1.149 1.156zm-4.899 3.055q0 1.586.649 2.492.656.898 1.797.898 1.14 0 1.796-.898.657-.906.657-2.492 0-1.586-.657-2.485-.656-.906-1.796-.906-1.141 0-1.797.906-.649.899-.649 2.485z\" /></g><g transform=\"translate(155, 375) scale(0.75, 0.75)\" fill=\"#e5e5e5\" stroke=\"#e5e5e5\"><path d=\"M24.973 6.992V2.258h1.437v12.156h-1.437v-1.312q-.453.78-1.149 1.164-.687.375-1.656.375-1.586 0-2.586-1.266-.992-1.266-.992-3.328 0-2.063.992-3.328 1-1.266 2.586-1.266.969 0 1.656.383.696.375 1.149 1.156zm-4.899 3.055q0 1.586.649 2.492.656.898 1.797.898 1.14 0 1.796-.898.657-.906.657-2.492 0-1.586-.657-2.485-.656-.906-1.796-.906-1.141 0-1.797.906-.649.899-.649 2.485z\" /></g><g transform=\"translate(200, 1) scale(0.75, 0.75)\" fill=\"#e5e5e5\" stroke=\"#e5e5e5\"><path d=\"M26.555 9.68v.703h-6.61q.094 1.484.89 2.265.806.774 2.235.774.828 0 1.602-.203.781-.203 1.547-.61v1.36q-.774.328-1.586.5-.813.172-1.649.172-2.093 0-3.32-1.22-1.219-1.218-1.219-3.296 0-2.148 1.157-3.406 1.164-1.266 3.132-1.266 1.766 0 2.79 1.14 1.03 1.134 1.03 3.087zm-1.438-.422q-.015-1.18-.664-1.883-.64-.703-1.703-.703-1.203 0-1.93.68-.718.68-.828 1.914z\" /></g><g transform=\"translate(200, 375) scale(0.75, 0.75)\" fill=\"#e5e5e5\" stroke=\"#e5e5e5\"><path d=\"M26.555 9.68v.703h-6.61q.094 1.484.89 2.265.806.774 2.235.774.828 0 1.602-.203.781-.203 1.547-.61v1.36q-.774.328-1.586.5-.813.172-1.649.172-2.093 0-3.32-1.22-1.219-1.218-1.219-3.296 0-2.148 1.157-3.406 1.164-1.266 3.132-1.266 1.766 0 2.79 1.14 1.03 1.134 1.03 3.087zm-1.438-.422q-.015-1.18-.664-1.883-.64-.703-1.703-.703-1.203 0-1.93.68-.718.68-.828 1.914z\" /></g><g transform=\"translate(245, 1) scale(0.75, 0.75)\" fill=\"#e5e5e5\" stroke=\"#e5e5e5\"><path d=\"M25.285 2.258v1.195H23.91q-.773 0-1.078.313-.297.312-.297 1.125v.773h2.367v1.117h-2.367v7.633H21.09V6.781h-1.375V5.664h1.375v-.61q0-1.46.68-2.124.68-.672 2.156-.672z\" /></g><g transform=\"translate(245, 375) scale(0.75, 0.75)\" fill=\"#e5e5e5\" stroke=\"#e5e5e5\"><path d=\"M25.285 2.258v1.195H23.91q-.773 0-1.078.313-.297.312-.297 1.125v.773h2.367v1.117h-2.367v7.633H21.09V6.781h-1.375V5.664h1.375v-.61q0-1.46.68-2.124.68-.672 2.156-.672z\" /></g><g transform=\"translate(290, 1) scale(0.75, 0.75)\" fill=\"#e5e5e5\" stroke=\"#e5e5e5\"><path d=\"M24.973 9.937q0-1.562-.649-2.421-.64-.86-1.804-.86-1.157 0-1.805.86-.64.859-.64 2.421 0 1.555.64 2.415.648.859 1.805.859 1.164 0 1.804-.86.649-.859.649-2.414zm1.437 3.391q0 2.234-.992 3.32-.992 1.094-3.04 1.094-.757 0-1.429-.117-.672-.11-1.304-.344v-1.398q.632.344 1.25.508.617.164 1.257.164 1.414 0 2.118-.743.703-.734.703-2.226v-.711q-.446.773-1.141 1.156-.695.383-1.664.383-1.61 0-2.594-1.227-.984-1.226-.984-3.25 0-2.03.984-3.257.985-1.227 2.594-1.227.969 0 1.664.383t1.14 1.156V5.664h1.438z\" /></g><g transform=\"translate(290, 375) scale(0.75, 0.75)\" fill=\"#e5e5e5\" stroke=\"#e5e5e5\"><path d=\"M24.973 9.937q0-1.562-.649-2.421-.64-.86-1.804-.86-1.157 0-1.805.86-.64.859-.64 2.421 0 1.555.64 2.415.648.859 1.805.859 1.164 0 1.804-.86.649-.859.649-2.414zm1.437 3.391q0 2.234-.992 3.32-.992 1.094-3.04 1.094-.757 0-1.429-.117-.672-.11-1.304-.344v-1.398q.632.344 1.25.508.617.164 1.257.164 1.414 0 2.118-.743.703-.734.703-2.226v-.711q-.446.773-1.141 1.156-.695.383-1.664.383-1.61 0-2.594-1.227-.984-1.226-.984-3.25 0-2.03.984-3.257.985-1.227 2.594-1.227.969 0 1.664.383t1.14 1.156V5.664h1.438z\" /></g><g transform=\"translate(335, 1) scale(0.75, 0.75)\" fill=\"#e5e5e5\" stroke=\"#e5e5e5\"><path d=\"M26.164 9.133v5.281h-1.437V9.18q0-1.243-.485-1.86-.484-.617-1.453-.617-1.164 0-1.836.742-.672.742-.672 2.024v4.945h-1.445V2.258h1.445v4.765q.516-.789 1.211-1.18.703-.39 1.617-.39 1.508 0 2.282.938.773.93.773 2.742z\" /></g><g transform=\"translate(335, 375) scale(0.75, 0.75)\" fill=\"#e5e5e5\" stroke=\"#e5e5e5\"><path d=\"M26.164 9.133v5.281h-1.437V9.18q0-1.243-.485-1.86-.484-.617-1.453-.617-1.164 0-1.836.742-.672.742-.672 2.024v4.945h-1.445V2.258h1.445v4.765q.516-.789 1.211-1.18.703-.39 1.617-.39 1.508 0 2.282.938.773.93.773 2.742z\" /></g><g transform=\"translate(0, 335) scale(0.75, 0.75)\" fill=\"#e5e5e5\" stroke=\"#e5e5e5\"><path d=\"M6.754 26.996h2.578v-8.898l-2.805.562v-1.437l2.79-.563h1.578v10.336h2.578v1.328h-6.72z\" /></g><g transform=\"translate(375, 335) scale(0.75, 0.75)\" fill=\"#e5e5e5\" stroke=\"#e5e5e5\"><path d=\"M6.754 26.996h2.578v-8.898l-2.805.562v-1.437l2.79-.563h1.578v10.336h2.578v1.328h-6.72z\" /></g><g transform=\"translate(0, 290) scale(0.75, 0.75)\" fill=\"#e5e5e5\" stroke=\"#e5e5e5\"><path d=\"M8.195 26.996h5.508v1.328H6.297v-1.328q.898-.93 2.445-2.492 1.555-1.57 1.953-2.024.758-.851 1.055-1.437.305-.594.305-1.164 0-.93-.657-1.516-.648-.586-1.695-.586-.742 0-1.57.258-.82.258-1.758.781v-1.593q.953-.383 1.781-.578.828-.196 1.516-.196 1.812 0 2.89.906 1.079.907 1.079 2.422 0 .72-.274 1.368-.265.64-.976 1.515-.196.227-1.243 1.313-1.046 1.078-2.953 3.023z\" /></g><g transform=\"translate(375, 290) scale(0.75, 0.75)\" fill=\"#e5e5e5\" stroke=\"#e5e5e5\"><path d=\"M8.195 26.996h5.508v1.328H6.297v-1.328q.898-.93 2.445-2.492 1.555-1.57 1.953-2.024.758-.851 1.055-1.437.305-.594.305-1.164 0-.93-.657-1.516-.648-.586-1.695-.586-.742 0-1.57.258-.82.258-1.758.781v-1.593q.953-.383 1.781-.578.828-.196 1.516-.196 1.812 0 2.89.906 1.079.907 1.079 2.422 0 .72-.274 1.368-.265.64-.976 1.515-.196.227-1.243 1.313-1.046 1.078-2.953 3.023z\" /></g><g transform=\"translate(0, 245) scale(0.75, 0.75)\" fill=\"#e5e5e5\" stroke=\"#e5e5e5\"><path d=\"M11.434 22.035q1.132.242 1.765 1.008.64.766.64 1.89 0 1.727-1.187 2.672-1.187.946-3.375.946-.734 0-1.515-.149-.774-.14-1.602-.43V26.45q.656.383 1.438.578.78.196 1.632.196 1.485 0 2.258-.586.782-.586.782-1.703 0-1.032-.727-1.61-.719-.586-2.008-.586h-1.36v-1.297h1.423q1.164 0 1.78-.46.618-.47.618-1.344 0-.899-.64-1.375-.633-.485-1.82-.485-.65 0-1.391.141-.743.14-1.633.437V16.95q.898-.25 1.68-.375.788-.125 1.484-.125 1.797 0 2.844.82 1.046.813 1.046 2.204 0 .968-.554 1.64-.555.664-1.578.922z\" /></g><g transform=\"translate(375, 245) scale(0.75, 0.75)\" fill=\"#e5e5e5\" stroke=\"#e5e5e5\"><path d=\"M11.434 22.035q1.132.242 1.765 1.008.64.766.64 1.89 0 1.727-1.187 2.672-1.187.946-3.375.946-.734 0-1.515-.149-.774-.14-1.602-.43V26.45q.656.383 1.438.578.78.196 1.632.196 1.485 0 2.258-.586.782-.586.782-1.703 0-1.032-.727-1.61-.719-.586-2.008-.586h-1.36v-1.297h1.423q1.164 0 1.78-.46.618-.47.618-1.344 0-.899-.64-1.375-.633-.485-1.82-.485-.65 0-1.391.141-.743.14-1.633.437V16.95q.898-.25 1.68-.375.788-.125 1.484-.125 1.797 0 2.844.82 1.046.813 1.046 2.204 0 .968-.554 1.64-.555.664-1.578.922z\" /></g><g transform=\"translate(0, 200) scale(0.75, 0.75)\" fill=\"#e5e5e5\" stroke=\"#e5e5e5\"><path d=\"M11.016 18.035L7.03 24.262h3.985zm-.414-1.375h1.984v7.602h1.664v1.312h-1.664v2.75h-1.57v-2.75H5.75v-1.523z\" /></g><g transform=\"translate(375, 200) scale(0.75, 0.75)\" fill=\"#e5e5e5\" stroke=\"#e5e5e5\"><path d=\"M11.016 18.035L7.03 24.262h3.985zm-.414-1.375h1.984v7.602h1.664v1.312h-1.664v2.75h-1.57v-2.75H5.75v-1.523z\" /></g><g transform=\"translate(0, 155) scale(0.75, 0.75)\" fill=\"#e5e5e5\" stroke=\"#e5e5e5\"><path d=\"M6.719 16.66h6.195v1.328h-4.75v2.86q.344-.118.688-.172.343-.063.687-.063 1.953 0 3.094 1.07 1.14 1.07 1.14 2.899 0 1.883-1.171 2.93-1.172 1.039-3.305 1.039-.735 0-1.5-.125-.758-.125-1.57-.375v-1.586q.703.383 1.453.57.75.188 1.586.188 1.351 0 2.14-.711.79-.711.79-1.93 0-1.219-.79-1.93-.789-.71-2.14-.71-.633 0-1.266.14-.625.14-1.281.438z\" /></g><g transform=\"translate(375, 155) scale(0.75, 0.75)\" fill=\"#e5e5e5\" stroke=\"#e5e5e5\"><path d=\"M6.719 16.66h6.195v1.328h-4.75v2.86q.344-.118.688-.172.343-.063.687-.063 1.953 0 3.094 1.07 1.14 1.07 1.14 2.899 0 1.883-1.171 2.93-1.172 1.039-3.305 1.039-.735 0-1.5-.125-.758-.125-1.57-.375v-1.586q.703.383 1.453.57.75.188 1.586.188 1.351 0 2.14-.711.79-.711.79-1.93 0-1.219-.79-1.93-.789-.71-2.14-.71-.633 0-1.266.14-.625.14-1.281.438z\" /></g><g transform=\"translate(0, 110) scale(0.75, 0.75)\" fill=\"#e5e5e5\" stroke=\"#e5e5e5\"><path d=\"M10.137 21.863q-1.063 0-1.688.727-.617.726-.617 1.992 0 1.258.617 1.992.625.727 1.688.727 1.062 0 1.68-.727.624-.734.624-1.992 0-1.266-.625-1.992-.617-.727-1.68-.727zm3.133-4.945v1.437q-.594-.28-1.204-.43-.601-.148-1.195-.148-1.562 0-2.39 1.055-.82 1.055-.938 3.188.46-.68 1.156-1.04.696-.367 1.531-.367 1.758 0 2.774 1.07 1.023 1.063 1.023 2.899 0 1.797-1.062 2.883-1.063 1.086-2.828 1.086-2.024 0-3.094-1.547-1.07-1.555-1.07-4.5 0-2.766 1.312-4.406 1.313-1.649 3.524-1.649.593 0 1.195.117.61.118 1.266.352z\" /></g><g transform=\"translate(375, 110) scale(0.75, 0.75)\" fill=\"#e5e5e5\" stroke=\"#e5e5e5\"><path d=\"M10.137 21.863q-1.063 0-1.688.727-.617.726-.617 1.992 0 1.258.617 1.992.625.727 1.688.727 1.062 0 1.68-.727.624-.734.624-1.992 0-1.266-.625-1.992-.617-.727-1.68-.727zm3.133-4.945v1.437q-.594-.28-1.204-.43-.601-.148-1.195-.148-1.562 0-2.39 1.055-.82 1.055-.938 3.188.46-.68 1.156-1.04.696-.367 1.531-.367 1.758 0 2.774 1.07 1.023 1.063 1.023 2.899 0 1.797-1.062 2.883-1.063 1.086-2.828 1.086-2.024 0-3.094-1.547-1.07-1.555-1.07-4.5 0-2.766 1.312-4.406 1.313-1.649 3.524-1.649.593 0 1.195.117.61.118 1.266.352z\" /></g><g transform=\"translate(0, 65) scale(0.75, 0.75)\" fill=\"#e5e5e5\" stroke=\"#e5e5e5\"><path d=\"M6.25 16.66h7.5v.672L9.516 28.324H7.867l3.985-10.336H6.25z\" /></g><g transform=\"translate(375, 65) scale(0.75, 0.75)\" fill=\"#e5e5e5\" stroke=\"#e5e5e5\"><path d=\"M6.25 16.66h7.5v.672L9.516 28.324H7.867l3.985-10.336H6.25z\" /></g><g transform=\"translate(0, 20) scale(0.75, 0.75)\" fill=\"#e5e5e5\" stroke=\"#e5e5e5\"><path d=\"M10 22.785q-1.125 0-1.773.602-.641.601-.641 1.656t.64 1.656q.649.602 1.774.602t1.773-.602q.649-.61.649-1.656 0-1.055-.649-1.656-.64-.602-1.773-.602zm-1.578-.672q-1.016-.25-1.586-.945-.563-.695-.563-1.695 0-1.399.993-2.211 1-.813 2.734-.813 1.742 0 2.734.813.993.812.993 2.21 0 1-.57 1.696-.563.695-1.571.945 1.14.266 1.773 1.04.641.773.641 1.89 0 1.695-1.04 2.602-1.03.906-2.96.906t-2.969-.906Q6 26.738 6 25.043q0-1.117.64-1.89.641-.774 1.782-1.04zm-.578-2.492q0 .906.562 1.414.57.508 1.594.508 1.016 0 1.586-.508.578-.508.578-1.414 0-.906-.578-1.414-.57-.508-1.586-.508-1.023 0-1.594.508-.562.508-.562 1.414z\" /></g><g transform=\"translate(375, 20) scale(0.75, 0.75)\" fill=\"#e5e5e5\" stroke=\"#e5e5e5\"><path d=\"M10 22.785q-1.125 0-1.773.602-.641.601-.641 1.656t.64 1.656q.649.602 1.774.602t1.773-.602q.649-.61.649-1.656 0-1.055-.649-1.656-.64-.602-1.773-.602zm-1.578-.672q-1.016-.25-1.586-.945-.563-.695-.563-1.695 0-1.399.993-2.211 1-.813 2.734-.813 1.742 0 2.734.813.993.812.993 2.21 0 1-.57 1.696-.563.695-1.571.945 1.14.266 1.773 1.04.641.773.641 1.89 0 1.695-1.04 2.602-1.03.906-2.96.906t-2.969-.906Q6 26.738 6 25.043q0-1.117.64-1.89.641-.774 1.782-1.04zm-.578-2.492q0 .906.562 1.414.57.508 1.594.508 1.016 0 1.586-.508.578-.508.578-1.414 0-.906-.578-1.414-.57-.508-1.586-.508-1.023 0-1.594.508-.562.508-.562 1.414z\" /></g><rect x=\"15\" y=\"330\" width=\"45\" height=\"45\" class=\"square dark a1\" stroke=\"none\" fill=\"#d18b47\" /><rect x=\"60\" y=\"330\" width=\"45\" height=\"45\" class=\"square light b1\" stroke=\"none\" fill=\"#ffce9e\" /><rect x=\"105\" y=\"330\" width=\"45\" height=\"45\" class=\"square dark c1\" stroke=\"none\" fill=\"#d18b47\" /><rect x=\"150\" y=\"330\" width=\"45\" height=\"45\" class=\"square light d1\" stroke=\"none\" fill=\"#ffce9e\" /><rect x=\"195\" y=\"330\" width=\"45\" height=\"45\" class=\"square dark e1\" stroke=\"none\" fill=\"#d18b47\" /><rect x=\"240\" y=\"330\" width=\"45\" height=\"45\" class=\"square light f1\" stroke=\"none\" fill=\"#ffce9e\" /><rect x=\"285\" y=\"330\" width=\"45\" height=\"45\" class=\"square dark g1\" stroke=\"none\" fill=\"#d18b47\" /><rect x=\"330\" y=\"330\" width=\"45\" height=\"45\" class=\"square light h1\" stroke=\"none\" fill=\"#ffce9e\" /><rect x=\"15\" y=\"285\" width=\"45\" height=\"45\" class=\"square light a2\" stroke=\"none\" fill=\"#ffce9e\" /><rect x=\"60\" y=\"285\" width=\"45\" height=\"45\" class=\"square dark b2\" stroke=\"none\" fill=\"#d18b47\" /><rect x=\"105\" y=\"285\" width=\"45\" height=\"45\" class=\"square light c2\" stroke=\"none\" fill=\"#ffce9e\" /><rect x=\"150\" y=\"285\" width=\"45\" height=\"45\" class=\"square dark d2\" stroke=\"none\" fill=\"#d18b47\" /><rect x=\"195\" y=\"285\" width=\"45\" height=\"45\" class=\"square light e2\" stroke=\"none\" fill=\"#ffce9e\" /><rect x=\"240\" y=\"285\" width=\"45\" height=\"45\" class=\"square dark f2\" stroke=\"none\" fill=\"#d18b47\" /><rect x=\"285\" y=\"285\" width=\"45\" height=\"45\" class=\"square light g2\" stroke=\"none\" fill=\"#ffce9e\" /><rect x=\"330\" y=\"285\" width=\"45\" height=\"45\" class=\"square dark h2\" stroke=\"none\" fill=\"#d18b47\" /><rect x=\"15\" y=\"240\" width=\"45\" height=\"45\" class=\"square dark a3\" stroke=\"none\" fill=\"#d18b47\" /><rect x=\"60\" y=\"240\" width=\"45\" height=\"45\" class=\"square light b3\" stroke=\"none\" fill=\"#ffce9e\" /><rect x=\"105\" y=\"240\" width=\"45\" height=\"45\" class=\"square dark c3\" stroke=\"none\" fill=\"#d18b47\" /><rect x=\"150\" y=\"240\" width=\"45\" height=\"45\" class=\"square light d3\" stroke=\"none\" fill=\"#ffce9e\" /><rect x=\"195\" y=\"240\" width=\"45\" height=\"45\" class=\"square dark e3\" stroke=\"none\" fill=\"#d18b47\" /><rect x=\"240\" y=\"240\" width=\"45\" height=\"45\" class=\"square light f3\" stroke=\"none\" fill=\"#ffce9e\" /><rect x=\"285\" y=\"240\" width=\"45\" height=\"45\" class=\"square dark g3\" stroke=\"none\" fill=\"#d18b47\" /><rect x=\"330\" y=\"240\" width=\"45\" height=\"45\" class=\"square light h3\" stroke=\"none\" fill=\"#ffce9e\" /><rect x=\"15\" y=\"195\" width=\"45\" height=\"45\" class=\"square light a4\" stroke=\"none\" fill=\"#ffce9e\" /><rect x=\"60\" y=\"195\" width=\"45\" height=\"45\" class=\"square dark b4\" stroke=\"none\" fill=\"#d18b47\" /><rect x=\"105\" y=\"195\" width=\"45\" height=\"45\" class=\"square light c4\" stroke=\"none\" fill=\"#ffce9e\" /><rect x=\"150\" y=\"195\" width=\"45\" height=\"45\" class=\"square dark d4\" stroke=\"none\" fill=\"#d18b47\" /><rect x=\"195\" y=\"195\" width=\"45\" height=\"45\" class=\"square light e4\" stroke=\"none\" fill=\"#ffce9e\" /><rect x=\"240\" y=\"195\" width=\"45\" height=\"45\" class=\"square dark f4\" stroke=\"none\" fill=\"#d18b47\" /><rect x=\"285\" y=\"195\" width=\"45\" height=\"45\" class=\"square light g4\" stroke=\"none\" fill=\"#ffce9e\" /><rect x=\"330\" y=\"195\" width=\"45\" height=\"45\" class=\"square dark h4\" stroke=\"none\" fill=\"#d18b47\" /><rect x=\"15\" y=\"150\" width=\"45\" height=\"45\" class=\"square dark a5\" stroke=\"none\" fill=\"#d18b47\" /><rect x=\"60\" y=\"150\" width=\"45\" height=\"45\" class=\"square light b5\" stroke=\"none\" fill=\"#ffce9e\" /><rect x=\"105\" y=\"150\" width=\"45\" height=\"45\" class=\"square dark c5\" stroke=\"none\" fill=\"#d18b47\" /><rect x=\"150\" y=\"150\" width=\"45\" height=\"45\" class=\"square light d5\" stroke=\"none\" fill=\"#ffce9e\" /><rect x=\"195\" y=\"150\" width=\"45\" height=\"45\" class=\"square dark e5\" stroke=\"none\" fill=\"#d18b47\" /><rect x=\"240\" y=\"150\" width=\"45\" height=\"45\" class=\"square light f5\" stroke=\"none\" fill=\"#ffce9e\" /><rect x=\"285\" y=\"150\" width=\"45\" height=\"45\" class=\"square dark g5\" stroke=\"none\" fill=\"#d18b47\" /><rect x=\"330\" y=\"150\" width=\"45\" height=\"45\" class=\"square light h5\" stroke=\"none\" fill=\"#ffce9e\" /><rect x=\"15\" y=\"105\" width=\"45\" height=\"45\" class=\"square light a6\" stroke=\"none\" fill=\"#ffce9e\" /><rect x=\"60\" y=\"105\" width=\"45\" height=\"45\" class=\"square dark b6\" stroke=\"none\" fill=\"#d18b47\" /><rect x=\"105\" y=\"105\" width=\"45\" height=\"45\" class=\"square light c6\" stroke=\"none\" fill=\"#ffce9e\" /><rect x=\"150\" y=\"105\" width=\"45\" height=\"45\" class=\"square dark d6\" stroke=\"none\" fill=\"#d18b47\" /><rect x=\"195\" y=\"105\" width=\"45\" height=\"45\" class=\"square light e6\" stroke=\"none\" fill=\"#ffce9e\" /><rect x=\"240\" y=\"105\" width=\"45\" height=\"45\" class=\"square dark f6\" stroke=\"none\" fill=\"#d18b47\" /><rect x=\"285\" y=\"105\" width=\"45\" height=\"45\" class=\"square light g6\" stroke=\"none\" fill=\"#ffce9e\" /><rect x=\"330\" y=\"105\" width=\"45\" height=\"45\" class=\"square dark h6\" stroke=\"none\" fill=\"#d18b47\" /><rect x=\"15\" y=\"60\" width=\"45\" height=\"45\" class=\"square dark a7\" stroke=\"none\" fill=\"#d18b47\" /><rect x=\"60\" y=\"60\" width=\"45\" height=\"45\" class=\"square light b7\" stroke=\"none\" fill=\"#ffce9e\" /><rect x=\"105\" y=\"60\" width=\"45\" height=\"45\" class=\"square dark c7\" stroke=\"none\" fill=\"#d18b47\" /><rect x=\"150\" y=\"60\" width=\"45\" height=\"45\" class=\"square light d7\" stroke=\"none\" fill=\"#ffce9e\" /><rect x=\"195\" y=\"60\" width=\"45\" height=\"45\" class=\"square dark e7\" stroke=\"none\" fill=\"#d18b47\" /><rect x=\"240\" y=\"60\" width=\"45\" height=\"45\" class=\"square light f7\" stroke=\"none\" fill=\"#ffce9e\" /><rect x=\"285\" y=\"60\" width=\"45\" height=\"45\" class=\"square dark g7\" stroke=\"none\" fill=\"#d18b47\" /><rect x=\"330\" y=\"60\" width=\"45\" height=\"45\" class=\"square light h7\" stroke=\"none\" fill=\"#ffce9e\" /><rect x=\"15\" y=\"15\" width=\"45\" height=\"45\" class=\"square light a8\" stroke=\"none\" fill=\"#ffce9e\" /><rect x=\"60\" y=\"15\" width=\"45\" height=\"45\" class=\"square dark b8\" stroke=\"none\" fill=\"#d18b47\" /><rect x=\"105\" y=\"15\" width=\"45\" height=\"45\" class=\"square light c8\" stroke=\"none\" fill=\"#ffce9e\" /><rect x=\"150\" y=\"15\" width=\"45\" height=\"45\" class=\"square dark d8\" stroke=\"none\" fill=\"#d18b47\" /><rect x=\"195\" y=\"15\" width=\"45\" height=\"45\" class=\"square light e8\" stroke=\"none\" fill=\"#ffce9e\" /><rect x=\"240\" y=\"15\" width=\"45\" height=\"45\" class=\"square dark f8\" stroke=\"none\" fill=\"#d18b47\" /><rect x=\"285\" y=\"15\" width=\"45\" height=\"45\" class=\"square light g8\" stroke=\"none\" fill=\"#ffce9e\" /><rect x=\"330\" y=\"15\" width=\"45\" height=\"45\" class=\"square dark h8\" stroke=\"none\" fill=\"#d18b47\" /><use href=\"#white-king\" xlink:href=\"#white-king\" transform=\"translate(60, 330)\" /><use href=\"#white-rook\" xlink:href=\"#white-rook\" transform=\"translate(105, 330)\" /><use href=\"#white-queen\" xlink:href=\"#white-queen\" transform=\"translate(195, 330)\" /><use href=\"#white-bishop\" xlink:href=\"#white-bishop\" transform=\"translate(240, 330)\" /><use href=\"#white-rook\" xlink:href=\"#white-rook\" transform=\"translate(330, 330)\" /><use href=\"#white-pawn\" xlink:href=\"#white-pawn\" transform=\"translate(15, 285)\" /><use href=\"#white-pawn\" xlink:href=\"#white-pawn\" transform=\"translate(60, 285)\" /><use href=\"#white-pawn\" xlink:href=\"#white-pawn\" transform=\"translate(105, 285)\" /><use href=\"#white-pawn\" xlink:href=\"#white-pawn\" transform=\"translate(240, 285)\" /><use href=\"#white-pawn\" xlink:href=\"#white-pawn\" transform=\"translate(285, 285)\" /><use href=\"#white-pawn\" xlink:href=\"#white-pawn\" transform=\"translate(330, 285)\" /><use href=\"#white-knight\" xlink:href=\"#white-knight\" transform=\"translate(105, 240)\" /><use href=\"#white-pawn\" xlink:href=\"#white-pawn\" transform=\"translate(195, 240)\" /><use href=\"#black-bishop\" xlink:href=\"#black-bishop\" transform=\"translate(60, 195)\" /><use href=\"#white-pawn\" xlink:href=\"#white-pawn\" transform=\"translate(150, 195)\" /><use href=\"#white-bishop\" xlink:href=\"#white-bishop\" transform=\"translate(240, 195)\" /><use href=\"#white-knight\" xlink:href=\"#white-knight\" transform=\"translate(330, 195)\" /><use href=\"#black-pawn\" xlink:href=\"#black-pawn\" transform=\"translate(150, 150)\" /><use href=\"#black-knight\" xlink:href=\"#black-knight\" transform=\"translate(105, 105)\" /><use href=\"#black-pawn\" xlink:href=\"#black-pawn\" transform=\"translate(195, 105)\" /><use href=\"#black-pawn\" xlink:href=\"#black-pawn\" transform=\"translate(240, 105)\" /><use href=\"#black-bishop\" xlink:href=\"#black-bishop\" transform=\"translate(285, 105)\" /><use href=\"#black-pawn\" xlink:href=\"#black-pawn\" transform=\"translate(15, 60)\" /><use href=\"#black-pawn\" xlink:href=\"#black-pawn\" transform=\"translate(60, 60)\" /><use href=\"#black-pawn\" xlink:href=\"#black-pawn\" transform=\"translate(105, 60)\" /><use href=\"#black-pawn\" xlink:href=\"#black-pawn\" transform=\"translate(285, 60)\" /><use href=\"#black-pawn\" xlink:href=\"#black-pawn\" transform=\"translate(330, 60)\" /><use href=\"#black-king\" xlink:href=\"#black-king\" transform=\"translate(60, 15)\" /><use href=\"#black-rook\" xlink:href=\"#black-rook\" transform=\"translate(105, 15)\" /><use href=\"#black-queen\" xlink:href=\"#black-queen\" transform=\"translate(195, 15)\" /><use href=\"#black-knight\" xlink:href=\"#black-knight\" transform=\"translate(285, 15)\" /><use href=\"#black-rook\" xlink:href=\"#black-rook\" transform=\"translate(330, 15)\" /></svg>"
     },
     "execution_count": 34,
     "metadata": {},
     "output_type": "execute_result"
    }
   ],
   "source": [
    "pgn = open(\"data/raw/lichess_db_standard_rated_2013-01.pgn\")\n",
    "failures = 0\n",
    "for i in tqdm(range(7)):\n",
    "    game = chess.pgn.read_game(pgn)\n",
    "    board = game.board()\n",
    "    state, player_move = get_board_after_n(game, 15)\n",
    "    if not state.turn:\n",
    "        state = state.transform(chess.flip_horizontal)\n",
    "        state.apply_mirror()\n",
    "    player_move = sunfish_move_to_str(player_move)\n",
    "    sf_state = board2sunfish(state, 0)\n",
    "\n",
    "move, best_moves, move_dict = sunfish_move(sf_state, pst, time_limit=200, max_depth=3, move_only=False)\n",
    "print(f'Sunfish best move: {sunfish_move_to_str(move)}')\n",
    "print(f'Sunfish moves: {top_k_moves(move_dict, 5)}')\n",
    "print(f'Player move: {player_move}')\n",
    "\n",
    "state"
   ],
   "metadata": {
    "collapsed": false,
    "ExecuteTime": {
     "end_time": "2024-04-29T08:04:03.099175800Z",
     "start_time": "2024-04-29T08:04:02.793425800Z"
    }
   },
   "id": "4c7712625297b11a",
   "execution_count": 34
  },
  {
   "cell_type": "code",
   "outputs": [
    {
     "name": "stdout",
     "output_type": "stream",
     "text": [
      "h4g6 25\n",
      "f1d3 29\n"
     ]
    },
    {
     "data": {
      "text/plain": "[None, None]"
     },
     "execution_count": 39,
     "metadata": {},
     "output_type": "execute_result"
    }
   ],
   "source": [
    "[print(sunfish_move_to_str(move), score) for move, score in best_moves.items()]"
   ],
   "metadata": {
    "collapsed": false,
    "ExecuteTime": {
     "end_time": "2024-04-29T08:05:39.187984900Z",
     "start_time": "2024-04-29T08:05:39.140897800Z"
    }
   },
   "id": "2f9ebfbd6dc14095",
   "execution_count": 39
  },
  {
   "cell_type": "code",
   "outputs": [
    {
     "name": "stdout",
     "output_type": "stream",
     "text": [
      "h4g6 [25, 407, 407, 155, 155, 25, 25, 25, 25, 25, 25, 25, 25, 25, 25, 57, 155, 155, 155, 155, 57, 57, 57, 57, 57, 57]\n",
      "c3d5 [130, -270, -270, -270, -270, -270, -270, -270, -270, -270, -270, -270, -270]\n",
      "f4c7 [-70, -70, -70, -70, -70, -70, -70, 182, 182, -70, -70, -70]\n",
      "h4f5 [41, -171, -171, -171, -171, -171, -171, -171, -171, -171, -171, -171]\n",
      "f1c4 [32, -169, -169, -169, -169, -169, 108, 108, 108, -169, -169]\n",
      "f1b5 [23, 23, 23, 23, 23, 386, 153, 85, 85, 64]\n",
      "f1d3 [29, 36, 36, 36, 36, 36, 36, 36, 36, 32, 32, 32, 32, 32, 32]\n",
      "f4d6 [67, 67, -185, -185, 67, 67, 67, 67, 67]\n",
      "c1d1 [162, 83, 41, 41, 407, 130, 105, 41, 41]\n",
      "f1e2 [161, 82, 40, 40, 406, 129, 104, 40, 40]\n",
      "e1d1 [157, 82, 36, 36, 402, 125, 100, 36, 36]\n",
      "e1e2 [155, 80, 34, 34, 400, 123, 98, 34, 34]\n",
      "e3e4 [155, 76, 55, 23, 155, 155, 76, 76, 55]\n",
      "h4f3 [75, 75, -8, -8, 122, 122, 97, 24, 24]\n",
      "e1d2 [151, 60, 30, 30, 396, 119, 119, 30, 30]\n",
      "h2h3 [151, 72, 30, 30, 396, 119, 119, 30, 30]\n",
      "f2f3 [151, 72, 30, 30, 396, 119, 119, 30, 30]\n",
      "c3b5 [-389, -389, -389, -389, -389, -389, -389, -389, -389]\n",
      "f4e5 [65, 65, -11, -11, 65, 65, 65, 65, 65]\n",
      "a2a3 [148, 69, 45, 41, 423, 146, 57, 57, 57]\n",
      "c3e4 [-391, -391, -391, -391, -391, -391, -391, -391, -391]\n",
      "f1a6 [124, -128, -128, -128, 124, 124, -128, -128, -128]\n",
      "a2a4 [144, 65, 23, 23, 389, 112, 112, 87, 23]\n",
      "f4g3 [143, 64, 22, 22, 388, 111, 111, 82, 22]\n",
      "h1g1 [140, 61, 19, 19, 385, 108, 108, 83, 19]\n",
      "b2b3 [140, 61, 19, 19, 385, 108, 108, 83, 19]\n",
      "g2g3 [139, 60, 18, 18, 384, 107, 107, 82, 18]\n",
      "f4g5 [73, 73, -179, -179, 73, 73, 73, 73, -179]\n",
      "g2g4 [136, 57, 15, 15, 381, 104, 104, 79, 15]\n",
      "c3e2 [-411, -411, -411, -411, -411, -411, -411, -411, -411]\n",
      "b1a1 [126, 47, 47, 5, 371, 94, 94, 69, 69]\n",
      "c3a4 [-414, -414, -414, -414, -414, -414, -414, -414, -414]\n",
      "f4h6 [66, 66, -186, -186, 66, 66, 66, 66, 66]\n",
      "c3d1 [-437, -437, -437, -437, -437, -437, -437, -437, -437]\n"
     ]
    },
    {
     "data": {
      "text/plain": "[None,\n None,\n None,\n None,\n None,\n None,\n None,\n None,\n None,\n None,\n None,\n None,\n None,\n None,\n None,\n None,\n None,\n None,\n None,\n None,\n None,\n None,\n None,\n None,\n None,\n None,\n None,\n None,\n None,\n None,\n None,\n None,\n None,\n None]"
     },
     "execution_count": 46,
     "metadata": {},
     "output_type": "execute_result"
    }
   ],
   "source": [
    "[print(sunfish_move_to_str(move), scores) for move, scores in move_dict.items()]"
   ],
   "metadata": {
    "collapsed": false,
    "ExecuteTime": {
     "end_time": "2024-04-29T08:13:07.535429100Z",
     "start_time": "2024-04-29T08:13:07.507854900Z"
    }
   },
   "id": "924696f4623de018",
   "execution_count": 46
  },
  {
   "cell_type": "code",
   "outputs": [
    {
     "name": "stderr",
     "output_type": "stream",
     "text": [
      "Iterating through states:   0%|          | 0/100 [00:00<?, ?it/s]\n"
     ]
    },
    {
     "ename": "NameError",
     "evalue": "name 'top_k_moves' is not defined",
     "output_type": "error",
     "traceback": [
      "\u001B[1;31m---------------------------------------------------------------------------\u001B[0m",
      "\u001B[1;31mNameError\u001B[0m                                 Traceback (most recent call last)",
      "Cell \u001B[1;32mIn[7], line 13\u001B[0m\n\u001B[0;32m     11\u001B[0m     \u001B[38;5;28;01mfor\u001B[39;00m i, depth \u001B[38;5;129;01min\u001B[39;00m \u001B[38;5;28menumerate\u001B[39m(depths):\n\u001B[0;32m     12\u001B[0m         move, best_moves, move_dict \u001B[38;5;241m=\u001B[39m sunfish_move(sf_state, pst, time_limit\u001B[38;5;241m=\u001B[39m\u001B[38;5;241m200\u001B[39m, max_depth\u001B[38;5;241m=\u001B[39mdepth, move_only\u001B[38;5;241m=\u001B[39m\u001B[38;5;28;01mFalse\u001B[39;00m)\n\u001B[1;32m---> 13\u001B[0m         top_5_moves \u001B[38;5;241m=\u001B[39m \u001B[43mtop_k_moves\u001B[49m(move_dict, \u001B[38;5;241m5\u001B[39m)\n\u001B[0;32m     14\u001B[0m         depth_scores[i] \u001B[38;5;241m+\u001B[39m\u001B[38;5;241m=\u001B[39m player_move \u001B[38;5;129;01min\u001B[39;00m top_5_moves\n\u001B[0;32m     15\u001B[0m \u001B[38;5;28mprint\u001B[39m(depth_scores)\n",
      "\u001B[1;31mNameError\u001B[0m: name 'top_k_moves' is not defined"
     ]
    }
   ],
   "source": [
    "pgn = open(\"data/raw/lichess_db_standard_rated_2013-01.pgn\")\n",
    "failures = 0\n",
    "depths = [1,2,3,4,5,6]\n",
    "depth_scores = [0] * len(depths)\n",
    "for i in tqdm(range(100), desc='Iterating through states'):\n",
    "    game = chess.pgn.read_game(pgn)\n",
    "    board = game.board()\n",
    "    state, player_move = get_board_after_n(game, 15)\n",
    "    sf_state = board2sunfish(state, 300)\n",
    "    player_move = sunfish_move_to_str(player_move)\n",
    "    for i, depth in enumerate(depths):\n",
    "        move, best_moves, move_dict = sunfish_move(sf_state, pst, time_limit=200, max_depth=depth, move_only=False)\n",
    "        top_5_moves = top_k_moves(move_dict, 5)\n",
    "        depth_scores[i] += player_move in top_5_moves\n",
    "print(depth_scores)"
   ],
   "metadata": {
    "collapsed": false,
    "ExecuteTime": {
     "end_time": "2024-04-26T07:30:38.102792200Z",
     "start_time": "2024-04-26T07:30:37.696013700Z"
    }
   },
   "id": "ac7da961a2f6346d",
   "execution_count": 7
  },
  {
   "cell_type": "code",
   "outputs": [
    {
     "name": "stderr",
     "output_type": "stream",
     "text": [
      "Iterating through states: 100%|██████████| 5000/5000 [00:14<00:00, 342.54it/s]\n"
     ]
    }
   ],
   "source": [
    "pgn = open(\"data/raw/lichess_db_standard_rated_2014-01.pgn\")\n",
    "elos = []\n",
    "for i in tqdm(range(5000), desc='Iterating through states'):\n",
    "    game = chess.pgn.read_game(pgn)\n",
    "    try:\n",
    "        elos.append(int(game.headers['WhiteElo']))\n",
    "    except ValueError:\n",
    "        continue\n",
    "elos = np.array(elos)"
   ],
   "metadata": {
    "collapsed": false,
    "ExecuteTime": {
     "end_time": "2024-04-19T10:09:22.612296900Z",
     "start_time": "2024-04-19T10:09:07.996781800Z"
    }
   },
   "id": "7737418671b2228b",
   "execution_count": 41
  },
  {
   "cell_type": "code",
   "outputs": [
    {
     "data": {
      "text/plain": "2"
     },
     "execution_count": 42,
     "metadata": {},
     "output_type": "execute_result"
    }
   ],
   "source": [
    "sum(elos<1000)"
   ],
   "metadata": {
    "collapsed": false,
    "ExecuteTime": {
     "end_time": "2024-04-19T10:09:23.468733800Z",
     "start_time": "2024-04-19T10:09:23.443800300Z"
    }
   },
   "id": "cacd6e8a36b7c360",
   "execution_count": 42
  },
  {
   "cell_type": "code",
   "outputs": [
    {
     "data": {
      "text/plain": "500"
     },
     "execution_count": 6,
     "metadata": {},
     "output_type": "execute_result"
    }
   ],
   "source": [
    "len(player_moves_upper)"
   ],
   "metadata": {
    "collapsed": false,
    "ExecuteTime": {
     "end_time": "2024-04-19T11:30:46.548379Z",
     "start_time": "2024-04-19T11:30:46.522380900Z"
    }
   },
   "id": "b718d9955887fe69",
   "execution_count": 6
  },
  {
   "cell_type": "code",
   "outputs": [
    {
     "name": "stderr",
     "output_type": "stream",
     "text": [
      "Iterating through states: 100%|██████████| 100/100 [00:00<00:00, 348.67it/s]\n"
     ]
    }
   ],
   "source": [
    "pgn = open(\"data/raw/lichess_db_standard_rated_2013-01.pgn\")\n",
    "for i in tqdm(range(100), desc='Iterating through states'):\n",
    "    game = chess.pgn.read_game(pgn)\n",
    "    board = game.board()\n",
    "    state, player_move = get_board_after_n(game, 3)"
   ],
   "metadata": {
    "collapsed": false,
    "ExecuteTime": {
     "end_time": "2024-04-19T14:36:29.255417800Z",
     "start_time": "2024-04-19T14:36:28.946640900Z"
    }
   },
   "id": "d871c7a4b6c46152",
   "execution_count": 3
  },
  {
   "cell_type": "code",
   "outputs": [
    {
     "name": "stderr",
     "output_type": "stream",
     "text": [
      "[D:urllib3.connectionpool] Starting new HTTPS connection (%d): %s:%s\n",
      "[D:urllib3.connectionpool] %s://%s:%s \"%s %s %s\" %s %s\n",
      "[D:websockets.client] = connection is CONNECTING\n",
      "[D:websockets.client] > GET %s HTTP/1.1\n",
      "[D:websockets.client] > %s: %s\n",
      "[D:websockets.client] > %s: %s\n",
      "[D:websockets.client] > %s: %s\n",
      "[D:websockets.client] > %s: %s\n",
      "[D:websockets.client] > %s: %s\n",
      "[D:websockets.client] > %s: %s\n",
      "[D:websockets.client] > %s: %s\n",
      "[D:websockets.client] < HTTP/1.1 %d %s\n",
      "[D:websockets.client] < %s: %s\n",
      "[D:websockets.client] < %s: %s\n",
      "[D:websockets.client] < %s: %s\n",
      "[D:websockets.client] < %s: %s\n",
      "[D:websockets.client] = connection is OPEN\n",
      "[D:websockets.client] > %s\n",
      "[D:websockets.client] < %s\n",
      "[D:websockets.client] < %s\n",
      "[D:websockets.client] < %s\n",
      "[D:websockets.client] < %s\n",
      "[D:websockets.client] > %s\n",
      "[D:websockets.client] < %s\n",
      "[D:websockets.client] < %s\n",
      "[D:websockets.client] < %s\n",
      "[D:websockets.client] > %s\n",
      "[D:websockets.client] < %s\n",
      "[D:websockets.client] < %s\n",
      "[D:websockets.client] < %s\n",
      "[D:websockets.client] > %s\n",
      "[D:websockets.client] < %s\n",
      "[D:websockets.client] < %s\n",
      "[D:websockets.client] > %s\n",
      "[D:websockets.client] < %s\n",
      "[D:websockets.client] < %s\n",
      "[D:websockets.client] > %s\n",
      "[D:websockets.client] > %s\n",
      "[D:websockets.client] > %s\n",
      "[D:websockets.client] > %s\n",
      "[D:websockets.client] > %s\n",
      "[D:websockets.client] > %s\n",
      "[D:websockets.client] > %s\n",
      "[D:websockets.client] < %s\n",
      "[D:websockets.client] < %s\n",
      "[D:websockets.client] < %s\n",
      "[D:websockets.client] < %s\n",
      "[D:websockets.client] < %s\n",
      "[D:websockets.client] < %s\n",
      "[D:websockets.client] < %s\n",
      "[D:websockets.client] < %s\n",
      "[D:websockets.client] < %s\n",
      "[D:websockets.client] < %s\n",
      "[D:websockets.client] < %s\n",
      "[D:websockets.client] < %s\n",
      "[D:websockets.client] < %s\n",
      "[D:websockets.client] < %s\n",
      "[D:websockets.client] < %s\n",
      "[D:websockets.client] < %s\n",
      "[D:websockets.client] < %s\n",
      "[D:websockets.client] < %s\n",
      "[D:websockets.client] < %s\n",
      "[D:websockets.client] < %s\n",
      "[D:websockets.client] < %s\n",
      "[D:websockets.client] > %s\n",
      "[D:websockets.client] < %s\n",
      "[D:websockets.client] < %s\n",
      "[D:websockets.client] > %s\n",
      "[D:websockets.client] < %s\n",
      "[D:websockets.client] < %s\n",
      "[D:websockets.client] > %s\n",
      "[D:websockets.client] < %s\n",
      "[D:websockets.client] < %s\n",
      "[D:websockets.client] < %s\n",
      "[D:websockets.client] < %s\n",
      "[D:websockets.client] < %s\n",
      "[D:websockets.client] < %s\n",
      "[D:websockets.client] < %s\n",
      "[D:websockets.client] < %s\n",
      "[D:websockets.client] < %s\n",
      "[D:websockets.client] < %s\n",
      "[D:websockets.client] < %s\n",
      "[D:websockets.client] < %s\n",
      "[D:websockets.client] < %s\n",
      "[D:websockets.client] < %s\n",
      "[D:websockets.client] < %s\n",
      "[D:websockets.client] < %s\n",
      "[D:websockets.client] < %s\n",
      "[D:websockets.client] < %s\n",
      "[D:websockets.client] < %s\n",
      "[D:websockets.client] < %s\n",
      "[D:websockets.client] < %s\n",
      "[D:websockets.client] < %s\n",
      "[D:websockets.client] < %s\n",
      "[D:websockets.client] < %s\n",
      "[D:websockets.client] < %s\n",
      "[D:websockets.client] < %s\n",
      "[D:websockets.client] < %s\n",
      "[D:websockets.client] < %s\n",
      "[D:websockets.client] < %s\n",
      "[D:websockets.client] < %s\n",
      "[D:websockets.client] < %s\n",
      "[D:websockets.client] < %s\n",
      "[D:websockets.client] < %s\n",
      "[D:websockets.client] < %s\n",
      "[D:websockets.client] < %s\n",
      "[D:websockets.client] < %s\n",
      "[D:websockets.client] < %s\n",
      "[D:websockets.client] < %s\n",
      "[D:websockets.client] < %s\n",
      "[D:websockets.client] < %s\n",
      "[D:websockets.client] < %s\n",
      "[D:websockets.client] < %s\n",
      "[D:websockets.client] < %s\n",
      "[D:websockets.client] < %s\n",
      "[D:websockets.client] < %s\n",
      "[D:websockets.client] < %s\n",
      "[D:websockets.client] < %s\n",
      "[D:websockets.client] < %s\n",
      "[D:websockets.client] < %s\n",
      "[D:websockets.client] < %s\n",
      "[D:websockets.client] < %s\n",
      "[D:websockets.client] < %s\n",
      "[D:websockets.client] < %s\n",
      "[D:websockets.client] < %s\n",
      "[D:websockets.client] < %s\n",
      "[D:websockets.client] < %s\n",
      "[D:websockets.client] < %s\n",
      "[D:websockets.client] < %s\n",
      "[D:websockets.client] < %s\n",
      "[D:websockets.client] < %s\n",
      "[D:websockets.client] < %s\n",
      "[D:websockets.client] < %s\n",
      "[D:websockets.client] < %s\n",
      "[D:websockets.client] < %s\n",
      "[D:websockets.client] < %s\n",
      "[D:websockets.client] < %s\n",
      "[D:websockets.client] < %s\n",
      "[D:websockets.client] < %s\n",
      "[D:websockets.client] < %s\n",
      "[D:websockets.client] < %s\n",
      "[D:websockets.client] < %s\n",
      "[D:websockets.client] < %s\n",
      "[D:websockets.client] < %s\n",
      "[D:websockets.client] < %s\n",
      "[D:websockets.client] < %s\n",
      "[D:websockets.client] < %s\n",
      "[D:websockets.client] < %s\n",
      "[D:websockets.client] < %s\n",
      "[D:websockets.client] < %s\n",
      "[D:websockets.client] < %s\n",
      "[D:websockets.client] < %s\n",
      "[D:websockets.client] < %s\n",
      "[D:websockets.client] < %s\n",
      "[D:websockets.client] < %s\n",
      "[D:websockets.client] < %s\n",
      "[D:websockets.client] < %s\n",
      "[D:websockets.client] < %s\n",
      "[D:websockets.client] < %s\n",
      "[D:websockets.client] < %s\n",
      "[D:websockets.client] < %s\n",
      "[D:websockets.client] < %s\n",
      "[D:websockets.client] < %s\n",
      "[D:websockets.client] < %s\n",
      "[D:websockets.client] < %s\n",
      "[D:websockets.client] < %s\n",
      "[D:websockets.client] < %s\n",
      "[D:websockets.client] < %s\n",
      "[D:websockets.client] < %s\n",
      "[D:websockets.client] < %s\n",
      "[D:websockets.client] < %s\n",
      "[D:websockets.client] < %s\n",
      "[D:websockets.client] < %s\n",
      "[D:websockets.client] < %s\n",
      "[D:websockets.client] < %s\n",
      "[D:websockets.client] < %s\n",
      "[D:websockets.client] < %s\n",
      "[D:websockets.client] < %s\n",
      "[D:websockets.client] < %s\n",
      "[D:websockets.client] < %s\n",
      "[D:websockets.client] < %s\n",
      "[D:websockets.client] < %s\n",
      "[D:websockets.client] < %s\n",
      "[D:websockets.client] < %s\n",
      "[D:websockets.client] < %s\n",
      "[D:websockets.client] < %s\n",
      "[D:websockets.client] < %s\n",
      "[D:websockets.client] < %s\n",
      "[D:websockets.client] < %s\n",
      "[D:websockets.client] < %s\n",
      "[D:websockets.client] < %s\n",
      "[D:websockets.client] < %s\n",
      "[D:websockets.client] < %s\n",
      "[D:websockets.client] < %s\n",
      "[D:websockets.client] < %s\n",
      "[D:websockets.client] < %s\n",
      "[D:websockets.client] < %s\n",
      "[D:websockets.client] < %s\n",
      "[D:websockets.client] < %s\n",
      "[D:websockets.client] < %s\n",
      "[D:websockets.client] < %s\n",
      "[D:websockets.client] < %s\n",
      "[D:websockets.client] < %s\n",
      "[D:websockets.client] < %s\n",
      "[D:websockets.client] < %s\n",
      "[D:websockets.client] < %s\n",
      "[D:websockets.client] < %s\n",
      "[D:websockets.client] < %s\n",
      "[D:websockets.client] < %s\n",
      "[D:websockets.client] < %s\n",
      "[D:websockets.client] < %s\n",
      "[D:websockets.client] < %s\n",
      "[D:websockets.client] < %s\n",
      "[D:websockets.client] < %s\n",
      "[D:websockets.client] < %s\n",
      "[D:websockets.client] < %s\n",
      "[D:websockets.client] < %s\n",
      "[D:websockets.client] < %s\n",
      "[D:websockets.client] < %s\n",
      "[D:websockets.client] < %s\n",
      "[D:websockets.client] < %s\n",
      "[D:websockets.client] < %s\n",
      "[D:websockets.client] < %s\n",
      "[D:websockets.client] < %s\n",
      "[D:websockets.client] < %s\n",
      "[D:websockets.client] < %s\n",
      "[D:websockets.client] < %s\n",
      "[D:websockets.client] < %s\n",
      "[D:websockets.client] < %s\n",
      "[D:websockets.client] < %s\n",
      "[D:websockets.client] < %s\n",
      "[D:websockets.client] < %s\n",
      "[D:websockets.client] < %s\n",
      "[D:websockets.client] < %s\n",
      "[D:websockets.client] < %s\n",
      "[D:websockets.client] < %s\n",
      "[D:websockets.client] < %s\n",
      "[D:websockets.client] < %s\n",
      "[D:websockets.client] < %s\n",
      "[D:websockets.client] < %s\n",
      "[D:websockets.client] < %s\n",
      "[D:websockets.client] < %s\n",
      "[D:websockets.client] < %s\n",
      "[D:websockets.client] < %s\n",
      "[D:websockets.client] < %s\n",
      "[D:websockets.client] < %s\n",
      "[D:websockets.client] < %s\n",
      "[D:websockets.client] < %s\n",
      "[D:websockets.client] < %s\n",
      "[D:websockets.client] < %s\n",
      "[D:websockets.client] < %s\n",
      "[D:websockets.client] < %s\n",
      "[D:websockets.client] < %s\n",
      "[D:websockets.client] < %s\n",
      "[D:websockets.client] < %s\n",
      "[D:websockets.client] < %s\n",
      "[D:websockets.client] < %s\n",
      "[D:websockets.client] < %s\n",
      "[D:websockets.client] < %s\n",
      "[D:websockets.client] < %s\n",
      "[D:websockets.client] < %s\n",
      "[D:websockets.client] < %s\n",
      "[D:websockets.client] < %s\n",
      "[D:websockets.client] < %s\n",
      "[D:websockets.client] < %s\n",
      "[D:websockets.client] < %s\n",
      "[D:websockets.client] < %s\n",
      "[D:websockets.client] < %s\n",
      "[D:websockets.client] < %s\n",
      "[D:websockets.client] < %s\n",
      "[D:websockets.client] < %s\n",
      "[D:websockets.client] < %s\n",
      "[D:websockets.client] < %s\n",
      "[D:websockets.client] < %s\n",
      "[D:websockets.client] < %s\n",
      "[D:websockets.client] < %s\n",
      "[D:websockets.client] < %s\n",
      "[D:websockets.client] < %s\n",
      "[D:websockets.client] < %s\n",
      "[D:websockets.client] < %s\n",
      "[D:websockets.client] < %s\n",
      "[D:websockets.client] < %s\n",
      "[D:websockets.client] < %s\n",
      "[D:websockets.client] < %s\n",
      "[D:websockets.client] < %s\n",
      "[D:websockets.client] < %s\n",
      "[D:websockets.client] < %s\n",
      "[D:websockets.client] < %s\n",
      "[D:websockets.client] < %s\n",
      "[D:websockets.client] < %s\n",
      "[D:websockets.client] < %s\n",
      "[D:websockets.client] < %s\n",
      "[D:websockets.client] < %s\n",
      "[D:websockets.client] < %s\n",
      "[D:websockets.client] < %s\n",
      "[D:websockets.client] < %s\n",
      "[D:websockets.client] < %s\n",
      "[D:websockets.client] < %s\n",
      "[D:websockets.client] < %s\n",
      "[D:websockets.client] < %s\n",
      "[D:websockets.client] < %s\n",
      "[D:websockets.client] < %s\n",
      "[D:websockets.client] < %s\n",
      "[D:websockets.client] < %s\n",
      "[D:websockets.client] < %s\n",
      "[D:websockets.client] < %s\n",
      "[D:websockets.client] < %s\n",
      "[D:websockets.client] < %s\n",
      "[D:websockets.client] < %s\n",
      "[D:websockets.client] < %s\n",
      "[D:websockets.client] < %s\n",
      "[D:websockets.client] < %s\n",
      "[D:websockets.client] < %s\n",
      "[D:websockets.client] < %s\n",
      "[D:websockets.client] < %s\n",
      "[D:websockets.client] < %s\n",
      "[D:websockets.client] < %s\n",
      "[D:websockets.client] < %s\n",
      "[D:websockets.client] < %s\n",
      "[D:websockets.client] < %s\n",
      "[D:websockets.client] < %s\n",
      "[D:websockets.client] < %s\n",
      "[D:websockets.client] < %s\n",
      "[D:websockets.client] < %s\n",
      "[D:websockets.client] < %s\n",
      "[D:websockets.client] < %s\n",
      "[D:websockets.client] < %s\n",
      "[D:websockets.client] < %s\n",
      "[D:websockets.client] < %s\n",
      "[D:websockets.client] < %s\n",
      "[D:websockets.client] < %s\n",
      "[D:websockets.client] < %s\n",
      "[D:websockets.client] < %s\n",
      "[D:websockets.client] < %s\n",
      "[D:websockets.client] < %s\n",
      "[D:websockets.client] < %s\n",
      "[D:websockets.client] < %s\n",
      "[D:websockets.client] < %s\n",
      "[D:websockets.client] < %s\n",
      "[D:websockets.client] < %s\n",
      "[D:websockets.client] < %s\n",
      "[D:websockets.client] < %s\n",
      "[D:websockets.client] < %s\n",
      "[D:websockets.client] < %s\n",
      "[D:websockets.client] < %s\n",
      "[D:websockets.client] < %s\n",
      "[D:websockets.client] < %s\n",
      "[D:websockets.client] < %s\n",
      "[D:websockets.client] < %s\n",
      "[D:websockets.client] > %s\n",
      "[D:websockets.client] < %s\n",
      "[D:websockets.client] < %s\n",
      "[D:websockets.client] < %s\n",
      "[D:websockets.client] < %s\n",
      "[D:websockets.client] < %s\n",
      "[D:websockets.client] < %s\n",
      "[D:websockets.client] < %s\n",
      "[D:websockets.client] < %s\n",
      "[D:websockets.client] < %s\n",
      "[D:websockets.client] < %s\n",
      "[D:websockets.client] < %s\n",
      "[D:websockets.client] < %s\n",
      "[D:websockets.client] < %s\n",
      "[D:websockets.client] < %s\n",
      "[D:websockets.client] < %s\n",
      "[D:websockets.client] < %s\n",
      "[D:websockets.client] < %s\n",
      "[D:websockets.client] < %s\n",
      "[D:websockets.client] < %s\n",
      "[D:websockets.client] < %s\n",
      "[D:websockets.client] < %s\n",
      "[D:websockets.client] < %s\n",
      "[D:websockets.client] < %s\n",
      "[D:websockets.client] < %s\n",
      "[D:websockets.client] < %s\n",
      "[D:websockets.client] < %s\n",
      "[D:websockets.client] < %s\n",
      "[D:websockets.client] < %s\n",
      "[D:websockets.client] < %s\n",
      "[D:websockets.client] < %s\n",
      "[D:websockets.client] < %s\n",
      "[D:websockets.client] < %s\n",
      "[D:websockets.client] < %s\n",
      "[D:websockets.client] < %s\n",
      "[D:websockets.client] < %s\n",
      "[D:websockets.client] < %s\n",
      "[D:websockets.client] < %s\n",
      "[D:websockets.client] < %s\n",
      "[D:websockets.client] < %s\n",
      "[D:websockets.client] < %s\n",
      "[D:websockets.client] < %s\n",
      "[D:websockets.client] < %s\n",
      "[D:websockets.client] < %s\n",
      "[D:websockets.client] < %s\n",
      "[D:websockets.client] < %s\n",
      "[D:websockets.client] < %s\n",
      "[D:websockets.client] < %s\n",
      "[D:websockets.client] < %s\n",
      "[D:websockets.client] < %s\n",
      "[D:websockets.client] < %s\n",
      "[D:websockets.client] < %s\n",
      "[D:websockets.client] < %s\n",
      "[D:websockets.client] < %s\n",
      "[D:websockets.client] < %s\n",
      "[D:websockets.client] < %s\n",
      "[D:websockets.client] < %s\n",
      "[D:websockets.client] < %s\n",
      "[D:websockets.client] < %s\n",
      "[D:websockets.client] < %s\n",
      "[D:websockets.client] < %s\n",
      "[D:websockets.client] < %s\n",
      "[D:websockets.client] < %s\n",
      "[D:websockets.client] < %s\n",
      "[D:websockets.client] < %s\n",
      "[D:websockets.client] < %s\n",
      "[D:websockets.client] < %s\n",
      "[D:websockets.client] < %s\n",
      "[D:websockets.client] < %s\n",
      "[D:websockets.client] < %s\n",
      "[D:websockets.client] < %s\n",
      "[D:websockets.client] < %s\n",
      "[D:websockets.client] < %s\n",
      "[D:websockets.client] < %s\n",
      "[D:websockets.client] < %s\n",
      "[D:websockets.client] < %s\n",
      "[D:websockets.client] < %s\n",
      "[D:websockets.client] < %s\n",
      "[D:websockets.client] < %s\n",
      "[D:websockets.client] < %s\n",
      "[D:websockets.client] < %s\n",
      "[D:websockets.client] < %s\n",
      "[D:websockets.client] < %s\n",
      "[D:websockets.client] < %s\n",
      "[D:websockets.client] < %s\n",
      "[D:websockets.client] < %s\n",
      "[D:websockets.client] < %s\n",
      "[D:websockets.client] > %s\n",
      "[D:websockets.client] < %s\n",
      "[D:websockets.client] < %s\n",
      "[D:websockets.client] < %s\n",
      "[D:websockets.client] < %s\n",
      "[D:websockets.client] < %s\n",
      "[D:websockets.client] < %s\n",
      "[D:websockets.client] > %s\n",
      "[D:websockets.client] < %s\n",
      "[E:asyncio] Future exception was never retrieved\n",
      "future: <Future finished exception=NetworkError('Protocol error Target.detachFromTarget: Target closed.')>\n",
      "pyppeteer.errors.NetworkError: Protocol error Target.detachFromTarget: Target closed.\n"
     ]
    },
    {
     "ename": "RuntimeError",
     "evalue": "Cannot use HTMLSession within an existing event loop. Use AsyncHTMLSession instead.",
     "output_type": "error",
     "traceback": [
      "\u001B[1;31m---------------------------------------------------------------------------\u001B[0m",
      "\u001B[1;31mRuntimeError\u001B[0m                              Traceback (most recent call last)",
      "Cell \u001B[1;32mIn[5], line 17\u001B[0m\n\u001B[0;32m     15\u001B[0m \u001B[38;5;28;01mawait\u001B[39;00m r\u001B[38;5;241m.\u001B[39mhtml\u001B[38;5;241m.\u001B[39marender()\n\u001B[0;32m     16\u001B[0m resp\u001B[38;5;241m=\u001B[39mr\u001B[38;5;241m.\u001B[39mhtml\u001B[38;5;241m.\u001B[39mraw_html\n\u001B[1;32m---> 17\u001B[0m \u001B[43mr\u001B[49m\u001B[38;5;241;43m.\u001B[39;49m\u001B[43mhtml\u001B[49m\u001B[38;5;241;43m.\u001B[39;49m\u001B[43mrender\u001B[49m\u001B[43m(\u001B[49m\u001B[43m)\u001B[49m\n\u001B[0;32m     18\u001B[0m soup \u001B[38;5;241m=\u001B[39m BeautifulSoup(r\u001B[38;5;241m.\u001B[39mcontent)\n",
      "File \u001B[1;32m~\\.conda\\envs\\irl-chess-v6\\lib\\site-packages\\requests_html.py:586\u001B[0m, in \u001B[0;36mHTML.render\u001B[1;34m(self, retries, script, wait, scrolldown, sleep, reload, timeout, keep_page)\u001B[0m\n\u001B[0;32m    541\u001B[0m \u001B[38;5;28;01mdef\u001B[39;00m \u001B[38;5;21mrender\u001B[39m(\u001B[38;5;28mself\u001B[39m, retries: \u001B[38;5;28mint\u001B[39m \u001B[38;5;241m=\u001B[39m \u001B[38;5;241m8\u001B[39m, script: \u001B[38;5;28mstr\u001B[39m \u001B[38;5;241m=\u001B[39m \u001B[38;5;28;01mNone\u001B[39;00m, wait: \u001B[38;5;28mfloat\u001B[39m \u001B[38;5;241m=\u001B[39m \u001B[38;5;241m0.2\u001B[39m, scrolldown\u001B[38;5;241m=\u001B[39m\u001B[38;5;28;01mFalse\u001B[39;00m, sleep: \u001B[38;5;28mint\u001B[39m \u001B[38;5;241m=\u001B[39m \u001B[38;5;241m0\u001B[39m, reload: \u001B[38;5;28mbool\u001B[39m \u001B[38;5;241m=\u001B[39m \u001B[38;5;28;01mTrue\u001B[39;00m, timeout: Union[\u001B[38;5;28mfloat\u001B[39m, \u001B[38;5;28mint\u001B[39m] \u001B[38;5;241m=\u001B[39m \u001B[38;5;241m8.0\u001B[39m, keep_page: \u001B[38;5;28mbool\u001B[39m \u001B[38;5;241m=\u001B[39m \u001B[38;5;28;01mFalse\u001B[39;00m):\n\u001B[0;32m    542\u001B[0m \u001B[38;5;250m    \u001B[39m\u001B[38;5;124;03m\"\"\"Reloads the response in Chromium, and replaces HTML content\u001B[39;00m\n\u001B[0;32m    543\u001B[0m \u001B[38;5;124;03m    with an updated version, with JavaScript executed.\u001B[39;00m\n\u001B[0;32m    544\u001B[0m \n\u001B[1;32m   (...)\u001B[0m\n\u001B[0;32m    583\u001B[0m \u001B[38;5;124;03m    Chromium into your home directory (``~/.pyppeteer``).\u001B[39;00m\n\u001B[0;32m    584\u001B[0m \u001B[38;5;124;03m    \"\"\"\u001B[39;00m\n\u001B[1;32m--> 586\u001B[0m     \u001B[38;5;28mself\u001B[39m\u001B[38;5;241m.\u001B[39mbrowser \u001B[38;5;241m=\u001B[39m \u001B[38;5;28;43mself\u001B[39;49m\u001B[38;5;241;43m.\u001B[39;49m\u001B[43msession\u001B[49m\u001B[38;5;241;43m.\u001B[39;49m\u001B[43mbrowser\u001B[49m  \u001B[38;5;66;03m# Automatically create a event loop and browser\u001B[39;00m\n\u001B[0;32m    587\u001B[0m     content \u001B[38;5;241m=\u001B[39m \u001B[38;5;28;01mNone\u001B[39;00m\n\u001B[0;32m    589\u001B[0m     \u001B[38;5;66;03m# Automatically set Reload to False, if example URL is being used.\u001B[39;00m\n",
      "File \u001B[1;32m~\\.conda\\envs\\irl-chess-v6\\lib\\site-packages\\requests_html.py:729\u001B[0m, in \u001B[0;36mHTMLSession.browser\u001B[1;34m(self)\u001B[0m\n\u001B[0;32m    727\u001B[0m     \u001B[38;5;28mself\u001B[39m\u001B[38;5;241m.\u001B[39mloop \u001B[38;5;241m=\u001B[39m asyncio\u001B[38;5;241m.\u001B[39mget_event_loop()\n\u001B[0;32m    728\u001B[0m     \u001B[38;5;28;01mif\u001B[39;00m \u001B[38;5;28mself\u001B[39m\u001B[38;5;241m.\u001B[39mloop\u001B[38;5;241m.\u001B[39mis_running():\n\u001B[1;32m--> 729\u001B[0m         \u001B[38;5;28;01mraise\u001B[39;00m \u001B[38;5;167;01mRuntimeError\u001B[39;00m(\u001B[38;5;124m\"\u001B[39m\u001B[38;5;124mCannot use HTMLSession within an existing event loop. Use AsyncHTMLSession instead.\u001B[39m\u001B[38;5;124m\"\u001B[39m)\n\u001B[0;32m    730\u001B[0m     \u001B[38;5;28mself\u001B[39m\u001B[38;5;241m.\u001B[39m_browser \u001B[38;5;241m=\u001B[39m \u001B[38;5;28mself\u001B[39m\u001B[38;5;241m.\u001B[39mloop\u001B[38;5;241m.\u001B[39mrun_until_complete(\u001B[38;5;28msuper\u001B[39m()\u001B[38;5;241m.\u001B[39mbrowser)\n\u001B[0;32m    731\u001B[0m \u001B[38;5;28;01mreturn\u001B[39;00m \u001B[38;5;28mself\u001B[39m\u001B[38;5;241m.\u001B[39m_browser\n",
      "\u001B[1;31mRuntimeError\u001B[0m: Cannot use HTMLSession within an existing event loop. Use AsyncHTMLSession instead."
     ]
    }
   ],
   "source": [
    "from requests_html import AsyncHTMLSession\n",
    "import nest_asyncio\n",
    "import os\n",
    "\n",
    "os.environ['PYPPETEER_CHROMIUM_REVISION'] = '1263111'\n",
    "\n",
    "nest_asyncio.apply()\n",
    "\n",
    "site = 'https://lichess.org/analysis/standard/'\n",
    "fen = state.fen()\n",
    "url = site + fen\n",
    "\n",
    "asession = AsyncHTMLSession()\n",
    "r = await asession.get(url)\n",
    "await r.html.arender()\n",
    "resp=r.html.raw_html\n",
    "r.html.render()\n",
    "soup = BeautifulSoup(r.content)\n"
   ],
   "metadata": {
    "collapsed": false,
    "ExecuteTime": {
     "end_time": "2024-04-19T14:38:13.349439600Z",
     "start_time": "2024-04-19T14:38:09.992743500Z"
    }
   },
   "id": "42243b223350a579",
   "execution_count": 5
  },
  {
   "cell_type": "code",
   "outputs": [
    {
     "name": "stdout",
     "output_type": "stream",
     "text": [
      "Collecting pyppeteer==1.0.0\n",
      "  Downloading pyppeteer-1.0.0-py3-none-any.whl.metadata (6.9 kB)\n",
      "Requirement already satisfied: appdirs<2.0.0,>=1.4.3 in c:\\users\\nikol\\.conda\\envs\\irl-chess-v6\\lib\\site-packages (from pyppeteer==1.0.0) (1.4.4)\n",
      "Requirement already satisfied: certifi>=2021 in c:\\users\\nikol\\.conda\\envs\\irl-chess-v6\\lib\\site-packages (from pyppeteer==1.0.0) (2023.11.17)\n",
      "Requirement already satisfied: importlib-metadata>=1.4 in c:\\users\\nikol\\.conda\\envs\\irl-chess-v6\\lib\\site-packages (from pyppeteer==1.0.0) (7.0.1)\n",
      "Collecting pyee<9.0.0,>=8.1.0 (from pyppeteer==1.0.0)\n",
      "  Downloading pyee-8.2.2-py2.py3-none-any.whl.metadata (1.7 kB)\n",
      "Requirement already satisfied: tqdm<5.0.0,>=4.42.1 in c:\\users\\nikol\\.conda\\envs\\irl-chess-v6\\lib\\site-packages (from pyppeteer==1.0.0) (4.66.1)\n",
      "Requirement already satisfied: urllib3<2.0.0,>=1.25.8 in c:\\users\\nikol\\.conda\\envs\\irl-chess-v6\\lib\\site-packages (from pyppeteer==1.0.0) (1.26.18)\n",
      "Requirement already satisfied: websockets<11.0,>=10.0 in c:\\users\\nikol\\.conda\\envs\\irl-chess-v6\\lib\\site-packages (from pyppeteer==1.0.0) (10.4)\n",
      "Requirement already satisfied: zipp>=0.5 in c:\\users\\nikol\\.conda\\envs\\irl-chess-v6\\lib\\site-packages (from importlib-metadata>=1.4->pyppeteer==1.0.0) (3.17.0)\n",
      "Requirement already satisfied: colorama in c:\\users\\nikol\\.conda\\envs\\irl-chess-v6\\lib\\site-packages (from tqdm<5.0.0,>=4.42.1->pyppeteer==1.0.0) (0.4.6)\n",
      "Downloading pyppeteer-1.0.0-py3-none-any.whl (83 kB)\n",
      "   ---------------------------------------- 0.0/83.5 kB ? eta -:--:--\n",
      "   ---- ----------------------------------- 10.2/83.5 kB ? eta -:--:--\n",
      "   ------------------- -------------------- 41.0/83.5 kB 495.5 kB/s eta 0:00:01\n",
      "   ---------------------------------------- 83.5/83.5 kB 671.7 kB/s eta 0:00:00\n",
      "Downloading pyee-8.2.2-py2.py3-none-any.whl (12 kB)\n",
      "Installing collected packages: pyee, pyppeteer\n",
      "  Attempting uninstall: pyee\n",
      "    Found existing installation: pyee 11.1.0\n",
      "    Uninstalling pyee-11.1.0:\n",
      "      Successfully uninstalled pyee-11.1.0\n",
      "  Attempting uninstall: pyppeteer\n",
      "    Found existing installation: pyppeteer 2.0.0\n",
      "    Uninstalling pyppeteer-2.0.0:\n",
      "      Successfully uninstalled pyppeteer-2.0.0\n",
      "Successfully installed pyee-8.2.2 pyppeteer-1.0.0\n"
     ]
    }
   ],
   "source": [
    "!pip install pyppeteer==1.0.0"
   ],
   "metadata": {
    "collapsed": false,
    "ExecuteTime": {
     "end_time": "2024-04-19T14:35:37.722883Z",
     "start_time": "2024-04-19T14:35:29.894391900Z"
    }
   },
   "id": "7fcdcc2031d2b343",
   "execution_count": 23
  },
  {
   "cell_type": "code",
   "outputs": [],
   "source": [
    "with open('data/move_percentages/moves_1000-1200', 'r') as f:\n",
    "    moves_dict = json.load(f)"
   ],
   "metadata": {
    "collapsed": false,
    "ExecuteTime": {
     "end_time": "2024-04-30T07:36:55.793882400Z",
     "start_time": "2024-04-30T07:36:53.846742600Z"
    }
   },
   "id": "5dadce96ca20d676",
   "execution_count": 47
  },
  {
   "cell_type": "code",
   "outputs": [
    {
     "data": {
      "text/plain": "('rn1qk2r/pbpp1pbp/1p2p2p/8/2B1P3/3P1Q1N/PPP2PPP/RN2K2R w KQkq - 2 7',\n {'c2c3': [0.5, 127],\n  'b1c3': [0.17, 42],\n  'h3f4': [0.09, 24],\n  'f3g3': [0.06, 14],\n  'g2g4': [0.04, 9],\n  'f3g4': [0.02, 6],\n  'd3d4': [0.02, 4],\n  'a2a4': [0.01, 2],\n  'b1d2': [0.01, 2],\n  'f3h5': [0.0, 1],\n  'a2a3': [0.0, 1],\n  'sum': [1.0, 254],\n  'e1g1': [0.08, 20]})"
     },
     "execution_count": 72,
     "metadata": {},
     "output_type": "execute_result"
    }
   ],
   "source": [
    "list(moves_dict.items())[4]"
   ],
   "metadata": {
    "collapsed": false,
    "ExecuteTime": {
     "end_time": "2024-04-30T07:51:08.775509400Z",
     "start_time": "2024-04-30T07:51:08.725920Z"
    }
   },
   "id": "a5ff72ecc936aa93",
   "execution_count": 72
  },
  {
   "cell_type": "code",
   "outputs": [
    {
     "name": "stdout",
     "output_type": "stream",
     "text": [
      "55 e1a1 KING\n",
      "60 e1a1 KING\n",
      "135 e1a1 KING\n",
      "291 e1a1 KING\n",
      "373 e1a1 KING\n",
      "884 e1a1 KING\n",
      "1014 e1a1 KING\n",
      "1202 e1a1 KING\n",
      "1365 e1a1 KING\n",
      "1380 e1a1 KING\n",
      "1423 e1a1 KING\n",
      "1528 e1a1 KING\n",
      "1751 e1a1 KING\n",
      "1883 e1a1 KING\n",
      "2031 e1a1 KING\n",
      "2049 e1a1 KING\n",
      "2060 e1a1 KING\n",
      "2063 e1a1 KING\n",
      "2189 e1a1 KING\n",
      "2422 e1a1 KING\n",
      "2440 e1a1 KING\n",
      "2553 e1a1 KING\n",
      "2557 e1a1 KING\n",
      "2577 e1a1 KING\n",
      "2612 e1a1 KING\n",
      "2639 e1a1 KING\n",
      "2698 e1a1 KING\n",
      "2810 e1a1 KING\n",
      "2867 e1a1 KING\n",
      "2901 e1a1 KING\n",
      "2993 e1a1 KING\n",
      "3272 e1a1 KING\n",
      "3339 e1a1 KING\n",
      "3343 e1a1 KING\n",
      "3375 e1a1 KING\n",
      "3423 e1a1 KING\n",
      "3432 e1a1 KING\n",
      "3538 e1a1 KING\n",
      "3546 e1a1 KING\n",
      "3568 e1a1 KING\n",
      "3615 e1a1 KING\n",
      "3644 e1a1 KING\n",
      "3725 e1a1 KING\n",
      "3757 e1a1 KING\n",
      "3844 e1a1 KING\n",
      "4023 e1a1 KING\n",
      "4079 e1a1 KING\n",
      "4288 e1a1 KING\n",
      "4749 e1a1 KING\n",
      "4883 e1a1 KING\n",
      "4961 e1a1 KING\n",
      "5011 e1a1 KING\n",
      "5039 e1a1 KING\n",
      "5048 e1a1 KING\n",
      "5109 e1a1 KING\n",
      "5120 e1a1 KING\n",
      "5226 e1a1 KING\n",
      "5332 e1a1 KING\n",
      "5346 e1a1 KING\n",
      "5390 e1a1 KING\n",
      "5628 e1a1 KING\n",
      "5676 e1a1 KING\n",
      "5769 e1a1 KING\n",
      "5827 e1a1 KING\n",
      "5909 e1a1 KING\n",
      "6023 e1a1 KING\n",
      "6095 e1a1 KING\n",
      "6141 e1a1 KING\n",
      "6260 e1a1 KING\n",
      "6358 e1a1 KING\n",
      "6537 e1a1 KING\n",
      "6607 e1a1 KING\n",
      "7014 e1a1 KING\n",
      "7036 e1a1 KING\n",
      "7083 e1a1 KING\n",
      "7090 e1a1 KING\n",
      "7199 e1a1 KING\n",
      "7201 e1a1 KING\n",
      "7214 e1a1 KING\n",
      "7321 e1a1 KING\n",
      "7445 e1a1 KING\n",
      "7512 e1a1 KING\n",
      "7685 e1a1 KING\n",
      "7732 e1a1 KING\n",
      "7849 e1a1 KING\n",
      "7889 e1a1 KING\n",
      "7959 e1a1 KING\n",
      "8070 e1a1 KING\n",
      "8209 e1a1 KING\n",
      "8316 e1a1 KING\n",
      "8345 e1a1 KING\n",
      "8390 e1a1 KING\n",
      "8438 e1a1 KING\n",
      "8723 e1a1 KING\n",
      "8775 e1a1 KING\n",
      "8809 e1a1 KING\n",
      "8870 e1a1 KING\n",
      "9057 e1a1 KING\n",
      "9158 e1a1 KING\n",
      "9278 e1a1 KING\n",
      "9326 e1a1 KING\n",
      "9436 e1a1 KING\n",
      "9451 e1a1 KING\n",
      "9598 e1a1 KING\n",
      "9615 e1a1 KING\n",
      "9733 e1a1 KING\n",
      "9744 e1a1 KING\n",
      "9848 e1a1 KING\n",
      "9894 e1a1 KING\n"
     ]
    }
   ],
   "source": [
    "for i, (pos, moves) in enumerate(moves_dict.items()):\n",
    "    board = chess.Board(pos)\n",
    "    for move in list(moves.keys()):\n",
    "        if move == 'e1h1':\n",
    "            from_square = chess.Move.from_uci(move).from_square\n",
    "            piece = board.piece_type_at(from_square)\n",
    "            piece_notation = chess.piece_name(piece).upper()\n",
    "            print(i, move, piece_notation)\n",
    "            if piece_notation == 'KING':\n",
    "                moves['e1g1'] = moves.pop(move)\n",
    "        elif move == 'e1a1':\n",
    "            from_square = chess.Move.from_uci(move).from_square\n",
    "            piece = board.piece_type_at(from_square)\n",
    "            piece_notation = chess.piece_name(piece).upper()\n",
    "            print(i, move, piece_notation)\n",
    "            if piece_notation == 'KING':\n",
    "                moves['e1c1'] = moves.pop(move)"
   ],
   "metadata": {
    "collapsed": false,
    "ExecuteTime": {
     "end_time": "2024-04-30T07:52:53.773504800Z",
     "start_time": "2024-04-30T07:52:51.916295900Z"
    }
   },
   "id": "8545ae5e58791bec",
   "execution_count": 73
  },
  {
   "cell_type": "code",
   "outputs": [],
   "source": [],
   "metadata": {
    "collapsed": false
   },
   "id": "607421654ff7e4fb"
  },
  {
   "cell_type": "code",
   "outputs": [
    {
     "name": "stdout",
     "output_type": "stream",
     "text": [
      "r n . q k . . r\n",
      "p b p p . p b p\n",
      ". p . . p . . p\n",
      ". . . . . . . .\n",
      ". . B . P . . .\n",
      ". . . P . Q . N\n",
      "P P P . . P P P\n",
      "R N . . K . . R\n",
      "{'h3g5', 'f3f5', 'c4a6', 'c4e6', 'e4e5', 'b2b4', 'b2b3', 'h3f4', 'a2a4', 'b1d2', 'b1c3', 'f3h5', 'e1f1', 'c2c3', 'f3g4', 'e1g1', 'c4d5', 'e1e2', 'f3f6', 'e1d2', 'f3e2', 'c4b3', 'f3f7', 'g2g3', 'f3e3', 'b1a3', 'h3g1', 'f3f4', 'f3g3', 'g2g4', 'd3d4', 'h1g1', 'a2a3', 'f3d1', 'c4b5', 'h1f1', 'e1d1'}\n",
      "['c2c3', 'b1c3', 'h3f4', 'f3g3', 'g2g4', 'f3g4', 'd3d4', 'a2a4', 'b1d2', 'f3h5', 'a2a3', 'sum', 'e1g1']\n"
     ]
    },
    {
     "data": {
      "text/plain": "Board('rn1qkb1r/p2p1ppp/b3pn2/2pP4/2P5/4P3/P4PPP/RNBQKBNR w KQkq - 0 7')",
      "image/svg+xml": "<svg xmlns=\"http://www.w3.org/2000/svg\" xmlns:xlink=\"http://www.w3.org/1999/xlink\" viewBox=\"0 0 390 390\" width=\"390\" height=\"390\"><desc><pre>r n . q k b . r\np . . p . p p p\nb . . . p n . .\n. . p P . . . .\n. . P . . . . .\n. . . . P . . .\nP . . . . P P P\nR N B Q K B N R</pre></desc><defs><g id=\"white-pawn\" class=\"white pawn\"><path d=\"M22.5 9c-2.21 0-4 1.79-4 4 0 .89.29 1.71.78 2.38C17.33 16.5 16 18.59 16 21c0 2.03.94 3.84 2.41 5.03-3 1.06-7.41 5.55-7.41 13.47h23c0-7.92-4.41-12.41-7.41-13.47 1.47-1.19 2.41-3 2.41-5.03 0-2.41-1.33-4.5-3.28-5.62.49-.67.78-1.49.78-2.38 0-2.21-1.79-4-4-4z\" fill=\"#fff\" stroke=\"#000\" stroke-width=\"1.5\" stroke-linecap=\"round\" /></g><g id=\"white-knight\" class=\"white knight\" fill=\"none\" fill-rule=\"evenodd\" stroke=\"#000\" stroke-width=\"1.5\" stroke-linecap=\"round\" stroke-linejoin=\"round\"><path d=\"M 22,10 C 32.5,11 38.5,18 38,39 L 15,39 C 15,30 25,32.5 23,18\" style=\"fill:#ffffff; stroke:#000000;\" /><path d=\"M 24,18 C 24.38,20.91 18.45,25.37 16,27 C 13,29 13.18,31.34 11,31 C 9.958,30.06 12.41,27.96 11,28 C 10,28 11.19,29.23 10,30 C 9,30 5.997,31 6,26 C 6,24 12,14 12,14 C 12,14 13.89,12.1 14,10.5 C 13.27,9.506 13.5,8.5 13.5,7.5 C 14.5,6.5 16.5,10 16.5,10 L 18.5,10 C 18.5,10 19.28,8.008 21,7 C 22,7 22,10 22,10\" style=\"fill:#ffffff; stroke:#000000;\" /><path d=\"M 9.5 25.5 A 0.5 0.5 0 1 1 8.5,25.5 A 0.5 0.5 0 1 1 9.5 25.5 z\" style=\"fill:#000000; stroke:#000000;\" /><path d=\"M 15 15.5 A 0.5 1.5 0 1 1 14,15.5 A 0.5 1.5 0 1 1 15 15.5 z\" transform=\"matrix(0.866,0.5,-0.5,0.866,9.693,-5.173)\" style=\"fill:#000000; stroke:#000000;\" /></g><g id=\"white-bishop\" class=\"white bishop\" fill=\"none\" fill-rule=\"evenodd\" stroke=\"#000\" stroke-width=\"1.5\" stroke-linecap=\"round\" stroke-linejoin=\"round\"><g fill=\"#fff\" stroke-linecap=\"butt\"><path d=\"M9 36c3.39-.97 10.11.43 13.5-2 3.39 2.43 10.11 1.03 13.5 2 0 0 1.65.54 3 2-.68.97-1.65.99-3 .5-3.39-.97-10.11.46-13.5-1-3.39 1.46-10.11.03-13.5 1-1.354.49-2.323.47-3-.5 1.354-1.94 3-2 3-2zM15 32c2.5 2.5 12.5 2.5 15 0 .5-1.5 0-2 0-2 0-2.5-2.5-4-2.5-4 5.5-1.5 6-11.5-5-15.5-11 4-10.5 14-5 15.5 0 0-2.5 1.5-2.5 4 0 0-.5.5 0 2zM25 8a2.5 2.5 0 1 1-5 0 2.5 2.5 0 1 1 5 0z\" /></g><path d=\"M17.5 26h10M15 30h15m-7.5-14.5v5M20 18h5\" stroke-linejoin=\"miter\" /></g><g id=\"white-rook\" class=\"white rook\" fill=\"#fff\" fill-rule=\"evenodd\" stroke=\"#000\" stroke-width=\"1.5\" stroke-linecap=\"round\" stroke-linejoin=\"round\"><path d=\"M9 39h27v-3H9v3zM12 36v-4h21v4H12zM11 14V9h4v2h5V9h5v2h5V9h4v5\" stroke-linecap=\"butt\" /><path d=\"M34 14l-3 3H14l-3-3\" /><path d=\"M31 17v12.5H14V17\" stroke-linecap=\"butt\" stroke-linejoin=\"miter\" /><path d=\"M31 29.5l1.5 2.5h-20l1.5-2.5\" /><path d=\"M11 14h23\" fill=\"none\" stroke-linejoin=\"miter\" /></g><g id=\"white-queen\" class=\"white queen\" fill=\"#fff\" fill-rule=\"evenodd\" stroke=\"#000\" stroke-width=\"1.5\" stroke-linecap=\"round\" stroke-linejoin=\"round\"><path d=\"M8 12a2 2 0 1 1-4 0 2 2 0 1 1 4 0zM24.5 7.5a2 2 0 1 1-4 0 2 2 0 1 1 4 0zM41 12a2 2 0 1 1-4 0 2 2 0 1 1 4 0zM16 8.5a2 2 0 1 1-4 0 2 2 0 1 1 4 0zM33 9a2 2 0 1 1-4 0 2 2 0 1 1 4 0z\" /><path d=\"M9 26c8.5-1.5 21-1.5 27 0l2-12-7 11V11l-5.5 13.5-3-15-3 15-5.5-14V25L7 14l2 12zM9 26c0 2 1.5 2 2.5 4 1 1.5 1 1 .5 3.5-1.5 1-1.5 2.5-1.5 2.5-1.5 1.5.5 2.5.5 2.5 6.5 1 16.5 1 23 0 0 0 1.5-1 0-2.5 0 0 .5-1.5-1-2.5-.5-2.5-.5-2 .5-3.5 1-2 2.5-2 2.5-4-8.5-1.5-18.5-1.5-27 0z\" stroke-linecap=\"butt\" /><path d=\"M11.5 30c3.5-1 18.5-1 22 0M12 33.5c6-1 15-1 21 0\" fill=\"none\" /></g><g id=\"white-king\" class=\"white king\" fill=\"none\" fill-rule=\"evenodd\" stroke=\"#000\" stroke-width=\"1.5\" stroke-linecap=\"round\" stroke-linejoin=\"round\"><path d=\"M22.5 11.63V6M20 8h5\" stroke-linejoin=\"miter\" /><path d=\"M22.5 25s4.5-7.5 3-10.5c0 0-1-2.5-3-2.5s-3 2.5-3 2.5c-1.5 3 3 10.5 3 10.5\" fill=\"#fff\" stroke-linecap=\"butt\" stroke-linejoin=\"miter\" /><path d=\"M11.5 37c5.5 3.5 15.5 3.5 21 0v-7s9-4.5 6-10.5c-4-6.5-13.5-3.5-16 4V27v-3.5c-3.5-7.5-13-10.5-16-4-3 6 5 10 5 10V37z\" fill=\"#fff\" /><path d=\"M11.5 30c5.5-3 15.5-3 21 0m-21 3.5c5.5-3 15.5-3 21 0m-21 3.5c5.5-3 15.5-3 21 0\" /></g><g id=\"black-pawn\" class=\"black pawn\"><path d=\"M22.5 9c-2.21 0-4 1.79-4 4 0 .89.29 1.71.78 2.38C17.33 16.5 16 18.59 16 21c0 2.03.94 3.84 2.41 5.03-3 1.06-7.41 5.55-7.41 13.47h23c0-7.92-4.41-12.41-7.41-13.47 1.47-1.19 2.41-3 2.41-5.03 0-2.41-1.33-4.5-3.28-5.62.49-.67.78-1.49.78-2.38 0-2.21-1.79-4-4-4z\" fill=\"#000\" stroke=\"#000\" stroke-width=\"1.5\" stroke-linecap=\"round\" /></g><g id=\"black-knight\" class=\"black knight\" fill=\"none\" fill-rule=\"evenodd\" stroke=\"#000\" stroke-width=\"1.5\" stroke-linecap=\"round\" stroke-linejoin=\"round\"><path d=\"M 22,10 C 32.5,11 38.5,18 38,39 L 15,39 C 15,30 25,32.5 23,18\" style=\"fill:#000000; stroke:#000000;\" /><path d=\"M 24,18 C 24.38,20.91 18.45,25.37 16,27 C 13,29 13.18,31.34 11,31 C 9.958,30.06 12.41,27.96 11,28 C 10,28 11.19,29.23 10,30 C 9,30 5.997,31 6,26 C 6,24 12,14 12,14 C 12,14 13.89,12.1 14,10.5 C 13.27,9.506 13.5,8.5 13.5,7.5 C 14.5,6.5 16.5,10 16.5,10 L 18.5,10 C 18.5,10 19.28,8.008 21,7 C 22,7 22,10 22,10\" style=\"fill:#000000; stroke:#000000;\" /><path d=\"M 9.5 25.5 A 0.5 0.5 0 1 1 8.5,25.5 A 0.5 0.5 0 1 1 9.5 25.5 z\" style=\"fill:#ececec; stroke:#ececec;\" /><path d=\"M 15 15.5 A 0.5 1.5 0 1 1 14,15.5 A 0.5 1.5 0 1 1 15 15.5 z\" transform=\"matrix(0.866,0.5,-0.5,0.866,9.693,-5.173)\" style=\"fill:#ececec; stroke:#ececec;\" /><path d=\"M 24.55,10.4 L 24.1,11.85 L 24.6,12 C 27.75,13 30.25,14.49 32.5,18.75 C 34.75,23.01 35.75,29.06 35.25,39 L 35.2,39.5 L 37.45,39.5 L 37.5,39 C 38,28.94 36.62,22.15 34.25,17.66 C 31.88,13.17 28.46,11.02 25.06,10.5 L 24.55,10.4 z \" style=\"fill:#ececec; stroke:none;\" /></g><g id=\"black-bishop\" class=\"black bishop\" fill=\"none\" fill-rule=\"evenodd\" stroke=\"#000\" stroke-width=\"1.5\" stroke-linecap=\"round\" stroke-linejoin=\"round\"><path d=\"M9 36c3.39-.97 10.11.43 13.5-2 3.39 2.43 10.11 1.03 13.5 2 0 0 1.65.54 3 2-.68.97-1.65.99-3 .5-3.39-.97-10.11.46-13.5-1-3.39 1.46-10.11.03-13.5 1-1.354.49-2.323.47-3-.5 1.354-1.94 3-2 3-2zm6-4c2.5 2.5 12.5 2.5 15 0 .5-1.5 0-2 0-2 0-2.5-2.5-4-2.5-4 5.5-1.5 6-11.5-5-15.5-11 4-10.5 14-5 15.5 0 0-2.5 1.5-2.5 4 0 0-.5.5 0 2zM25 8a2.5 2.5 0 1 1-5 0 2.5 2.5 0 1 1 5 0z\" fill=\"#000\" stroke-linecap=\"butt\" /><path d=\"M17.5 26h10M15 30h15m-7.5-14.5v5M20 18h5\" stroke=\"#fff\" stroke-linejoin=\"miter\" /></g><g id=\"black-rook\" class=\"black rook\" fill=\"#000\" fill-rule=\"evenodd\" stroke=\"#000\" stroke-width=\"1.5\" stroke-linecap=\"round\" stroke-linejoin=\"round\"><path d=\"M9 39h27v-3H9v3zM12.5 32l1.5-2.5h17l1.5 2.5h-20zM12 36v-4h21v4H12z\" stroke-linecap=\"butt\" /><path d=\"M14 29.5v-13h17v13H14z\" stroke-linecap=\"butt\" stroke-linejoin=\"miter\" /><path d=\"M14 16.5L11 14h23l-3 2.5H14zM11 14V9h4v2h5V9h5v2h5V9h4v5H11z\" stroke-linecap=\"butt\" /><path d=\"M12 35.5h21M13 31.5h19M14 29.5h17M14 16.5h17M11 14h23\" fill=\"none\" stroke=\"#fff\" stroke-width=\"1\" stroke-linejoin=\"miter\" /></g><g id=\"black-queen\" class=\"black queen\" fill=\"#000\" fill-rule=\"evenodd\" stroke=\"#000\" stroke-width=\"1.5\" stroke-linecap=\"round\" stroke-linejoin=\"round\"><g fill=\"#000\" stroke=\"none\"><circle cx=\"6\" cy=\"12\" r=\"2.75\" /><circle cx=\"14\" cy=\"9\" r=\"2.75\" /><circle cx=\"22.5\" cy=\"8\" r=\"2.75\" /><circle cx=\"31\" cy=\"9\" r=\"2.75\" /><circle cx=\"39\" cy=\"12\" r=\"2.75\" /></g><path d=\"M9 26c8.5-1.5 21-1.5 27 0l2.5-12.5L31 25l-.3-14.1-5.2 13.6-3-14.5-3 14.5-5.2-13.6L14 25 6.5 13.5 9 26zM9 26c0 2 1.5 2 2.5 4 1 1.5 1 1 .5 3.5-1.5 1-1.5 2.5-1.5 2.5-1.5 1.5.5 2.5.5 2.5 6.5 1 16.5 1 23 0 0 0 1.5-1 0-2.5 0 0 .5-1.5-1-2.5-.5-2.5-.5-2 .5-3.5 1-2 2.5-2 2.5-4-8.5-1.5-18.5-1.5-27 0z\" stroke-linecap=\"butt\" /><path d=\"M11 38.5a35 35 1 0 0 23 0\" fill=\"none\" stroke-linecap=\"butt\" /><path d=\"M11 29a35 35 1 0 1 23 0M12.5 31.5h20M11.5 34.5a35 35 1 0 0 22 0M10.5 37.5a35 35 1 0 0 24 0\" fill=\"none\" stroke=\"#fff\" /></g><g id=\"black-king\" class=\"black king\" fill=\"none\" fill-rule=\"evenodd\" stroke=\"#000\" stroke-width=\"1.5\" stroke-linecap=\"round\" stroke-linejoin=\"round\"><path d=\"M22.5 11.63V6\" stroke-linejoin=\"miter\" /><path d=\"M22.5 25s4.5-7.5 3-10.5c0 0-1-2.5-3-2.5s-3 2.5-3 2.5c-1.5 3 3 10.5 3 10.5\" fill=\"#000\" stroke-linecap=\"butt\" stroke-linejoin=\"miter\" /><path d=\"M11.5 37c5.5 3.5 15.5 3.5 21 0v-7s9-4.5 6-10.5c-4-6.5-13.5-3.5-16 4V27v-3.5c-3.5-7.5-13-10.5-16-4-3 6 5 10 5 10V37z\" fill=\"#000\" /><path d=\"M20 8h5\" stroke-linejoin=\"miter\" /><path d=\"M32 29.5s8.5-4 6.03-9.65C34.15 14 25 18 22.5 24.5l.01 2.1-.01-2.1C20 18 9.906 14 6.997 19.85c-2.497 5.65 4.853 9 4.853 9M11.5 30c5.5-3 15.5-3 21 0m-21 3.5c5.5-3 15.5-3 21 0m-21 3.5c5.5-3 15.5-3 21 0\" stroke=\"#fff\" /></g></defs><rect x=\"7.5\" y=\"7.5\" width=\"375\" height=\"375\" fill=\"none\" stroke=\"#212121\" stroke-width=\"15\" /><g transform=\"translate(20, 1) scale(0.75, 0.75)\" fill=\"#e5e5e5\" stroke=\"#e5e5e5\"><path d=\"M23.328 10.016q-1.742 0-2.414.398-.672.398-.672 1.36 0 .765.5 1.218.508.445 1.375.445 1.196 0 1.914-.843.727-.852.727-2.258v-.32zm2.867-.594v4.992h-1.437v-1.328q-.492.797-1.227 1.18-.734.375-1.797.375-1.343 0-2.14-.75-.79-.758-.79-2.024 0-1.476.985-2.226.992-.75 2.953-.75h2.016V8.75q0-.992-.656-1.531-.649-.547-1.829-.547-.75 0-1.46.18-.711.18-1.368.539V6.062q.79-.304 1.532-.453.742-.156 1.445-.156 1.898 0 2.836.984.937.985.937 2.985z\" /></g><g transform=\"translate(20, 375) scale(0.75, 0.75)\" fill=\"#e5e5e5\" stroke=\"#e5e5e5\"><path d=\"M23.328 10.016q-1.742 0-2.414.398-.672.398-.672 1.36 0 .765.5 1.218.508.445 1.375.445 1.196 0 1.914-.843.727-.852.727-2.258v-.32zm2.867-.594v4.992h-1.437v-1.328q-.492.797-1.227 1.18-.734.375-1.797.375-1.343 0-2.14-.75-.79-.758-.79-2.024 0-1.476.985-2.226.992-.75 2.953-.75h2.016V8.75q0-.992-.656-1.531-.649-.547-1.829-.547-.75 0-1.46.18-.711.18-1.368.539V6.062q.79-.304 1.532-.453.742-.156 1.445-.156 1.898 0 2.836.984.937.985.937 2.985z\" /></g><g transform=\"translate(65, 1) scale(0.75, 0.75)\" fill=\"#e5e5e5\" stroke=\"#e5e5e5\"><path d=\"M24.922 10.047q0-1.586-.656-2.485-.649-.906-1.79-.906-1.14 0-1.796.906-.649.899-.649 2.485 0 1.586.649 2.492.656.898 1.797.898 1.14 0 1.789-.898.656-.906.656-2.492zm-4.89-3.055q.452-.781 1.14-1.156.695-.383 1.656-.383 1.594 0 2.586 1.266 1 1.265 1 3.328 0 2.062-1 3.328-.992 1.266-2.586 1.266-.96 0-1.656-.375-.688-.383-1.14-1.164v1.312h-1.446V2.258h1.445z\" /></g><g transform=\"translate(65, 375) scale(0.75, 0.75)\" fill=\"#e5e5e5\" stroke=\"#e5e5e5\"><path d=\"M24.922 10.047q0-1.586-.656-2.485-.649-.906-1.79-.906-1.14 0-1.796.906-.649.899-.649 2.485 0 1.586.649 2.492.656.898 1.797.898 1.14 0 1.789-.898.656-.906.656-2.492zm-4.89-3.055q.452-.781 1.14-1.156.695-.383 1.656-.383 1.594 0 2.586 1.266 1 1.265 1 3.328 0 2.062-1 3.328-.992 1.266-2.586 1.266-.96 0-1.656-.375-.688-.383-1.14-1.164v1.312h-1.446V2.258h1.445z\" /></g><g transform=\"translate(110, 1) scale(0.75, 0.75)\" fill=\"#e5e5e5\" stroke=\"#e5e5e5\"><path d=\"M25.96 6v1.344q-.608-.336-1.226-.5-.609-.172-1.234-.172-1.398 0-2.172.89-.773.883-.773 2.485 0 1.601.773 2.492.774.883 2.172.883.625 0 1.234-.164.618-.172 1.227-.508v1.328q-.602.281-1.25.422-.64.14-1.367.14-1.977 0-3.14-1.242-1.165-1.242-1.165-3.351 0-2.14 1.172-3.367 1.18-1.227 3.227-1.227.664 0 1.296.14.633.134 1.227.407z\" /></g><g transform=\"translate(110, 375) scale(0.75, 0.75)\" fill=\"#e5e5e5\" stroke=\"#e5e5e5\"><path d=\"M25.96 6v1.344q-.608-.336-1.226-.5-.609-.172-1.234-.172-1.398 0-2.172.89-.773.883-.773 2.485 0 1.601.773 2.492.774.883 2.172.883.625 0 1.234-.164.618-.172 1.227-.508v1.328q-.602.281-1.25.422-.64.14-1.367.14-1.977 0-3.14-1.242-1.165-1.242-1.165-3.351 0-2.14 1.172-3.367 1.18-1.227 3.227-1.227.664 0 1.296.14.633.134 1.227.407z\" /></g><g transform=\"translate(155, 1) scale(0.75, 0.75)\" fill=\"#e5e5e5\" stroke=\"#e5e5e5\"><path d=\"M24.973 6.992V2.258h1.437v12.156h-1.437v-1.312q-.453.78-1.149 1.164-.687.375-1.656.375-1.586 0-2.586-1.266-.992-1.266-.992-3.328 0-2.063.992-3.328 1-1.266 2.586-1.266.969 0 1.656.383.696.375 1.149 1.156zm-4.899 3.055q0 1.586.649 2.492.656.898 1.797.898 1.14 0 1.796-.898.657-.906.657-2.492 0-1.586-.657-2.485-.656-.906-1.796-.906-1.141 0-1.797.906-.649.899-.649 2.485z\" /></g><g transform=\"translate(155, 375) scale(0.75, 0.75)\" fill=\"#e5e5e5\" stroke=\"#e5e5e5\"><path d=\"M24.973 6.992V2.258h1.437v12.156h-1.437v-1.312q-.453.78-1.149 1.164-.687.375-1.656.375-1.586 0-2.586-1.266-.992-1.266-.992-3.328 0-2.063.992-3.328 1-1.266 2.586-1.266.969 0 1.656.383.696.375 1.149 1.156zm-4.899 3.055q0 1.586.649 2.492.656.898 1.797.898 1.14 0 1.796-.898.657-.906.657-2.492 0-1.586-.657-2.485-.656-.906-1.796-.906-1.141 0-1.797.906-.649.899-.649 2.485z\" /></g><g transform=\"translate(200, 1) scale(0.75, 0.75)\" fill=\"#e5e5e5\" stroke=\"#e5e5e5\"><path d=\"M26.555 9.68v.703h-6.61q.094 1.484.89 2.265.806.774 2.235.774.828 0 1.602-.203.781-.203 1.547-.61v1.36q-.774.328-1.586.5-.813.172-1.649.172-2.093 0-3.32-1.22-1.219-1.218-1.219-3.296 0-2.148 1.157-3.406 1.164-1.266 3.132-1.266 1.766 0 2.79 1.14 1.03 1.134 1.03 3.087zm-1.438-.422q-.015-1.18-.664-1.883-.64-.703-1.703-.703-1.203 0-1.93.68-.718.68-.828 1.914z\" /></g><g transform=\"translate(200, 375) scale(0.75, 0.75)\" fill=\"#e5e5e5\" stroke=\"#e5e5e5\"><path d=\"M26.555 9.68v.703h-6.61q.094 1.484.89 2.265.806.774 2.235.774.828 0 1.602-.203.781-.203 1.547-.61v1.36q-.774.328-1.586.5-.813.172-1.649.172-2.093 0-3.32-1.22-1.219-1.218-1.219-3.296 0-2.148 1.157-3.406 1.164-1.266 3.132-1.266 1.766 0 2.79 1.14 1.03 1.134 1.03 3.087zm-1.438-.422q-.015-1.18-.664-1.883-.64-.703-1.703-.703-1.203 0-1.93.68-.718.68-.828 1.914z\" /></g><g transform=\"translate(245, 1) scale(0.75, 0.75)\" fill=\"#e5e5e5\" stroke=\"#e5e5e5\"><path d=\"M25.285 2.258v1.195H23.91q-.773 0-1.078.313-.297.312-.297 1.125v.773h2.367v1.117h-2.367v7.633H21.09V6.781h-1.375V5.664h1.375v-.61q0-1.46.68-2.124.68-.672 2.156-.672z\" /></g><g transform=\"translate(245, 375) scale(0.75, 0.75)\" fill=\"#e5e5e5\" stroke=\"#e5e5e5\"><path d=\"M25.285 2.258v1.195H23.91q-.773 0-1.078.313-.297.312-.297 1.125v.773h2.367v1.117h-2.367v7.633H21.09V6.781h-1.375V5.664h1.375v-.61q0-1.46.68-2.124.68-.672 2.156-.672z\" /></g><g transform=\"translate(290, 1) scale(0.75, 0.75)\" fill=\"#e5e5e5\" stroke=\"#e5e5e5\"><path d=\"M24.973 9.937q0-1.562-.649-2.421-.64-.86-1.804-.86-1.157 0-1.805.86-.64.859-.64 2.421 0 1.555.64 2.415.648.859 1.805.859 1.164 0 1.804-.86.649-.859.649-2.414zm1.437 3.391q0 2.234-.992 3.32-.992 1.094-3.04 1.094-.757 0-1.429-.117-.672-.11-1.304-.344v-1.398q.632.344 1.25.508.617.164 1.257.164 1.414 0 2.118-.743.703-.734.703-2.226v-.711q-.446.773-1.141 1.156-.695.383-1.664.383-1.61 0-2.594-1.227-.984-1.226-.984-3.25 0-2.03.984-3.257.985-1.227 2.594-1.227.969 0 1.664.383t1.14 1.156V5.664h1.438z\" /></g><g transform=\"translate(290, 375) scale(0.75, 0.75)\" fill=\"#e5e5e5\" stroke=\"#e5e5e5\"><path d=\"M24.973 9.937q0-1.562-.649-2.421-.64-.86-1.804-.86-1.157 0-1.805.86-.64.859-.64 2.421 0 1.555.64 2.415.648.859 1.805.859 1.164 0 1.804-.86.649-.859.649-2.414zm1.437 3.391q0 2.234-.992 3.32-.992 1.094-3.04 1.094-.757 0-1.429-.117-.672-.11-1.304-.344v-1.398q.632.344 1.25.508.617.164 1.257.164 1.414 0 2.118-.743.703-.734.703-2.226v-.711q-.446.773-1.141 1.156-.695.383-1.664.383-1.61 0-2.594-1.227-.984-1.226-.984-3.25 0-2.03.984-3.257.985-1.227 2.594-1.227.969 0 1.664.383t1.14 1.156V5.664h1.438z\" /></g><g transform=\"translate(335, 1) scale(0.75, 0.75)\" fill=\"#e5e5e5\" stroke=\"#e5e5e5\"><path d=\"M26.164 9.133v5.281h-1.437V9.18q0-1.243-.485-1.86-.484-.617-1.453-.617-1.164 0-1.836.742-.672.742-.672 2.024v4.945h-1.445V2.258h1.445v4.765q.516-.789 1.211-1.18.703-.39 1.617-.39 1.508 0 2.282.938.773.93.773 2.742z\" /></g><g transform=\"translate(335, 375) scale(0.75, 0.75)\" fill=\"#e5e5e5\" stroke=\"#e5e5e5\"><path d=\"M26.164 9.133v5.281h-1.437V9.18q0-1.243-.485-1.86-.484-.617-1.453-.617-1.164 0-1.836.742-.672.742-.672 2.024v4.945h-1.445V2.258h1.445v4.765q.516-.789 1.211-1.18.703-.39 1.617-.39 1.508 0 2.282.938.773.93.773 2.742z\" /></g><g transform=\"translate(0, 335) scale(0.75, 0.75)\" fill=\"#e5e5e5\" stroke=\"#e5e5e5\"><path d=\"M6.754 26.996h2.578v-8.898l-2.805.562v-1.437l2.79-.563h1.578v10.336h2.578v1.328h-6.72z\" /></g><g transform=\"translate(375, 335) scale(0.75, 0.75)\" fill=\"#e5e5e5\" stroke=\"#e5e5e5\"><path d=\"M6.754 26.996h2.578v-8.898l-2.805.562v-1.437l2.79-.563h1.578v10.336h2.578v1.328h-6.72z\" /></g><g transform=\"translate(0, 290) scale(0.75, 0.75)\" fill=\"#e5e5e5\" stroke=\"#e5e5e5\"><path d=\"M8.195 26.996h5.508v1.328H6.297v-1.328q.898-.93 2.445-2.492 1.555-1.57 1.953-2.024.758-.851 1.055-1.437.305-.594.305-1.164 0-.93-.657-1.516-.648-.586-1.695-.586-.742 0-1.57.258-.82.258-1.758.781v-1.593q.953-.383 1.781-.578.828-.196 1.516-.196 1.812 0 2.89.906 1.079.907 1.079 2.422 0 .72-.274 1.368-.265.64-.976 1.515-.196.227-1.243 1.313-1.046 1.078-2.953 3.023z\" /></g><g transform=\"translate(375, 290) scale(0.75, 0.75)\" fill=\"#e5e5e5\" stroke=\"#e5e5e5\"><path d=\"M8.195 26.996h5.508v1.328H6.297v-1.328q.898-.93 2.445-2.492 1.555-1.57 1.953-2.024.758-.851 1.055-1.437.305-.594.305-1.164 0-.93-.657-1.516-.648-.586-1.695-.586-.742 0-1.57.258-.82.258-1.758.781v-1.593q.953-.383 1.781-.578.828-.196 1.516-.196 1.812 0 2.89.906 1.079.907 1.079 2.422 0 .72-.274 1.368-.265.64-.976 1.515-.196.227-1.243 1.313-1.046 1.078-2.953 3.023z\" /></g><g transform=\"translate(0, 245) scale(0.75, 0.75)\" fill=\"#e5e5e5\" stroke=\"#e5e5e5\"><path d=\"M11.434 22.035q1.132.242 1.765 1.008.64.766.64 1.89 0 1.727-1.187 2.672-1.187.946-3.375.946-.734 0-1.515-.149-.774-.14-1.602-.43V26.45q.656.383 1.438.578.78.196 1.632.196 1.485 0 2.258-.586.782-.586.782-1.703 0-1.032-.727-1.61-.719-.586-2.008-.586h-1.36v-1.297h1.423q1.164 0 1.78-.46.618-.47.618-1.344 0-.899-.64-1.375-.633-.485-1.82-.485-.65 0-1.391.141-.743.14-1.633.437V16.95q.898-.25 1.68-.375.788-.125 1.484-.125 1.797 0 2.844.82 1.046.813 1.046 2.204 0 .968-.554 1.64-.555.664-1.578.922z\" /></g><g transform=\"translate(375, 245) scale(0.75, 0.75)\" fill=\"#e5e5e5\" stroke=\"#e5e5e5\"><path d=\"M11.434 22.035q1.132.242 1.765 1.008.64.766.64 1.89 0 1.727-1.187 2.672-1.187.946-3.375.946-.734 0-1.515-.149-.774-.14-1.602-.43V26.45q.656.383 1.438.578.78.196 1.632.196 1.485 0 2.258-.586.782-.586.782-1.703 0-1.032-.727-1.61-.719-.586-2.008-.586h-1.36v-1.297h1.423q1.164 0 1.78-.46.618-.47.618-1.344 0-.899-.64-1.375-.633-.485-1.82-.485-.65 0-1.391.141-.743.14-1.633.437V16.95q.898-.25 1.68-.375.788-.125 1.484-.125 1.797 0 2.844.82 1.046.813 1.046 2.204 0 .968-.554 1.64-.555.664-1.578.922z\" /></g><g transform=\"translate(0, 200) scale(0.75, 0.75)\" fill=\"#e5e5e5\" stroke=\"#e5e5e5\"><path d=\"M11.016 18.035L7.03 24.262h3.985zm-.414-1.375h1.984v7.602h1.664v1.312h-1.664v2.75h-1.57v-2.75H5.75v-1.523z\" /></g><g transform=\"translate(375, 200) scale(0.75, 0.75)\" fill=\"#e5e5e5\" stroke=\"#e5e5e5\"><path d=\"M11.016 18.035L7.03 24.262h3.985zm-.414-1.375h1.984v7.602h1.664v1.312h-1.664v2.75h-1.57v-2.75H5.75v-1.523z\" /></g><g transform=\"translate(0, 155) scale(0.75, 0.75)\" fill=\"#e5e5e5\" stroke=\"#e5e5e5\"><path d=\"M6.719 16.66h6.195v1.328h-4.75v2.86q.344-.118.688-.172.343-.063.687-.063 1.953 0 3.094 1.07 1.14 1.07 1.14 2.899 0 1.883-1.171 2.93-1.172 1.039-3.305 1.039-.735 0-1.5-.125-.758-.125-1.57-.375v-1.586q.703.383 1.453.57.75.188 1.586.188 1.351 0 2.14-.711.79-.711.79-1.93 0-1.219-.79-1.93-.789-.71-2.14-.71-.633 0-1.266.14-.625.14-1.281.438z\" /></g><g transform=\"translate(375, 155) scale(0.75, 0.75)\" fill=\"#e5e5e5\" stroke=\"#e5e5e5\"><path d=\"M6.719 16.66h6.195v1.328h-4.75v2.86q.344-.118.688-.172.343-.063.687-.063 1.953 0 3.094 1.07 1.14 1.07 1.14 2.899 0 1.883-1.171 2.93-1.172 1.039-3.305 1.039-.735 0-1.5-.125-.758-.125-1.57-.375v-1.586q.703.383 1.453.57.75.188 1.586.188 1.351 0 2.14-.711.79-.711.79-1.93 0-1.219-.79-1.93-.789-.71-2.14-.71-.633 0-1.266.14-.625.14-1.281.438z\" /></g><g transform=\"translate(0, 110) scale(0.75, 0.75)\" fill=\"#e5e5e5\" stroke=\"#e5e5e5\"><path d=\"M10.137 21.863q-1.063 0-1.688.727-.617.726-.617 1.992 0 1.258.617 1.992.625.727 1.688.727 1.062 0 1.68-.727.624-.734.624-1.992 0-1.266-.625-1.992-.617-.727-1.68-.727zm3.133-4.945v1.437q-.594-.28-1.204-.43-.601-.148-1.195-.148-1.562 0-2.39 1.055-.82 1.055-.938 3.188.46-.68 1.156-1.04.696-.367 1.531-.367 1.758 0 2.774 1.07 1.023 1.063 1.023 2.899 0 1.797-1.062 2.883-1.063 1.086-2.828 1.086-2.024 0-3.094-1.547-1.07-1.555-1.07-4.5 0-2.766 1.312-4.406 1.313-1.649 3.524-1.649.593 0 1.195.117.61.118 1.266.352z\" /></g><g transform=\"translate(375, 110) scale(0.75, 0.75)\" fill=\"#e5e5e5\" stroke=\"#e5e5e5\"><path d=\"M10.137 21.863q-1.063 0-1.688.727-.617.726-.617 1.992 0 1.258.617 1.992.625.727 1.688.727 1.062 0 1.68-.727.624-.734.624-1.992 0-1.266-.625-1.992-.617-.727-1.68-.727zm3.133-4.945v1.437q-.594-.28-1.204-.43-.601-.148-1.195-.148-1.562 0-2.39 1.055-.82 1.055-.938 3.188.46-.68 1.156-1.04.696-.367 1.531-.367 1.758 0 2.774 1.07 1.023 1.063 1.023 2.899 0 1.797-1.062 2.883-1.063 1.086-2.828 1.086-2.024 0-3.094-1.547-1.07-1.555-1.07-4.5 0-2.766 1.312-4.406 1.313-1.649 3.524-1.649.593 0 1.195.117.61.118 1.266.352z\" /></g><g transform=\"translate(0, 65) scale(0.75, 0.75)\" fill=\"#e5e5e5\" stroke=\"#e5e5e5\"><path d=\"M6.25 16.66h7.5v.672L9.516 28.324H7.867l3.985-10.336H6.25z\" /></g><g transform=\"translate(375, 65) scale(0.75, 0.75)\" fill=\"#e5e5e5\" stroke=\"#e5e5e5\"><path d=\"M6.25 16.66h7.5v.672L9.516 28.324H7.867l3.985-10.336H6.25z\" /></g><g transform=\"translate(0, 20) scale(0.75, 0.75)\" fill=\"#e5e5e5\" stroke=\"#e5e5e5\"><path d=\"M10 22.785q-1.125 0-1.773.602-.641.601-.641 1.656t.64 1.656q.649.602 1.774.602t1.773-.602q.649-.61.649-1.656 0-1.055-.649-1.656-.64-.602-1.773-.602zm-1.578-.672q-1.016-.25-1.586-.945-.563-.695-.563-1.695 0-1.399.993-2.211 1-.813 2.734-.813 1.742 0 2.734.813.993.812.993 2.21 0 1-.57 1.696-.563.695-1.571.945 1.14.266 1.773 1.04.641.773.641 1.89 0 1.695-1.04 2.602-1.03.906-2.96.906t-2.969-.906Q6 26.738 6 25.043q0-1.117.64-1.89.641-.774 1.782-1.04zm-.578-2.492q0 .906.562 1.414.57.508 1.594.508 1.016 0 1.586-.508.578-.508.578-1.414 0-.906-.578-1.414-.57-.508-1.586-.508-1.023 0-1.594.508-.562.508-.562 1.414z\" /></g><g transform=\"translate(375, 20) scale(0.75, 0.75)\" fill=\"#e5e5e5\" stroke=\"#e5e5e5\"><path d=\"M10 22.785q-1.125 0-1.773.602-.641.601-.641 1.656t.64 1.656q.649.602 1.774.602t1.773-.602q.649-.61.649-1.656 0-1.055-.649-1.656-.64-.602-1.773-.602zm-1.578-.672q-1.016-.25-1.586-.945-.563-.695-.563-1.695 0-1.399.993-2.211 1-.813 2.734-.813 1.742 0 2.734.813.993.812.993 2.21 0 1-.57 1.696-.563.695-1.571.945 1.14.266 1.773 1.04.641.773.641 1.89 0 1.695-1.04 2.602-1.03.906-2.96.906t-2.969-.906Q6 26.738 6 25.043q0-1.117.64-1.89.641-.774 1.782-1.04zm-.578-2.492q0 .906.562 1.414.57.508 1.594.508 1.016 0 1.586-.508.578-.508.578-1.414 0-.906-.578-1.414-.57-.508-1.586-.508-1.023 0-1.594.508-.562.508-.562 1.414z\" /></g><rect x=\"15\" y=\"330\" width=\"45\" height=\"45\" class=\"square dark a1\" stroke=\"none\" fill=\"#d18b47\" /><rect x=\"60\" y=\"330\" width=\"45\" height=\"45\" class=\"square light b1\" stroke=\"none\" fill=\"#ffce9e\" /><rect x=\"105\" y=\"330\" width=\"45\" height=\"45\" class=\"square dark c1\" stroke=\"none\" fill=\"#d18b47\" /><rect x=\"150\" y=\"330\" width=\"45\" height=\"45\" class=\"square light d1\" stroke=\"none\" fill=\"#ffce9e\" /><rect x=\"195\" y=\"330\" width=\"45\" height=\"45\" class=\"square dark e1\" stroke=\"none\" fill=\"#d18b47\" /><rect x=\"240\" y=\"330\" width=\"45\" height=\"45\" class=\"square light f1\" stroke=\"none\" fill=\"#ffce9e\" /><rect x=\"285\" y=\"330\" width=\"45\" height=\"45\" class=\"square dark g1\" stroke=\"none\" fill=\"#d18b47\" /><rect x=\"330\" y=\"330\" width=\"45\" height=\"45\" class=\"square light h1\" stroke=\"none\" fill=\"#ffce9e\" /><rect x=\"15\" y=\"285\" width=\"45\" height=\"45\" class=\"square light a2\" stroke=\"none\" fill=\"#ffce9e\" /><rect x=\"60\" y=\"285\" width=\"45\" height=\"45\" class=\"square dark b2\" stroke=\"none\" fill=\"#d18b47\" /><rect x=\"105\" y=\"285\" width=\"45\" height=\"45\" class=\"square light c2\" stroke=\"none\" fill=\"#ffce9e\" /><rect x=\"150\" y=\"285\" width=\"45\" height=\"45\" class=\"square dark d2\" stroke=\"none\" fill=\"#d18b47\" /><rect x=\"195\" y=\"285\" width=\"45\" height=\"45\" class=\"square light e2\" stroke=\"none\" fill=\"#ffce9e\" /><rect x=\"240\" y=\"285\" width=\"45\" height=\"45\" class=\"square dark f2\" stroke=\"none\" fill=\"#d18b47\" /><rect x=\"285\" y=\"285\" width=\"45\" height=\"45\" class=\"square light g2\" stroke=\"none\" fill=\"#ffce9e\" /><rect x=\"330\" y=\"285\" width=\"45\" height=\"45\" class=\"square dark h2\" stroke=\"none\" fill=\"#d18b47\" /><rect x=\"15\" y=\"240\" width=\"45\" height=\"45\" class=\"square dark a3\" stroke=\"none\" fill=\"#d18b47\" /><rect x=\"60\" y=\"240\" width=\"45\" height=\"45\" class=\"square light b3\" stroke=\"none\" fill=\"#ffce9e\" /><rect x=\"105\" y=\"240\" width=\"45\" height=\"45\" class=\"square dark c3\" stroke=\"none\" fill=\"#d18b47\" /><rect x=\"150\" y=\"240\" width=\"45\" height=\"45\" class=\"square light d3\" stroke=\"none\" fill=\"#ffce9e\" /><rect x=\"195\" y=\"240\" width=\"45\" height=\"45\" class=\"square dark e3\" stroke=\"none\" fill=\"#d18b47\" /><rect x=\"240\" y=\"240\" width=\"45\" height=\"45\" class=\"square light f3\" stroke=\"none\" fill=\"#ffce9e\" /><rect x=\"285\" y=\"240\" width=\"45\" height=\"45\" class=\"square dark g3\" stroke=\"none\" fill=\"#d18b47\" /><rect x=\"330\" y=\"240\" width=\"45\" height=\"45\" class=\"square light h3\" stroke=\"none\" fill=\"#ffce9e\" /><rect x=\"15\" y=\"195\" width=\"45\" height=\"45\" class=\"square light a4\" stroke=\"none\" fill=\"#ffce9e\" /><rect x=\"60\" y=\"195\" width=\"45\" height=\"45\" class=\"square dark b4\" stroke=\"none\" fill=\"#d18b47\" /><rect x=\"105\" y=\"195\" width=\"45\" height=\"45\" class=\"square light c4\" stroke=\"none\" fill=\"#ffce9e\" /><rect x=\"150\" y=\"195\" width=\"45\" height=\"45\" class=\"square dark d4\" stroke=\"none\" fill=\"#d18b47\" /><rect x=\"195\" y=\"195\" width=\"45\" height=\"45\" class=\"square light e4\" stroke=\"none\" fill=\"#ffce9e\" /><rect x=\"240\" y=\"195\" width=\"45\" height=\"45\" class=\"square dark f4\" stroke=\"none\" fill=\"#d18b47\" /><rect x=\"285\" y=\"195\" width=\"45\" height=\"45\" class=\"square light g4\" stroke=\"none\" fill=\"#ffce9e\" /><rect x=\"330\" y=\"195\" width=\"45\" height=\"45\" class=\"square dark h4\" stroke=\"none\" fill=\"#d18b47\" /><rect x=\"15\" y=\"150\" width=\"45\" height=\"45\" class=\"square dark a5\" stroke=\"none\" fill=\"#d18b47\" /><rect x=\"60\" y=\"150\" width=\"45\" height=\"45\" class=\"square light b5\" stroke=\"none\" fill=\"#ffce9e\" /><rect x=\"105\" y=\"150\" width=\"45\" height=\"45\" class=\"square dark c5\" stroke=\"none\" fill=\"#d18b47\" /><rect x=\"150\" y=\"150\" width=\"45\" height=\"45\" class=\"square light d5\" stroke=\"none\" fill=\"#ffce9e\" /><rect x=\"195\" y=\"150\" width=\"45\" height=\"45\" class=\"square dark e5\" stroke=\"none\" fill=\"#d18b47\" /><rect x=\"240\" y=\"150\" width=\"45\" height=\"45\" class=\"square light f5\" stroke=\"none\" fill=\"#ffce9e\" /><rect x=\"285\" y=\"150\" width=\"45\" height=\"45\" class=\"square dark g5\" stroke=\"none\" fill=\"#d18b47\" /><rect x=\"330\" y=\"150\" width=\"45\" height=\"45\" class=\"square light h5\" stroke=\"none\" fill=\"#ffce9e\" /><rect x=\"15\" y=\"105\" width=\"45\" height=\"45\" class=\"square light a6\" stroke=\"none\" fill=\"#ffce9e\" /><rect x=\"60\" y=\"105\" width=\"45\" height=\"45\" class=\"square dark b6\" stroke=\"none\" fill=\"#d18b47\" /><rect x=\"105\" y=\"105\" width=\"45\" height=\"45\" class=\"square light c6\" stroke=\"none\" fill=\"#ffce9e\" /><rect x=\"150\" y=\"105\" width=\"45\" height=\"45\" class=\"square dark d6\" stroke=\"none\" fill=\"#d18b47\" /><rect x=\"195\" y=\"105\" width=\"45\" height=\"45\" class=\"square light e6\" stroke=\"none\" fill=\"#ffce9e\" /><rect x=\"240\" y=\"105\" width=\"45\" height=\"45\" class=\"square dark f6\" stroke=\"none\" fill=\"#d18b47\" /><rect x=\"285\" y=\"105\" width=\"45\" height=\"45\" class=\"square light g6\" stroke=\"none\" fill=\"#ffce9e\" /><rect x=\"330\" y=\"105\" width=\"45\" height=\"45\" class=\"square dark h6\" stroke=\"none\" fill=\"#d18b47\" /><rect x=\"15\" y=\"60\" width=\"45\" height=\"45\" class=\"square dark a7\" stroke=\"none\" fill=\"#d18b47\" /><rect x=\"60\" y=\"60\" width=\"45\" height=\"45\" class=\"square light b7\" stroke=\"none\" fill=\"#ffce9e\" /><rect x=\"105\" y=\"60\" width=\"45\" height=\"45\" class=\"square dark c7\" stroke=\"none\" fill=\"#d18b47\" /><rect x=\"150\" y=\"60\" width=\"45\" height=\"45\" class=\"square light d7\" stroke=\"none\" fill=\"#ffce9e\" /><rect x=\"195\" y=\"60\" width=\"45\" height=\"45\" class=\"square dark e7\" stroke=\"none\" fill=\"#d18b47\" /><rect x=\"240\" y=\"60\" width=\"45\" height=\"45\" class=\"square light f7\" stroke=\"none\" fill=\"#ffce9e\" /><rect x=\"285\" y=\"60\" width=\"45\" height=\"45\" class=\"square dark g7\" stroke=\"none\" fill=\"#d18b47\" /><rect x=\"330\" y=\"60\" width=\"45\" height=\"45\" class=\"square light h7\" stroke=\"none\" fill=\"#ffce9e\" /><rect x=\"15\" y=\"15\" width=\"45\" height=\"45\" class=\"square light a8\" stroke=\"none\" fill=\"#ffce9e\" /><rect x=\"60\" y=\"15\" width=\"45\" height=\"45\" class=\"square dark b8\" stroke=\"none\" fill=\"#d18b47\" /><rect x=\"105\" y=\"15\" width=\"45\" height=\"45\" class=\"square light c8\" stroke=\"none\" fill=\"#ffce9e\" /><rect x=\"150\" y=\"15\" width=\"45\" height=\"45\" class=\"square dark d8\" stroke=\"none\" fill=\"#d18b47\" /><rect x=\"195\" y=\"15\" width=\"45\" height=\"45\" class=\"square light e8\" stroke=\"none\" fill=\"#ffce9e\" /><rect x=\"240\" y=\"15\" width=\"45\" height=\"45\" class=\"square dark f8\" stroke=\"none\" fill=\"#d18b47\" /><rect x=\"285\" y=\"15\" width=\"45\" height=\"45\" class=\"square light g8\" stroke=\"none\" fill=\"#ffce9e\" /><rect x=\"330\" y=\"15\" width=\"45\" height=\"45\" class=\"square dark h8\" stroke=\"none\" fill=\"#d18b47\" /><use href=\"#white-rook\" xlink:href=\"#white-rook\" transform=\"translate(15, 330)\" /><use href=\"#white-knight\" xlink:href=\"#white-knight\" transform=\"translate(60, 330)\" /><use href=\"#white-bishop\" xlink:href=\"#white-bishop\" transform=\"translate(105, 330)\" /><use href=\"#white-queen\" xlink:href=\"#white-queen\" transform=\"translate(150, 330)\" /><use href=\"#white-king\" xlink:href=\"#white-king\" transform=\"translate(195, 330)\" /><use href=\"#white-bishop\" xlink:href=\"#white-bishop\" transform=\"translate(240, 330)\" /><use href=\"#white-knight\" xlink:href=\"#white-knight\" transform=\"translate(285, 330)\" /><use href=\"#white-rook\" xlink:href=\"#white-rook\" transform=\"translate(330, 330)\" /><use href=\"#white-pawn\" xlink:href=\"#white-pawn\" transform=\"translate(15, 285)\" /><use href=\"#white-pawn\" xlink:href=\"#white-pawn\" transform=\"translate(240, 285)\" /><use href=\"#white-pawn\" xlink:href=\"#white-pawn\" transform=\"translate(285, 285)\" /><use href=\"#white-pawn\" xlink:href=\"#white-pawn\" transform=\"translate(330, 285)\" /><use href=\"#white-pawn\" xlink:href=\"#white-pawn\" transform=\"translate(195, 240)\" /><use href=\"#white-pawn\" xlink:href=\"#white-pawn\" transform=\"translate(105, 195)\" /><use href=\"#black-pawn\" xlink:href=\"#black-pawn\" transform=\"translate(105, 150)\" /><use href=\"#white-pawn\" xlink:href=\"#white-pawn\" transform=\"translate(150, 150)\" /><use href=\"#black-bishop\" xlink:href=\"#black-bishop\" transform=\"translate(15, 105)\" /><use href=\"#black-pawn\" xlink:href=\"#black-pawn\" transform=\"translate(195, 105)\" /><use href=\"#black-knight\" xlink:href=\"#black-knight\" transform=\"translate(240, 105)\" /><use href=\"#black-pawn\" xlink:href=\"#black-pawn\" transform=\"translate(15, 60)\" /><use href=\"#black-pawn\" xlink:href=\"#black-pawn\" transform=\"translate(150, 60)\" /><use href=\"#black-pawn\" xlink:href=\"#black-pawn\" transform=\"translate(240, 60)\" /><use href=\"#black-pawn\" xlink:href=\"#black-pawn\" transform=\"translate(285, 60)\" /><use href=\"#black-pawn\" xlink:href=\"#black-pawn\" transform=\"translate(330, 60)\" /><use href=\"#black-rook\" xlink:href=\"#black-rook\" transform=\"translate(15, 15)\" /><use href=\"#black-knight\" xlink:href=\"#black-knight\" transform=\"translate(60, 15)\" /><use href=\"#black-queen\" xlink:href=\"#black-queen\" transform=\"translate(150, 15)\" /><use href=\"#black-king\" xlink:href=\"#black-king\" transform=\"translate(195, 15)\" /><use href=\"#black-bishop\" xlink:href=\"#black-bishop\" transform=\"translate(240, 15)\" /><use href=\"#black-rook\" xlink:href=\"#black-rook\" transform=\"translate(330, 15)\" /></svg>"
     },
     "execution_count": 88,
     "metadata": {},
     "output_type": "execute_result"
    }
   ],
   "source": [
    "stop = False\n",
    "bad_fens = []\n",
    "for i, (fen, moves) in enumerate(moves_dict.items()):\n",
    "    board = chess.Board(fen)\n",
    "    legal_moves = {move.uci() for move in list(board.legal_moves)}\n",
    "    if not board.turn:\n",
    "        bad_fens.append(fen)\n",
    "        continue\n",
    "    for move in list(moves.keys()):\n",
    "        if move not in legal_moves and move != 'sum':\n",
    "            print(f'Move {move} not in {legal_moves}, fen: {fen}')\n",
    "            stop = True\n",
    "            break\n",
    "    if i == 4:\n",
    "        print(board)\n",
    "        print(legal_moves)\n",
    "        print(list(moves.keys()))\n",
    "    if stop:\n",
    "        break\n",
    "board"
   ],
   "metadata": {
    "collapsed": false,
    "ExecuteTime": {
     "end_time": "2024-04-30T08:13:03.201623300Z",
     "start_time": "2024-04-30T08:12:58.464504300Z"
    }
   },
   "id": "ed3dd12d1340e19c",
   "execution_count": 88
  },
  {
   "cell_type": "code",
   "outputs": [
    {
     "name": "stdout",
     "output_type": "stream",
     "text": [
      "9993\n"
     ]
    },
    {
     "ename": "KeyError",
     "evalue": "'r1bqkb1r/ppp2ppp/2np1n2/4p3/2B1P3/5N1P/PPPP1PP1/RNBQ1RK1 b kq - 2 5'",
     "output_type": "error",
     "traceback": [
      "\u001B[1;31m---------------------------------------------------------------------------\u001B[0m",
      "\u001B[1;31mKeyError\u001B[0m                                  Traceback (most recent call last)",
      "Cell \u001B[1;32mIn[84], line 3\u001B[0m\n\u001B[0;32m      1\u001B[0m \u001B[38;5;28mprint\u001B[39m(\u001B[38;5;28mlen\u001B[39m(moves_dict))\n\u001B[0;32m      2\u001B[0m \u001B[38;5;28;01mfor\u001B[39;00m fen \u001B[38;5;129;01min\u001B[39;00m bad_fens:\n\u001B[1;32m----> 3\u001B[0m     \u001B[38;5;28;01mdel\u001B[39;00m moves_dict[fen]\n\u001B[0;32m      4\u001B[0m \u001B[38;5;28mprint\u001B[39m(\u001B[38;5;28mlen\u001B[39m(moves_dict))\n",
      "\u001B[1;31mKeyError\u001B[0m: 'r1bqkb1r/ppp2ppp/2np1n2/4p3/2B1P3/5N1P/PPPP1PP1/RNBQ1RK1 b kq - 2 5'"
     ]
    }
   ],
   "source": [
    "print(len(moves_dict))\n",
    "for fen in bad_fens:\n",
    "    del moves_dict[fen]\n",
    "print(len(moves_dict))"
   ],
   "metadata": {
    "collapsed": false,
    "ExecuteTime": {
     "end_time": "2024-04-30T08:10:38.206776100Z",
     "start_time": "2024-04-30T08:10:38.137343600Z"
    }
   },
   "id": "55b901d80010444b",
   "execution_count": 84
  },
  {
   "cell_type": "code",
   "outputs": [
    {
     "data": {
      "text/plain": "('rn1qk2r/pbpp1pbp/1p2p2p/8/2B1P3/3P1Q1N/PPP2PPP/RN2K2R w KQkq - 2 7',\n {'c2c3': [0.5, 127],\n  'b1c3': [0.17, 42],\n  'h3f4': [0.09, 24],\n  'f3g3': [0.06, 14],\n  'g2g4': [0.04, 9],\n  'f3g4': [0.02, 6],\n  'd3d4': [0.02, 4],\n  'a2a4': [0.01, 2],\n  'b1d2': [0.01, 2],\n  'f3h5': [0.0, 1],\n  'a2a3': [0.0, 1],\n  'sum': [1.0, 254],\n  'e1g1': [0.08, 20]})"
     },
     "execution_count": 85,
     "metadata": {},
     "output_type": "execute_result"
    }
   ],
   "source": [
    "list(moves_dict.items())[4]"
   ],
   "metadata": {
    "collapsed": false,
    "ExecuteTime": {
     "end_time": "2024-04-30T08:11:29.202818200Z",
     "start_time": "2024-04-30T08:11:29.152442900Z"
    }
   },
   "id": "2d6a611178dafdb7",
   "execution_count": 85
  },
  {
   "cell_type": "code",
   "outputs": [],
   "source": [
    "file_path = 'data/move_percentages/moves_1000-1200_fixed'\n",
    "with open(file_path, 'w') as f:\n",
    "    json.dump(moves_dict, f)"
   ],
   "metadata": {
    "collapsed": false,
    "ExecuteTime": {
     "end_time": "2024-04-30T08:03:52.823015200Z",
     "start_time": "2024-04-30T08:03:51.750381Z"
    }
   },
   "id": "1804337b254bb9cc",
   "execution_count": 83
  },
  {
   "cell_type": "code",
   "outputs": [
    {
     "name": "stdout",
     "output_type": "stream",
     "text": [
      "Requirement already satisfied: numpy in c:\\users\\nikol\\.conda\\envs\\irl-chess-v6\\lib\\site-packages (from -r maia_chess/requirements.txt (line 1)) (1.26.3)\n",
      "Requirement already satisfied: chess in c:\\users\\nikol\\.conda\\envs\\irl-chess-v6\\lib\\site-packages (from -r maia_chess/requirements.txt (line 2)) (1.10.0)\n",
      "Requirement already satisfied: pytz in c:\\users\\nikol\\.conda\\envs\\irl-chess-v6\\lib\\site-packages (from -r maia_chess/requirements.txt (line 3)) (2023.4)\n",
      "Collecting humanize (from -r maia_chess/requirements.txt (line 4))\n",
      "  Using cached humanize-4.9.0-py3-none-any.whl.metadata (7.9 kB)\n",
      "Collecting tensorboard (from -r maia_chess/requirements.txt (line 5))\n",
      "  Using cached tensorboard-2.16.2-py3-none-any.whl.metadata (1.6 kB)\n",
      "Collecting tensorflow (from -r maia_chess/requirements.txt (line 6))\n",
      "  Using cached tensorflow-2.16.1-cp310-cp310-win_amd64.whl.metadata (3.5 kB)\n",
      "Requirement already satisfied: protobuf in c:\\users\\nikol\\.conda\\envs\\irl-chess-v6\\lib\\site-packages (from -r maia_chess/requirements.txt (line 7)) (4.25.2)\n",
      "Collecting tensorboardx (from -r maia_chess/requirements.txt (line 8))\n",
      "  Using cached tensorboardX-2.6.2.2-py2.py3-none-any.whl.metadata (5.8 kB)\n",
      "Collecting seaborn (from -r maia_chess/requirements.txt (line 9))\n",
      "  Using cached seaborn-0.13.2-py3-none-any.whl.metadata (5.4 kB)\n",
      "Requirement already satisfied: matplotlib in c:\\users\\nikol\\.conda\\envs\\irl-chess-v6\\lib\\site-packages (from -r maia_chess/requirements.txt (line 10)) (3.8.2)\n",
      "Requirement already satisfied: pyyaml in c:\\users\\nikol\\.conda\\envs\\irl-chess-v6\\lib\\site-packages (from -r maia_chess/requirements.txt (line 11)) (6.0.1)\n",
      "Collecting absl-py>=0.4 (from tensorboard->-r maia_chess/requirements.txt (line 5))\n",
      "  Using cached absl_py-2.1.0-py3-none-any.whl.metadata (2.3 kB)\n",
      "Collecting grpcio>=1.48.2 (from tensorboard->-r maia_chess/requirements.txt (line 5))\n",
      "  Using cached grpcio-1.63.0-cp310-cp310-win_amd64.whl.metadata (3.3 kB)\n",
      "Collecting markdown>=2.6.8 (from tensorboard->-r maia_chess/requirements.txt (line 5))\n",
      "  Using cached Markdown-3.6-py3-none-any.whl.metadata (7.0 kB)\n",
      "Requirement already satisfied: setuptools>=41.0.0 in c:\\users\\nikol\\.conda\\envs\\irl-chess-v6\\lib\\site-packages (from tensorboard->-r maia_chess/requirements.txt (line 5)) (68.2.2)\n",
      "Requirement already satisfied: six>1.9 in c:\\users\\nikol\\.conda\\envs\\irl-chess-v6\\lib\\site-packages (from tensorboard->-r maia_chess/requirements.txt (line 5)) (1.16.0)\n",
      "Collecting tensorboard-data-server<0.8.0,>=0.7.0 (from tensorboard->-r maia_chess/requirements.txt (line 5))\n",
      "  Using cached tensorboard_data_server-0.7.2-py3-none-any.whl.metadata (1.1 kB)\n",
      "Collecting werkzeug>=1.0.1 (from tensorboard->-r maia_chess/requirements.txt (line 5))\n",
      "  Using cached werkzeug-3.0.2-py3-none-any.whl.metadata (4.1 kB)\n",
      "Collecting tensorflow-intel==2.16.1 (from tensorflow->-r maia_chess/requirements.txt (line 6))\n",
      "  Using cached tensorflow_intel-2.16.1-cp310-cp310-win_amd64.whl.metadata (5.0 kB)\n",
      "Collecting astunparse>=1.6.0 (from tensorflow-intel==2.16.1->tensorflow->-r maia_chess/requirements.txt (line 6))\n",
      "  Using cached astunparse-1.6.3-py2.py3-none-any.whl.metadata (4.4 kB)\n",
      "Collecting flatbuffers>=23.5.26 (from tensorflow-intel==2.16.1->tensorflow->-r maia_chess/requirements.txt (line 6))\n",
      "  Using cached flatbuffers-24.3.25-py2.py3-none-any.whl.metadata (850 bytes)\n",
      "Collecting gast!=0.5.0,!=0.5.1,!=0.5.2,>=0.2.1 (from tensorflow-intel==2.16.1->tensorflow->-r maia_chess/requirements.txt (line 6))\n",
      "  Using cached gast-0.5.4-py3-none-any.whl.metadata (1.3 kB)\n",
      "Collecting google-pasta>=0.1.1 (from tensorflow-intel==2.16.1->tensorflow->-r maia_chess/requirements.txt (line 6))\n",
      "  Using cached google_pasta-0.2.0-py3-none-any.whl.metadata (814 bytes)\n",
      "Collecting h5py>=3.10.0 (from tensorflow-intel==2.16.1->tensorflow->-r maia_chess/requirements.txt (line 6))\n",
      "  Using cached h5py-3.11.0-cp310-cp310-win_amd64.whl.metadata (2.5 kB)\n",
      "Collecting libclang>=13.0.0 (from tensorflow-intel==2.16.1->tensorflow->-r maia_chess/requirements.txt (line 6))\n",
      "  Using cached libclang-18.1.1-py2.py3-none-win_amd64.whl.metadata (5.3 kB)\n",
      "Collecting ml-dtypes~=0.3.1 (from tensorflow-intel==2.16.1->tensorflow->-r maia_chess/requirements.txt (line 6))\n",
      "  Using cached ml_dtypes-0.3.2-cp310-cp310-win_amd64.whl.metadata (20 kB)\n",
      "Collecting opt-einsum>=2.3.2 (from tensorflow-intel==2.16.1->tensorflow->-r maia_chess/requirements.txt (line 6))\n",
      "  Using cached opt_einsum-3.3.0-py3-none-any.whl.metadata (6.5 kB)\n",
      "Requirement already satisfied: packaging in c:\\users\\nikol\\.conda\\envs\\irl-chess-v6\\lib\\site-packages (from tensorflow-intel==2.16.1->tensorflow->-r maia_chess/requirements.txt (line 6)) (23.2)\n",
      "Requirement already satisfied: requests<3,>=2.21.0 in c:\\users\\nikol\\.conda\\envs\\irl-chess-v6\\lib\\site-packages (from tensorflow-intel==2.16.1->tensorflow->-r maia_chess/requirements.txt (line 6)) (2.31.0)\n",
      "Collecting termcolor>=1.1.0 (from tensorflow-intel==2.16.1->tensorflow->-r maia_chess/requirements.txt (line 6))\n",
      "  Using cached termcolor-2.4.0-py3-none-any.whl.metadata (6.1 kB)\n",
      "Requirement already satisfied: typing-extensions>=3.6.6 in c:\\users\\nikol\\.conda\\envs\\irl-chess-v6\\lib\\site-packages (from tensorflow-intel==2.16.1->tensorflow->-r maia_chess/requirements.txt (line 6)) (4.9.0)\n",
      "Collecting wrapt>=1.11.0 (from tensorflow-intel==2.16.1->tensorflow->-r maia_chess/requirements.txt (line 6))\n",
      "  Using cached wrapt-1.16.0-cp310-cp310-win_amd64.whl.metadata (6.8 kB)\n",
      "Collecting keras>=3.0.0 (from tensorflow-intel==2.16.1->tensorflow->-r maia_chess/requirements.txt (line 6))\n",
      "  Using cached keras-3.3.3-py3-none-any.whl.metadata (5.7 kB)\n",
      "Collecting tensorflow-io-gcs-filesystem>=0.23.1 (from tensorflow-intel==2.16.1->tensorflow->-r maia_chess/requirements.txt (line 6))\n",
      "  Using cached tensorflow_io_gcs_filesystem-0.31.0-cp310-cp310-win_amd64.whl.metadata (14 kB)\n",
      "Requirement already satisfied: pandas>=1.2 in c:\\users\\nikol\\.conda\\envs\\irl-chess-v6\\lib\\site-packages (from seaborn->-r maia_chess/requirements.txt (line 9)) (2.2.0)\n",
      "Requirement already satisfied: contourpy>=1.0.1 in c:\\users\\nikol\\.conda\\envs\\irl-chess-v6\\lib\\site-packages (from matplotlib->-r maia_chess/requirements.txt (line 10)) (1.2.0)\n",
      "Requirement already satisfied: cycler>=0.10 in c:\\users\\nikol\\.conda\\envs\\irl-chess-v6\\lib\\site-packages (from matplotlib->-r maia_chess/requirements.txt (line 10)) (0.12.1)\n",
      "Requirement already satisfied: fonttools>=4.22.0 in c:\\users\\nikol\\.conda\\envs\\irl-chess-v6\\lib\\site-packages (from matplotlib->-r maia_chess/requirements.txt (line 10)) (4.47.2)\n",
      "Requirement already satisfied: kiwisolver>=1.3.1 in c:\\users\\nikol\\.conda\\envs\\irl-chess-v6\\lib\\site-packages (from matplotlib->-r maia_chess/requirements.txt (line 10)) (1.4.5)\n",
      "Requirement already satisfied: pillow>=8 in c:\\users\\nikol\\.conda\\envs\\irl-chess-v6\\lib\\site-packages (from matplotlib->-r maia_chess/requirements.txt (line 10)) (10.0.1)\n",
      "Requirement already satisfied: pyparsing>=2.3.1 in c:\\users\\nikol\\.conda\\envs\\irl-chess-v6\\lib\\site-packages (from matplotlib->-r maia_chess/requirements.txt (line 10)) (3.1.1)\n",
      "Requirement already satisfied: python-dateutil>=2.7 in c:\\users\\nikol\\.conda\\envs\\irl-chess-v6\\lib\\site-packages (from matplotlib->-r maia_chess/requirements.txt (line 10)) (2.8.2)\n",
      "Requirement already satisfied: tzdata>=2022.7 in c:\\users\\nikol\\.conda\\envs\\irl-chess-v6\\lib\\site-packages (from pandas>=1.2->seaborn->-r maia_chess/requirements.txt (line 9)) (2023.4)\n",
      "Requirement already satisfied: MarkupSafe>=2.1.1 in c:\\users\\nikol\\.conda\\envs\\irl-chess-v6\\lib\\site-packages (from werkzeug>=1.0.1->tensorboard->-r maia_chess/requirements.txt (line 5)) (2.1.3)\n",
      "Requirement already satisfied: wheel<1.0,>=0.23.0 in c:\\users\\nikol\\.conda\\envs\\irl-chess-v6\\lib\\site-packages (from astunparse>=1.6.0->tensorflow-intel==2.16.1->tensorflow->-r maia_chess/requirements.txt (line 6)) (0.41.2)\n",
      "Requirement already satisfied: rich in c:\\users\\nikol\\.conda\\envs\\irl-chess-v6\\lib\\site-packages (from keras>=3.0.0->tensorflow-intel==2.16.1->tensorflow->-r maia_chess/requirements.txt (line 6)) (13.7.0)\n",
      "Collecting namex (from keras>=3.0.0->tensorflow-intel==2.16.1->tensorflow->-r maia_chess/requirements.txt (line 6))\n",
      "  Using cached namex-0.0.8-py3-none-any.whl.metadata (246 bytes)\n",
      "Collecting optree (from keras>=3.0.0->tensorflow-intel==2.16.1->tensorflow->-r maia_chess/requirements.txt (line 6))\n",
      "  Using cached optree-0.11.0-cp310-cp310-win_amd64.whl.metadata (46 kB)\n",
      "Requirement already satisfied: charset-normalizer<4,>=2 in c:\\users\\nikol\\.conda\\envs\\irl-chess-v6\\lib\\site-packages (from requests<3,>=2.21.0->tensorflow-intel==2.16.1->tensorflow->-r maia_chess/requirements.txt (line 6)) (3.3.2)\n",
      "Requirement already satisfied: idna<4,>=2.5 in c:\\users\\nikol\\.conda\\envs\\irl-chess-v6\\lib\\site-packages (from requests<3,>=2.21.0->tensorflow-intel==2.16.1->tensorflow->-r maia_chess/requirements.txt (line 6)) (3.6)\n",
      "Requirement already satisfied: urllib3<3,>=1.21.1 in c:\\users\\nikol\\.conda\\envs\\irl-chess-v6\\lib\\site-packages (from requests<3,>=2.21.0->tensorflow-intel==2.16.1->tensorflow->-r maia_chess/requirements.txt (line 6)) (1.26.18)\n",
      "Requirement already satisfied: certifi>=2017.4.17 in c:\\users\\nikol\\.conda\\envs\\irl-chess-v6\\lib\\site-packages (from requests<3,>=2.21.0->tensorflow-intel==2.16.1->tensorflow->-r maia_chess/requirements.txt (line 6)) (2023.11.17)\n",
      "Requirement already satisfied: markdown-it-py>=2.2.0 in c:\\users\\nikol\\.conda\\envs\\irl-chess-v6\\lib\\site-packages (from rich->keras>=3.0.0->tensorflow-intel==2.16.1->tensorflow->-r maia_chess/requirements.txt (line 6)) (3.0.0)\n",
      "Requirement already satisfied: pygments<3.0.0,>=2.13.0 in c:\\users\\nikol\\.conda\\envs\\irl-chess-v6\\lib\\site-packages (from rich->keras>=3.0.0->tensorflow-intel==2.16.1->tensorflow->-r maia_chess/requirements.txt (line 6)) (2.17.2)\n",
      "Requirement already satisfied: mdurl~=0.1 in c:\\users\\nikol\\.conda\\envs\\irl-chess-v6\\lib\\site-packages (from markdown-it-py>=2.2.0->rich->keras>=3.0.0->tensorflow-intel==2.16.1->tensorflow->-r maia_chess/requirements.txt (line 6)) (0.1.2)\n",
      "Using cached humanize-4.9.0-py3-none-any.whl (126 kB)\n",
      "Using cached tensorboard-2.16.2-py3-none-any.whl (5.5 MB)\n",
      "Using cached tensorflow-2.16.1-cp310-cp310-win_amd64.whl (2.1 kB)\n",
      "Using cached tensorflow_intel-2.16.1-cp310-cp310-win_amd64.whl (376.9 MB)\n",
      "Using cached tensorboardX-2.6.2.2-py2.py3-none-any.whl (101 kB)\n",
      "Using cached seaborn-0.13.2-py3-none-any.whl (294 kB)\n",
      "Using cached absl_py-2.1.0-py3-none-any.whl (133 kB)\n",
      "Using cached grpcio-1.63.0-cp310-cp310-win_amd64.whl (3.9 MB)\n",
      "Using cached Markdown-3.6-py3-none-any.whl (105 kB)\n",
      "Using cached tensorboard_data_server-0.7.2-py3-none-any.whl (2.4 kB)\n",
      "Using cached werkzeug-3.0.2-py3-none-any.whl (226 kB)\n",
      "Using cached astunparse-1.6.3-py2.py3-none-any.whl (12 kB)\n",
      "Using cached flatbuffers-24.3.25-py2.py3-none-any.whl (26 kB)\n",
      "Using cached gast-0.5.4-py3-none-any.whl (19 kB)\n",
      "Using cached google_pasta-0.2.0-py3-none-any.whl (57 kB)\n",
      "Using cached h5py-3.11.0-cp310-cp310-win_amd64.whl (3.0 MB)\n",
      "Using cached keras-3.3.3-py3-none-any.whl (1.1 MB)\n",
      "Using cached libclang-18.1.1-py2.py3-none-win_amd64.whl (26.4 MB)\n",
      "Using cached ml_dtypes-0.3.2-cp310-cp310-win_amd64.whl (127 kB)\n",
      "Using cached opt_einsum-3.3.0-py3-none-any.whl (65 kB)\n",
      "Using cached tensorflow_io_gcs_filesystem-0.31.0-cp310-cp310-win_amd64.whl (1.5 MB)\n",
      "Using cached termcolor-2.4.0-py3-none-any.whl (7.7 kB)\n",
      "Using cached wrapt-1.16.0-cp310-cp310-win_amd64.whl (37 kB)\n",
      "Using cached namex-0.0.8-py3-none-any.whl (5.8 kB)\n",
      "Using cached optree-0.11.0-cp310-cp310-win_amd64.whl (243 kB)\n",
      "Installing collected packages: namex, libclang, flatbuffers, wrapt, werkzeug, termcolor, tensorflow-io-gcs-filesystem, tensorboardx, tensorboard-data-server, optree, opt-einsum, ml-dtypes, markdown, humanize, h5py, grpcio, google-pasta, gast, astunparse, absl-py, tensorboard, seaborn, keras, tensorflow-intel, tensorflow\n",
      "Successfully installed absl-py-2.1.0 astunparse-1.6.3 flatbuffers-24.3.25 gast-0.5.4 google-pasta-0.2.0 grpcio-1.63.0 h5py-3.11.0 humanize-4.9.0 keras-3.3.3 libclang-18.1.1 markdown-3.6 ml-dtypes-0.3.2 namex-0.0.8 opt-einsum-3.3.0 optree-0.11.0 seaborn-0.13.2 tensorboard-2.16.2 tensorboard-data-server-0.7.2 tensorboardx-2.6.2.2 tensorflow-2.16.1 tensorflow-intel-2.16.1 tensorflow-io-gcs-filesystem-0.31.0 termcolor-2.4.0 werkzeug-3.0.2 wrapt-1.16.0\n"
     ]
    }
   ],
   "source": [
    "!pip install -r maia_chess/requirements.txt"
   ],
   "metadata": {
    "collapsed": false,
    "ExecuteTime": {
     "end_time": "2024-05-03T12:03:22.975245900Z",
     "start_time": "2024-05-03T12:01:16.410103600Z"
    }
   },
   "id": "c867d79907b1089",
   "execution_count": 34
  },
  {
   "cell_type": "code",
   "outputs": [
    {
     "name": "stderr",
     "output_type": "stream",
     "text": [
      "[D:asyncio] Using proactor: %s\n",
      "[D:chess.engine] %s: Connection made\n",
      "[D:chess.engine] %s: << %s\n",
      "[D:chess.engine] %s: >> %s\n",
      "[D:chess.engine] %s: >> %s\n",
      "[D:chess.engine] %s: >> %s\n",
      "[D:chess.engine] %s: >> %s\n",
      "[D:chess.engine] %s: >> %s\n",
      "[D:chess.engine] %s: >> %s\n",
      "[D:chess.engine] %s: >> %s\n",
      "[D:chess.engine] %s: >> %s\n",
      "[D:chess.engine] %s: >> %s\n",
      "[D:chess.engine] %s: >> %s\n",
      "[D:chess.engine] %s: >> %s\n",
      "[D:chess.engine] %s: >> %s\n",
      "[D:chess.engine] %s: >> %s\n",
      "[D:chess.engine] %s: >> %s\n",
      "[D:chess.engine] %s: >> %s\n",
      "[D:chess.engine] %s: >> %s\n",
      "[D:chess.engine] %s: >> %s\n",
      "[D:chess.engine] %s: >> %s\n",
      "[D:chess.engine] %s: >> %s\n",
      "[D:chess.engine] %s: >> %s\n",
      "[D:chess.engine] %s: >> %s\n",
      "[D:chess.engine] %s: >> %s\n",
      "[D:chess.engine] %s: >> %s\n",
      "[D:chess.engine] %s: >> %s\n",
      "[D:chess.engine] %s: >> %s\n",
      "[D:chess.engine] %s: >> %s\n",
      "[D:chess.engine] %s: >> %s\n",
      "[D:chess.engine] %s: >> %s\n",
      "[D:chess.engine] %s: >> %s\n",
      "[D:chess.engine] %s: >> %s\n",
      "[D:chess.engine] %s: >> %s\n",
      "[D:chess.engine] %s: >> %s\n",
      "[D:chess.engine] %s: >> %s\n",
      "[D:chess.engine] %s: >> %s\n",
      "[D:chess.engine] %s: >> %s\n",
      "[D:chess.engine] %s: >> %s\n",
      "[D:chess.engine] %s: >> %s\n",
      "[D:chess.engine] %s: >> %s\n",
      "[D:chess.engine] %s: >> %s\n",
      "[D:chess.engine] %s: >> %s\n",
      "[D:chess.engine] %s: >> %s\n",
      "[D:chess.engine] %s: >> %s\n",
      "[D:chess.engine] %s: >> %s\n",
      "[D:chess.engine] %s: >> %s\n",
      "[D:chess.engine] %s: >> %s\n",
      "[D:chess.engine] %s: >> %s\n",
      "[D:chess.engine] %s: >> %s\n",
      "[D:chess.engine] %s: >> %s\n",
      "[D:chess.engine] %s: >> %s\n",
      "[D:chess.engine] %s: >> %s\n",
      "[D:chess.engine] %s: >> %s\n",
      "[D:chess.engine] %s: >> %s\n",
      "[D:chess.engine] %s: >> %s\n",
      "[D:chess.engine] %s: >> %s\n",
      "[D:chess.engine] %s: >> %s\n",
      "[D:chess.engine] %s: >> %s\n",
      "[D:chess.engine] %s: >> %s\n",
      "[D:chess.engine] %s: >> %s\n",
      "[D:chess.engine] %s: >> %s\n",
      "[D:chess.engine] %s: >> %s\n",
      "[D:chess.engine] %s: >> %s\n",
      "[D:chess.engine] %s: >> %s\n",
      "[D:chess.engine] %s: >> %s\n",
      "[D:chess.engine] %s: >> %s\n",
      "[D:chess.engine] %s: >> %s\n",
      "[D:chess.engine] %s: >> %s\n",
      "[D:chess.engine] %s: >> %s\n",
      "[D:chess.engine] %s: >> %s\n",
      "[D:chess.engine] %s: >> %s\n"
     ]
    },
    {
     "name": "stdout",
     "output_type": "stream",
     "text": [
      "Model loaded successfully!\n"
     ]
    }
   ],
   "source": [
    "from maia_chess import load_maia_network\n",
    "model = load_maia_network(1100, parent='maia_chess/')"
   ],
   "metadata": {
    "collapsed": false,
    "ExecuteTime": {
     "end_time": "2024-05-03T12:05:59.443811200Z",
     "start_time": "2024-05-03T12:05:50.794390300Z"
    }
   },
   "id": "48d29c919e559acd",
   "execution_count": 35
  },
  {
   "cell_type": "code",
   "outputs": [
    {
     "data": {
      "text/plain": "<Figure size 640x480 with 1 Axes>",
      "image/png": "[encoded data removed]"
     },
     "metadata": {},
     "output_type": "display_data"
    }
   ],
   "source": [
    "import matplotlib.pyplot as plt\n",
    "\n",
    "R_true = np.array([100,200,300,400,900])\n",
    "Rs = np.array([[100,100,200,300,400],\n",
    "               [100,150,250,300,400],\n",
    "               [100,200,300,340,400],\n",
    "               [100,200,300,400,900],])\n",
    "accs = np.array([0.2,0.3,0.5,0.8])\n",
    "\n",
    "def simply_plot_R(Rs, R_true, out_path, epoch):\n",
    "    plot_path = os.path.join(out_path, 'plots')\n",
    "    default_colors = plt.rcParams['axes.prop_cycle'].by_key()['color']\n",
    "    pieces = ['P','N','B','R','Q']\n",
    "    plt.plot(Rs)\n",
    "    plt.hlines(R_true, 0, len(Rs)-1, linestyles='--', colors = default_colors)\n",
    "    plt.title('Sunfish weights over time')\n",
    "    plt.xlabel('Epochs')\n",
    "    plt.ylabel('Weight values')\n",
    "    plt.legend(pieces)\n",
    "    plt.savefig(join(plot_path, f'weights_{epoch}.png'))\n",
    "    plt.cla()\n",
    "\n",
    "simply_plot_R(Rs, R_true)"
   ],
   "metadata": {
    "collapsed": false,
    "ExecuteTime": {
     "end_time": "2024-05-21T07:47:24.262667200Z",
     "start_time": "2024-05-21T07:47:23.907419500Z"
    }
   },
   "id": "7f50dad3a2bf6487",
   "execution_count": 23
  },
  {
   "cell_type": "code",
   "outputs": [
    {
     "data": {
      "text/plain": "Text(0, 0.5, 'Accuracy')"
     },
     "execution_count": 21,
     "metadata": {},
     "output_type": "execute_result"
    },
    {
     "name": "stderr",
     "output_type": "stream",
     "text": [
      "[D:matplotlib.font_manager] findfont: Matching %s.\n",
      "[D:matplotlib.font_manager] findfont: score(%s) = %s\n",
      "[D:matplotlib.font_manager] findfont: score(%s) = %s\n",
      "[D:matplotlib.font_manager] findfont: score(%s) = %s\n",
      "[D:matplotlib.font_manager] findfont: score(%s) = %s\n",
      "[D:matplotlib.font_manager] findfont: score(%s) = %s\n",
      "[D:matplotlib.font_manager] findfont: score(%s) = %s\n",
      "[D:matplotlib.font_manager] findfont: score(%s) = %s\n",
      "[D:matplotlib.font_manager] findfont: score(%s) = %s\n",
      "[D:matplotlib.font_manager] findfont: score(%s) = %s\n",
      "[D:matplotlib.font_manager] findfont: score(%s) = %s\n",
      "[D:matplotlib.font_manager] findfont: score(%s) = %s\n",
      "[D:matplotlib.font_manager] findfont: score(%s) = %s\n",
      "[D:matplotlib.font_manager] findfont: score(%s) = %s\n",
      "[D:matplotlib.font_manager] findfont: score(%s) = %s\n",
      "[D:matplotlib.font_manager] findfont: score(%s) = %s\n",
      "[D:matplotlib.font_manager] findfont: score(%s) = %s\n",
      "[D:matplotlib.font_manager] findfont: score(%s) = %s\n",
      "[D:matplotlib.font_manager] findfont: score(%s) = %s\n",
      "[D:matplotlib.font_manager] findfont: score(%s) = %s\n",
      "[D:matplotlib.font_manager] findfont: score(%s) = %s\n",
      "[D:matplotlib.font_manager] findfont: score(%s) = %s\n",
      "[D:matplotlib.font_manager] findfont: score(%s) = %s\n",
      "[D:matplotlib.font_manager] findfont: score(%s) = %s\n",
      "[D:matplotlib.font_manager] findfont: score(%s) = %s\n",
      "[D:matplotlib.font_manager] findfont: score(%s) = %s\n",
      "[D:matplotlib.font_manager] findfont: score(%s) = %s\n",
      "[D:matplotlib.font_manager] findfont: score(%s) = %s\n",
      "[D:matplotlib.font_manager] findfont: score(%s) = %s\n",
      "[D:matplotlib.font_manager] findfont: score(%s) = %s\n",
      "[D:matplotlib.font_manager] findfont: score(%s) = %s\n",
      "[D:matplotlib.font_manager] findfont: score(%s) = %s\n",
      "[D:matplotlib.font_manager] findfont: score(%s) = %s\n",
      "[D:matplotlib.font_manager] findfont: score(%s) = %s\n",
      "[D:matplotlib.font_manager] findfont: score(%s) = %s\n",
      "[D:matplotlib.font_manager] findfont: score(%s) = %s\n",
      "[D:matplotlib.font_manager] findfont: score(%s) = %s\n",
      "[D:matplotlib.font_manager] findfont: score(%s) = %s\n",
      "[D:matplotlib.font_manager] findfont: score(%s) = %s\n",
      "[D:matplotlib.font_manager] findfont: score(%s) = %s\n",
      "[D:matplotlib.font_manager] findfont: score(%s) = %s\n",
      "[D:matplotlib.font_manager] findfont: score(%s) = %s\n",
      "[D:matplotlib.font_manager] findfont: score(%s) = %s\n",
      "[D:matplotlib.font_manager] findfont: score(%s) = %s\n",
      "[D:matplotlib.font_manager] findfont: score(%s) = %s\n",
      "[D:matplotlib.font_manager] findfont: score(%s) = %s\n",
      "[D:matplotlib.font_manager] findfont: score(%s) = %s\n",
      "[D:matplotlib.font_manager] findfont: score(%s) = %s\n",
      "[D:matplotlib.font_manager] findfont: score(%s) = %s\n",
      "[D:matplotlib.font_manager] findfont: score(%s) = %s\n",
      "[D:matplotlib.font_manager] findfont: score(%s) = %s\n",
      "[D:matplotlib.font_manager] findfont: score(%s) = %s\n",
      "[D:matplotlib.font_manager] findfont: score(%s) = %s\n",
      "[D:matplotlib.font_manager] findfont: score(%s) = %s\n",
      "[D:matplotlib.font_manager] findfont: score(%s) = %s\n",
      "[D:matplotlib.font_manager] findfont: score(%s) = %s\n",
      "[D:matplotlib.font_manager] findfont: score(%s) = %s\n",
      "[D:matplotlib.font_manager] findfont: score(%s) = %s\n",
      "[D:matplotlib.font_manager] findfont: score(%s) = %s\n",
      "[D:matplotlib.font_manager] findfont: score(%s) = %s\n",
      "[D:matplotlib.font_manager] findfont: score(%s) = %s\n",
      "[D:matplotlib.font_manager] findfont: score(%s) = %s\n",
      "[D:matplotlib.font_manager] findfont: score(%s) = %s\n",
      "[D:matplotlib.font_manager] findfont: score(%s) = %s\n",
      "[D:matplotlib.font_manager] findfont: score(%s) = %s\n",
      "[D:matplotlib.font_manager] findfont: score(%s) = %s\n",
      "[D:matplotlib.font_manager] findfont: score(%s) = %s\n",
      "[D:matplotlib.font_manager] findfont: score(%s) = %s\n",
      "[D:matplotlib.font_manager] findfont: score(%s) = %s\n",
      "[D:matplotlib.font_manager] findfont: score(%s) = %s\n",
      "[D:matplotlib.font_manager] findfont: score(%s) = %s\n",
      "[D:matplotlib.font_manager] findfont: score(%s) = %s\n",
      "[D:matplotlib.font_manager] findfont: score(%s) = %s\n",
      "[D:matplotlib.font_manager] findfont: score(%s) = %s\n",
      "[D:matplotlib.font_manager] findfont: score(%s) = %s\n",
      "[D:matplotlib.font_manager] findfont: score(%s) = %s\n",
      "[D:matplotlib.font_manager] findfont: score(%s) = %s\n",
      "[D:matplotlib.font_manager] findfont: score(%s) = %s\n",
      "[D:matplotlib.font_manager] findfont: score(%s) = %s\n",
      "[D:matplotlib.font_manager] findfont: score(%s) = %s\n",
      "[D:matplotlib.font_manager] findfont: score(%s) = %s\n",
      "[D:matplotlib.font_manager] findfont: score(%s) = %s\n",
      "[D:matplotlib.font_manager] findfont: score(%s) = %s\n",
      "[D:matplotlib.font_manager] findfont: score(%s) = %s\n",
      "[D:matplotlib.font_manager] findfont: score(%s) = %s\n",
      "[D:matplotlib.font_manager] findfont: score(%s) = %s\n",
      "[D:matplotlib.font_manager] findfont: score(%s) = %s\n",
      "[D:matplotlib.font_manager] findfont: score(%s) = %s\n",
      "[D:matplotlib.font_manager] findfont: score(%s) = %s\n",
      "[D:matplotlib.font_manager] findfont: score(%s) = %s\n",
      "[D:matplotlib.font_manager] findfont: score(%s) = %s\n",
      "[D:matplotlib.font_manager] findfont: score(%s) = %s\n",
      "[D:matplotlib.font_manager] findfont: score(%s) = %s\n",
      "[D:matplotlib.font_manager] findfont: score(%s) = %s\n",
      "[D:matplotlib.font_manager] findfont: score(%s) = %s\n",
      "[D:matplotlib.font_manager] findfont: score(%s) = %s\n",
      "[D:matplotlib.font_manager] findfont: score(%s) = %s\n",
      "[D:matplotlib.font_manager] findfont: score(%s) = %s\n",
      "[D:matplotlib.font_manager] findfont: score(%s) = %s\n",
      "[D:matplotlib.font_manager] findfont: score(%s) = %s\n",
      "[D:matplotlib.font_manager] findfont: score(%s) = %s\n",
      "[D:matplotlib.font_manager] findfont: score(%s) = %s\n",
      "[D:matplotlib.font_manager] findfont: score(%s) = %s\n",
      "[D:matplotlib.font_manager] findfont: score(%s) = %s\n",
      "[D:matplotlib.font_manager] findfont: score(%s) = %s\n",
      "[D:matplotlib.font_manager] findfont: score(%s) = %s\n",
      "[D:matplotlib.font_manager] findfont: score(%s) = %s\n",
      "[D:matplotlib.font_manager] findfont: score(%s) = %s\n",
      "[D:matplotlib.font_manager] findfont: score(%s) = %s\n",
      "[D:matplotlib.font_manager] findfont: score(%s) = %s\n",
      "[D:matplotlib.font_manager] findfont: score(%s) = %s\n",
      "[D:matplotlib.font_manager] findfont: score(%s) = %s\n",
      "[D:matplotlib.font_manager] findfont: score(%s) = %s\n",
      "[D:matplotlib.font_manager] findfont: score(%s) = %s\n",
      "[D:matplotlib.font_manager] findfont: score(%s) = %s\n",
      "[D:matplotlib.font_manager] findfont: score(%s) = %s\n",
      "[D:matplotlib.font_manager] findfont: score(%s) = %s\n",
      "[D:matplotlib.font_manager] findfont: score(%s) = %s\n",
      "[D:matplotlib.font_manager] findfont: score(%s) = %s\n",
      "[D:matplotlib.font_manager] findfont: score(%s) = %s\n",
      "[D:matplotlib.font_manager] findfont: score(%s) = %s\n",
      "[D:matplotlib.font_manager] findfont: score(%s) = %s\n",
      "[D:matplotlib.font_manager] findfont: score(%s) = %s\n",
      "[D:matplotlib.font_manager] findfont: score(%s) = %s\n",
      "[D:matplotlib.font_manager] findfont: score(%s) = %s\n",
      "[D:matplotlib.font_manager] findfont: score(%s) = %s\n",
      "[D:matplotlib.font_manager] findfont: score(%s) = %s\n",
      "[D:matplotlib.font_manager] findfont: score(%s) = %s\n",
      "[D:matplotlib.font_manager] findfont: score(%s) = %s\n",
      "[D:matplotlib.font_manager] findfont: score(%s) = %s\n",
      "[D:matplotlib.font_manager] findfont: score(%s) = %s\n",
      "[D:matplotlib.font_manager] findfont: score(%s) = %s\n",
      "[D:matplotlib.font_manager] findfont: score(%s) = %s\n",
      "[D:matplotlib.font_manager] findfont: score(%s) = %s\n",
      "[D:matplotlib.font_manager] findfont: score(%s) = %s\n",
      "[D:matplotlib.font_manager] findfont: score(%s) = %s\n",
      "[D:matplotlib.font_manager] findfont: score(%s) = %s\n",
      "[D:matplotlib.font_manager] findfont: score(%s) = %s\n",
      "[D:matplotlib.font_manager] findfont: score(%s) = %s\n",
      "[D:matplotlib.font_manager] findfont: score(%s) = %s\n",
      "[D:matplotlib.font_manager] findfont: score(%s) = %s\n",
      "[D:matplotlib.font_manager] findfont: score(%s) = %s\n",
      "[D:matplotlib.font_manager] findfont: score(%s) = %s\n",
      "[D:matplotlib.font_manager] findfont: score(%s) = %s\n",
      "[D:matplotlib.font_manager] findfont: score(%s) = %s\n",
      "[D:matplotlib.font_manager] findfont: score(%s) = %s\n",
      "[D:matplotlib.font_manager] findfont: score(%s) = %s\n",
      "[D:matplotlib.font_manager] findfont: score(%s) = %s\n",
      "[D:matplotlib.font_manager] findfont: score(%s) = %s\n",
      "[D:matplotlib.font_manager] findfont: score(%s) = %s\n",
      "[D:matplotlib.font_manager] findfont: score(%s) = %s\n",
      "[D:matplotlib.font_manager] findfont: score(%s) = %s\n",
      "[D:matplotlib.font_manager] findfont: score(%s) = %s\n",
      "[D:matplotlib.font_manager] findfont: score(%s) = %s\n",
      "[D:matplotlib.font_manager] findfont: score(%s) = %s\n",
      "[D:matplotlib.font_manager] findfont: score(%s) = %s\n",
      "[D:matplotlib.font_manager] findfont: score(%s) = %s\n",
      "[D:matplotlib.font_manager] findfont: score(%s) = %s\n",
      "[D:matplotlib.font_manager] findfont: score(%s) = %s\n",
      "[D:matplotlib.font_manager] findfont: score(%s) = %s\n",
      "[D:matplotlib.font_manager] findfont: score(%s) = %s\n",
      "[D:matplotlib.font_manager] findfont: score(%s) = %s\n",
      "[D:matplotlib.font_manager] findfont: score(%s) = %s\n",
      "[D:matplotlib.font_manager] findfont: score(%s) = %s\n",
      "[D:matplotlib.font_manager] findfont: score(%s) = %s\n",
      "[D:matplotlib.font_manager] findfont: score(%s) = %s\n",
      "[D:matplotlib.font_manager] findfont: score(%s) = %s\n",
      "[D:matplotlib.font_manager] findfont: score(%s) = %s\n",
      "[D:matplotlib.font_manager] findfont: score(%s) = %s\n",
      "[D:matplotlib.font_manager] findfont: score(%s) = %s\n",
      "[D:matplotlib.font_manager] findfont: score(%s) = %s\n",
      "[D:matplotlib.font_manager] findfont: score(%s) = %s\n",
      "[D:matplotlib.font_manager] findfont: score(%s) = %s\n",
      "[D:matplotlib.font_manager] findfont: score(%s) = %s\n",
      "[D:matplotlib.font_manager] findfont: score(%s) = %s\n",
      "[D:matplotlib.font_manager] findfont: score(%s) = %s\n",
      "[D:matplotlib.font_manager] findfont: score(%s) = %s\n",
      "[D:matplotlib.font_manager] findfont: score(%s) = %s\n",
      "[D:matplotlib.font_manager] findfont: score(%s) = %s\n",
      "[D:matplotlib.font_manager] findfont: score(%s) = %s\n",
      "[D:matplotlib.font_manager] findfont: score(%s) = %s\n",
      "[D:matplotlib.font_manager] findfont: score(%s) = %s\n",
      "[D:matplotlib.font_manager] findfont: score(%s) = %s\n",
      "[D:matplotlib.font_manager] findfont: score(%s) = %s\n",
      "[D:matplotlib.font_manager] findfont: score(%s) = %s\n",
      "[D:matplotlib.font_manager] findfont: score(%s) = %s\n",
      "[D:matplotlib.font_manager] findfont: score(%s) = %s\n",
      "[D:matplotlib.font_manager] findfont: score(%s) = %s\n",
      "[D:matplotlib.font_manager] findfont: score(%s) = %s\n",
      "[D:matplotlib.font_manager] findfont: score(%s) = %s\n",
      "[D:matplotlib.font_manager] findfont: score(%s) = %s\n",
      "[D:matplotlib.font_manager] findfont: score(%s) = %s\n",
      "[D:matplotlib.font_manager] findfont: score(%s) = %s\n",
      "[D:matplotlib.font_manager] findfont: score(%s) = %s\n",
      "[D:matplotlib.font_manager] findfont: score(%s) = %s\n",
      "[D:matplotlib.font_manager] findfont: score(%s) = %s\n",
      "[D:matplotlib.font_manager] findfont: Matching %s to %s (%r) with score of %f.\n"
     ]
    },
    {
     "data": {
      "text/plain": "<Figure size 640x480 with 1 Axes>",
      "image/png": "[encoded data removed]"
     },
     "metadata": {},
     "output_type": "display_data"
    }
   ],
   "source": [
    "import matplotlib.pyplot as plt\n",
    "\n",
    "n = 5000\n",
    "depth_accs_low = np.array([0.329, 0.325, 0.3306, 0.337, 0.342, 0.337, 0.337])\n",
    "depth_accs_high = np.array([0.33, 0.335, 0.355, 0.36, 0.358, 0.365, 0.372])\n",
    "depth_accs = [depth_accs_low, depth_accs_high]\n",
    "\n",
    "accs = depth_accs_high\n",
    "\n",
    "errors = 1.96 * np.sqrt((accs*(1-accs))/n)\n",
    "plt.bar(np.arange(len(accs))+1, accs, yerr=errors, capsize = 5)\n",
    "plt.hlines([max(accs-errors), min(accs+errors)],xmin=0, xmax=len(accs)+1,\n",
    "           linestyles='--', colors=['red','blue'])\n",
    "plt.title('Accuracy at various depths, ELO ')\n",
    "plt.xlabel('Search depth')\n",
    "plt.ylabel('Accuracy')"
   ],
   "metadata": {
    "collapsed": false,
    "ExecuteTime": {
     "end_time": "2024-05-23T12:46:32.811379200Z",
     "start_time": "2024-05-23T12:46:31.614275700Z"
    }
   },
   "id": "4f91b9f295df4613",
   "execution_count": 21
  },
  {
   "cell_type": "code",
   "outputs": [
    {
     "data": {
      "text/plain": "array([0.00028846, 0.00028665, 0.00028917, 0.00029195, 0.00029405,\n       0.00029195, 0.00029195])"
     },
     "execution_count": 7,
     "metadata": {},
     "output_type": "execute_result"
    }
   ],
   "source": [
    "errors"
   ],
   "metadata": {
    "collapsed": false,
    "ExecuteTime": {
     "end_time": "2024-05-23T12:15:48.689544200Z",
     "start_time": "2024-05-23T12:15:48.567972500Z"
    }
   },
   "id": "d380c59efd94df6d",
   "execution_count": 7
  },
  {
   "cell_type": "code",
   "outputs": [
    {
     "ename": "NameError",
     "evalue": "name 'board' is not defined",
     "output_type": "error",
     "traceback": [
      "\u001B[1;31m---------------------------------------------------------------------------\u001B[0m",
      "\u001B[1;31mNameError\u001B[0m                                 Traceback (most recent call last)",
      "Cell \u001B[1;32mIn[22], line 1\u001B[0m\n\u001B[1;32m----> 1\u001B[0m \u001B[43mboard\u001B[49m\n",
      "\u001B[1;31mNameError\u001B[0m: name 'board' is not defined"
     ]
    }
   ],
   "source": [
    "board"
   ],
   "metadata": {
    "collapsed": false,
    "ExecuteTime": {
     "end_time": "2024-05-23T13:28:05.379701700Z",
     "start_time": "2024-05-23T13:28:05.052966700Z"
    }
   },
   "id": "c4d17b6d30845f81",
   "execution_count": 22
  }
 ],
 "metadata": {
  "kernelspec": {
   "display_name": "Python 3",
   "language": "python",
   "name": "python3"
  },
  "language_info": {
   "codemirror_mode": {
    "name": "ipython",
    "version": 2
   },
   "file_extension": ".py",
   "mimetype": "text/x-python",
   "name": "python",
   "nbconvert_exporter": "python",
   "pygments_lexer": "ipython2",
   "version": "2.7.6"
  }
 },
 "nbformat": 4,
 "nbformat_minor": 5
}
