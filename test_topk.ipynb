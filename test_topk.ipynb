{
 "cells": [
  {
   "cell_type": "code",
   "execution_count": 2,
   "id": "initial_id",
   "metadata": {
    "collapsed": true,
    "ExecuteTime": {
     "end_time": "2024-04-19T14:36:18.851336900Z",
     "start_time": "2024-04-19T14:36:14.470231700Z"
    }
   },
   "outputs": [
    {
     "name": "stderr",
     "output_type": "stream",
     "text": [
      "[D:matplotlib] matplotlib data path: %s\n",
      "[D:matplotlib] CONFIGDIR=%s\n",
      "[D:matplotlib] interactive is %s\n",
      "[D:matplotlib] platform is %s\n",
      "[D:matplotlib] CACHEDIR=%s\n",
      "[D:matplotlib.font_manager] Using fontManager instance from %s\n"
     ]
    }
   ],
   "source": [
    "import os\n",
    "from os.path import join\n",
    "import chess.pgn\n",
    "import numpy as np\n",
    "import json\n",
    "import requests\n",
    "from bs4 import BeautifulSoup\n",
    "from requests_html import HTMLSession\n",
    "from joblib import Parallel, delayed\n",
    "from tqdm import tqdm\n",
    "from irl_chess.misc_utils.utils import union_dicts\n",
    "from irl_chess.chess_utils.sunfish_utils import board2sunfish, eval_pos, sunfish_move_to_str, str_to_sunfish_move\n",
    "from irl_chess.chess_utils.sunfish import piece, pst\n",
    "from irl_chess.models.sunfish_GRW import sunfish_move\n",
    "from collections import defaultdict\n",
    "from irl_chess.misc_utils.load_save_utils import fix_cwd, load_config, get_board_after_n, get_states"
   ]
  },
  {
   "cell_type": "code",
   "outputs": [
    {
     "name": "stdout",
     "output_type": "stream",
     "text": [
      "Collecting selenium\n",
      "  Downloading selenium-4.19.0-py3-none-any.whl.metadata (6.9 kB)\n",
      "Requirement already satisfied: urllib3<3,>=1.26 in c:\\users\\nikol\\.conda\\envs\\irl-chess-v6\\lib\\site-packages (from urllib3[socks]<3,>=1.26->selenium) (1.26.18)\n",
      "Collecting trio~=0.17 (from selenium)\n",
      "  Downloading trio-0.25.0-py3-none-any.whl.metadata (8.7 kB)\n",
      "Collecting trio-websocket~=0.9 (from selenium)\n",
      "  Downloading trio_websocket-0.11.1-py3-none-any.whl.metadata (4.7 kB)\n",
      "Requirement already satisfied: certifi>=2021.10.8 in c:\\users\\nikol\\.conda\\envs\\irl-chess-v6\\lib\\site-packages (from selenium) (2023.11.17)\n",
      "Requirement already satisfied: typing_extensions>=4.9.0 in c:\\users\\nikol\\.conda\\envs\\irl-chess-v6\\lib\\site-packages (from selenium) (4.9.0)\n",
      "Requirement already satisfied: attrs>=23.2.0 in c:\\users\\nikol\\.conda\\envs\\irl-chess-v6\\lib\\site-packages (from trio~=0.17->selenium) (23.2.0)\n",
      "Collecting sortedcontainers (from trio~=0.17->selenium)\n",
      "  Downloading sortedcontainers-2.4.0-py2.py3-none-any.whl.metadata (10 kB)\n",
      "Requirement already satisfied: idna in c:\\users\\nikol\\.conda\\envs\\irl-chess-v6\\lib\\site-packages (from trio~=0.17->selenium) (3.6)\n",
      "Collecting outcome (from trio~=0.17->selenium)\n",
      "  Downloading outcome-1.3.0.post0-py2.py3-none-any.whl.metadata (2.6 kB)\n",
      "Requirement already satisfied: sniffio>=1.3.0 in c:\\users\\nikol\\.conda\\envs\\irl-chess-v6\\lib\\site-packages (from trio~=0.17->selenium) (1.3.0)\n",
      "Requirement already satisfied: cffi>=1.14 in c:\\users\\nikol\\.conda\\envs\\irl-chess-v6\\lib\\site-packages (from trio~=0.17->selenium) (1.16.0)\n",
      "Requirement already satisfied: exceptiongroup in c:\\users\\nikol\\.conda\\envs\\irl-chess-v6\\lib\\site-packages (from trio~=0.17->selenium) (1.2.0)\n",
      "Collecting wsproto>=0.14 (from trio-websocket~=0.9->selenium)\n",
      "  Downloading wsproto-1.2.0-py3-none-any.whl.metadata (5.6 kB)\n",
      "Requirement already satisfied: PySocks!=1.5.7,<2.0,>=1.5.6 in c:\\users\\nikol\\.conda\\envs\\irl-chess-v6\\lib\\site-packages (from urllib3[socks]<3,>=1.26->selenium) (1.7.1)\n",
      "Requirement already satisfied: pycparser in c:\\users\\nikol\\.conda\\envs\\irl-chess-v6\\lib\\site-packages (from cffi>=1.14->trio~=0.17->selenium) (2.21)\n",
      "Collecting h11<1,>=0.9.0 (from wsproto>=0.14->trio-websocket~=0.9->selenium)\n",
      "  Using cached h11-0.14.0-py3-none-any.whl.metadata (8.2 kB)\n",
      "Downloading selenium-4.19.0-py3-none-any.whl (10.5 MB)\n",
      "   ---------------------------------------- 0.0/10.5 MB ? eta -:--:--\n",
      "   ---------------------------------------- 0.0/10.5 MB 960.0 kB/s eta 0:00:11\n",
      "   ---------------------------------------- 0.1/10.5 MB 1.3 MB/s eta 0:00:09\n",
      "    --------------------------------------- 0.2/10.5 MB 1.3 MB/s eta 0:00:08\n",
      "    --------------------------------------- 0.2/10.5 MB 1.3 MB/s eta 0:00:08\n",
      "   - -------------------------------------- 0.3/10.5 MB 1.4 MB/s eta 0:00:08\n",
      "   - -------------------------------------- 0.4/10.5 MB 1.3 MB/s eta 0:00:08\n",
      "   - -------------------------------------- 0.5/10.5 MB 1.5 MB/s eta 0:00:07\n",
      "   -- ------------------------------------- 0.5/10.5 MB 1.5 MB/s eta 0:00:07\n",
      "   -- ------------------------------------- 0.6/10.5 MB 1.6 MB/s eta 0:00:07\n",
      "   -- ------------------------------------- 0.7/10.5 MB 1.6 MB/s eta 0:00:07\n",
      "   --- ------------------------------------ 0.8/10.5 MB 1.6 MB/s eta 0:00:06\n",
      "   --- ------------------------------------ 0.9/10.5 MB 1.6 MB/s eta 0:00:06\n",
      "   --- ------------------------------------ 1.0/10.5 MB 1.7 MB/s eta 0:00:06\n",
      "   ---- ----------------------------------- 1.1/10.5 MB 1.7 MB/s eta 0:00:06\n",
      "   ---- ----------------------------------- 1.3/10.5 MB 1.8 MB/s eta 0:00:06\n",
      "   ----- ---------------------------------- 1.3/10.5 MB 1.8 MB/s eta 0:00:05\n",
      "   ----- ---------------------------------- 1.5/10.5 MB 1.9 MB/s eta 0:00:05\n",
      "   ------ --------------------------------- 1.6/10.5 MB 1.9 MB/s eta 0:00:05\n",
      "   ------ --------------------------------- 1.8/10.5 MB 2.0 MB/s eta 0:00:05\n",
      "   ------- -------------------------------- 1.9/10.5 MB 2.0 MB/s eta 0:00:05\n",
      "   ------- -------------------------------- 2.0/10.5 MB 2.1 MB/s eta 0:00:05\n",
      "   -------- ------------------------------- 2.2/10.5 MB 2.2 MB/s eta 0:00:04\n",
      "   -------- ------------------------------- 2.3/10.5 MB 2.2 MB/s eta 0:00:04\n",
      "   --------- ------------------------------ 2.5/10.5 MB 2.2 MB/s eta 0:00:04\n",
      "   ---------- ----------------------------- 2.7/10.5 MB 2.3 MB/s eta 0:00:04\n",
      "   ---------- ----------------------------- 2.8/10.5 MB 2.3 MB/s eta 0:00:04\n",
      "   ----------- ---------------------------- 3.0/10.5 MB 2.4 MB/s eta 0:00:04\n",
      "   ------------ --------------------------- 3.2/10.5 MB 2.4 MB/s eta 0:00:04\n",
      "   ------------ --------------------------- 3.3/10.5 MB 2.5 MB/s eta 0:00:03\n",
      "   ------------- -------------------------- 3.6/10.5 MB 2.6 MB/s eta 0:00:03\n",
      "   -------------- ------------------------- 3.7/10.5 MB 2.6 MB/s eta 0:00:03\n",
      "   --------------- ------------------------ 4.0/10.5 MB 2.7 MB/s eta 0:00:03\n",
      "   ---------------- ----------------------- 4.2/10.5 MB 2.8 MB/s eta 0:00:03\n",
      "   ----------------- ---------------------- 4.5/10.5 MB 2.9 MB/s eta 0:00:03\n",
      "   ------------------ --------------------- 4.8/10.5 MB 2.9 MB/s eta 0:00:02\n",
      "   ------------------- -------------------- 5.1/10.5 MB 3.0 MB/s eta 0:00:02\n",
      "   -------------------- ------------------- 5.4/10.5 MB 3.1 MB/s eta 0:00:02\n",
      "   --------------------- ------------------ 5.7/10.5 MB 3.2 MB/s eta 0:00:02\n",
      "   ---------------------- ----------------- 5.9/10.5 MB 3.2 MB/s eta 0:00:02\n",
      "   ----------------------- ---------------- 6.1/10.5 MB 3.3 MB/s eta 0:00:02\n",
      "   ------------------------ --------------- 6.4/10.5 MB 3.4 MB/s eta 0:00:02\n",
      "   ------------------------- -------------- 6.8/10.5 MB 3.5 MB/s eta 0:00:02\n",
      "   --------------------------- ------------ 7.2/10.5 MB 3.6 MB/s eta 0:00:01\n",
      "   ---------------------------- ----------- 7.5/10.5 MB 3.7 MB/s eta 0:00:01\n",
      "   ----------------------------- ---------- 7.9/10.5 MB 3.8 MB/s eta 0:00:01\n",
      "   ------------------------------- -------- 8.2/10.5 MB 3.8 MB/s eta 0:00:01\n",
      "   --------------------------------- ------ 8.7/10.5 MB 4.0 MB/s eta 0:00:01\n",
      "   ---------------------------------- ----- 9.1/10.5 MB 4.1 MB/s eta 0:00:01\n",
      "   ------------------------------------ --- 9.7/10.5 MB 4.2 MB/s eta 0:00:01\n",
      "   -------------------------------------- - 10.1/10.5 MB 4.3 MB/s eta 0:00:01\n",
      "   ---------------------------------------  10.5/10.5 MB 4.7 MB/s eta 0:00:01\n",
      "   ---------------------------------------- 10.5/10.5 MB 4.6 MB/s eta 0:00:00\n",
      "Downloading trio-0.25.0-py3-none-any.whl (467 kB)\n",
      "   ---------------------------------------- 0.0/467.2 kB ? eta -:--:--\n",
      "   --------------------------------------- 467.2/467.2 kB 14.7 MB/s eta 0:00:00\n",
      "Downloading trio_websocket-0.11.1-py3-none-any.whl (17 kB)\n",
      "Downloading wsproto-1.2.0-py3-none-any.whl (24 kB)\n",
      "Downloading outcome-1.3.0.post0-py2.py3-none-any.whl (10 kB)\n",
      "Downloading sortedcontainers-2.4.0-py2.py3-none-any.whl (29 kB)\n",
      "Using cached h11-0.14.0-py3-none-any.whl (58 kB)\n",
      "Installing collected packages: sortedcontainers, outcome, h11, wsproto, trio, trio-websocket, selenium\n",
      "Successfully installed h11-0.14.0 outcome-1.3.0.post0 selenium-4.19.0 sortedcontainers-2.4.0 trio-0.25.0 trio-websocket-0.11.1 wsproto-1.2.0\n"
     ]
    }
   ],
   "source": [
    "!pip install selenium"
   ],
   "metadata": {
    "collapsed": false,
    "ExecuteTime": {
     "end_time": "2024-04-19T14:53:14.218942200Z",
     "start_time": "2024-04-19T14:52:57.364966700Z"
    }
   },
   "id": "6a41aa6651fdd974",
   "execution_count": 6
  },
  {
   "cell_type": "code",
   "outputs": [],
   "source": [
    "def top_k_moves(move_dict, k, verbose=False):\n",
    "    score_matrix = np.zeros((len(move_dict), 200), dtype=float) - np.inf\n",
    "    for i, (move, scores) in enumerate(move_dict.items()):\n",
    "        score_matrix[i, :len(scores)] = scores\n",
    "    moves_at_depth = (score_matrix != -np.inf).sum(axis=0)\n",
    "    top_moves_depth = sum(moves_at_depth > k)\n",
    "    top_moves_idxs = np.where(score_matrix[:, top_moves_depth] != -np.inf)[0]\n",
    "    if verbose:\n",
    "        print('Intermediary moves')\n",
    "        print({sunfish_move_to_str(move) for i, move in enumerate(move_dict) if i in top_moves_idxs}, '\\n')\n",
    "    score_matrix[top_moves_idxs, top_moves_depth-1] = -np.inf\n",
    "    missing_moves = k - len(top_moves_idxs)\n",
    "    if verbose:\n",
    "        print(missing_moves)\n",
    "    if missing_moves:\n",
    "        top_moves_idxs = np.append(top_moves_idxs, score_matrix[:, top_moves_depth-1].argsort()[-missing_moves:])\n",
    "    return {sunfish_move_to_str(move) for i, move in enumerate(move_dict) if i in top_moves_idxs}"
   ],
   "metadata": {
    "collapsed": false,
    "ExecuteTime": {
     "end_time": "2024-04-19T10:42:35.581175900Z",
     "start_time": "2024-04-19T10:42:35.567181200Z"
    }
   },
   "id": "420e4153b8e1f449",
   "execution_count": 2
  },
  {
   "cell_type": "code",
   "outputs": [
    {
     "name": "stderr",
     "output_type": "stream",
     "text": [
      "  4%|▍         | 4/100 [00:04<01:39,  1.04s/it]"
     ]
    },
    {
     "name": "stdout",
     "output_type": "stream",
     "text": [
      "Failure\n"
     ]
    },
    {
     "name": "stderr",
     "output_type": "stream",
     "text": [
      "  7%|▋         | 7/100 [00:07<01:38,  1.06s/it]"
     ]
    },
    {
     "name": "stdout",
     "output_type": "stream",
     "text": [
      "Failure\n"
     ]
    },
    {
     "name": "stderr",
     "output_type": "stream",
     "text": [
      "  9%|▉         | 9/100 [00:08<01:26,  1.05it/s]"
     ]
    },
    {
     "name": "stdout",
     "output_type": "stream",
     "text": [
      "Failure\n"
     ]
    },
    {
     "name": "stderr",
     "output_type": "stream",
     "text": [
      " 25%|██▌       | 25/100 [00:20<00:55,  1.35it/s]"
     ]
    },
    {
     "name": "stdout",
     "output_type": "stream",
     "text": [
      "Failure\n"
     ]
    },
    {
     "name": "stderr",
     "output_type": "stream",
     "text": [
      " 35%|███▌      | 35/100 [00:31<00:55,  1.17it/s]"
     ]
    },
    {
     "name": "stdout",
     "output_type": "stream",
     "text": [
      "Failure\n"
     ]
    },
    {
     "name": "stderr",
     "output_type": "stream",
     "text": [
      " 47%|████▋     | 47/100 [00:41<00:40,  1.31it/s]"
     ]
    },
    {
     "name": "stdout",
     "output_type": "stream",
     "text": [
      "Failure\n"
     ]
    },
    {
     "name": "stderr",
     "output_type": "stream",
     "text": [
      " 53%|█████▎    | 53/100 [00:45<00:30,  1.53it/s]"
     ]
    },
    {
     "name": "stdout",
     "output_type": "stream",
     "text": [
      "Failure\n"
     ]
    },
    {
     "name": "stderr",
     "output_type": "stream",
     "text": [
      " 58%|█████▊    | 58/100 [00:51<00:56,  1.35s/it]"
     ]
    },
    {
     "name": "stdout",
     "output_type": "stream",
     "text": [
      "Failure\n"
     ]
    },
    {
     "name": "stderr",
     "output_type": "stream",
     "text": [
      " 74%|███████▍  | 74/100 [01:05<00:18,  1.40it/s]"
     ]
    },
    {
     "name": "stdout",
     "output_type": "stream",
     "text": [
      "Failure\n"
     ]
    },
    {
     "name": "stderr",
     "output_type": "stream",
     "text": [
      " 77%|███████▋  | 77/100 [01:07<00:17,  1.30it/s]"
     ]
    },
    {
     "name": "stdout",
     "output_type": "stream",
     "text": [
      "Failure\n"
     ]
    },
    {
     "name": "stderr",
     "output_type": "stream",
     "text": [
      " 86%|████████▌ | 86/100 [01:14<00:13,  1.04it/s]"
     ]
    },
    {
     "name": "stdout",
     "output_type": "stream",
     "text": [
      "Failure\n"
     ]
    },
    {
     "name": "stderr",
     "output_type": "stream",
     "text": [
      " 99%|█████████▉| 99/100 [01:28<00:01,  1.13s/it]"
     ]
    },
    {
     "name": "stdout",
     "output_type": "stream",
     "text": [
      "Failure\n"
     ]
    },
    {
     "name": "stderr",
     "output_type": "stream",
     "text": [
      "100%|██████████| 100/100 [01:29<00:00,  1.11it/s]"
     ]
    },
    {
     "name": "stdout",
     "output_type": "stream",
     "text": [
      "12/100\n"
     ]
    },
    {
     "name": "stderr",
     "output_type": "stream",
     "text": [
      "\n"
     ]
    }
   ],
   "source": [
    "pgn = open(\"data/raw/lichess_db_standard_rated_2013-01.pgn\")\n",
    "failures = 0\n",
    "for i in tqdm(range(100)):\n",
    "    game = chess.pgn.read_game(pgn)\n",
    "    board = game.board()\n",
    "    state, player_move = get_board_after_n(game, 15)\n",
    "    sf_state = board2sunfish(state, 300)\n",
    "    if not state.turn:\n",
    "        state = state.transform(chess.flip_horizontal)\n",
    "        state.apply_mirror()\n",
    "    player_move = sunfish_move_to_str(player_move)\n",
    "    move, best_moves, move_dict = sunfish_move(sf_state, pst, 0.5, move_only=False)\n",
    "    best_moves = {sunfish_move_to_str(move) for move in best_moves.keys()}\n",
    "    top_moves = top_k_moves(move_dict, len(best_moves))\n",
    "    if not top_moves == best_moves:\n",
    "        print('Failure')\n",
    "        failures += 1\n",
    "print(f'{failures}/100')"
   ],
   "metadata": {
    "collapsed": false,
    "ExecuteTime": {
     "end_time": "2024-04-19T13:39:29.863862200Z",
     "start_time": "2024-04-19T13:38:00.081143100Z"
    }
   },
   "id": "1b4e307b9b5a3a43",
   "execution_count": 13
  },
  {
   "cell_type": "code",
   "outputs": [
    {
     "name": "stdout",
     "output_type": "stream",
     "text": [
      "Sunfish best move: a1a7\n",
      "Sunfish moves: {'d3d4', 'a1a7', 'e4d5', 'd1b1', 'c3d5'}\n",
      "Player move: e4d5\n"
     ]
    },
    {
     "data": {
      "text/plain": "Board('r2kqb1r/ppp1nppp/4b3/3pp3/4P3/1PNPB3/1PP2PPP/R2KQ1NR w - - 0 8')",
      "image/svg+xml": "<svg xmlns=\"http://www.w3.org/2000/svg\" xmlns:xlink=\"http://www.w3.org/1999/xlink\" viewBox=\"0 0 390 390\" width=\"390\" height=\"390\"><desc><pre>r . . k q b . r\np p p . n p p p\n. . . . b . . .\n. . . p p . . .\n. . . . P . . .\n. P N P B . . .\n. P P . . P P P\nR . . K Q . N R</pre></desc><defs><g id=\"white-pawn\" class=\"white pawn\"><path d=\"M22.5 9c-2.21 0-4 1.79-4 4 0 .89.29 1.71.78 2.38C17.33 16.5 16 18.59 16 21c0 2.03.94 3.84 2.41 5.03-3 1.06-7.41 5.55-7.41 13.47h23c0-7.92-4.41-12.41-7.41-13.47 1.47-1.19 2.41-3 2.41-5.03 0-2.41-1.33-4.5-3.28-5.62.49-.67.78-1.49.78-2.38 0-2.21-1.79-4-4-4z\" fill=\"#fff\" stroke=\"#000\" stroke-width=\"1.5\" stroke-linecap=\"round\" /></g><g id=\"white-knight\" class=\"white knight\" fill=\"none\" fill-rule=\"evenodd\" stroke=\"#000\" stroke-width=\"1.5\" stroke-linecap=\"round\" stroke-linejoin=\"round\"><path d=\"M 22,10 C 32.5,11 38.5,18 38,39 L 15,39 C 15,30 25,32.5 23,18\" style=\"fill:#ffffff; stroke:#000000;\" /><path d=\"M 24,18 C 24.38,20.91 18.45,25.37 16,27 C 13,29 13.18,31.34 11,31 C 9.958,30.06 12.41,27.96 11,28 C 10,28 11.19,29.23 10,30 C 9,30 5.997,31 6,26 C 6,24 12,14 12,14 C 12,14 13.89,12.1 14,10.5 C 13.27,9.506 13.5,8.5 13.5,7.5 C 14.5,6.5 16.5,10 16.5,10 L 18.5,10 C 18.5,10 19.28,8.008 21,7 C 22,7 22,10 22,10\" style=\"fill:#ffffff; stroke:#000000;\" /><path d=\"M 9.5 25.5 A 0.5 0.5 0 1 1 8.5,25.5 A 0.5 0.5 0 1 1 9.5 25.5 z\" style=\"fill:#000000; stroke:#000000;\" /><path d=\"M 15 15.5 A 0.5 1.5 0 1 1 14,15.5 A 0.5 1.5 0 1 1 15 15.5 z\" transform=\"matrix(0.866,0.5,-0.5,0.866,9.693,-5.173)\" style=\"fill:#000000; stroke:#000000;\" /></g><g id=\"white-bishop\" class=\"white bishop\" fill=\"none\" fill-rule=\"evenodd\" stroke=\"#000\" stroke-width=\"1.5\" stroke-linecap=\"round\" stroke-linejoin=\"round\"><g fill=\"#fff\" stroke-linecap=\"butt\"><path d=\"M9 36c3.39-.97 10.11.43 13.5-2 3.39 2.43 10.11 1.03 13.5 2 0 0 1.65.54 3 2-.68.97-1.65.99-3 .5-3.39-.97-10.11.46-13.5-1-3.39 1.46-10.11.03-13.5 1-1.354.49-2.323.47-3-.5 1.354-1.94 3-2 3-2zM15 32c2.5 2.5 12.5 2.5 15 0 .5-1.5 0-2 0-2 0-2.5-2.5-4-2.5-4 5.5-1.5 6-11.5-5-15.5-11 4-10.5 14-5 15.5 0 0-2.5 1.5-2.5 4 0 0-.5.5 0 2zM25 8a2.5 2.5 0 1 1-5 0 2.5 2.5 0 1 1 5 0z\" /></g><path d=\"M17.5 26h10M15 30h15m-7.5-14.5v5M20 18h5\" stroke-linejoin=\"miter\" /></g><g id=\"white-rook\" class=\"white rook\" fill=\"#fff\" fill-rule=\"evenodd\" stroke=\"#000\" stroke-width=\"1.5\" stroke-linecap=\"round\" stroke-linejoin=\"round\"><path d=\"M9 39h27v-3H9v3zM12 36v-4h21v4H12zM11 14V9h4v2h5V9h5v2h5V9h4v5\" stroke-linecap=\"butt\" /><path d=\"M34 14l-3 3H14l-3-3\" /><path d=\"M31 17v12.5H14V17\" stroke-linecap=\"butt\" stroke-linejoin=\"miter\" /><path d=\"M31 29.5l1.5 2.5h-20l1.5-2.5\" /><path d=\"M11 14h23\" fill=\"none\" stroke-linejoin=\"miter\" /></g><g id=\"white-queen\" class=\"white queen\" fill=\"#fff\" fill-rule=\"evenodd\" stroke=\"#000\" stroke-width=\"1.5\" stroke-linecap=\"round\" stroke-linejoin=\"round\"><path d=\"M8 12a2 2 0 1 1-4 0 2 2 0 1 1 4 0zM24.5 7.5a2 2 0 1 1-4 0 2 2 0 1 1 4 0zM41 12a2 2 0 1 1-4 0 2 2 0 1 1 4 0zM16 8.5a2 2 0 1 1-4 0 2 2 0 1 1 4 0zM33 9a2 2 0 1 1-4 0 2 2 0 1 1 4 0z\" /><path d=\"M9 26c8.5-1.5 21-1.5 27 0l2-12-7 11V11l-5.5 13.5-3-15-3 15-5.5-14V25L7 14l2 12zM9 26c0 2 1.5 2 2.5 4 1 1.5 1 1 .5 3.5-1.5 1-1.5 2.5-1.5 2.5-1.5 1.5.5 2.5.5 2.5 6.5 1 16.5 1 23 0 0 0 1.5-1 0-2.5 0 0 .5-1.5-1-2.5-.5-2.5-.5-2 .5-3.5 1-2 2.5-2 2.5-4-8.5-1.5-18.5-1.5-27 0z\" stroke-linecap=\"butt\" /><path d=\"M11.5 30c3.5-1 18.5-1 22 0M12 33.5c6-1 15-1 21 0\" fill=\"none\" /></g><g id=\"white-king\" class=\"white king\" fill=\"none\" fill-rule=\"evenodd\" stroke=\"#000\" stroke-width=\"1.5\" stroke-linecap=\"round\" stroke-linejoin=\"round\"><path d=\"M22.5 11.63V6M20 8h5\" stroke-linejoin=\"miter\" /><path d=\"M22.5 25s4.5-7.5 3-10.5c0 0-1-2.5-3-2.5s-3 2.5-3 2.5c-1.5 3 3 10.5 3 10.5\" fill=\"#fff\" stroke-linecap=\"butt\" stroke-linejoin=\"miter\" /><path d=\"M11.5 37c5.5 3.5 15.5 3.5 21 0v-7s9-4.5 6-10.5c-4-6.5-13.5-3.5-16 4V27v-3.5c-3.5-7.5-13-10.5-16-4-3 6 5 10 5 10V37z\" fill=\"#fff\" /><path d=\"M11.5 30c5.5-3 15.5-3 21 0m-21 3.5c5.5-3 15.5-3 21 0m-21 3.5c5.5-3 15.5-3 21 0\" /></g><g id=\"black-pawn\" class=\"black pawn\"><path d=\"M22.5 9c-2.21 0-4 1.79-4 4 0 .89.29 1.71.78 2.38C17.33 16.5 16 18.59 16 21c0 2.03.94 3.84 2.41 5.03-3 1.06-7.41 5.55-7.41 13.47h23c0-7.92-4.41-12.41-7.41-13.47 1.47-1.19 2.41-3 2.41-5.03 0-2.41-1.33-4.5-3.28-5.62.49-.67.78-1.49.78-2.38 0-2.21-1.79-4-4-4z\" fill=\"#000\" stroke=\"#000\" stroke-width=\"1.5\" stroke-linecap=\"round\" /></g><g id=\"black-knight\" class=\"black knight\" fill=\"none\" fill-rule=\"evenodd\" stroke=\"#000\" stroke-width=\"1.5\" stroke-linecap=\"round\" stroke-linejoin=\"round\"><path d=\"M 22,10 C 32.5,11 38.5,18 38,39 L 15,39 C 15,30 25,32.5 23,18\" style=\"fill:#000000; stroke:#000000;\" /><path d=\"M 24,18 C 24.38,20.91 18.45,25.37 16,27 C 13,29 13.18,31.34 11,31 C 9.958,30.06 12.41,27.96 11,28 C 10,28 11.19,29.23 10,30 C 9,30 5.997,31 6,26 C 6,24 12,14 12,14 C 12,14 13.89,12.1 14,10.5 C 13.27,9.506 13.5,8.5 13.5,7.5 C 14.5,6.5 16.5,10 16.5,10 L 18.5,10 C 18.5,10 19.28,8.008 21,7 C 22,7 22,10 22,10\" style=\"fill:#000000; stroke:#000000;\" /><path d=\"M 9.5 25.5 A 0.5 0.5 0 1 1 8.5,25.5 A 0.5 0.5 0 1 1 9.5 25.5 z\" style=\"fill:#ececec; stroke:#ececec;\" /><path d=\"M 15 15.5 A 0.5 1.5 0 1 1 14,15.5 A 0.5 1.5 0 1 1 15 15.5 z\" transform=\"matrix(0.866,0.5,-0.5,0.866,9.693,-5.173)\" style=\"fill:#ececec; stroke:#ececec;\" /><path d=\"M 24.55,10.4 L 24.1,11.85 L 24.6,12 C 27.75,13 30.25,14.49 32.5,18.75 C 34.75,23.01 35.75,29.06 35.25,39 L 35.2,39.5 L 37.45,39.5 L 37.5,39 C 38,28.94 36.62,22.15 34.25,17.66 C 31.88,13.17 28.46,11.02 25.06,10.5 L 24.55,10.4 z \" style=\"fill:#ececec; stroke:none;\" /></g><g id=\"black-bishop\" class=\"black bishop\" fill=\"none\" fill-rule=\"evenodd\" stroke=\"#000\" stroke-width=\"1.5\" stroke-linecap=\"round\" stroke-linejoin=\"round\"><path d=\"M9 36c3.39-.97 10.11.43 13.5-2 3.39 2.43 10.11 1.03 13.5 2 0 0 1.65.54 3 2-.68.97-1.65.99-3 .5-3.39-.97-10.11.46-13.5-1-3.39 1.46-10.11.03-13.5 1-1.354.49-2.323.47-3-.5 1.354-1.94 3-2 3-2zm6-4c2.5 2.5 12.5 2.5 15 0 .5-1.5 0-2 0-2 0-2.5-2.5-4-2.5-4 5.5-1.5 6-11.5-5-15.5-11 4-10.5 14-5 15.5 0 0-2.5 1.5-2.5 4 0 0-.5.5 0 2zM25 8a2.5 2.5 0 1 1-5 0 2.5 2.5 0 1 1 5 0z\" fill=\"#000\" stroke-linecap=\"butt\" /><path d=\"M17.5 26h10M15 30h15m-7.5-14.5v5M20 18h5\" stroke=\"#fff\" stroke-linejoin=\"miter\" /></g><g id=\"black-rook\" class=\"black rook\" fill=\"#000\" fill-rule=\"evenodd\" stroke=\"#000\" stroke-width=\"1.5\" stroke-linecap=\"round\" stroke-linejoin=\"round\"><path d=\"M9 39h27v-3H9v3zM12.5 32l1.5-2.5h17l1.5 2.5h-20zM12 36v-4h21v4H12z\" stroke-linecap=\"butt\" /><path d=\"M14 29.5v-13h17v13H14z\" stroke-linecap=\"butt\" stroke-linejoin=\"miter\" /><path d=\"M14 16.5L11 14h23l-3 2.5H14zM11 14V9h4v2h5V9h5v2h5V9h4v5H11z\" stroke-linecap=\"butt\" /><path d=\"M12 35.5h21M13 31.5h19M14 29.5h17M14 16.5h17M11 14h23\" fill=\"none\" stroke=\"#fff\" stroke-width=\"1\" stroke-linejoin=\"miter\" /></g><g id=\"black-queen\" class=\"black queen\" fill=\"#000\" fill-rule=\"evenodd\" stroke=\"#000\" stroke-width=\"1.5\" stroke-linecap=\"round\" stroke-linejoin=\"round\"><g fill=\"#000\" stroke=\"none\"><circle cx=\"6\" cy=\"12\" r=\"2.75\" /><circle cx=\"14\" cy=\"9\" r=\"2.75\" /><circle cx=\"22.5\" cy=\"8\" r=\"2.75\" /><circle cx=\"31\" cy=\"9\" r=\"2.75\" /><circle cx=\"39\" cy=\"12\" r=\"2.75\" /></g><path d=\"M9 26c8.5-1.5 21-1.5 27 0l2.5-12.5L31 25l-.3-14.1-5.2 13.6-3-14.5-3 14.5-5.2-13.6L14 25 6.5 13.5 9 26zM9 26c0 2 1.5 2 2.5 4 1 1.5 1 1 .5 3.5-1.5 1-1.5 2.5-1.5 2.5-1.5 1.5.5 2.5.5 2.5 6.5 1 16.5 1 23 0 0 0 1.5-1 0-2.5 0 0 .5-1.5-1-2.5-.5-2.5-.5-2 .5-3.5 1-2 2.5-2 2.5-4-8.5-1.5-18.5-1.5-27 0z\" stroke-linecap=\"butt\" /><path d=\"M11 38.5a35 35 1 0 0 23 0\" fill=\"none\" stroke-linecap=\"butt\" /><path d=\"M11 29a35 35 1 0 1 23 0M12.5 31.5h20M11.5 34.5a35 35 1 0 0 22 0M10.5 37.5a35 35 1 0 0 24 0\" fill=\"none\" stroke=\"#fff\" /></g><g id=\"black-king\" class=\"black king\" fill=\"none\" fill-rule=\"evenodd\" stroke=\"#000\" stroke-width=\"1.5\" stroke-linecap=\"round\" stroke-linejoin=\"round\"><path d=\"M22.5 11.63V6\" stroke-linejoin=\"miter\" /><path d=\"M22.5 25s4.5-7.5 3-10.5c0 0-1-2.5-3-2.5s-3 2.5-3 2.5c-1.5 3 3 10.5 3 10.5\" fill=\"#000\" stroke-linecap=\"butt\" stroke-linejoin=\"miter\" /><path d=\"M11.5 37c5.5 3.5 15.5 3.5 21 0v-7s9-4.5 6-10.5c-4-6.5-13.5-3.5-16 4V27v-3.5c-3.5-7.5-13-10.5-16-4-3 6 5 10 5 10V37z\" fill=\"#000\" /><path d=\"M20 8h5\" stroke-linejoin=\"miter\" /><path d=\"M32 29.5s8.5-4 6.03-9.65C34.15 14 25 18 22.5 24.5l.01 2.1-.01-2.1C20 18 9.906 14 6.997 19.85c-2.497 5.65 4.853 9 4.853 9M11.5 30c5.5-3 15.5-3 21 0m-21 3.5c5.5-3 15.5-3 21 0m-21 3.5c5.5-3 15.5-3 21 0\" stroke=\"#fff\" /></g></defs><rect x=\"7.5\" y=\"7.5\" width=\"375\" height=\"375\" fill=\"none\" stroke=\"#212121\" stroke-width=\"15\" /><g transform=\"translate(20, 1) scale(0.75, 0.75)\" fill=\"#e5e5e5\" stroke=\"#e5e5e5\"><path d=\"M23.328 10.016q-1.742 0-2.414.398-.672.398-.672 1.36 0 .765.5 1.218.508.445 1.375.445 1.196 0 1.914-.843.727-.852.727-2.258v-.32zm2.867-.594v4.992h-1.437v-1.328q-.492.797-1.227 1.18-.734.375-1.797.375-1.343 0-2.14-.75-.79-.758-.79-2.024 0-1.476.985-2.226.992-.75 2.953-.75h2.016V8.75q0-.992-.656-1.531-.649-.547-1.829-.547-.75 0-1.46.18-.711.18-1.368.539V6.062q.79-.304 1.532-.453.742-.156 1.445-.156 1.898 0 2.836.984.937.985.937 2.985z\" /></g><g transform=\"translate(20, 375) scale(0.75, 0.75)\" fill=\"#e5e5e5\" stroke=\"#e5e5e5\"><path d=\"M23.328 10.016q-1.742 0-2.414.398-.672.398-.672 1.36 0 .765.5 1.218.508.445 1.375.445 1.196 0 1.914-.843.727-.852.727-2.258v-.32zm2.867-.594v4.992h-1.437v-1.328q-.492.797-1.227 1.18-.734.375-1.797.375-1.343 0-2.14-.75-.79-.758-.79-2.024 0-1.476.985-2.226.992-.75 2.953-.75h2.016V8.75q0-.992-.656-1.531-.649-.547-1.829-.547-.75 0-1.46.18-.711.18-1.368.539V6.062q.79-.304 1.532-.453.742-.156 1.445-.156 1.898 0 2.836.984.937.985.937 2.985z\" /></g><g transform=\"translate(65, 1) scale(0.75, 0.75)\" fill=\"#e5e5e5\" stroke=\"#e5e5e5\"><path d=\"M24.922 10.047q0-1.586-.656-2.485-.649-.906-1.79-.906-1.14 0-1.796.906-.649.899-.649 2.485 0 1.586.649 2.492.656.898 1.797.898 1.14 0 1.789-.898.656-.906.656-2.492zm-4.89-3.055q.452-.781 1.14-1.156.695-.383 1.656-.383 1.594 0 2.586 1.266 1 1.265 1 3.328 0 2.062-1 3.328-.992 1.266-2.586 1.266-.96 0-1.656-.375-.688-.383-1.14-1.164v1.312h-1.446V2.258h1.445z\" /></g><g transform=\"translate(65, 375) scale(0.75, 0.75)\" fill=\"#e5e5e5\" stroke=\"#e5e5e5\"><path d=\"M24.922 10.047q0-1.586-.656-2.485-.649-.906-1.79-.906-1.14 0-1.796.906-.649.899-.649 2.485 0 1.586.649 2.492.656.898 1.797.898 1.14 0 1.789-.898.656-.906.656-2.492zm-4.89-3.055q.452-.781 1.14-1.156.695-.383 1.656-.383 1.594 0 2.586 1.266 1 1.265 1 3.328 0 2.062-1 3.328-.992 1.266-2.586 1.266-.96 0-1.656-.375-.688-.383-1.14-1.164v1.312h-1.446V2.258h1.445z\" /></g><g transform=\"translate(110, 1) scale(0.75, 0.75)\" fill=\"#e5e5e5\" stroke=\"#e5e5e5\"><path d=\"M25.96 6v1.344q-.608-.336-1.226-.5-.609-.172-1.234-.172-1.398 0-2.172.89-.773.883-.773 2.485 0 1.601.773 2.492.774.883 2.172.883.625 0 1.234-.164.618-.172 1.227-.508v1.328q-.602.281-1.25.422-.64.14-1.367.14-1.977 0-3.14-1.242-1.165-1.242-1.165-3.351 0-2.14 1.172-3.367 1.18-1.227 3.227-1.227.664 0 1.296.14.633.134 1.227.407z\" /></g><g transform=\"translate(110, 375) scale(0.75, 0.75)\" fill=\"#e5e5e5\" stroke=\"#e5e5e5\"><path d=\"M25.96 6v1.344q-.608-.336-1.226-.5-.609-.172-1.234-.172-1.398 0-2.172.89-.773.883-.773 2.485 0 1.601.773 2.492.774.883 2.172.883.625 0 1.234-.164.618-.172 1.227-.508v1.328q-.602.281-1.25.422-.64.14-1.367.14-1.977 0-3.14-1.242-1.165-1.242-1.165-3.351 0-2.14 1.172-3.367 1.18-1.227 3.227-1.227.664 0 1.296.14.633.134 1.227.407z\" /></g><g transform=\"translate(155, 1) scale(0.75, 0.75)\" fill=\"#e5e5e5\" stroke=\"#e5e5e5\"><path d=\"M24.973 6.992V2.258h1.437v12.156h-1.437v-1.312q-.453.78-1.149 1.164-.687.375-1.656.375-1.586 0-2.586-1.266-.992-1.266-.992-3.328 0-2.063.992-3.328 1-1.266 2.586-1.266.969 0 1.656.383.696.375 1.149 1.156zm-4.899 3.055q0 1.586.649 2.492.656.898 1.797.898 1.14 0 1.796-.898.657-.906.657-2.492 0-1.586-.657-2.485-.656-.906-1.796-.906-1.141 0-1.797.906-.649.899-.649 2.485z\" /></g><g transform=\"translate(155, 375) scale(0.75, 0.75)\" fill=\"#e5e5e5\" stroke=\"#e5e5e5\"><path d=\"M24.973 6.992V2.258h1.437v12.156h-1.437v-1.312q-.453.78-1.149 1.164-.687.375-1.656.375-1.586 0-2.586-1.266-.992-1.266-.992-3.328 0-2.063.992-3.328 1-1.266 2.586-1.266.969 0 1.656.383.696.375 1.149 1.156zm-4.899 3.055q0 1.586.649 2.492.656.898 1.797.898 1.14 0 1.796-.898.657-.906.657-2.492 0-1.586-.657-2.485-.656-.906-1.796-.906-1.141 0-1.797.906-.649.899-.649 2.485z\" /></g><g transform=\"translate(200, 1) scale(0.75, 0.75)\" fill=\"#e5e5e5\" stroke=\"#e5e5e5\"><path d=\"M26.555 9.68v.703h-6.61q.094 1.484.89 2.265.806.774 2.235.774.828 0 1.602-.203.781-.203 1.547-.61v1.36q-.774.328-1.586.5-.813.172-1.649.172-2.093 0-3.32-1.22-1.219-1.218-1.219-3.296 0-2.148 1.157-3.406 1.164-1.266 3.132-1.266 1.766 0 2.79 1.14 1.03 1.134 1.03 3.087zm-1.438-.422q-.015-1.18-.664-1.883-.64-.703-1.703-.703-1.203 0-1.93.68-.718.68-.828 1.914z\" /></g><g transform=\"translate(200, 375) scale(0.75, 0.75)\" fill=\"#e5e5e5\" stroke=\"#e5e5e5\"><path d=\"M26.555 9.68v.703h-6.61q.094 1.484.89 2.265.806.774 2.235.774.828 0 1.602-.203.781-.203 1.547-.61v1.36q-.774.328-1.586.5-.813.172-1.649.172-2.093 0-3.32-1.22-1.219-1.218-1.219-3.296 0-2.148 1.157-3.406 1.164-1.266 3.132-1.266 1.766 0 2.79 1.14 1.03 1.134 1.03 3.087zm-1.438-.422q-.015-1.18-.664-1.883-.64-.703-1.703-.703-1.203 0-1.93.68-.718.68-.828 1.914z\" /></g><g transform=\"translate(245, 1) scale(0.75, 0.75)\" fill=\"#e5e5e5\" stroke=\"#e5e5e5\"><path d=\"M25.285 2.258v1.195H23.91q-.773 0-1.078.313-.297.312-.297 1.125v.773h2.367v1.117h-2.367v7.633H21.09V6.781h-1.375V5.664h1.375v-.61q0-1.46.68-2.124.68-.672 2.156-.672z\" /></g><g transform=\"translate(245, 375) scale(0.75, 0.75)\" fill=\"#e5e5e5\" stroke=\"#e5e5e5\"><path d=\"M25.285 2.258v1.195H23.91q-.773 0-1.078.313-.297.312-.297 1.125v.773h2.367v1.117h-2.367v7.633H21.09V6.781h-1.375V5.664h1.375v-.61q0-1.46.68-2.124.68-.672 2.156-.672z\" /></g><g transform=\"translate(290, 1) scale(0.75, 0.75)\" fill=\"#e5e5e5\" stroke=\"#e5e5e5\"><path d=\"M24.973 9.937q0-1.562-.649-2.421-.64-.86-1.804-.86-1.157 0-1.805.86-.64.859-.64 2.421 0 1.555.64 2.415.648.859 1.805.859 1.164 0 1.804-.86.649-.859.649-2.414zm1.437 3.391q0 2.234-.992 3.32-.992 1.094-3.04 1.094-.757 0-1.429-.117-.672-.11-1.304-.344v-1.398q.632.344 1.25.508.617.164 1.257.164 1.414 0 2.118-.743.703-.734.703-2.226v-.711q-.446.773-1.141 1.156-.695.383-1.664.383-1.61 0-2.594-1.227-.984-1.226-.984-3.25 0-2.03.984-3.257.985-1.227 2.594-1.227.969 0 1.664.383t1.14 1.156V5.664h1.438z\" /></g><g transform=\"translate(290, 375) scale(0.75, 0.75)\" fill=\"#e5e5e5\" stroke=\"#e5e5e5\"><path d=\"M24.973 9.937q0-1.562-.649-2.421-.64-.86-1.804-.86-1.157 0-1.805.86-.64.859-.64 2.421 0 1.555.64 2.415.648.859 1.805.859 1.164 0 1.804-.86.649-.859.649-2.414zm1.437 3.391q0 2.234-.992 3.32-.992 1.094-3.04 1.094-.757 0-1.429-.117-.672-.11-1.304-.344v-1.398q.632.344 1.25.508.617.164 1.257.164 1.414 0 2.118-.743.703-.734.703-2.226v-.711q-.446.773-1.141 1.156-.695.383-1.664.383-1.61 0-2.594-1.227-.984-1.226-.984-3.25 0-2.03.984-3.257.985-1.227 2.594-1.227.969 0 1.664.383t1.14 1.156V5.664h1.438z\" /></g><g transform=\"translate(335, 1) scale(0.75, 0.75)\" fill=\"#e5e5e5\" stroke=\"#e5e5e5\"><path d=\"M26.164 9.133v5.281h-1.437V9.18q0-1.243-.485-1.86-.484-.617-1.453-.617-1.164 0-1.836.742-.672.742-.672 2.024v4.945h-1.445V2.258h1.445v4.765q.516-.789 1.211-1.18.703-.39 1.617-.39 1.508 0 2.282.938.773.93.773 2.742z\" /></g><g transform=\"translate(335, 375) scale(0.75, 0.75)\" fill=\"#e5e5e5\" stroke=\"#e5e5e5\"><path d=\"M26.164 9.133v5.281h-1.437V9.18q0-1.243-.485-1.86-.484-.617-1.453-.617-1.164 0-1.836.742-.672.742-.672 2.024v4.945h-1.445V2.258h1.445v4.765q.516-.789 1.211-1.18.703-.39 1.617-.39 1.508 0 2.282.938.773.93.773 2.742z\" /></g><g transform=\"translate(0, 335) scale(0.75, 0.75)\" fill=\"#e5e5e5\" stroke=\"#e5e5e5\"><path d=\"M6.754 26.996h2.578v-8.898l-2.805.562v-1.437l2.79-.563h1.578v10.336h2.578v1.328h-6.72z\" /></g><g transform=\"translate(375, 335) scale(0.75, 0.75)\" fill=\"#e5e5e5\" stroke=\"#e5e5e5\"><path d=\"M6.754 26.996h2.578v-8.898l-2.805.562v-1.437l2.79-.563h1.578v10.336h2.578v1.328h-6.72z\" /></g><g transform=\"translate(0, 290) scale(0.75, 0.75)\" fill=\"#e5e5e5\" stroke=\"#e5e5e5\"><path d=\"M8.195 26.996h5.508v1.328H6.297v-1.328q.898-.93 2.445-2.492 1.555-1.57 1.953-2.024.758-.851 1.055-1.437.305-.594.305-1.164 0-.93-.657-1.516-.648-.586-1.695-.586-.742 0-1.57.258-.82.258-1.758.781v-1.593q.953-.383 1.781-.578.828-.196 1.516-.196 1.812 0 2.89.906 1.079.907 1.079 2.422 0 .72-.274 1.368-.265.64-.976 1.515-.196.227-1.243 1.313-1.046 1.078-2.953 3.023z\" /></g><g transform=\"translate(375, 290) scale(0.75, 0.75)\" fill=\"#e5e5e5\" stroke=\"#e5e5e5\"><path d=\"M8.195 26.996h5.508v1.328H6.297v-1.328q.898-.93 2.445-2.492 1.555-1.57 1.953-2.024.758-.851 1.055-1.437.305-.594.305-1.164 0-.93-.657-1.516-.648-.586-1.695-.586-.742 0-1.57.258-.82.258-1.758.781v-1.593q.953-.383 1.781-.578.828-.196 1.516-.196 1.812 0 2.89.906 1.079.907 1.079 2.422 0 .72-.274 1.368-.265.64-.976 1.515-.196.227-1.243 1.313-1.046 1.078-2.953 3.023z\" /></g><g transform=\"translate(0, 245) scale(0.75, 0.75)\" fill=\"#e5e5e5\" stroke=\"#e5e5e5\"><path d=\"M11.434 22.035q1.132.242 1.765 1.008.64.766.64 1.89 0 1.727-1.187 2.672-1.187.946-3.375.946-.734 0-1.515-.149-.774-.14-1.602-.43V26.45q.656.383 1.438.578.78.196 1.632.196 1.485 0 2.258-.586.782-.586.782-1.703 0-1.032-.727-1.61-.719-.586-2.008-.586h-1.36v-1.297h1.423q1.164 0 1.78-.46.618-.47.618-1.344 0-.899-.64-1.375-.633-.485-1.82-.485-.65 0-1.391.141-.743.14-1.633.437V16.95q.898-.25 1.68-.375.788-.125 1.484-.125 1.797 0 2.844.82 1.046.813 1.046 2.204 0 .968-.554 1.64-.555.664-1.578.922z\" /></g><g transform=\"translate(375, 245) scale(0.75, 0.75)\" fill=\"#e5e5e5\" stroke=\"#e5e5e5\"><path d=\"M11.434 22.035q1.132.242 1.765 1.008.64.766.64 1.89 0 1.727-1.187 2.672-1.187.946-3.375.946-.734 0-1.515-.149-.774-.14-1.602-.43V26.45q.656.383 1.438.578.78.196 1.632.196 1.485 0 2.258-.586.782-.586.782-1.703 0-1.032-.727-1.61-.719-.586-2.008-.586h-1.36v-1.297h1.423q1.164 0 1.78-.46.618-.47.618-1.344 0-.899-.64-1.375-.633-.485-1.82-.485-.65 0-1.391.141-.743.14-1.633.437V16.95q.898-.25 1.68-.375.788-.125 1.484-.125 1.797 0 2.844.82 1.046.813 1.046 2.204 0 .968-.554 1.64-.555.664-1.578.922z\" /></g><g transform=\"translate(0, 200) scale(0.75, 0.75)\" fill=\"#e5e5e5\" stroke=\"#e5e5e5\"><path d=\"M11.016 18.035L7.03 24.262h3.985zm-.414-1.375h1.984v7.602h1.664v1.312h-1.664v2.75h-1.57v-2.75H5.75v-1.523z\" /></g><g transform=\"translate(375, 200) scale(0.75, 0.75)\" fill=\"#e5e5e5\" stroke=\"#e5e5e5\"><path d=\"M11.016 18.035L7.03 24.262h3.985zm-.414-1.375h1.984v7.602h1.664v1.312h-1.664v2.75h-1.57v-2.75H5.75v-1.523z\" /></g><g transform=\"translate(0, 155) scale(0.75, 0.75)\" fill=\"#e5e5e5\" stroke=\"#e5e5e5\"><path d=\"M6.719 16.66h6.195v1.328h-4.75v2.86q.344-.118.688-.172.343-.063.687-.063 1.953 0 3.094 1.07 1.14 1.07 1.14 2.899 0 1.883-1.171 2.93-1.172 1.039-3.305 1.039-.735 0-1.5-.125-.758-.125-1.57-.375v-1.586q.703.383 1.453.57.75.188 1.586.188 1.351 0 2.14-.711.79-.711.79-1.93 0-1.219-.79-1.93-.789-.71-2.14-.71-.633 0-1.266.14-.625.14-1.281.438z\" /></g><g transform=\"translate(375, 155) scale(0.75, 0.75)\" fill=\"#e5e5e5\" stroke=\"#e5e5e5\"><path d=\"M6.719 16.66h6.195v1.328h-4.75v2.86q.344-.118.688-.172.343-.063.687-.063 1.953 0 3.094 1.07 1.14 1.07 1.14 2.899 0 1.883-1.171 2.93-1.172 1.039-3.305 1.039-.735 0-1.5-.125-.758-.125-1.57-.375v-1.586q.703.383 1.453.57.75.188 1.586.188 1.351 0 2.14-.711.79-.711.79-1.93 0-1.219-.79-1.93-.789-.71-2.14-.71-.633 0-1.266.14-.625.14-1.281.438z\" /></g><g transform=\"translate(0, 110) scale(0.75, 0.75)\" fill=\"#e5e5e5\" stroke=\"#e5e5e5\"><path d=\"M10.137 21.863q-1.063 0-1.688.727-.617.726-.617 1.992 0 1.258.617 1.992.625.727 1.688.727 1.062 0 1.68-.727.624-.734.624-1.992 0-1.266-.625-1.992-.617-.727-1.68-.727zm3.133-4.945v1.437q-.594-.28-1.204-.43-.601-.148-1.195-.148-1.562 0-2.39 1.055-.82 1.055-.938 3.188.46-.68 1.156-1.04.696-.367 1.531-.367 1.758 0 2.774 1.07 1.023 1.063 1.023 2.899 0 1.797-1.062 2.883-1.063 1.086-2.828 1.086-2.024 0-3.094-1.547-1.07-1.555-1.07-4.5 0-2.766 1.312-4.406 1.313-1.649 3.524-1.649.593 0 1.195.117.61.118 1.266.352z\" /></g><g transform=\"translate(375, 110) scale(0.75, 0.75)\" fill=\"#e5e5e5\" stroke=\"#e5e5e5\"><path d=\"M10.137 21.863q-1.063 0-1.688.727-.617.726-.617 1.992 0 1.258.617 1.992.625.727 1.688.727 1.062 0 1.68-.727.624-.734.624-1.992 0-1.266-.625-1.992-.617-.727-1.68-.727zm3.133-4.945v1.437q-.594-.28-1.204-.43-.601-.148-1.195-.148-1.562 0-2.39 1.055-.82 1.055-.938 3.188.46-.68 1.156-1.04.696-.367 1.531-.367 1.758 0 2.774 1.07 1.023 1.063 1.023 2.899 0 1.797-1.062 2.883-1.063 1.086-2.828 1.086-2.024 0-3.094-1.547-1.07-1.555-1.07-4.5 0-2.766 1.312-4.406 1.313-1.649 3.524-1.649.593 0 1.195.117.61.118 1.266.352z\" /></g><g transform=\"translate(0, 65) scale(0.75, 0.75)\" fill=\"#e5e5e5\" stroke=\"#e5e5e5\"><path d=\"M6.25 16.66h7.5v.672L9.516 28.324H7.867l3.985-10.336H6.25z\" /></g><g transform=\"translate(375, 65) scale(0.75, 0.75)\" fill=\"#e5e5e5\" stroke=\"#e5e5e5\"><path d=\"M6.25 16.66h7.5v.672L9.516 28.324H7.867l3.985-10.336H6.25z\" /></g><g transform=\"translate(0, 20) scale(0.75, 0.75)\" fill=\"#e5e5e5\" stroke=\"#e5e5e5\"><path d=\"M10 22.785q-1.125 0-1.773.602-.641.601-.641 1.656t.64 1.656q.649.602 1.774.602t1.773-.602q.649-.61.649-1.656 0-1.055-.649-1.656-.64-.602-1.773-.602zm-1.578-.672q-1.016-.25-1.586-.945-.563-.695-.563-1.695 0-1.399.993-2.211 1-.813 2.734-.813 1.742 0 2.734.813.993.812.993 2.21 0 1-.57 1.696-.563.695-1.571.945 1.14.266 1.773 1.04.641.773.641 1.89 0 1.695-1.04 2.602-1.03.906-2.96.906t-2.969-.906Q6 26.738 6 25.043q0-1.117.64-1.89.641-.774 1.782-1.04zm-.578-2.492q0 .906.562 1.414.57.508 1.594.508 1.016 0 1.586-.508.578-.508.578-1.414 0-.906-.578-1.414-.57-.508-1.586-.508-1.023 0-1.594.508-.562.508-.562 1.414z\" /></g><g transform=\"translate(375, 20) scale(0.75, 0.75)\" fill=\"#e5e5e5\" stroke=\"#e5e5e5\"><path d=\"M10 22.785q-1.125 0-1.773.602-.641.601-.641 1.656t.64 1.656q.649.602 1.774.602t1.773-.602q.649-.61.649-1.656 0-1.055-.649-1.656-.64-.602-1.773-.602zm-1.578-.672q-1.016-.25-1.586-.945-.563-.695-.563-1.695 0-1.399.993-2.211 1-.813 2.734-.813 1.742 0 2.734.813.993.812.993 2.21 0 1-.57 1.696-.563.695-1.571.945 1.14.266 1.773 1.04.641.773.641 1.89 0 1.695-1.04 2.602-1.03.906-2.96.906t-2.969-.906Q6 26.738 6 25.043q0-1.117.64-1.89.641-.774 1.782-1.04zm-.578-2.492q0 .906.562 1.414.57.508 1.594.508 1.016 0 1.586-.508.578-.508.578-1.414 0-.906-.578-1.414-.57-.508-1.586-.508-1.023 0-1.594.508-.562.508-.562 1.414z\" /></g><rect x=\"15\" y=\"330\" width=\"45\" height=\"45\" class=\"square dark a1\" stroke=\"none\" fill=\"#d18b47\" /><rect x=\"60\" y=\"330\" width=\"45\" height=\"45\" class=\"square light b1\" stroke=\"none\" fill=\"#ffce9e\" /><rect x=\"105\" y=\"330\" width=\"45\" height=\"45\" class=\"square dark c1\" stroke=\"none\" fill=\"#d18b47\" /><rect x=\"150\" y=\"330\" width=\"45\" height=\"45\" class=\"square light d1\" stroke=\"none\" fill=\"#ffce9e\" /><rect x=\"195\" y=\"330\" width=\"45\" height=\"45\" class=\"square dark e1\" stroke=\"none\" fill=\"#d18b47\" /><rect x=\"240\" y=\"330\" width=\"45\" height=\"45\" class=\"square light f1\" stroke=\"none\" fill=\"#ffce9e\" /><rect x=\"285\" y=\"330\" width=\"45\" height=\"45\" class=\"square dark g1\" stroke=\"none\" fill=\"#d18b47\" /><rect x=\"330\" y=\"330\" width=\"45\" height=\"45\" class=\"square light h1\" stroke=\"none\" fill=\"#ffce9e\" /><rect x=\"15\" y=\"285\" width=\"45\" height=\"45\" class=\"square light a2\" stroke=\"none\" fill=\"#ffce9e\" /><rect x=\"60\" y=\"285\" width=\"45\" height=\"45\" class=\"square dark b2\" stroke=\"none\" fill=\"#d18b47\" /><rect x=\"105\" y=\"285\" width=\"45\" height=\"45\" class=\"square light c2\" stroke=\"none\" fill=\"#ffce9e\" /><rect x=\"150\" y=\"285\" width=\"45\" height=\"45\" class=\"square dark d2\" stroke=\"none\" fill=\"#d18b47\" /><rect x=\"195\" y=\"285\" width=\"45\" height=\"45\" class=\"square light e2\" stroke=\"none\" fill=\"#ffce9e\" /><rect x=\"240\" y=\"285\" width=\"45\" height=\"45\" class=\"square dark f2\" stroke=\"none\" fill=\"#d18b47\" /><rect x=\"285\" y=\"285\" width=\"45\" height=\"45\" class=\"square light g2\" stroke=\"none\" fill=\"#ffce9e\" /><rect x=\"330\" y=\"285\" width=\"45\" height=\"45\" class=\"square dark h2\" stroke=\"none\" fill=\"#d18b47\" /><rect x=\"15\" y=\"240\" width=\"45\" height=\"45\" class=\"square dark a3\" stroke=\"none\" fill=\"#d18b47\" /><rect x=\"60\" y=\"240\" width=\"45\" height=\"45\" class=\"square light b3\" stroke=\"none\" fill=\"#ffce9e\" /><rect x=\"105\" y=\"240\" width=\"45\" height=\"45\" class=\"square dark c3\" stroke=\"none\" fill=\"#d18b47\" /><rect x=\"150\" y=\"240\" width=\"45\" height=\"45\" class=\"square light d3\" stroke=\"none\" fill=\"#ffce9e\" /><rect x=\"195\" y=\"240\" width=\"45\" height=\"45\" class=\"square dark e3\" stroke=\"none\" fill=\"#d18b47\" /><rect x=\"240\" y=\"240\" width=\"45\" height=\"45\" class=\"square light f3\" stroke=\"none\" fill=\"#ffce9e\" /><rect x=\"285\" y=\"240\" width=\"45\" height=\"45\" class=\"square dark g3\" stroke=\"none\" fill=\"#d18b47\" /><rect x=\"330\" y=\"240\" width=\"45\" height=\"45\" class=\"square light h3\" stroke=\"none\" fill=\"#ffce9e\" /><rect x=\"15\" y=\"195\" width=\"45\" height=\"45\" class=\"square light a4\" stroke=\"none\" fill=\"#ffce9e\" /><rect x=\"60\" y=\"195\" width=\"45\" height=\"45\" class=\"square dark b4\" stroke=\"none\" fill=\"#d18b47\" /><rect x=\"105\" y=\"195\" width=\"45\" height=\"45\" class=\"square light c4\" stroke=\"none\" fill=\"#ffce9e\" /><rect x=\"150\" y=\"195\" width=\"45\" height=\"45\" class=\"square dark d4\" stroke=\"none\" fill=\"#d18b47\" /><rect x=\"195\" y=\"195\" width=\"45\" height=\"45\" class=\"square light e4\" stroke=\"none\" fill=\"#ffce9e\" /><rect x=\"240\" y=\"195\" width=\"45\" height=\"45\" class=\"square dark f4\" stroke=\"none\" fill=\"#d18b47\" /><rect x=\"285\" y=\"195\" width=\"45\" height=\"45\" class=\"square light g4\" stroke=\"none\" fill=\"#ffce9e\" /><rect x=\"330\" y=\"195\" width=\"45\" height=\"45\" class=\"square dark h4\" stroke=\"none\" fill=\"#d18b47\" /><rect x=\"15\" y=\"150\" width=\"45\" height=\"45\" class=\"square dark a5\" stroke=\"none\" fill=\"#d18b47\" /><rect x=\"60\" y=\"150\" width=\"45\" height=\"45\" class=\"square light b5\" stroke=\"none\" fill=\"#ffce9e\" /><rect x=\"105\" y=\"150\" width=\"45\" height=\"45\" class=\"square dark c5\" stroke=\"none\" fill=\"#d18b47\" /><rect x=\"150\" y=\"150\" width=\"45\" height=\"45\" class=\"square light d5\" stroke=\"none\" fill=\"#ffce9e\" /><rect x=\"195\" y=\"150\" width=\"45\" height=\"45\" class=\"square dark e5\" stroke=\"none\" fill=\"#d18b47\" /><rect x=\"240\" y=\"150\" width=\"45\" height=\"45\" class=\"square light f5\" stroke=\"none\" fill=\"#ffce9e\" /><rect x=\"285\" y=\"150\" width=\"45\" height=\"45\" class=\"square dark g5\" stroke=\"none\" fill=\"#d18b47\" /><rect x=\"330\" y=\"150\" width=\"45\" height=\"45\" class=\"square light h5\" stroke=\"none\" fill=\"#ffce9e\" /><rect x=\"15\" y=\"105\" width=\"45\" height=\"45\" class=\"square light a6\" stroke=\"none\" fill=\"#ffce9e\" /><rect x=\"60\" y=\"105\" width=\"45\" height=\"45\" class=\"square dark b6\" stroke=\"none\" fill=\"#d18b47\" /><rect x=\"105\" y=\"105\" width=\"45\" height=\"45\" class=\"square light c6\" stroke=\"none\" fill=\"#ffce9e\" /><rect x=\"150\" y=\"105\" width=\"45\" height=\"45\" class=\"square dark d6\" stroke=\"none\" fill=\"#d18b47\" /><rect x=\"195\" y=\"105\" width=\"45\" height=\"45\" class=\"square light e6\" stroke=\"none\" fill=\"#ffce9e\" /><rect x=\"240\" y=\"105\" width=\"45\" height=\"45\" class=\"square dark f6\" stroke=\"none\" fill=\"#d18b47\" /><rect x=\"285\" y=\"105\" width=\"45\" height=\"45\" class=\"square light g6\" stroke=\"none\" fill=\"#ffce9e\" /><rect x=\"330\" y=\"105\" width=\"45\" height=\"45\" class=\"square dark h6\" stroke=\"none\" fill=\"#d18b47\" /><rect x=\"15\" y=\"60\" width=\"45\" height=\"45\" class=\"square dark a7\" stroke=\"none\" fill=\"#d18b47\" /><rect x=\"60\" y=\"60\" width=\"45\" height=\"45\" class=\"square light b7\" stroke=\"none\" fill=\"#ffce9e\" /><rect x=\"105\" y=\"60\" width=\"45\" height=\"45\" class=\"square dark c7\" stroke=\"none\" fill=\"#d18b47\" /><rect x=\"150\" y=\"60\" width=\"45\" height=\"45\" class=\"square light d7\" stroke=\"none\" fill=\"#ffce9e\" /><rect x=\"195\" y=\"60\" width=\"45\" height=\"45\" class=\"square dark e7\" stroke=\"none\" fill=\"#d18b47\" /><rect x=\"240\" y=\"60\" width=\"45\" height=\"45\" class=\"square light f7\" stroke=\"none\" fill=\"#ffce9e\" /><rect x=\"285\" y=\"60\" width=\"45\" height=\"45\" class=\"square dark g7\" stroke=\"none\" fill=\"#d18b47\" /><rect x=\"330\" y=\"60\" width=\"45\" height=\"45\" class=\"square light h7\" stroke=\"none\" fill=\"#ffce9e\" /><rect x=\"15\" y=\"15\" width=\"45\" height=\"45\" class=\"square light a8\" stroke=\"none\" fill=\"#ffce9e\" /><rect x=\"60\" y=\"15\" width=\"45\" height=\"45\" class=\"square dark b8\" stroke=\"none\" fill=\"#d18b47\" /><rect x=\"105\" y=\"15\" width=\"45\" height=\"45\" class=\"square light c8\" stroke=\"none\" fill=\"#ffce9e\" /><rect x=\"150\" y=\"15\" width=\"45\" height=\"45\" class=\"square dark d8\" stroke=\"none\" fill=\"#d18b47\" /><rect x=\"195\" y=\"15\" width=\"45\" height=\"45\" class=\"square light e8\" stroke=\"none\" fill=\"#ffce9e\" /><rect x=\"240\" y=\"15\" width=\"45\" height=\"45\" class=\"square dark f8\" stroke=\"none\" fill=\"#d18b47\" /><rect x=\"285\" y=\"15\" width=\"45\" height=\"45\" class=\"square light g8\" stroke=\"none\" fill=\"#ffce9e\" /><rect x=\"330\" y=\"15\" width=\"45\" height=\"45\" class=\"square dark h8\" stroke=\"none\" fill=\"#d18b47\" /><use href=\"#white-rook\" xlink:href=\"#white-rook\" transform=\"translate(15, 330)\" /><use href=\"#white-king\" xlink:href=\"#white-king\" transform=\"translate(150, 330)\" /><use href=\"#white-queen\" xlink:href=\"#white-queen\" transform=\"translate(195, 330)\" /><use href=\"#white-knight\" xlink:href=\"#white-knight\" transform=\"translate(285, 330)\" /><use href=\"#white-rook\" xlink:href=\"#white-rook\" transform=\"translate(330, 330)\" /><use href=\"#white-pawn\" xlink:href=\"#white-pawn\" transform=\"translate(60, 285)\" /><use href=\"#white-pawn\" xlink:href=\"#white-pawn\" transform=\"translate(105, 285)\" /><use href=\"#white-pawn\" xlink:href=\"#white-pawn\" transform=\"translate(240, 285)\" /><use href=\"#white-pawn\" xlink:href=\"#white-pawn\" transform=\"translate(285, 285)\" /><use href=\"#white-pawn\" xlink:href=\"#white-pawn\" transform=\"translate(330, 285)\" /><use href=\"#white-pawn\" xlink:href=\"#white-pawn\" transform=\"translate(60, 240)\" /><use href=\"#white-knight\" xlink:href=\"#white-knight\" transform=\"translate(105, 240)\" /><use href=\"#white-pawn\" xlink:href=\"#white-pawn\" transform=\"translate(150, 240)\" /><use href=\"#white-bishop\" xlink:href=\"#white-bishop\" transform=\"translate(195, 240)\" /><use href=\"#white-pawn\" xlink:href=\"#white-pawn\" transform=\"translate(195, 195)\" /><use href=\"#black-pawn\" xlink:href=\"#black-pawn\" transform=\"translate(150, 150)\" /><use href=\"#black-pawn\" xlink:href=\"#black-pawn\" transform=\"translate(195, 150)\" /><use href=\"#black-bishop\" xlink:href=\"#black-bishop\" transform=\"translate(195, 105)\" /><use href=\"#black-pawn\" xlink:href=\"#black-pawn\" transform=\"translate(15, 60)\" /><use href=\"#black-pawn\" xlink:href=\"#black-pawn\" transform=\"translate(60, 60)\" /><use href=\"#black-pawn\" xlink:href=\"#black-pawn\" transform=\"translate(105, 60)\" /><use href=\"#black-knight\" xlink:href=\"#black-knight\" transform=\"translate(195, 60)\" /><use href=\"#black-pawn\" xlink:href=\"#black-pawn\" transform=\"translate(240, 60)\" /><use href=\"#black-pawn\" xlink:href=\"#black-pawn\" transform=\"translate(285, 60)\" /><use href=\"#black-pawn\" xlink:href=\"#black-pawn\" transform=\"translate(330, 60)\" /><use href=\"#black-rook\" xlink:href=\"#black-rook\" transform=\"translate(15, 15)\" /><use href=\"#black-king\" xlink:href=\"#black-king\" transform=\"translate(150, 15)\" /><use href=\"#black-queen\" xlink:href=\"#black-queen\" transform=\"translate(195, 15)\" /><use href=\"#black-bishop\" xlink:href=\"#black-bishop\" transform=\"translate(240, 15)\" /><use href=\"#black-rook\" xlink:href=\"#black-rook\" transform=\"translate(330, 15)\" /></svg>"
     },
     "execution_count": 4,
     "metadata": {},
     "output_type": "execute_result"
    }
   ],
   "source": [
    "move, best_moves, move_dict = sunfish_move(sf_state, pst, time_limit=200, max_depth=3, move_only=False)\n",
    "print(f'Sunfish best move: {sunfish_move_to_str(move)}')\n",
    "print(f'Sunfish moves: {top_k_moves(move_dict, 5)}')\n",
    "print(f'Player move: {player_move}')\n",
    "\n",
    "state"
   ],
   "metadata": {
    "collapsed": false,
    "ExecuteTime": {
     "end_time": "2024-04-19T10:36:37.152722100Z",
     "start_time": "2024-04-19T10:36:36.996649700Z"
    }
   },
   "id": "4c7712625297b11a",
   "execution_count": 4
  },
  {
   "cell_type": "code",
   "outputs": [
    {
     "name": "stderr",
     "output_type": "stream",
     "text": [
      "Iterating through states:   0%|          | 0/100 [00:02<?, ?it/s]\n"
     ]
    },
    {
     "ename": "KeyboardInterrupt",
     "evalue": "",
     "output_type": "error",
     "traceback": [
      "\u001B[1;31m---------------------------------------------------------------------------\u001B[0m",
      "\u001B[1;31mKeyboardInterrupt\u001B[0m                         Traceback (most recent call last)",
      "Cell \u001B[1;32mIn[49], line 12\u001B[0m\n\u001B[0;32m     10\u001B[0m player_move \u001B[38;5;241m=\u001B[39m sunfish_move_to_str(player_move)\n\u001B[0;32m     11\u001B[0m \u001B[38;5;28;01mfor\u001B[39;00m i, depth \u001B[38;5;129;01min\u001B[39;00m \u001B[38;5;28menumerate\u001B[39m(depths):\n\u001B[1;32m---> 12\u001B[0m     move, best_moves, move_dict \u001B[38;5;241m=\u001B[39m \u001B[43msunfish_move\u001B[49m\u001B[43m(\u001B[49m\u001B[43msf_state\u001B[49m\u001B[43m,\u001B[49m\u001B[43m \u001B[49m\u001B[43mpst\u001B[49m\u001B[43m,\u001B[49m\u001B[43m \u001B[49m\u001B[43mtime_limit\u001B[49m\u001B[38;5;241;43m=\u001B[39;49m\u001B[38;5;241;43m200\u001B[39;49m\u001B[43m,\u001B[49m\u001B[43m \u001B[49m\u001B[43mmax_depth\u001B[49m\u001B[38;5;241;43m=\u001B[39;49m\u001B[43mdepth\u001B[49m\u001B[43m,\u001B[49m\u001B[43m \u001B[49m\u001B[43mmove_only\u001B[49m\u001B[38;5;241;43m=\u001B[39;49m\u001B[38;5;28;43;01mFalse\u001B[39;49;00m\u001B[43m)\u001B[49m\n\u001B[0;32m     13\u001B[0m     top_5_moves \u001B[38;5;241m=\u001B[39m top_k_moves(move_dict, \u001B[38;5;241m5\u001B[39m)\n\u001B[0;32m     14\u001B[0m     depth_scores[i] \u001B[38;5;241m+\u001B[39m\u001B[38;5;241m=\u001B[39m player_move \u001B[38;5;129;01min\u001B[39;00m top_5_moves\n",
      "File \u001B[1;32m~\\Documents\\GitHub\\irl-chess\\irl_chess\\models\\sunfish_GRW.py:56\u001B[0m, in \u001B[0;36msunfish_move\u001B[1;34m(state, pst, time_limit, max_depth, move_only, run_at_least)\u001B[0m\n\u001B[0;32m     54\u001B[0m count \u001B[38;5;241m=\u001B[39m \u001B[38;5;241m0\u001B[39m\n\u001B[0;32m     55\u001B[0m count_gamma \u001B[38;5;241m=\u001B[39m \u001B[38;5;241m0\u001B[39m\n\u001B[1;32m---> 56\u001B[0m \u001B[38;5;28;01mfor\u001B[39;00m depth, gamma, score, move \u001B[38;5;129;01min\u001B[39;00m searcher\u001B[38;5;241m.\u001B[39msearch([state]):\n\u001B[0;32m     57\u001B[0m     count \u001B[38;5;241m+\u001B[39m\u001B[38;5;241m=\u001B[39m \u001B[38;5;241m1\u001B[39m\n\u001B[0;32m     58\u001B[0m     \u001B[38;5;28;01mif\u001B[39;00m score \u001B[38;5;241m>\u001B[39m\u001B[38;5;241m=\u001B[39m gamma:\n",
      "File \u001B[1;32m~\\Documents\\GitHub\\irl-chess\\irl_chess\\chess_utils\\sunfish.py:456\u001B[0m, in \u001B[0;36mSearcher.search\u001B[1;34m(self, history)\u001B[0m\n\u001B[0;32m    454\u001B[0m lower, upper \u001B[38;5;241m=\u001B[39m \u001B[38;5;241m-\u001B[39mMATE_LOWER, MATE_LOWER\n\u001B[0;32m    455\u001B[0m \u001B[38;5;28;01mwhile\u001B[39;00m lower \u001B[38;5;241m<\u001B[39m upper \u001B[38;5;241m-\u001B[39m EVAL_ROUGHNESS:\n\u001B[1;32m--> 456\u001B[0m     score \u001B[38;5;241m=\u001B[39m \u001B[38;5;28;43mself\u001B[39;49m\u001B[38;5;241;43m.\u001B[39;49m\u001B[43mbound\u001B[49m\u001B[43m(\u001B[49m\u001B[43mhistory\u001B[49m\u001B[43m[\u001B[49m\u001B[38;5;241;43m-\u001B[39;49m\u001B[38;5;241;43m1\u001B[39;49m\u001B[43m]\u001B[49m\u001B[43m,\u001B[49m\u001B[43m \u001B[49m\u001B[43mgamma\u001B[49m\u001B[43m,\u001B[49m\u001B[43m \u001B[49m\u001B[43mdepth\u001B[49m\u001B[43m,\u001B[49m\u001B[43m \u001B[49m\u001B[43mroot_position\u001B[49m\u001B[43m,\u001B[49m\u001B[43m \u001B[49m\u001B[43mcan_null\u001B[49m\u001B[38;5;241;43m=\u001B[39;49m\u001B[38;5;28;43;01mFalse\u001B[39;49;00m\u001B[43m)\u001B[49m\n\u001B[0;32m    457\u001B[0m     \u001B[38;5;28;01mif\u001B[39;00m score \u001B[38;5;241m>\u001B[39m\u001B[38;5;241m=\u001B[39m gamma:\n\u001B[0;32m    458\u001B[0m         lower \u001B[38;5;241m=\u001B[39m score\n",
      "File \u001B[1;32m~\\Documents\\GitHub\\irl-chess\\irl_chess\\chess_utils\\sunfish.py:387\u001B[0m, in \u001B[0;36mSearcher.bound\u001B[1;34m(self, pos, gamma, depth, root_position, can_null)\u001B[0m\n\u001B[0;32m    385\u001B[0m \u001B[38;5;66;03m# Run through the moves, shortcutting when possible\u001B[39;00m\n\u001B[0;32m    386\u001B[0m best \u001B[38;5;241m=\u001B[39m \u001B[38;5;241m-\u001B[39mMATE_UPPER\n\u001B[1;32m--> 387\u001B[0m \u001B[38;5;28;01mfor\u001B[39;00m move, score \u001B[38;5;129;01min\u001B[39;00m moves():\n\u001B[0;32m    388\u001B[0m     best \u001B[38;5;241m=\u001B[39m \u001B[38;5;28mmax\u001B[39m(best, score)\n\u001B[0;32m    389\u001B[0m     \u001B[38;5;28;01mif\u001B[39;00m pos \u001B[38;5;241m==\u001B[39m root_position:\n",
      "File \u001B[1;32m~\\Documents\\GitHub\\irl-chess\\irl_chess\\chess_utils\\sunfish.py:364\u001B[0m, in \u001B[0;36mSearcher.bound.<locals>.moves\u001B[1;34m()\u001B[0m\n\u001B[0;32m    359\u001B[0m \u001B[38;5;66;03m# Only play the move if it would be included at the current val-limit,\u001B[39;00m\n\u001B[0;32m    360\u001B[0m \u001B[38;5;66;03m# since otherwise we'd get search instability.\u001B[39;00m\n\u001B[0;32m    361\u001B[0m \u001B[38;5;66;03m# We will search it again in the main loop below, but the tp will fix\u001B[39;00m\n\u001B[0;32m    362\u001B[0m \u001B[38;5;66;03m# things for us.\u001B[39;00m\n\u001B[0;32m    363\u001B[0m \u001B[38;5;28;01mif\u001B[39;00m killer \u001B[38;5;129;01mand\u001B[39;00m pos\u001B[38;5;241m.\u001B[39mvalue(killer, \u001B[38;5;28mself\u001B[39m\u001B[38;5;241m.\u001B[39msearch_pst) \u001B[38;5;241m>\u001B[39m\u001B[38;5;241m=\u001B[39m val_lower:\n\u001B[1;32m--> 364\u001B[0m     \u001B[38;5;28;01myield\u001B[39;00m killer, \u001B[38;5;241m-\u001B[39m\u001B[38;5;28;43mself\u001B[39;49m\u001B[38;5;241;43m.\u001B[39;49m\u001B[43mbound\u001B[49m\u001B[43m(\u001B[49m\u001B[43mpos\u001B[49m\u001B[38;5;241;43m.\u001B[39;49m\u001B[43mmove\u001B[49m\u001B[43m(\u001B[49m\u001B[43mkiller\u001B[49m\u001B[43m,\u001B[49m\u001B[43m \u001B[49m\u001B[38;5;28;43mself\u001B[39;49m\u001B[38;5;241;43m.\u001B[39;49m\u001B[43msearch_pst\u001B[49m\u001B[43m)\u001B[49m\u001B[43m,\u001B[49m\u001B[43m \u001B[49m\u001B[38;5;241;43m1\u001B[39;49m\u001B[43m \u001B[49m\u001B[38;5;241;43m-\u001B[39;49m\u001B[43m \u001B[49m\u001B[43mgamma\u001B[49m\u001B[43m,\u001B[49m\u001B[43m \u001B[49m\u001B[43mdepth\u001B[49m\u001B[43m \u001B[49m\u001B[38;5;241;43m-\u001B[39;49m\u001B[43m \u001B[49m\u001B[38;5;241;43m1\u001B[39;49m\u001B[43m,\u001B[49m\u001B[43m \u001B[49m\u001B[43mroot_position\u001B[49m\u001B[43m)\u001B[49m\n\u001B[0;32m    366\u001B[0m \u001B[38;5;66;03m# Then all the other moves\u001B[39;00m\n\u001B[0;32m    367\u001B[0m \u001B[38;5;28;01mfor\u001B[39;00m val, move \u001B[38;5;129;01min\u001B[39;00m \u001B[38;5;28msorted\u001B[39m(((pos\u001B[38;5;241m.\u001B[39mvalue(m, \u001B[38;5;28mself\u001B[39m\u001B[38;5;241m.\u001B[39msearch_pst), m) \u001B[38;5;28;01mfor\u001B[39;00m m \u001B[38;5;129;01min\u001B[39;00m pos\u001B[38;5;241m.\u001B[39mgen_moves()), reverse\u001B[38;5;241m=\u001B[39m\u001B[38;5;28;01mTrue\u001B[39;00m):\n\u001B[0;32m    368\u001B[0m     \u001B[38;5;66;03m# Quiescent search\u001B[39;00m\n",
      "File \u001B[1;32m~\\Documents\\GitHub\\irl-chess\\irl_chess\\chess_utils\\sunfish.py:387\u001B[0m, in \u001B[0;36mSearcher.bound\u001B[1;34m(self, pos, gamma, depth, root_position, can_null)\u001B[0m\n\u001B[0;32m    385\u001B[0m \u001B[38;5;66;03m# Run through the moves, shortcutting when possible\u001B[39;00m\n\u001B[0;32m    386\u001B[0m best \u001B[38;5;241m=\u001B[39m \u001B[38;5;241m-\u001B[39mMATE_UPPER\n\u001B[1;32m--> 387\u001B[0m \u001B[38;5;28;01mfor\u001B[39;00m move, score \u001B[38;5;129;01min\u001B[39;00m moves():\n\u001B[0;32m    388\u001B[0m     best \u001B[38;5;241m=\u001B[39m \u001B[38;5;28mmax\u001B[39m(best, score)\n\u001B[0;32m    389\u001B[0m     \u001B[38;5;28;01mif\u001B[39;00m pos \u001B[38;5;241m==\u001B[39m root_position:\n",
      "File \u001B[1;32m~\\Documents\\GitHub\\irl-chess\\irl_chess\\chess_utils\\sunfish.py:383\u001B[0m, in \u001B[0;36mSearcher.bound.<locals>.moves\u001B[1;34m()\u001B[0m\n\u001B[0;32m    379\u001B[0m     \u001B[38;5;66;03m# We can also break, since we have ordered the moves by value,\u001B[39;00m\n\u001B[0;32m    380\u001B[0m     \u001B[38;5;66;03m# so it can't get any better than this.\u001B[39;00m\n\u001B[0;32m    381\u001B[0m     \u001B[38;5;28;01mbreak\u001B[39;00m\n\u001B[1;32m--> 383\u001B[0m \u001B[38;5;28;01myield\u001B[39;00m move, \u001B[38;5;241m-\u001B[39m\u001B[38;5;28;43mself\u001B[39;49m\u001B[38;5;241;43m.\u001B[39;49m\u001B[43mbound\u001B[49m\u001B[43m(\u001B[49m\u001B[43mpos\u001B[49m\u001B[38;5;241;43m.\u001B[39;49m\u001B[43mmove\u001B[49m\u001B[43m(\u001B[49m\u001B[43mmove\u001B[49m\u001B[43m,\u001B[49m\u001B[43m \u001B[49m\u001B[38;5;28;43mself\u001B[39;49m\u001B[38;5;241;43m.\u001B[39;49m\u001B[43msearch_pst\u001B[49m\u001B[43m)\u001B[49m\u001B[43m,\u001B[49m\u001B[43m \u001B[49m\u001B[38;5;241;43m1\u001B[39;49m\u001B[43m \u001B[49m\u001B[38;5;241;43m-\u001B[39;49m\u001B[43m \u001B[49m\u001B[43mgamma\u001B[49m\u001B[43m,\u001B[49m\u001B[43m \u001B[49m\u001B[43mdepth\u001B[49m\u001B[43m \u001B[49m\u001B[38;5;241;43m-\u001B[39;49m\u001B[43m \u001B[49m\u001B[38;5;241;43m1\u001B[39;49m\u001B[43m,\u001B[49m\u001B[43m \u001B[49m\u001B[43mroot_position\u001B[49m\u001B[43m)\u001B[49m\n",
      "File \u001B[1;32m~\\Documents\\GitHub\\irl-chess\\irl_chess\\chess_utils\\sunfish.py:387\u001B[0m, in \u001B[0;36mSearcher.bound\u001B[1;34m(self, pos, gamma, depth, root_position, can_null)\u001B[0m\n\u001B[0;32m    385\u001B[0m \u001B[38;5;66;03m# Run through the moves, shortcutting when possible\u001B[39;00m\n\u001B[0;32m    386\u001B[0m best \u001B[38;5;241m=\u001B[39m \u001B[38;5;241m-\u001B[39mMATE_UPPER\n\u001B[1;32m--> 387\u001B[0m \u001B[38;5;28;01mfor\u001B[39;00m move, score \u001B[38;5;129;01min\u001B[39;00m moves():\n\u001B[0;32m    388\u001B[0m     best \u001B[38;5;241m=\u001B[39m \u001B[38;5;28mmax\u001B[39m(best, score)\n\u001B[0;32m    389\u001B[0m     \u001B[38;5;28;01mif\u001B[39;00m pos \u001B[38;5;241m==\u001B[39m root_position:\n",
      "File \u001B[1;32m~\\Documents\\GitHub\\irl-chess\\irl_chess\\chess_utils\\sunfish.py:364\u001B[0m, in \u001B[0;36mSearcher.bound.<locals>.moves\u001B[1;34m()\u001B[0m\n\u001B[0;32m    359\u001B[0m \u001B[38;5;66;03m# Only play the move if it would be included at the current val-limit,\u001B[39;00m\n\u001B[0;32m    360\u001B[0m \u001B[38;5;66;03m# since otherwise we'd get search instability.\u001B[39;00m\n\u001B[0;32m    361\u001B[0m \u001B[38;5;66;03m# We will search it again in the main loop below, but the tp will fix\u001B[39;00m\n\u001B[0;32m    362\u001B[0m \u001B[38;5;66;03m# things for us.\u001B[39;00m\n\u001B[0;32m    363\u001B[0m \u001B[38;5;28;01mif\u001B[39;00m killer \u001B[38;5;129;01mand\u001B[39;00m pos\u001B[38;5;241m.\u001B[39mvalue(killer, \u001B[38;5;28mself\u001B[39m\u001B[38;5;241m.\u001B[39msearch_pst) \u001B[38;5;241m>\u001B[39m\u001B[38;5;241m=\u001B[39m val_lower:\n\u001B[1;32m--> 364\u001B[0m     \u001B[38;5;28;01myield\u001B[39;00m killer, \u001B[38;5;241m-\u001B[39m\u001B[38;5;28;43mself\u001B[39;49m\u001B[38;5;241;43m.\u001B[39;49m\u001B[43mbound\u001B[49m\u001B[43m(\u001B[49m\u001B[43mpos\u001B[49m\u001B[38;5;241;43m.\u001B[39;49m\u001B[43mmove\u001B[49m\u001B[43m(\u001B[49m\u001B[43mkiller\u001B[49m\u001B[43m,\u001B[49m\u001B[43m \u001B[49m\u001B[38;5;28;43mself\u001B[39;49m\u001B[38;5;241;43m.\u001B[39;49m\u001B[43msearch_pst\u001B[49m\u001B[43m)\u001B[49m\u001B[43m,\u001B[49m\u001B[43m \u001B[49m\u001B[38;5;241;43m1\u001B[39;49m\u001B[43m \u001B[49m\u001B[38;5;241;43m-\u001B[39;49m\u001B[43m \u001B[49m\u001B[43mgamma\u001B[49m\u001B[43m,\u001B[49m\u001B[43m \u001B[49m\u001B[43mdepth\u001B[49m\u001B[43m \u001B[49m\u001B[38;5;241;43m-\u001B[39;49m\u001B[43m \u001B[49m\u001B[38;5;241;43m1\u001B[39;49m\u001B[43m,\u001B[49m\u001B[43m \u001B[49m\u001B[43mroot_position\u001B[49m\u001B[43m)\u001B[49m\n\u001B[0;32m    366\u001B[0m \u001B[38;5;66;03m# Then all the other moves\u001B[39;00m\n\u001B[0;32m    367\u001B[0m \u001B[38;5;28;01mfor\u001B[39;00m val, move \u001B[38;5;129;01min\u001B[39;00m \u001B[38;5;28msorted\u001B[39m(((pos\u001B[38;5;241m.\u001B[39mvalue(m, \u001B[38;5;28mself\u001B[39m\u001B[38;5;241m.\u001B[39msearch_pst), m) \u001B[38;5;28;01mfor\u001B[39;00m m \u001B[38;5;129;01min\u001B[39;00m pos\u001B[38;5;241m.\u001B[39mgen_moves()), reverse\u001B[38;5;241m=\u001B[39m\u001B[38;5;28;01mTrue\u001B[39;00m):\n\u001B[0;32m    368\u001B[0m     \u001B[38;5;66;03m# Quiescent search\u001B[39;00m\n",
      "File \u001B[1;32m~\\Documents\\GitHub\\irl-chess\\irl_chess\\chess_utils\\sunfish.py:387\u001B[0m, in \u001B[0;36mSearcher.bound\u001B[1;34m(self, pos, gamma, depth, root_position, can_null)\u001B[0m\n\u001B[0;32m    385\u001B[0m \u001B[38;5;66;03m# Run through the moves, shortcutting when possible\u001B[39;00m\n\u001B[0;32m    386\u001B[0m best \u001B[38;5;241m=\u001B[39m \u001B[38;5;241m-\u001B[39mMATE_UPPER\n\u001B[1;32m--> 387\u001B[0m \u001B[38;5;28;01mfor\u001B[39;00m move, score \u001B[38;5;129;01min\u001B[39;00m moves():\n\u001B[0;32m    388\u001B[0m     best \u001B[38;5;241m=\u001B[39m \u001B[38;5;28mmax\u001B[39m(best, score)\n\u001B[0;32m    389\u001B[0m     \u001B[38;5;28;01mif\u001B[39;00m pos \u001B[38;5;241m==\u001B[39m root_position:\n",
      "File \u001B[1;32m~\\Documents\\GitHub\\irl-chess\\irl_chess\\chess_utils\\sunfish.py:383\u001B[0m, in \u001B[0;36mSearcher.bound.<locals>.moves\u001B[1;34m()\u001B[0m\n\u001B[0;32m    379\u001B[0m     \u001B[38;5;66;03m# We can also break, since we have ordered the moves by value,\u001B[39;00m\n\u001B[0;32m    380\u001B[0m     \u001B[38;5;66;03m# so it can't get any better than this.\u001B[39;00m\n\u001B[0;32m    381\u001B[0m     \u001B[38;5;28;01mbreak\u001B[39;00m\n\u001B[1;32m--> 383\u001B[0m \u001B[38;5;28;01myield\u001B[39;00m move, \u001B[38;5;241m-\u001B[39m\u001B[38;5;28;43mself\u001B[39;49m\u001B[38;5;241;43m.\u001B[39;49m\u001B[43mbound\u001B[49m\u001B[43m(\u001B[49m\u001B[43mpos\u001B[49m\u001B[38;5;241;43m.\u001B[39;49m\u001B[43mmove\u001B[49m\u001B[43m(\u001B[49m\u001B[43mmove\u001B[49m\u001B[43m,\u001B[49m\u001B[43m \u001B[49m\u001B[38;5;28;43mself\u001B[39;49m\u001B[38;5;241;43m.\u001B[39;49m\u001B[43msearch_pst\u001B[49m\u001B[43m)\u001B[49m\u001B[43m,\u001B[49m\u001B[43m \u001B[49m\u001B[38;5;241;43m1\u001B[39;49m\u001B[43m \u001B[49m\u001B[38;5;241;43m-\u001B[39;49m\u001B[43m \u001B[49m\u001B[43mgamma\u001B[49m\u001B[43m,\u001B[49m\u001B[43m \u001B[49m\u001B[43mdepth\u001B[49m\u001B[43m \u001B[49m\u001B[38;5;241;43m-\u001B[39;49m\u001B[43m \u001B[49m\u001B[38;5;241;43m1\u001B[39;49m\u001B[43m,\u001B[49m\u001B[43m \u001B[49m\u001B[43mroot_position\u001B[49m\u001B[43m)\u001B[49m\n",
      "File \u001B[1;32m~\\Documents\\GitHub\\irl-chess\\irl_chess\\chess_utils\\sunfish.py:387\u001B[0m, in \u001B[0;36mSearcher.bound\u001B[1;34m(self, pos, gamma, depth, root_position, can_null)\u001B[0m\n\u001B[0;32m    385\u001B[0m \u001B[38;5;66;03m# Run through the moves, shortcutting when possible\u001B[39;00m\n\u001B[0;32m    386\u001B[0m best \u001B[38;5;241m=\u001B[39m \u001B[38;5;241m-\u001B[39mMATE_UPPER\n\u001B[1;32m--> 387\u001B[0m \u001B[38;5;28;01mfor\u001B[39;00m move, score \u001B[38;5;129;01min\u001B[39;00m moves():\n\u001B[0;32m    388\u001B[0m     best \u001B[38;5;241m=\u001B[39m \u001B[38;5;28mmax\u001B[39m(best, score)\n\u001B[0;32m    389\u001B[0m     \u001B[38;5;28;01mif\u001B[39;00m pos \u001B[38;5;241m==\u001B[39m root_position:\n",
      "File \u001B[1;32m~\\Documents\\GitHub\\irl-chess\\irl_chess\\chess_utils\\sunfish.py:383\u001B[0m, in \u001B[0;36mSearcher.bound.<locals>.moves\u001B[1;34m()\u001B[0m\n\u001B[0;32m    379\u001B[0m     \u001B[38;5;66;03m# We can also break, since we have ordered the moves by value,\u001B[39;00m\n\u001B[0;32m    380\u001B[0m     \u001B[38;5;66;03m# so it can't get any better than this.\u001B[39;00m\n\u001B[0;32m    381\u001B[0m     \u001B[38;5;28;01mbreak\u001B[39;00m\n\u001B[1;32m--> 383\u001B[0m \u001B[38;5;28;01myield\u001B[39;00m move, \u001B[38;5;241m-\u001B[39m\u001B[38;5;28;43mself\u001B[39;49m\u001B[38;5;241;43m.\u001B[39;49m\u001B[43mbound\u001B[49m\u001B[43m(\u001B[49m\u001B[43mpos\u001B[49m\u001B[38;5;241;43m.\u001B[39;49m\u001B[43mmove\u001B[49m\u001B[43m(\u001B[49m\u001B[43mmove\u001B[49m\u001B[43m,\u001B[49m\u001B[43m \u001B[49m\u001B[38;5;28;43mself\u001B[39;49m\u001B[38;5;241;43m.\u001B[39;49m\u001B[43msearch_pst\u001B[49m\u001B[43m)\u001B[49m\u001B[43m,\u001B[49m\u001B[43m \u001B[49m\u001B[38;5;241;43m1\u001B[39;49m\u001B[43m \u001B[49m\u001B[38;5;241;43m-\u001B[39;49m\u001B[43m \u001B[49m\u001B[43mgamma\u001B[49m\u001B[43m,\u001B[49m\u001B[43m \u001B[49m\u001B[43mdepth\u001B[49m\u001B[43m \u001B[49m\u001B[38;5;241;43m-\u001B[39;49m\u001B[43m \u001B[49m\u001B[38;5;241;43m1\u001B[39;49m\u001B[43m,\u001B[49m\u001B[43m \u001B[49m\u001B[43mroot_position\u001B[49m\u001B[43m)\u001B[49m\n",
      "    \u001B[1;31m[... skipping similar frames: Searcher.bound at line 387 (2 times), Searcher.bound.<locals>.moves at line 383 (1 times)]\u001B[0m\n",
      "File \u001B[1;32m~\\Documents\\GitHub\\irl-chess\\irl_chess\\chess_utils\\sunfish.py:383\u001B[0m, in \u001B[0;36mSearcher.bound.<locals>.moves\u001B[1;34m()\u001B[0m\n\u001B[0;32m    379\u001B[0m     \u001B[38;5;66;03m# We can also break, since we have ordered the moves by value,\u001B[39;00m\n\u001B[0;32m    380\u001B[0m     \u001B[38;5;66;03m# so it can't get any better than this.\u001B[39;00m\n\u001B[0;32m    381\u001B[0m     \u001B[38;5;28;01mbreak\u001B[39;00m\n\u001B[1;32m--> 383\u001B[0m \u001B[38;5;28;01myield\u001B[39;00m move, \u001B[38;5;241m-\u001B[39m\u001B[38;5;28;43mself\u001B[39;49m\u001B[38;5;241;43m.\u001B[39;49m\u001B[43mbound\u001B[49m\u001B[43m(\u001B[49m\u001B[43mpos\u001B[49m\u001B[38;5;241;43m.\u001B[39;49m\u001B[43mmove\u001B[49m\u001B[43m(\u001B[49m\u001B[43mmove\u001B[49m\u001B[43m,\u001B[49m\u001B[43m \u001B[49m\u001B[38;5;28;43mself\u001B[39;49m\u001B[38;5;241;43m.\u001B[39;49m\u001B[43msearch_pst\u001B[49m\u001B[43m)\u001B[49m\u001B[43m,\u001B[49m\u001B[43m \u001B[49m\u001B[38;5;241;43m1\u001B[39;49m\u001B[43m \u001B[49m\u001B[38;5;241;43m-\u001B[39;49m\u001B[43m \u001B[49m\u001B[43mgamma\u001B[49m\u001B[43m,\u001B[49m\u001B[43m \u001B[49m\u001B[43mdepth\u001B[49m\u001B[43m \u001B[49m\u001B[38;5;241;43m-\u001B[39;49m\u001B[43m \u001B[49m\u001B[38;5;241;43m1\u001B[39;49m\u001B[43m,\u001B[49m\u001B[43m \u001B[49m\u001B[43mroot_position\u001B[49m\u001B[43m)\u001B[49m\n",
      "File \u001B[1;32m~\\Documents\\GitHub\\irl-chess\\irl_chess\\chess_utils\\sunfish.py:387\u001B[0m, in \u001B[0;36mSearcher.bound\u001B[1;34m(self, pos, gamma, depth, root_position, can_null)\u001B[0m\n\u001B[0;32m    385\u001B[0m \u001B[38;5;66;03m# Run through the moves, shortcutting when possible\u001B[39;00m\n\u001B[0;32m    386\u001B[0m best \u001B[38;5;241m=\u001B[39m \u001B[38;5;241m-\u001B[39mMATE_UPPER\n\u001B[1;32m--> 387\u001B[0m \u001B[38;5;28;01mfor\u001B[39;00m move, score \u001B[38;5;129;01min\u001B[39;00m moves():\n\u001B[0;32m    388\u001B[0m     best \u001B[38;5;241m=\u001B[39m \u001B[38;5;28mmax\u001B[39m(best, score)\n\u001B[0;32m    389\u001B[0m     \u001B[38;5;28;01mif\u001B[39;00m pos \u001B[38;5;241m==\u001B[39m root_position:\n",
      "File \u001B[1;32m~\\Documents\\GitHub\\irl-chess\\irl_chess\\chess_utils\\sunfish.py:367\u001B[0m, in \u001B[0;36mSearcher.bound.<locals>.moves\u001B[1;34m()\u001B[0m\n\u001B[0;32m    364\u001B[0m     \u001B[38;5;28;01myield\u001B[39;00m killer, \u001B[38;5;241m-\u001B[39m\u001B[38;5;28mself\u001B[39m\u001B[38;5;241m.\u001B[39mbound(pos\u001B[38;5;241m.\u001B[39mmove(killer, \u001B[38;5;28mself\u001B[39m\u001B[38;5;241m.\u001B[39msearch_pst), \u001B[38;5;241m1\u001B[39m \u001B[38;5;241m-\u001B[39m gamma, depth \u001B[38;5;241m-\u001B[39m \u001B[38;5;241m1\u001B[39m, root_position)\n\u001B[0;32m    366\u001B[0m \u001B[38;5;66;03m# Then all the other moves\u001B[39;00m\n\u001B[1;32m--> 367\u001B[0m \u001B[38;5;28;01mfor\u001B[39;00m val, move \u001B[38;5;129;01min\u001B[39;00m \u001B[38;5;28;43msorted\u001B[39;49m\u001B[43m(\u001B[49m\u001B[43m(\u001B[49m\u001B[43m(\u001B[49m\u001B[43mpos\u001B[49m\u001B[38;5;241;43m.\u001B[39;49m\u001B[43mvalue\u001B[49m\u001B[43m(\u001B[49m\u001B[43mm\u001B[49m\u001B[43m,\u001B[49m\u001B[43m \u001B[49m\u001B[38;5;28;43mself\u001B[39;49m\u001B[38;5;241;43m.\u001B[39;49m\u001B[43msearch_pst\u001B[49m\u001B[43m)\u001B[49m\u001B[43m,\u001B[49m\u001B[43m \u001B[49m\u001B[43mm\u001B[49m\u001B[43m)\u001B[49m\u001B[43m \u001B[49m\u001B[38;5;28;43;01mfor\u001B[39;49;00m\u001B[43m \u001B[49m\u001B[43mm\u001B[49m\u001B[43m \u001B[49m\u001B[38;5;129;43;01min\u001B[39;49;00m\u001B[43m \u001B[49m\u001B[43mpos\u001B[49m\u001B[38;5;241;43m.\u001B[39;49m\u001B[43mgen_moves\u001B[49m\u001B[43m(\u001B[49m\u001B[43m)\u001B[49m\u001B[43m)\u001B[49m\u001B[43m,\u001B[49m\u001B[43m \u001B[49m\u001B[43mreverse\u001B[49m\u001B[38;5;241;43m=\u001B[39;49m\u001B[38;5;28;43;01mTrue\u001B[39;49;00m\u001B[43m)\u001B[49m:\n\u001B[0;32m    368\u001B[0m     \u001B[38;5;66;03m# Quiescent search\u001B[39;00m\n\u001B[0;32m    369\u001B[0m     \u001B[38;5;28;01mif\u001B[39;00m val \u001B[38;5;241m<\u001B[39m val_lower:\n\u001B[0;32m    370\u001B[0m         \u001B[38;5;28;01mbreak\u001B[39;00m\n",
      "File \u001B[1;32m~\\Documents\\GitHub\\irl-chess\\irl_chess\\chess_utils\\sunfish.py:367\u001B[0m, in \u001B[0;36m<genexpr>\u001B[1;34m(.0)\u001B[0m\n\u001B[0;32m    364\u001B[0m     \u001B[38;5;28;01myield\u001B[39;00m killer, \u001B[38;5;241m-\u001B[39m\u001B[38;5;28mself\u001B[39m\u001B[38;5;241m.\u001B[39mbound(pos\u001B[38;5;241m.\u001B[39mmove(killer, \u001B[38;5;28mself\u001B[39m\u001B[38;5;241m.\u001B[39msearch_pst), \u001B[38;5;241m1\u001B[39m \u001B[38;5;241m-\u001B[39m gamma, depth \u001B[38;5;241m-\u001B[39m \u001B[38;5;241m1\u001B[39m, root_position)\n\u001B[0;32m    366\u001B[0m \u001B[38;5;66;03m# Then all the other moves\u001B[39;00m\n\u001B[1;32m--> 367\u001B[0m \u001B[38;5;28;01mfor\u001B[39;00m val, move \u001B[38;5;129;01min\u001B[39;00m \u001B[38;5;28msorted\u001B[39m(((pos\u001B[38;5;241m.\u001B[39mvalue(m, \u001B[38;5;28mself\u001B[39m\u001B[38;5;241m.\u001B[39msearch_pst), m) \u001B[38;5;28;01mfor\u001B[39;00m m \u001B[38;5;129;01min\u001B[39;00m pos\u001B[38;5;241m.\u001B[39mgen_moves()), reverse\u001B[38;5;241m=\u001B[39m\u001B[38;5;28;01mTrue\u001B[39;00m):\n\u001B[0;32m    368\u001B[0m     \u001B[38;5;66;03m# Quiescent search\u001B[39;00m\n\u001B[0;32m    369\u001B[0m     \u001B[38;5;28;01mif\u001B[39;00m val \u001B[38;5;241m<\u001B[39m val_lower:\n\u001B[0;32m    370\u001B[0m         \u001B[38;5;28;01mbreak\u001B[39;00m\n",
      "\u001B[1;31mKeyboardInterrupt\u001B[0m: "
     ]
    }
   ],
   "source": [
    "pgn = open(\"data/raw/lichess_db_standard_rated_2013-01.pgn\")\n",
    "failures = 0\n",
    "depths = [1,2,3,4,5,6]\n",
    "depth_scores = [0] * len(depths)\n",
    "for i in tqdm(range(100), desc='Iterating through states'):\n",
    "    game = chess.pgn.read_game(pgn)\n",
    "    board = game.board()\n",
    "    state, player_move = get_board_after_n(game, 15)\n",
    "    sf_state = board2sunfish(state, 300)\n",
    "    player_move = sunfish_move_to_str(player_move)\n",
    "    for i, depth in enumerate(depths):\n",
    "        move, best_moves, move_dict = sunfish_move(sf_state, pst, time_limit=200, max_depth=depth, move_only=False)\n",
    "        top_5_moves = top_k_moves(move_dict, 5)\n",
    "        depth_scores[i] += player_move in top_5_moves\n",
    "print(depth_scores)"
   ],
   "metadata": {
    "collapsed": false,
    "ExecuteTime": {
     "end_time": "2024-04-19T10:26:07.825789600Z",
     "start_time": "2024-04-19T10:26:04.585969100Z"
    }
   },
   "id": "ac7da961a2f6346d",
   "execution_count": 49
  },
  {
   "cell_type": "code",
   "outputs": [
    {
     "name": "stdout",
     "output_type": "stream",
     "text": [
      "{'time_limit': 200, 'R_true': [100, 280, 320, 479, 929, 60000], 'overwrite': False, 'n_files': 3, 'min_elo': 800, 'max_elo': 1200, 'n_midgame': 15, 'n_endgame': 30, 'n_boards': 500, 'n_threads': -2, 'move_function': 'player_move'}\n"
     ]
    }
   ],
   "source": [
    "with open('experiment_configs\\\\depths\\\\config_lower.json', 'r') as file:\n",
    "    config_lower = json.load(file)\n",
    "print(config_lower)\n",
    "    \n",
    "with open('experiment_configs\\\\depths\\\\config_upper.json', 'r') as file:\n",
    "    config_upper = json.load(file)"
   ],
   "metadata": {
    "collapsed": false,
    "ExecuteTime": {
     "end_time": "2024-04-19T10:42:51.097240200Z",
     "start_time": "2024-04-19T10:42:51.064305200Z"
    }
   },
   "id": "67fb49ebb109dc98",
   "execution_count": 3
  },
  {
   "cell_type": "code",
   "outputs": [
    {
     "name": "stdout",
     "output_type": "stream",
     "text": [
      "\n",
      "\n",
      "-------------------  1/12  -------------------\n",
      "\n",
      "\n",
      "Time taken: 0.00 seconds for file\n",
      "Time taken: 0.00 seconds in total\n",
      "\n",
      "\n",
      "-------------------  2/12  -------------------\n",
      "\n",
      "\n",
      "Time taken: 0.00 seconds for file\n",
      "Time taken: 0.00 seconds in total\n",
      "\n",
      "\n",
      "-------------------  3/12  -------------------\n",
      "\n",
      "\n",
      "Time taken: 0.00 seconds for file\n",
      "Time taken: 0.00 seconds in total\n",
      "C:\\Users\\nikol\\Documents\\GitHub\\irl-chess\\data\\raw\\lichess_db_standard_rated_2013-01.pgn\n"
     ]
    },
    {
     "name": "stderr",
     "output_type": "stream",
     "text": [
      "Looking through file 0: 100%|██████████| 92811021/92811021 [06:56<00:00, 222631.48it/s]\n"
     ]
    },
    {
     "name": "stdout",
     "output_type": "stream",
     "text": [
      "C:\\Users\\nikol\\Documents\\GitHub\\irl-chess\\data\\raw\\lichess_db_standard_rated_2014-01.pgn\n"
     ]
    },
    {
     "name": "stderr",
     "output_type": "stream",
     "text": [
      "Looking through file 1:   0%|          | 791075/574506567 [00:03<38:09, 250590.21it/s]\n"
     ]
    },
    {
     "name": "stdout",
     "output_type": "stream",
     "text": [
      "\n",
      "\n",
      "-------------------  1/12  -------------------\n",
      "\n",
      "\n",
      "Time taken: 0.00 seconds for file\n",
      "Time taken: 0.00 seconds in total\n",
      "\n",
      "\n",
      "-------------------  2/12  -------------------\n",
      "\n",
      "\n",
      "Time taken: 0.00 seconds for file\n",
      "Time taken: 0.00 seconds in total\n",
      "\n",
      "\n",
      "-------------------  3/12  -------------------\n",
      "\n",
      "\n",
      "Time taken: 0.00 seconds for file\n",
      "Time taken: 0.00 seconds in total\n",
      "C:\\Users\\nikol\\Documents\\GitHub\\irl-chess\\data\\raw\\lichess_db_standard_rated_2013-01.pgn\n"
     ]
    },
    {
     "name": "stderr",
     "output_type": "stream",
     "text": [
      "Looking through file 0:   2%|▏         | 1910307/92811021 [00:08<06:31, 232426.08it/s]\n"
     ]
    }
   ],
   "source": [
    "websites_filepath = join(os.getcwd(), 'downloads', 'lichess_websites.txt')\n",
    "file_path_data = join(os.getcwd(), 'data', 'raw')\n",
    "\n",
    "sunfish_boards_lower, player_moves_lower = get_states(websites_filepath=websites_filepath,\n",
    "                                                        file_path_data=file_path_data,\n",
    "                                                        config_data=config_lower)\n",
    "player_moves_lower = [sunfish_move_to_str(move) for move in player_moves_lower]\n",
    "\n",
    "sunfish_boards_upper, player_moves_upper = get_states(websites_filepath=websites_filepath,\n",
    "                                                        file_path_data=file_path_data,\n",
    "                                                        config_data=config_upper)\n",
    "player_moves_upper = [sunfish_move_to_str(move) for move in player_moves_upper]"
   ],
   "metadata": {
    "collapsed": false,
    "ExecuteTime": {
     "end_time": "2024-04-19T10:50:26.449419700Z",
     "start_time": "2024-04-19T10:43:17.891957500Z"
    }
   },
   "id": "3e7aec17b1553736",
   "execution_count": 4
  },
  {
   "cell_type": "code",
   "outputs": [
    {
     "name": "stderr",
     "output_type": "stream",
     "text": [
      "Iterating through states: 100%|██████████| 5000/5000 [00:14<00:00, 342.54it/s]\n"
     ]
    }
   ],
   "source": [
    "pgn = open(\"data/raw/lichess_db_standard_rated_2014-01.pgn\")\n",
    "elos = []\n",
    "for i in tqdm(range(5000), desc='Iterating through states'):\n",
    "    game = chess.pgn.read_game(pgn)\n",
    "    try:\n",
    "        elos.append(int(game.headers['WhiteElo']))\n",
    "    except ValueError:\n",
    "        continue\n",
    "elos = np.array(elos)"
   ],
   "metadata": {
    "collapsed": false,
    "ExecuteTime": {
     "end_time": "2024-04-19T10:09:22.612296900Z",
     "start_time": "2024-04-19T10:09:07.996781800Z"
    }
   },
   "id": "7737418671b2228b",
   "execution_count": 41
  },
  {
   "cell_type": "code",
   "outputs": [
    {
     "data": {
      "text/plain": "2"
     },
     "execution_count": 42,
     "metadata": {},
     "output_type": "execute_result"
    }
   ],
   "source": [
    "sum(elos<1000)"
   ],
   "metadata": {
    "collapsed": false,
    "ExecuteTime": {
     "end_time": "2024-04-19T10:09:23.468733800Z",
     "start_time": "2024-04-19T10:09:23.443800300Z"
    }
   },
   "id": "cacd6e8a36b7c360",
   "execution_count": 42
  },
  {
   "cell_type": "code",
   "outputs": [
    {
     "data": {
      "text/plain": "500"
     },
     "execution_count": 6,
     "metadata": {},
     "output_type": "execute_result"
    }
   ],
   "source": [
    "len(player_moves_upper)"
   ],
   "metadata": {
    "collapsed": false,
    "ExecuteTime": {
     "end_time": "2024-04-19T11:30:46.548379Z",
     "start_time": "2024-04-19T11:30:46.522380900Z"
    }
   },
   "id": "b718d9955887fe69",
   "execution_count": 6
  },
  {
   "cell_type": "code",
   "outputs": [
    {
     "name": "stdout",
     "output_type": "stream",
     "text": [
      "\n",
      " Depth: 1 \n",
      " --------------------\n"
     ]
    },
    {
     "name": "stderr",
     "output_type": "stream",
     "text": [
      "100%|██████████| 500/500 [00:14<00:00, 34.34it/s] \n",
      "100%|██████████| 500/500 [00:02<00:00, 175.86it/s]\n"
     ]
    },
    {
     "name": "stdout",
     "output_type": "stream",
     "text": [
      "\n",
      " Depth: 2 \n",
      " --------------------\n"
     ]
    },
    {
     "name": "stderr",
     "output_type": "stream",
     "text": [
      "100%|██████████| 500/500 [00:13<00:00, 36.73it/s]\n",
      "100%|██████████| 500/500 [00:20<00:00, 24.29it/s]\n"
     ]
    },
    {
     "name": "stdout",
     "output_type": "stream",
     "text": [
      "\n",
      " Depth: 3 \n",
      " --------------------\n"
     ]
    },
    {
     "name": "stderr",
     "output_type": "stream",
     "text": [
      "100%|██████████| 500/500 [00:37<00:00, 13.48it/s]\n",
      "100%|██████████| 500/500 [00:52<00:00,  9.56it/s]\n"
     ]
    },
    {
     "name": "stdout",
     "output_type": "stream",
     "text": [
      "\n",
      " Depth: 4 \n",
      " --------------------\n"
     ]
    },
    {
     "name": "stderr",
     "output_type": "stream",
     "text": [
      "100%|██████████| 500/500 [03:16<00:00,  2.54it/s]\n",
      "100%|██████████| 500/500 [03:39<00:00,  2.27it/s]\n"
     ]
    },
    {
     "name": "stdout",
     "output_type": "stream",
     "text": [
      "\n",
      " Depth: 5 \n",
      " --------------------\n"
     ]
    },
    {
     "name": "stderr",
     "output_type": "stream",
     "text": [
      "100%|██████████| 500/500 [08:08<00:00,  1.02it/s]\n",
      "100%|██████████| 500/500 [09:45<00:00,  1.17s/it]\n"
     ]
    },
    {
     "name": "stdout",
     "output_type": "stream",
     "text": [
      "Depth scores for ELO 800-1200: [0.312, 0.3, 0.314, 0.312, 0.31]\n",
      "Depth scores for ELO 1600-1800: [0.318, 0.32, 0.336, 0.344, 0.336]\n"
     ]
    }
   ],
   "source": [
    "def correct_at_depth(player_move, state, depth):\n",
    "    move, best_moves, move_dict = sunfish_move(state, pst, time_limit=200, max_depth=depth, move_only=False)\n",
    "    #top_5_moves = top_k_moves(move_dict, 5)\n",
    "    return player_move == sunfish_move_to_str(move)\n",
    "\n",
    "n_threads = config_lower['n_threads']\n",
    "n_boards = config_lower['n_boards']\n",
    "with Parallel(n_jobs=n_threads) as parallel:\n",
    "    depths = [1,2,3,4,5]\n",
    "    depth_scores_lower = [0] * len(depths)\n",
    "    depth_scores_upper = [0] * len(depths)\n",
    "    for i, depth in enumerate(depths):\n",
    "        print(f'\\n Depth: {depth} \\n', '-'*20)\n",
    "        correct_lower = parallel(delayed(correct_at_depth)(player_move, state, depth)\n",
    "                                 for player_move, state in tqdm(list(zip(player_moves_lower, sunfish_boards_lower))))\n",
    "        correct_upper = parallel(delayed(correct_at_depth)(player_move, state, depth)\n",
    "                                 for player_move, state in tqdm(list(zip(player_moves_upper, sunfish_boards_upper))))\n",
    "        depth_scores_lower[i] = sum(correct_lower)/n_boards\n",
    "        depth_scores_upper[i] = sum(correct_upper)/n_boards\n",
    "lower_min_elo = config_lower['min_elo']\n",
    "lower_max_elo = config_lower['max_elo']\n",
    "upper_min_elo = config_upper['min_elo']\n",
    "upper_max_elo = config_upper['max_elo']\n",
    "print(f'Depth scores for ELO {lower_min_elo}-{lower_max_elo}: {depth_scores_lower}')\n",
    "print(f'Depth scores for ELO {upper_min_elo}-{upper_max_elo}: {depth_scores_upper}')"
   ],
   "metadata": {
    "collapsed": false,
    "ExecuteTime": {
     "end_time": "2024-04-19T13:09:38.313275400Z",
     "start_time": "2024-04-19T12:40:59.080908400Z"
    }
   },
   "id": "4bd704f62f9152e7",
   "execution_count": 10
  },
  {
   "cell_type": "code",
   "outputs": [
    {
     "name": "stderr",
     "output_type": "stream",
     "text": [
      "Iterating through states: 100%|██████████| 100/100 [00:00<00:00, 348.67it/s]\n"
     ]
    }
   ],
   "source": [
    "pgn = open(\"data/raw/lichess_db_standard_rated_2013-01.pgn\")\n",
    "for i in tqdm(range(100), desc='Iterating through states'):\n",
    "    game = chess.pgn.read_game(pgn)\n",
    "    board = game.board()\n",
    "    state, player_move = get_board_after_n(game, 3)"
   ],
   "metadata": {
    "collapsed": false,
    "ExecuteTime": {
     "end_time": "2024-04-19T14:36:29.255417800Z",
     "start_time": "2024-04-19T14:36:28.946640900Z"
    }
   },
   "id": "d871c7a4b6c46152",
   "execution_count": 3
  },
  {
   "cell_type": "code",
   "outputs": [
    {
     "name": "stderr",
     "output_type": "stream",
     "text": [
      "[D:urllib3.connectionpool] Starting new HTTPS connection (%d): %s:%s\n",
      "[D:urllib3.connectionpool] %s://%s:%s \"%s %s %s\" %s %s\n",
      "[D:websockets.client] = connection is CONNECTING\n",
      "[D:websockets.client] > GET %s HTTP/1.1\n",
      "[D:websockets.client] > %s: %s\n",
      "[D:websockets.client] > %s: %s\n",
      "[D:websockets.client] > %s: %s\n",
      "[D:websockets.client] > %s: %s\n",
      "[D:websockets.client] > %s: %s\n",
      "[D:websockets.client] > %s: %s\n",
      "[D:websockets.client] > %s: %s\n",
      "[D:websockets.client] < HTTP/1.1 %d %s\n",
      "[D:websockets.client] < %s: %s\n",
      "[D:websockets.client] < %s: %s\n",
      "[D:websockets.client] < %s: %s\n",
      "[D:websockets.client] < %s: %s\n",
      "[D:websockets.client] = connection is OPEN\n",
      "[D:websockets.client] > %s\n",
      "[D:websockets.client] < %s\n",
      "[D:websockets.client] < %s\n",
      "[D:websockets.client] < %s\n",
      "[D:websockets.client] < %s\n",
      "[D:websockets.client] > %s\n",
      "[D:websockets.client] < %s\n",
      "[D:websockets.client] < %s\n",
      "[D:websockets.client] < %s\n",
      "[D:websockets.client] > %s\n",
      "[D:websockets.client] < %s\n",
      "[D:websockets.client] < %s\n",
      "[D:websockets.client] < %s\n",
      "[D:websockets.client] > %s\n",
      "[D:websockets.client] < %s\n",
      "[D:websockets.client] < %s\n",
      "[D:websockets.client] > %s\n",
      "[D:websockets.client] < %s\n",
      "[D:websockets.client] < %s\n",
      "[D:websockets.client] > %s\n",
      "[D:websockets.client] > %s\n",
      "[D:websockets.client] > %s\n",
      "[D:websockets.client] > %s\n",
      "[D:websockets.client] > %s\n",
      "[D:websockets.client] > %s\n",
      "[D:websockets.client] > %s\n",
      "[D:websockets.client] < %s\n",
      "[D:websockets.client] < %s\n",
      "[D:websockets.client] < %s\n",
      "[D:websockets.client] < %s\n",
      "[D:websockets.client] < %s\n",
      "[D:websockets.client] < %s\n",
      "[D:websockets.client] < %s\n",
      "[D:websockets.client] < %s\n",
      "[D:websockets.client] < %s\n",
      "[D:websockets.client] < %s\n",
      "[D:websockets.client] < %s\n",
      "[D:websockets.client] < %s\n",
      "[D:websockets.client] < %s\n",
      "[D:websockets.client] < %s\n",
      "[D:websockets.client] < %s\n",
      "[D:websockets.client] < %s\n",
      "[D:websockets.client] < %s\n",
      "[D:websockets.client] < %s\n",
      "[D:websockets.client] < %s\n",
      "[D:websockets.client] < %s\n",
      "[D:websockets.client] < %s\n",
      "[D:websockets.client] > %s\n",
      "[D:websockets.client] < %s\n",
      "[D:websockets.client] < %s\n",
      "[D:websockets.client] > %s\n",
      "[D:websockets.client] < %s\n",
      "[D:websockets.client] < %s\n",
      "[D:websockets.client] > %s\n",
      "[D:websockets.client] < %s\n",
      "[D:websockets.client] < %s\n",
      "[D:websockets.client] < %s\n",
      "[D:websockets.client] < %s\n",
      "[D:websockets.client] < %s\n",
      "[D:websockets.client] < %s\n",
      "[D:websockets.client] < %s\n",
      "[D:websockets.client] < %s\n",
      "[D:websockets.client] < %s\n",
      "[D:websockets.client] < %s\n",
      "[D:websockets.client] < %s\n",
      "[D:websockets.client] < %s\n",
      "[D:websockets.client] < %s\n",
      "[D:websockets.client] < %s\n",
      "[D:websockets.client] < %s\n",
      "[D:websockets.client] < %s\n",
      "[D:websockets.client] < %s\n",
      "[D:websockets.client] < %s\n",
      "[D:websockets.client] < %s\n",
      "[D:websockets.client] < %s\n",
      "[D:websockets.client] < %s\n",
      "[D:websockets.client] < %s\n",
      "[D:websockets.client] < %s\n",
      "[D:websockets.client] < %s\n",
      "[D:websockets.client] < %s\n",
      "[D:websockets.client] < %s\n",
      "[D:websockets.client] < %s\n",
      "[D:websockets.client] < %s\n",
      "[D:websockets.client] < %s\n",
      "[D:websockets.client] < %s\n",
      "[D:websockets.client] < %s\n",
      "[D:websockets.client] < %s\n",
      "[D:websockets.client] < %s\n",
      "[D:websockets.client] < %s\n",
      "[D:websockets.client] < %s\n",
      "[D:websockets.client] < %s\n",
      "[D:websockets.client] < %s\n",
      "[D:websockets.client] < %s\n",
      "[D:websockets.client] < %s\n",
      "[D:websockets.client] < %s\n",
      "[D:websockets.client] < %s\n",
      "[D:websockets.client] < %s\n",
      "[D:websockets.client] < %s\n",
      "[D:websockets.client] < %s\n",
      "[D:websockets.client] < %s\n",
      "[D:websockets.client] < %s\n",
      "[D:websockets.client] < %s\n",
      "[D:websockets.client] < %s\n",
      "[D:websockets.client] < %s\n",
      "[D:websockets.client] < %s\n",
      "[D:websockets.client] < %s\n",
      "[D:websockets.client] < %s\n",
      "[D:websockets.client] < %s\n",
      "[D:websockets.client] < %s\n",
      "[D:websockets.client] < %s\n",
      "[D:websockets.client] < %s\n",
      "[D:websockets.client] < %s\n",
      "[D:websockets.client] < %s\n",
      "[D:websockets.client] < %s\n",
      "[D:websockets.client] < %s\n",
      "[D:websockets.client] < %s\n",
      "[D:websockets.client] < %s\n",
      "[D:websockets.client] < %s\n",
      "[D:websockets.client] < %s\n",
      "[D:websockets.client] < %s\n",
      "[D:websockets.client] < %s\n",
      "[D:websockets.client] < %s\n",
      "[D:websockets.client] < %s\n",
      "[D:websockets.client] < %s\n",
      "[D:websockets.client] < %s\n",
      "[D:websockets.client] < %s\n",
      "[D:websockets.client] < %s\n",
      "[D:websockets.client] < %s\n",
      "[D:websockets.client] < %s\n",
      "[D:websockets.client] < %s\n",
      "[D:websockets.client] < %s\n",
      "[D:websockets.client] < %s\n",
      "[D:websockets.client] < %s\n",
      "[D:websockets.client] < %s\n",
      "[D:websockets.client] < %s\n",
      "[D:websockets.client] < %s\n",
      "[D:websockets.client] < %s\n",
      "[D:websockets.client] < %s\n",
      "[D:websockets.client] < %s\n",
      "[D:websockets.client] < %s\n",
      "[D:websockets.client] < %s\n",
      "[D:websockets.client] < %s\n",
      "[D:websockets.client] < %s\n",
      "[D:websockets.client] < %s\n",
      "[D:websockets.client] < %s\n",
      "[D:websockets.client] < %s\n",
      "[D:websockets.client] < %s\n",
      "[D:websockets.client] < %s\n",
      "[D:websockets.client] < %s\n",
      "[D:websockets.client] < %s\n",
      "[D:websockets.client] < %s\n",
      "[D:websockets.client] < %s\n",
      "[D:websockets.client] < %s\n",
      "[D:websockets.client] < %s\n",
      "[D:websockets.client] < %s\n",
      "[D:websockets.client] < %s\n",
      "[D:websockets.client] < %s\n",
      "[D:websockets.client] < %s\n",
      "[D:websockets.client] < %s\n",
      "[D:websockets.client] < %s\n",
      "[D:websockets.client] < %s\n",
      "[D:websockets.client] < %s\n",
      "[D:websockets.client] < %s\n",
      "[D:websockets.client] < %s\n",
      "[D:websockets.client] < %s\n",
      "[D:websockets.client] < %s\n",
      "[D:websockets.client] < %s\n",
      "[D:websockets.client] < %s\n",
      "[D:websockets.client] < %s\n",
      "[D:websockets.client] < %s\n",
      "[D:websockets.client] < %s\n",
      "[D:websockets.client] < %s\n",
      "[D:websockets.client] < %s\n",
      "[D:websockets.client] < %s\n",
      "[D:websockets.client] < %s\n",
      "[D:websockets.client] < %s\n",
      "[D:websockets.client] < %s\n",
      "[D:websockets.client] < %s\n",
      "[D:websockets.client] < %s\n",
      "[D:websockets.client] < %s\n",
      "[D:websockets.client] < %s\n",
      "[D:websockets.client] < %s\n",
      "[D:websockets.client] < %s\n",
      "[D:websockets.client] < %s\n",
      "[D:websockets.client] < %s\n",
      "[D:websockets.client] < %s\n",
      "[D:websockets.client] < %s\n",
      "[D:websockets.client] < %s\n",
      "[D:websockets.client] < %s\n",
      "[D:websockets.client] < %s\n",
      "[D:websockets.client] < %s\n",
      "[D:websockets.client] < %s\n",
      "[D:websockets.client] < %s\n",
      "[D:websockets.client] < %s\n",
      "[D:websockets.client] < %s\n",
      "[D:websockets.client] < %s\n",
      "[D:websockets.client] < %s\n",
      "[D:websockets.client] < %s\n",
      "[D:websockets.client] < %s\n",
      "[D:websockets.client] < %s\n",
      "[D:websockets.client] < %s\n",
      "[D:websockets.client] < %s\n",
      "[D:websockets.client] < %s\n",
      "[D:websockets.client] < %s\n",
      "[D:websockets.client] < %s\n",
      "[D:websockets.client] < %s\n",
      "[D:websockets.client] < %s\n",
      "[D:websockets.client] < %s\n",
      "[D:websockets.client] < %s\n",
      "[D:websockets.client] < %s\n",
      "[D:websockets.client] < %s\n",
      "[D:websockets.client] < %s\n",
      "[D:websockets.client] < %s\n",
      "[D:websockets.client] < %s\n",
      "[D:websockets.client] < %s\n",
      "[D:websockets.client] < %s\n",
      "[D:websockets.client] < %s\n",
      "[D:websockets.client] < %s\n",
      "[D:websockets.client] < %s\n",
      "[D:websockets.client] < %s\n",
      "[D:websockets.client] < %s\n",
      "[D:websockets.client] < %s\n",
      "[D:websockets.client] < %s\n",
      "[D:websockets.client] < %s\n",
      "[D:websockets.client] < %s\n",
      "[D:websockets.client] < %s\n",
      "[D:websockets.client] < %s\n",
      "[D:websockets.client] < %s\n",
      "[D:websockets.client] < %s\n",
      "[D:websockets.client] < %s\n",
      "[D:websockets.client] < %s\n",
      "[D:websockets.client] < %s\n",
      "[D:websockets.client] < %s\n",
      "[D:websockets.client] < %s\n",
      "[D:websockets.client] < %s\n",
      "[D:websockets.client] < %s\n",
      "[D:websockets.client] < %s\n",
      "[D:websockets.client] < %s\n",
      "[D:websockets.client] < %s\n",
      "[D:websockets.client] < %s\n",
      "[D:websockets.client] < %s\n",
      "[D:websockets.client] < %s\n",
      "[D:websockets.client] < %s\n",
      "[D:websockets.client] < %s\n",
      "[D:websockets.client] < %s\n",
      "[D:websockets.client] < %s\n",
      "[D:websockets.client] < %s\n",
      "[D:websockets.client] < %s\n",
      "[D:websockets.client] < %s\n",
      "[D:websockets.client] < %s\n",
      "[D:websockets.client] < %s\n",
      "[D:websockets.client] < %s\n",
      "[D:websockets.client] < %s\n",
      "[D:websockets.client] < %s\n",
      "[D:websockets.client] < %s\n",
      "[D:websockets.client] < %s\n",
      "[D:websockets.client] < %s\n",
      "[D:websockets.client] < %s\n",
      "[D:websockets.client] < %s\n",
      "[D:websockets.client] < %s\n",
      "[D:websockets.client] < %s\n",
      "[D:websockets.client] < %s\n",
      "[D:websockets.client] < %s\n",
      "[D:websockets.client] < %s\n",
      "[D:websockets.client] < %s\n",
      "[D:websockets.client] < %s\n",
      "[D:websockets.client] < %s\n",
      "[D:websockets.client] < %s\n",
      "[D:websockets.client] < %s\n",
      "[D:websockets.client] < %s\n",
      "[D:websockets.client] < %s\n",
      "[D:websockets.client] < %s\n",
      "[D:websockets.client] < %s\n",
      "[D:websockets.client] < %s\n",
      "[D:websockets.client] < %s\n",
      "[D:websockets.client] < %s\n",
      "[D:websockets.client] < %s\n",
      "[D:websockets.client] < %s\n",
      "[D:websockets.client] < %s\n",
      "[D:websockets.client] < %s\n",
      "[D:websockets.client] < %s\n",
      "[D:websockets.client] < %s\n",
      "[D:websockets.client] < %s\n",
      "[D:websockets.client] < %s\n",
      "[D:websockets.client] < %s\n",
      "[D:websockets.client] < %s\n",
      "[D:websockets.client] < %s\n",
      "[D:websockets.client] < %s\n",
      "[D:websockets.client] < %s\n",
      "[D:websockets.client] < %s\n",
      "[D:websockets.client] < %s\n",
      "[D:websockets.client] < %s\n",
      "[D:websockets.client] < %s\n",
      "[D:websockets.client] < %s\n",
      "[D:websockets.client] < %s\n",
      "[D:websockets.client] < %s\n",
      "[D:websockets.client] < %s\n",
      "[D:websockets.client] < %s\n",
      "[D:websockets.client] < %s\n",
      "[D:websockets.client] < %s\n",
      "[D:websockets.client] < %s\n",
      "[D:websockets.client] < %s\n",
      "[D:websockets.client] < %s\n",
      "[D:websockets.client] < %s\n",
      "[D:websockets.client] < %s\n",
      "[D:websockets.client] < %s\n",
      "[D:websockets.client] < %s\n",
      "[D:websockets.client] < %s\n",
      "[D:websockets.client] < %s\n",
      "[D:websockets.client] < %s\n",
      "[D:websockets.client] < %s\n",
      "[D:websockets.client] < %s\n",
      "[D:websockets.client] < %s\n",
      "[D:websockets.client] < %s\n",
      "[D:websockets.client] < %s\n",
      "[D:websockets.client] < %s\n",
      "[D:websockets.client] < %s\n",
      "[D:websockets.client] < %s\n",
      "[D:websockets.client] < %s\n",
      "[D:websockets.client] < %s\n",
      "[D:websockets.client] < %s\n",
      "[D:websockets.client] < %s\n",
      "[D:websockets.client] < %s\n",
      "[D:websockets.client] < %s\n",
      "[D:websockets.client] < %s\n",
      "[D:websockets.client] < %s\n",
      "[D:websockets.client] < %s\n",
      "[D:websockets.client] < %s\n",
      "[D:websockets.client] < %s\n",
      "[D:websockets.client] < %s\n",
      "[D:websockets.client] < %s\n",
      "[D:websockets.client] < %s\n",
      "[D:websockets.client] < %s\n",
      "[D:websockets.client] > %s\n",
      "[D:websockets.client] < %s\n",
      "[D:websockets.client] < %s\n",
      "[D:websockets.client] < %s\n",
      "[D:websockets.client] < %s\n",
      "[D:websockets.client] < %s\n",
      "[D:websockets.client] < %s\n",
      "[D:websockets.client] < %s\n",
      "[D:websockets.client] < %s\n",
      "[D:websockets.client] < %s\n",
      "[D:websockets.client] < %s\n",
      "[D:websockets.client] < %s\n",
      "[D:websockets.client] < %s\n",
      "[D:websockets.client] < %s\n",
      "[D:websockets.client] < %s\n",
      "[D:websockets.client] < %s\n",
      "[D:websockets.client] < %s\n",
      "[D:websockets.client] < %s\n",
      "[D:websockets.client] < %s\n",
      "[D:websockets.client] < %s\n",
      "[D:websockets.client] < %s\n",
      "[D:websockets.client] < %s\n",
      "[D:websockets.client] < %s\n",
      "[D:websockets.client] < %s\n",
      "[D:websockets.client] < %s\n",
      "[D:websockets.client] < %s\n",
      "[D:websockets.client] < %s\n",
      "[D:websockets.client] < %s\n",
      "[D:websockets.client] < %s\n",
      "[D:websockets.client] < %s\n",
      "[D:websockets.client] < %s\n",
      "[D:websockets.client] < %s\n",
      "[D:websockets.client] < %s\n",
      "[D:websockets.client] < %s\n",
      "[D:websockets.client] < %s\n",
      "[D:websockets.client] < %s\n",
      "[D:websockets.client] < %s\n",
      "[D:websockets.client] < %s\n",
      "[D:websockets.client] < %s\n",
      "[D:websockets.client] < %s\n",
      "[D:websockets.client] < %s\n",
      "[D:websockets.client] < %s\n",
      "[D:websockets.client] < %s\n",
      "[D:websockets.client] < %s\n",
      "[D:websockets.client] < %s\n",
      "[D:websockets.client] < %s\n",
      "[D:websockets.client] < %s\n",
      "[D:websockets.client] < %s\n",
      "[D:websockets.client] < %s\n",
      "[D:websockets.client] < %s\n",
      "[D:websockets.client] < %s\n",
      "[D:websockets.client] < %s\n",
      "[D:websockets.client] < %s\n",
      "[D:websockets.client] < %s\n",
      "[D:websockets.client] < %s\n",
      "[D:websockets.client] < %s\n",
      "[D:websockets.client] < %s\n",
      "[D:websockets.client] < %s\n",
      "[D:websockets.client] < %s\n",
      "[D:websockets.client] < %s\n",
      "[D:websockets.client] < %s\n",
      "[D:websockets.client] < %s\n",
      "[D:websockets.client] < %s\n",
      "[D:websockets.client] < %s\n",
      "[D:websockets.client] < %s\n",
      "[D:websockets.client] < %s\n",
      "[D:websockets.client] < %s\n",
      "[D:websockets.client] < %s\n",
      "[D:websockets.client] < %s\n",
      "[D:websockets.client] < %s\n",
      "[D:websockets.client] < %s\n",
      "[D:websockets.client] < %s\n",
      "[D:websockets.client] < %s\n",
      "[D:websockets.client] < %s\n",
      "[D:websockets.client] < %s\n",
      "[D:websockets.client] < %s\n",
      "[D:websockets.client] < %s\n",
      "[D:websockets.client] < %s\n",
      "[D:websockets.client] < %s\n",
      "[D:websockets.client] < %s\n",
      "[D:websockets.client] < %s\n",
      "[D:websockets.client] < %s\n",
      "[D:websockets.client] < %s\n",
      "[D:websockets.client] < %s\n",
      "[D:websockets.client] < %s\n",
      "[D:websockets.client] < %s\n",
      "[D:websockets.client] < %s\n",
      "[D:websockets.client] > %s\n",
      "[D:websockets.client] < %s\n",
      "[D:websockets.client] < %s\n",
      "[D:websockets.client] < %s\n",
      "[D:websockets.client] < %s\n",
      "[D:websockets.client] < %s\n",
      "[D:websockets.client] < %s\n",
      "[D:websockets.client] > %s\n",
      "[D:websockets.client] < %s\n",
      "[E:asyncio] Future exception was never retrieved\n",
      "future: <Future finished exception=NetworkError('Protocol error Target.detachFromTarget: Target closed.')>\n",
      "pyppeteer.errors.NetworkError: Protocol error Target.detachFromTarget: Target closed.\n"
     ]
    },
    {
     "ename": "RuntimeError",
     "evalue": "Cannot use HTMLSession within an existing event loop. Use AsyncHTMLSession instead.",
     "output_type": "error",
     "traceback": [
      "\u001B[1;31m---------------------------------------------------------------------------\u001B[0m",
      "\u001B[1;31mRuntimeError\u001B[0m                              Traceback (most recent call last)",
      "Cell \u001B[1;32mIn[5], line 17\u001B[0m\n\u001B[0;32m     15\u001B[0m \u001B[38;5;28;01mawait\u001B[39;00m r\u001B[38;5;241m.\u001B[39mhtml\u001B[38;5;241m.\u001B[39marender()\n\u001B[0;32m     16\u001B[0m resp\u001B[38;5;241m=\u001B[39mr\u001B[38;5;241m.\u001B[39mhtml\u001B[38;5;241m.\u001B[39mraw_html\n\u001B[1;32m---> 17\u001B[0m \u001B[43mr\u001B[49m\u001B[38;5;241;43m.\u001B[39;49m\u001B[43mhtml\u001B[49m\u001B[38;5;241;43m.\u001B[39;49m\u001B[43mrender\u001B[49m\u001B[43m(\u001B[49m\u001B[43m)\u001B[49m\n\u001B[0;32m     18\u001B[0m soup \u001B[38;5;241m=\u001B[39m BeautifulSoup(r\u001B[38;5;241m.\u001B[39mcontent)\n",
      "File \u001B[1;32m~\\.conda\\envs\\irl-chess-v6\\lib\\site-packages\\requests_html.py:586\u001B[0m, in \u001B[0;36mHTML.render\u001B[1;34m(self, retries, script, wait, scrolldown, sleep, reload, timeout, keep_page)\u001B[0m\n\u001B[0;32m    541\u001B[0m \u001B[38;5;28;01mdef\u001B[39;00m \u001B[38;5;21mrender\u001B[39m(\u001B[38;5;28mself\u001B[39m, retries: \u001B[38;5;28mint\u001B[39m \u001B[38;5;241m=\u001B[39m \u001B[38;5;241m8\u001B[39m, script: \u001B[38;5;28mstr\u001B[39m \u001B[38;5;241m=\u001B[39m \u001B[38;5;28;01mNone\u001B[39;00m, wait: \u001B[38;5;28mfloat\u001B[39m \u001B[38;5;241m=\u001B[39m \u001B[38;5;241m0.2\u001B[39m, scrolldown\u001B[38;5;241m=\u001B[39m\u001B[38;5;28;01mFalse\u001B[39;00m, sleep: \u001B[38;5;28mint\u001B[39m \u001B[38;5;241m=\u001B[39m \u001B[38;5;241m0\u001B[39m, reload: \u001B[38;5;28mbool\u001B[39m \u001B[38;5;241m=\u001B[39m \u001B[38;5;28;01mTrue\u001B[39;00m, timeout: Union[\u001B[38;5;28mfloat\u001B[39m, \u001B[38;5;28mint\u001B[39m] \u001B[38;5;241m=\u001B[39m \u001B[38;5;241m8.0\u001B[39m, keep_page: \u001B[38;5;28mbool\u001B[39m \u001B[38;5;241m=\u001B[39m \u001B[38;5;28;01mFalse\u001B[39;00m):\n\u001B[0;32m    542\u001B[0m \u001B[38;5;250m    \u001B[39m\u001B[38;5;124;03m\"\"\"Reloads the response in Chromium, and replaces HTML content\u001B[39;00m\n\u001B[0;32m    543\u001B[0m \u001B[38;5;124;03m    with an updated version, with JavaScript executed.\u001B[39;00m\n\u001B[0;32m    544\u001B[0m \n\u001B[1;32m   (...)\u001B[0m\n\u001B[0;32m    583\u001B[0m \u001B[38;5;124;03m    Chromium into your home directory (``~/.pyppeteer``).\u001B[39;00m\n\u001B[0;32m    584\u001B[0m \u001B[38;5;124;03m    \"\"\"\u001B[39;00m\n\u001B[1;32m--> 586\u001B[0m     \u001B[38;5;28mself\u001B[39m\u001B[38;5;241m.\u001B[39mbrowser \u001B[38;5;241m=\u001B[39m \u001B[38;5;28;43mself\u001B[39;49m\u001B[38;5;241;43m.\u001B[39;49m\u001B[43msession\u001B[49m\u001B[38;5;241;43m.\u001B[39;49m\u001B[43mbrowser\u001B[49m  \u001B[38;5;66;03m# Automatically create a event loop and browser\u001B[39;00m\n\u001B[0;32m    587\u001B[0m     content \u001B[38;5;241m=\u001B[39m \u001B[38;5;28;01mNone\u001B[39;00m\n\u001B[0;32m    589\u001B[0m     \u001B[38;5;66;03m# Automatically set Reload to False, if example URL is being used.\u001B[39;00m\n",
      "File \u001B[1;32m~\\.conda\\envs\\irl-chess-v6\\lib\\site-packages\\requests_html.py:729\u001B[0m, in \u001B[0;36mHTMLSession.browser\u001B[1;34m(self)\u001B[0m\n\u001B[0;32m    727\u001B[0m     \u001B[38;5;28mself\u001B[39m\u001B[38;5;241m.\u001B[39mloop \u001B[38;5;241m=\u001B[39m asyncio\u001B[38;5;241m.\u001B[39mget_event_loop()\n\u001B[0;32m    728\u001B[0m     \u001B[38;5;28;01mif\u001B[39;00m \u001B[38;5;28mself\u001B[39m\u001B[38;5;241m.\u001B[39mloop\u001B[38;5;241m.\u001B[39mis_running():\n\u001B[1;32m--> 729\u001B[0m         \u001B[38;5;28;01mraise\u001B[39;00m \u001B[38;5;167;01mRuntimeError\u001B[39;00m(\u001B[38;5;124m\"\u001B[39m\u001B[38;5;124mCannot use HTMLSession within an existing event loop. Use AsyncHTMLSession instead.\u001B[39m\u001B[38;5;124m\"\u001B[39m)\n\u001B[0;32m    730\u001B[0m     \u001B[38;5;28mself\u001B[39m\u001B[38;5;241m.\u001B[39m_browser \u001B[38;5;241m=\u001B[39m \u001B[38;5;28mself\u001B[39m\u001B[38;5;241m.\u001B[39mloop\u001B[38;5;241m.\u001B[39mrun_until_complete(\u001B[38;5;28msuper\u001B[39m()\u001B[38;5;241m.\u001B[39mbrowser)\n\u001B[0;32m    731\u001B[0m \u001B[38;5;28;01mreturn\u001B[39;00m \u001B[38;5;28mself\u001B[39m\u001B[38;5;241m.\u001B[39m_browser\n",
      "\u001B[1;31mRuntimeError\u001B[0m: Cannot use HTMLSession within an existing event loop. Use AsyncHTMLSession instead."
     ]
    }
   ],
   "source": [
    "from requests_html import AsyncHTMLSession\n",
    "import nest_asyncio\n",
    "import os\n",
    "\n",
    "os.environ['PYPPETEER_CHROMIUM_REVISION'] = '1263111'\n",
    "\n",
    "nest_asyncio.apply()\n",
    "\n",
    "site = 'https://lichess.org/analysis/standard/'\n",
    "fen = state.fen()\n",
    "url = site + fen\n",
    "\n",
    "asession = AsyncHTMLSession()\n",
    "r = await asession.get(url)\n",
    "await r.html.arender()\n",
    "resp=r.html.raw_html\n",
    "r.html.render()\n",
    "soup = BeautifulSoup(r.content)\n"
   ],
   "metadata": {
    "collapsed": false,
    "ExecuteTime": {
     "end_time": "2024-04-19T14:38:13.349439600Z",
     "start_time": "2024-04-19T14:38:09.992743500Z"
    }
   },
   "id": "42243b223350a579",
   "execution_count": 5
  },
  {
   "cell_type": "code",
   "outputs": [
    {
     "name": "stdout",
     "output_type": "stream",
     "text": [
      "Collecting pyppeteer==1.0.0\n",
      "  Downloading pyppeteer-1.0.0-py3-none-any.whl.metadata (6.9 kB)\n",
      "Requirement already satisfied: appdirs<2.0.0,>=1.4.3 in c:\\users\\nikol\\.conda\\envs\\irl-chess-v6\\lib\\site-packages (from pyppeteer==1.0.0) (1.4.4)\n",
      "Requirement already satisfied: certifi>=2021 in c:\\users\\nikol\\.conda\\envs\\irl-chess-v6\\lib\\site-packages (from pyppeteer==1.0.0) (2023.11.17)\n",
      "Requirement already satisfied: importlib-metadata>=1.4 in c:\\users\\nikol\\.conda\\envs\\irl-chess-v6\\lib\\site-packages (from pyppeteer==1.0.0) (7.0.1)\n",
      "Collecting pyee<9.0.0,>=8.1.0 (from pyppeteer==1.0.0)\n",
      "  Downloading pyee-8.2.2-py2.py3-none-any.whl.metadata (1.7 kB)\n",
      "Requirement already satisfied: tqdm<5.0.0,>=4.42.1 in c:\\users\\nikol\\.conda\\envs\\irl-chess-v6\\lib\\site-packages (from pyppeteer==1.0.0) (4.66.1)\n",
      "Requirement already satisfied: urllib3<2.0.0,>=1.25.8 in c:\\users\\nikol\\.conda\\envs\\irl-chess-v6\\lib\\site-packages (from pyppeteer==1.0.0) (1.26.18)\n",
      "Requirement already satisfied: websockets<11.0,>=10.0 in c:\\users\\nikol\\.conda\\envs\\irl-chess-v6\\lib\\site-packages (from pyppeteer==1.0.0) (10.4)\n",
      "Requirement already satisfied: zipp>=0.5 in c:\\users\\nikol\\.conda\\envs\\irl-chess-v6\\lib\\site-packages (from importlib-metadata>=1.4->pyppeteer==1.0.0) (3.17.0)\n",
      "Requirement already satisfied: colorama in c:\\users\\nikol\\.conda\\envs\\irl-chess-v6\\lib\\site-packages (from tqdm<5.0.0,>=4.42.1->pyppeteer==1.0.0) (0.4.6)\n",
      "Downloading pyppeteer-1.0.0-py3-none-any.whl (83 kB)\n",
      "   ---------------------------------------- 0.0/83.5 kB ? eta -:--:--\n",
      "   ---- ----------------------------------- 10.2/83.5 kB ? eta -:--:--\n",
      "   ------------------- -------------------- 41.0/83.5 kB 495.5 kB/s eta 0:00:01\n",
      "   ---------------------------------------- 83.5/83.5 kB 671.7 kB/s eta 0:00:00\n",
      "Downloading pyee-8.2.2-py2.py3-none-any.whl (12 kB)\n",
      "Installing collected packages: pyee, pyppeteer\n",
      "  Attempting uninstall: pyee\n",
      "    Found existing installation: pyee 11.1.0\n",
      "    Uninstalling pyee-11.1.0:\n",
      "      Successfully uninstalled pyee-11.1.0\n",
      "  Attempting uninstall: pyppeteer\n",
      "    Found existing installation: pyppeteer 2.0.0\n",
      "    Uninstalling pyppeteer-2.0.0:\n",
      "      Successfully uninstalled pyppeteer-2.0.0\n",
      "Successfully installed pyee-8.2.2 pyppeteer-1.0.0\n"
     ]
    }
   ],
   "source": [
    "!pip install pyppeteer==1.0.0"
   ],
   "metadata": {
    "collapsed": false,
    "ExecuteTime": {
     "end_time": "2024-04-19T14:35:37.722883Z",
     "start_time": "2024-04-19T14:35:29.894391900Z"
    }
   },
   "id": "7fcdcc2031d2b343",
   "execution_count": 23
  }
 ],
 "metadata": {
  "kernelspec": {
   "display_name": "Python 3",
   "language": "python",
   "name": "python3"
  },
  "language_info": {
   "codemirror_mode": {
    "name": "ipython",
    "version": 2
   },
   "file_extension": ".py",
   "mimetype": "text/x-python",
   "name": "python",
   "nbconvert_exporter": "python",
   "pygments_lexer": "ipython2",
   "version": "2.7.6"
  }
 },
 "nbformat": 4,
 "nbformat_minor": 5
}
