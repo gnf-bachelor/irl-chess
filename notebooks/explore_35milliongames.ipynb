{
 "cells": [
  {
   "cell_type": "code",
   "execution_count": 3,
   "id": "initial_id",
   "metadata": {
    "collapsed": true,
    "ExecuteTime": {
     "end_time": "2024-01-22T15:14:52.339316600Z",
     "start_time": "2024-01-22T15:14:50.914657Z"
    }
   },
   "outputs": [
    {
     "name": "stderr",
     "output_type": "stream",
     "text": [
      "C:\\Users\\toell\\AppData\\Local\\Temp\\ipykernel_21852\\3822632653.py:2: DeprecationWarning: \n",
      "Pyarrow will become a required dependency of pandas in the next major release of pandas (pandas 3.0),\n",
      "(to allow more performant data types, such as the Arrow string type, and better interoperability with other libraries)\n",
      "but was not found to be installed on your system.\n",
      "If this would cause problems for you,\n",
      "please provide us feedback at https://github.com/pandas-dev/pandas/issues/54466\n",
      "        \n",
      "  import pandas as pd\n"
     ]
    }
   ],
   "source": [
    "import os\n",
    "import pandas as pd\n",
    "import numpy as np\n",
    "import matplotlib.pyplot as plt\n",
    "\n",
    "from tqdm import tqdm"
   ]
  },
  {
   "cell_type": "markdown",
   "source": [
    "The documentation on the site provides a nice way of filtering by column using bash:\n",
    "`https://chess-research-project.readthedocs.io/en/latest/`"
   ],
   "metadata": {
    "collapsed": false
   },
   "id": "8d619555cfdda9f6"
  },
  {
   "cell_type": "code",
   "outputs": [],
   "source": [
    "if os.getcwd().split('\\\\')[-1] != 'irl-chess':\n",
    "    os.chdir('../')"
   ],
   "metadata": {
    "collapsed": false,
    "ExecuteTime": {
     "end_time": "2024-01-22T15:14:53.697767800Z",
     "start_time": "2024-01-22T15:14:53.662761Z"
    }
   },
   "id": "b1ad94fa742d4f11",
   "execution_count": 4
  },
  {
   "cell_type": "code",
   "outputs": [
    {
     "name": "stdout",
     "output_type": "stream",
     "text": [
      "[1, -1, 0]\n"
     ]
    }
   ],
   "source": [
    "def win_loss_translation(inp):\n",
    "    if len(inp) < 2:        # What is a star??\n",
    "        out = 0\n",
    "    elif inp[0] == '0':       # White loss\n",
    "        out = -1\n",
    "    else:\n",
    "        if inp[1] == '-':   # White win\n",
    "            out = 1\n",
    "        else:               # Draw\n",
    "            out = 0\n",
    "    return out\n",
    "wl_options = ['1-0', '0-1', '1/2-1/2']\n",
    "print([win_loss_translation(el) for el in wl_options])"
   ],
   "metadata": {
    "collapsed": false,
    "ExecuteTime": {
     "end_time": "2024-01-22T15:26:04.309510200Z",
     "start_time": "2024-01-22T15:26:04.285881800Z"
    }
   },
   "id": "b749606dabe09b75",
   "execution_count": 36
  },
  {
   "cell_type": "code",
   "outputs": [
    {
     "name": "stderr",
     "output_type": "stream",
     "text": [
      "100%|██████████| 3561469/3561469 [00:26<00:00, 136640.49it/s]\n"
     ]
    }
   ],
   "source": [
    "path = 'data/35-million-chess-games-1998/all_with_filtered_annotations.txt'\n",
    "\n",
    "games, data = [], []\n",
    "i = 0\n",
    "\n",
    "with open(path, 'r') as file:\n",
    "    for line in tqdm(file.readlines()[6:], total=3561469):\n",
    "        \n",
    "        split_line = line.split('###')\n",
    "        game = split_line[1]\n",
    "        # w/l/d, w_ELO, b_ELO,\n",
    "        game_data = split_line[0].split(' ')\n",
    "        if game_data[3] != 'None' and game_data[4] != 'None':\n",
    "            games.append([game])\n",
    "            data.append([win_loss_translation(game_data[2]), *game_data[3:6]])\n",
    "        i += 1\n"
   ],
   "metadata": {
    "collapsed": false,
    "ExecuteTime": {
     "end_time": "2024-01-22T18:56:45.426081200Z",
     "start_time": "2024-01-22T18:56:04.730824400Z"
    }
   },
   "id": "e8ad0db0374804d8",
   "execution_count": 55
  },
  {
   "cell_type": "code",
   "outputs": [],
   "source": [
    "data_array = np.array(data, dtype=np.int8)"
   ],
   "metadata": {
    "collapsed": false,
    "ExecuteTime": {
     "end_time": "2024-01-22T18:56:51.940864900Z",
     "start_time": "2024-01-22T18:56:50.593683700Z"
    }
   },
   "id": "88aebe64987c5bbf",
   "execution_count": 56
  },
  {
   "cell_type": "code",
   "outputs": [
    {
     "data": {
      "text/plain": "0"
     },
     "execution_count": 58,
     "metadata": {},
     "output_type": "execute_result"
    }
   ],
   "source": [
    "sum(data_array[:, 1] > 500)"
   ],
   "metadata": {
    "collapsed": false,
    "ExecuteTime": {
     "end_time": "2024-01-22T18:57:15.162748500Z",
     "start_time": "2024-01-22T18:57:14.989595800Z"
    }
   },
   "id": "7f86bfdd26656047",
   "execution_count": 58
  },
  {
   "cell_type": "code",
   "outputs": [
    {
     "data": {
      "text/plain": "<Figure size 640x480 with 1 Axes>",
      "image/png": "[encoded data removed]"
     },
     "metadata": {},
     "output_type": "display_data"
    }
   ],
   "source": [
    "plt.hist(data_array[:, 2], bins=100)\n",
    "plt.show()"
   ],
   "metadata": {
    "collapsed": false,
    "ExecuteTime": {
     "end_time": "2024-01-22T18:58:24.418487900Z",
     "start_time": "2024-01-22T18:58:23.858421500Z"
    }
   },
   "id": "ac69eb978eb65c01",
   "execution_count": 60
  }
 ],
 "metadata": {
  "kernelspec": {
   "display_name": "Python 3",
   "language": "python",
   "name": "python3"
  },
  "language_info": {
   "codemirror_mode": {
    "name": "ipython",
    "version": 2
   },
   "file_extension": ".py",
   "mimetype": "text/x-python",
   "name": "python",
   "nbconvert_exporter": "python",
   "pygments_lexer": "ipython2",
   "version": "2.7.6"
  }
 },
 "nbformat": 4,
 "nbformat_minor": 5
}
