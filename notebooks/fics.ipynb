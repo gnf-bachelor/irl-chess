{
 "cells": [
  {
   "cell_type": "code",
   "outputs": [
    {
     "name": "stderr",
     "output_type": "stream",
     "text": [
      "C:\\Users\\toell\\AppData\\Local\\Temp\\ipykernel_28172\\3801029896.py:6: DeprecationWarning: \n",
      "Pyarrow will become a required dependency of pandas in the next major release of pandas (pandas 3.0),\n",
      "(to allow more performant data types, such as the Arrow string type, and better interoperability with other libraries)\n",
      "but was not found to be installed on your system.\n",
      "If this would cause problems for you,\n",
      "please provide us feedback at https://github.com/pandas-dev/pandas/issues/54466\n",
      "        \n",
      "  import pandas as pd\n"
     ]
    }
   ],
   "source": [
    "import os\n",
    "import torch\n",
    "import wandb\n",
    "import chess\n",
    "import chess.pgn\n",
    "import pandas as pd\n",
    "import numpy as np\n",
    "import matplotlib.pyplot as plt\n",
    "\n",
    "from copy import deepcopy\n",
    "from tqdm import tqdm\n",
    "from collections import defaultdict"
   ],
   "metadata": {
    "collapsed": false,
    "ExecuteTime": {
     "end_time": "2024-01-24T14:40:15.243640Z",
     "start_time": "2024-01-24T14:40:10.541925500Z"
    }
   },
   "id": "a99fcfca5c07bed2",
   "execution_count": 1
  },
  {
   "cell_type": "code",
   "outputs": [],
   "source": [
    "if os.getcwd().split('\\\\')[-1] != 'irl-chess':\n",
    "    os.chdir('../')"
   ],
   "metadata": {
    "collapsed": false,
    "ExecuteTime": {
     "end_time": "2024-01-24T14:40:15.300198400Z",
     "start_time": "2024-01-24T14:40:15.245628500Z"
    }
   },
   "id": "2679c01e9a343ee7",
   "execution_count": 2
  },
  {
   "cell_type": "code",
   "outputs": [],
   "source": [
    "def win_loss_translation(outcome):\n",
    "    # positive for white, 2 for checkmate, 1 for resignation\n",
    "    if outcome[0] == '0':       # White loss\n",
    "        out = -1\n",
    "    elif outcome[1] == '-':   # White win\n",
    "        out = 1\n",
    "    else:               # Draw\n",
    "        out = 0\n",
    "    return out\n",
    "\n",
    "def parse_pgn(game):\n",
    "    # CHATGPT (Modified)\n",
    "    white_elo_start = game.find(\"WhiteElo\") + 10\n",
    "    white_elo_end = white_elo_start + game[white_elo_start:].find('\"')\n",
    "    white_elo = int(game[white_elo_start:white_elo_end].strip())\n",
    "\n",
    "    black_elo_start = game.find(\"BlackElo\") + 10\n",
    "    black_elo_end = black_elo_start + game[black_elo_start:].find('\"')\n",
    "    black_elo = int(game[black_elo_start:black_elo_end].strip())\n",
    "\n",
    "    moves = []\n",
    "    game_split =  game.split(\"\\n\\n\")[1].split(' ')\n",
    "    for move in game_split:\n",
    "        if '{' in move:\n",
    "            break\n",
    "        if '.' not in move:     # Remove numbering\n",
    "            moves.append(move)\n",
    "    outcome = win_loss_translation(game_split[-1])    # Get reason for game ending\n",
    "    \n",
    "    game_length = len(moves)\n",
    "    # (for data), moves\n",
    "    return (white_elo, black_elo, game_length, outcome), moves"
   ],
   "metadata": {
    "collapsed": false,
    "ExecuteTime": {
     "end_time": "2024-01-24T14:40:15.335232700Z",
     "start_time": "2024-01-24T14:40:15.263636800Z"
    }
   },
   "id": "cdb4339df3504099",
   "execution_count": 3
  },
  {
   "cell_type": "code",
   "outputs": [],
   "source": [
    "def load_games(path):\n",
    "    moves_list = []\n",
    "    data = []\n",
    "    path_data = path.replace(path.split('/')[-1], 'data.csv')\n",
    "    path_moves = path.replace(path.split('/')[-1], 'moves.txt')\n",
    "    try:\n",
    "        data = pd.read_csv(path_data, sep=',').values\n",
    "        moves_list = []\n",
    "        with open(path_moves, 'r') as file:\n",
    "            for line in file:\n",
    "                moves_list.append(line.split())\n",
    "        return moves_list, data\n",
    "    except FileNotFoundError:\n",
    "        pass\n",
    "\n",
    "    with open(path, 'r') as file:\n",
    "        game = \"\"\n",
    "        event_count = 0\n",
    "        for line in tqdm(file, total=8_936_708, desc='Parsing'):    # Copied from the data file, hard to do dynamically\n",
    "            game += line\n",
    "            if 'Event' in line:\n",
    "                event_count += 1\n",
    "            if event_count == 2:  # Check if game string is not empty\n",
    "                (temp), moves = parse_pgn(game)\n",
    "                moves_list.append(moves)\n",
    "                data.append(temp)\n",
    "                game = \"\"\n",
    "                event_count = 1\n",
    "    data = np.array(data)\n",
    "    pd.DataFrame(data).to_csv(path_data, sep=',')\n",
    "    with open(path_moves, 'w') as file:\n",
    "        for move in tqdm(moves_list, desc='Saving Moves'):\n",
    "            temp_move = ''\n",
    "            for char in move:\n",
    "                temp_move += char + ' '\n",
    "            file.writelines(temp_move[:-1] + '\\n')\n",
    "    return moves_list, data"
   ],
   "metadata": {
    "collapsed": false,
    "ExecuteTime": {
     "end_time": "2024-01-24T14:40:15.336199Z",
     "start_time": "2024-01-24T14:40:15.282199100Z"
    }
   },
   "id": "a5074eb4cb147a7",
   "execution_count": 4
  },
  {
   "cell_type": "code",
   "outputs": [],
   "source": [
    "path = 'data/ficsgamesdb_2021_standard_nomovetimes/ficsgamesdb_2021_standard_nomovetimes.pgn'\n",
    "moves_list, data = load_games(path)\n",
    "data_array = np.array(data, dtype=np.int16)"
   ],
   "metadata": {
    "collapsed": false,
    "ExecuteTime": {
     "end_time": "2024-01-24T14:40:20.522405100Z",
     "start_time": "2024-01-24T14:40:15.290196100Z"
    }
   },
   "id": "4df047a363ab5442",
   "execution_count": 5
  },
  {
   "cell_type": "code",
   "outputs": [],
   "source": [
    "for move in moves_list:\n",
    "    for temp in move:\n",
    "        if len(temp) > 7:\n",
    "            print(temp)"
   ],
   "metadata": {
    "collapsed": false,
    "ExecuteTime": {
     "end_time": "2024-01-24T14:40:23.004217800Z",
     "start_time": "2024-01-24T14:40:20.566409800Z"
    }
   },
   "id": "19282de045f2c874",
   "execution_count": 6
  },
  {
   "cell_type": "code",
   "outputs": [
    {
     "name": "stdout",
     "output_type": "stream",
     "text": [
      "Moves 1:\n",
      "['Nf3', 'e6', 'e3', 'c5', 'c4', 'Nf6', 'Nd4', 'd5', 'Ne2', 'Bd6', 'cxd5', 'Nxd5', 'Nec3', 'Nxc3', 'dxc3', 'O-O', 'Bb5', 'a6', 'Bd3', 'Nc6', 'O-O', 'Ne5', 'Na3', 'Nxd3', 'Nc2', 'Nxc1', 'Rxc1', 'h6', 'e4', 'Qc7', 'Na3', 'Bxh2+', 'Kh1', 'Bf4', 'Kg1', 'Bxc1', 'Qxc1', 'Qe7', 'Rd1', 'e5', 'f3', 'Be6', 'g3', 'b5', 'f4', 'b4', 'fxe5', 'bxa3', 'bxa3', 'Bg4', 'Qb1', 'Qxe5', 'Kg2', 'Bxd1']\n",
      "White Elo: 0, Black Elo: 1720, Game Length: 1525 moves, Outcome: 54\n",
      "\n",
      "Moves 2:\n",
      "['e4', 'e5', 'Nf3', 'Nc6', 'g3', 'Bc5', 'Bg2', 'd6', 'O-O', 'Bg4', 'c3', 'Nge7', 'd3', 'Qd7', 'Nbd2', 'Bh3', 'Re1', 'g5', 'Nf1', 'f6', 'Qb3', 'O-O-O', 'Be3', 'Na5', 'Qc2', 'Bxe3', 'Nxe3', 'h5', 'b4', 'Nac6', 'a4', 'a5', 'b5', 'Na7', 'c4', 'b6', 'Qc3', 'Kb7', 'Rec1', 'g4', 'Nh4', 'Bxg2', 'Kxg2', 'c5', 'bxc6+', 'Nexc6', 'Nd5', 'Qe6', 'Rab1', 'Nb4', 'Rxb4', 'axb4', 'Qxb4', 'Nc8', 'Rb1', 'Qd7', 'Nxb6', 'Qc6', 'Nd5+', 'Ka7', 'Qb8+', 'Ka6', 'Nc7+', 'Ka5', 'Qb4#']\n",
      "White Elo: 1, Black Elo: 1920, Game Length: 1518 moves, Outcome: 65\n"
     ]
    }
   ],
   "source": [
    "# Print the first 2 games and their corresponding data\n",
    "for i in range(2):\n",
    "    print(f\"Moves {i + 1}:\\n{moves_list[i]}\\nWhite Elo: {data[i][0]}, Black Elo: {data[i][1]}, Game Length: {data[i][2]} moves, Outcome: {data[i][3]}\\n\")"
   ],
   "metadata": {
    "collapsed": false,
    "ExecuteTime": {
     "end_time": "2024-01-24T14:40:23.038216800Z",
     "start_time": "2024-01-24T14:40:23.006422300Z"
    }
   },
   "id": "f43824cbf7bc34f6",
   "execution_count": 7
  },
  {
   "cell_type": "code",
   "outputs": [
    {
     "data": {
      "text/plain": "<Figure size 640x480 with 1 Axes>",
      "image/png": "[encoded data removed]"
     },
     "metadata": {},
     "output_type": "display_data"
    }
   ],
   "source": [
    "bins = 1000\n",
    "plt.hist(data_array[:, 1], bins=bins, label='White ELO')\n",
    "plt.hist(data_array[:, 2], bins=bins, label='Black ELO')\n",
    "plt.show()"
   ],
   "metadata": {
    "collapsed": false,
    "ExecuteTime": {
     "end_time": "2024-01-24T14:40:25.616986600Z",
     "start_time": "2024-01-24T14:40:23.021217200Z"
    }
   },
   "id": "6fbc56268af5f4bc",
   "execution_count": 8
  },
  {
   "cell_type": "code",
   "outputs": [
    {
     "data": {
      "text/plain": "<Figure size 640x480 with 1 Axes>",
      "image/png": "[encoded data removed]"
     },
     "metadata": {},
     "output_type": "display_data"
    }
   ],
   "source": [
    "bins = 10\n",
    "plt.hist(data_array[:, 0], bins=bins, label='Outcome')\n",
    "plt.title('Outcome Distribution')\n",
    "plt.show()"
   ],
   "metadata": {
    "collapsed": false,
    "ExecuteTime": {
     "end_time": "2024-01-24T14:40:25.791720100Z",
     "start_time": "2024-01-24T14:40:25.607976100Z"
    }
   },
   "id": "73a2966006d410c5",
   "execution_count": 9
  },
  {
   "cell_type": "code",
   "outputs": [
    {
     "data": {
      "text/plain": "<Figure size 640x480 with 1 Axes>",
      "image/png": "[encoded data removed]"
     },
     "metadata": {},
     "output_type": "display_data"
    }
   ],
   "source": [
    "bins = 100\n",
    "plt.hist(data_array[:, 3], bins=bins, label='Game Length')\n",
    "plt.title('Game Length Distribution')\n",
    "plt.show()"
   ],
   "metadata": {
    "collapsed": false,
    "ExecuteTime": {
     "end_time": "2024-01-24T14:40:26.033951900Z",
     "start_time": "2024-01-24T14:40:25.776532300Z"
    }
   },
   "id": "1577bbe09a3c9719",
   "execution_count": 10
  },
  {
   "cell_type": "code",
   "outputs": [],
   "source": [
    "def get_board_arrays(game_moves):\n",
    "    board = chess.Board()\n",
    "    positions = []\n",
    "\n",
    "    for move in game_moves:\n",
    "        board.push_san(move)\n",
    "        positions.append(board_to_array(board))\n",
    "\n",
    "    return positions\n",
    "\n",
    "def board_to_array(board, material_dict=None, tensor=False):\n",
    "    if material_dict is None:\n",
    "        material_dict = {i: i for i in range(1, 7)}\n",
    "    arr = np.zeros(64, dtype=np.int8)\n",
    "    for square in chess.SQUARES:\n",
    "            piece = board.piece_at(square)\n",
    "            if piece is not None:\n",
    "                arr[square] = material_dict[piece.piece_type] * (1 if piece.color else -1)\n",
    "    # arr = arr.reshape((8, 8))     # Need a reason to reshape\n",
    "    return arr if not tensor else torch.tensor(arr)"
   ],
   "metadata": {
    "collapsed": false,
    "ExecuteTime": {
     "end_time": "2024-01-24T15:31:31.644540600Z",
     "start_time": "2024-01-24T15:31:31.628503700Z"
    }
   },
   "id": "d334b35fb920c9e0",
   "execution_count": 30
  },
  {
   "cell_type": "code",
   "outputs": [
    {
     "name": "stdout",
     "output_type": "stream",
     "text": [
      "[ 4  2  3  5  6  3  2  4  1  1  1  1  0  1  1  1  0  0  0  0  0  0  0  0\n",
      "  0  0  0  0  1  0  0  0  0  0  0  0  0  0  0  0  0  0  0  0  0  0  0  0\n",
      " -1 -1 -1 -1 -1 -1 -1 -1 -4 -2 -3 -5 -6 -3 -2 -4]\n",
      "[ 4  2  3  5  6  3  2  4  1  1  1  1  0  1  1  1  0  0  0  0  0  0  0  0\n",
      "  0  0  0  0  1  0  0  0  0  0 -1  0  0  0  0  0  0  0  0  0  0  0  0  0\n",
      " -1 -1  0 -1 -1 -1 -1 -1 -4 -2 -3 -5 -6 -3 -2 -4]\n",
      "[ 4  2  3  5  6  3  0  4  1  1  1  1  0  1  1  1  0  0  0  0  0  2  0  0\n",
      "  0  0  0  0  1  0  0  0  0  0 -1  0  0  0  0  0  0  0  0  0  0  0  0  0\n",
      " -1 -1  0 -1 -1 -1 -1 -1 -4 -2 -3 -5 -6 -3 -2 -4]\n",
      "[ 4  2  3  5  6  3  0  4  1  1  1  1  0  1  1  1  0  0  0  0  0  2  0  0\n",
      "  0  0  0  0  1  0  0  0  0  0 -1  0  0  0  0  0  0  0 -2  0  0  0  0  0\n",
      " -1 -1  0 -1 -1 -1 -1 -1 -4  0 -3 -5 -6 -3 -2 -4]\n",
      "[ 4  2  3  5  6  3  0  4  1  1  1  0  0  1  1  1  0  0  0  0  0  2  0  0\n",
      "  0  0  0  1  1  0  0  0  0  0 -1  0  0  0  0  0  0  0 -2  0  0  0  0  0\n",
      " -1 -1  0 -1 -1 -1 -1 -1 -4  0 -3 -5 -6 -3 -2 -4]\n",
      "[ 4  2  3  5  6  3  0  4  1  1  1  0  0  1  1  1  0  0  0  0  0  2  0  0\n",
      "  0  0  0 -1  1  0  0  0  0  0  0  0  0  0  0  0  0  0 -2  0  0  0  0  0\n",
      " -1 -1  0 -1 -1 -1 -1 -1 -4  0 -3 -5 -6 -3 -2 -4]\n",
      "[ 4  2  3  5  6  3  0  4  1  1  1  0  0  1  1  1  0  0  0  0  0  0  0  0\n",
      "  0  0  0  2  1  0  0  0  0  0  0  0  0  0  0  0  0  0 -2  0  0  0  0  0\n",
      " -1 -1  0 -1 -1 -1 -1 -1 -4  0 -3 -5 -6 -3 -2 -4]\n",
      "[ 4  2  3  5  6  3  0  4  1  1  1  0  0  1  1  1  0  0  0  0  0  0  0  0\n",
      "  0  0  0  2  1  0  0  0  0  0  0  0  0  0  0  0  0  0 -2  0  0 -2  0  0\n",
      " -1 -1  0 -1 -1 -1 -1 -1 -4  0 -3 -5 -6 -3  0 -4]\n",
      "[ 4  2  3  5  6  3  0  4  1  1  1  0  0  0  1  1  0  0  0  0  0  1  0  0\n",
      "  0  0  0  2  1  0  0  0  0  0  0  0  0  0  0  0  0  0 -2  0  0 -2  0  0\n",
      " -1 -1  0 -1 -1 -1 -1 -1 -4  0 -3 -5 -6 -3  0 -4]\n",
      "[ 4  2  3  5  6  3  0  4  1  1  1  0  0  0  1  1  0  0  0  0  0  1  0  0\n",
      "  0  0  0  2  1  0  0  0  0  0  0 -1  0  0  0  0  0  0 -2  0  0 -2  0  0\n",
      " -1 -1  0  0 -1 -1 -1 -1 -4  0 -3 -5 -6 -3  0 -4]\n",
      "[ 4  2  3  5  6  0  0  4  1  1  1  0  0  0  1  1  0  0  0  0  0  1  0  0\n",
      "  0  0  0  2  1  0  0  0  0  3  0 -1  0  0  0  0  0  0 -2  0  0 -2  0  0\n",
      " -1 -1  0  0 -1 -1 -1 -1 -4  0 -3 -5 -6 -3  0 -4]\n",
      "[ 4  2  3  5  6  0  0  4  1  1  1  0  0  0  1  1  0  0  0  0  0  1  0  0\n",
      "  0  0  0  2 -1  0  0  0  0  3  0  0  0  0  0  0  0  0 -2  0  0 -2  0  0\n",
      " -1 -1  0  0 -1 -1 -1 -1 -4  0 -3 -5 -6 -3  0 -4]\n",
      "[ 4  2  3  5  0  4  6  0  1  1  1  0  0  0  1  1  0  0  0  0  0  1  0  0\n",
      "  0  0  0  2 -1  0  0  0  0  3  0  0  0  0  0  0  0  0 -2  0  0 -2  0  0\n",
      " -1 -1  0  0 -1 -1 -1 -1 -4  0 -3 -5 -6 -3  0 -4]\n",
      "[ 4  2  3  5  0  4  6  0  1  1  1  0  0  0  1  1  0  0  0  0  0  1  0  0\n",
      "  0  0  0  2 -1  0  0  0  0  3  0  0  0  0  0  0  0  0 -2  0  0 -2  0  0\n",
      " -1 -1  0 -3 -1 -1 -1 -1 -4  0  0 -5 -6 -3  0 -4]\n",
      "[ 4  2  3  5  0  4  6  0  1  1  1  0  0  0  1  1  0  0  0  0  0  1  0  0\n",
      "  0  0  0  0 -1  0  0  0  0  3  0  0  0  0  0  0  0  0  2  0  0 -2  0  0\n",
      " -1 -1  0 -3 -1 -1 -1 -1 -4  0  0 -5 -6 -3  0 -4]\n",
      "[ 4  2  3  5  0  4  6  0  1  1  1  0  0  0  1  1  0  0  0  0  0  1  0  0\n",
      "  0  0  0  0 -1  0  0  0  0  3  0  0  0  0  0  0  0 -5  2  0  0 -2  0  0\n",
      " -1 -1  0 -3 -1 -1 -1 -1 -4  0  0  0 -6 -3  0 -4]\n",
      "[ 4  2  3  5  0  4  0  6  1  1  1  0  0  0  1  1  0  0  0  0  0  1  0  0\n",
      "  0  0  0  0 -1  0  0  0  0  3  0  0  0  0  0  0  0 -5  2  0  0 -2  0  0\n",
      " -1 -1  0 -3 -1 -1 -1 -1 -4  0  0  0 -6 -3  0 -4]\n",
      "[ 4  2  3  5  0  4  0  6  1  1  1  0  0  0  1  1  0  0  0  0  0  1  0  0\n",
      "  0  0  0  0 -1  0  0  0  0 -5  0  0  0  0  0  0  0  0  2  0  0 -2  0  0\n",
      " -1 -1  0 -3 -1 -1 -1 -1 -4  0  0  0 -6 -3  0 -4]\n",
      "[ 4  2  3  5  0  4  0  6  1  1  1  0  0  0  1  1  0  0  0  0  0  1  0  0\n",
      "  0  0  0  2 -1  0  0  0  0 -5  0  0  0  0  0  0  0  0  0  0  0 -2  0  0\n",
      " -1 -1  0 -3 -1 -1 -1 -1 -4  0  0  0 -6 -3  0 -4]\n",
      "[ 4  2  3  5  0  4  0  6  1  1  1  0  0  0  1  1  0  0  0  0  0  1  0  0\n",
      "  0  0  0  2 -1  0  0  0  0  0  0  0 -5  0  0  0  0  0  0  0  0 -2  0  0\n",
      " -1 -1  0 -3 -1 -1 -1 -1 -4  0  0  0 -6 -3  0 -4]\n",
      "[ 4  2  3  5  0  4  0  6  1  1  1  0  0  0  1  1  0  0  0  0  0  0  0  0\n",
      "  0  0  0  2  1  0  0  0  0  0  0  0 -5  0  0  0  0  0  0  0  0 -2  0  0\n",
      " -1 -1  0 -3 -1 -1 -1 -1 -4  0  0  0 -6 -3  0 -4]\n",
      "[ 4  2  3  5  0  4  0  6  1  1  1  0  0  0  1  1  0  0  0  0  0  0  0  0\n",
      "  0  0  0  2  1  0 -3  0  0  0  0  0 -5  0  0  0  0  0  0  0  0 -2  0  0\n",
      " -1 -1  0  0 -1 -1 -1 -1 -4  0  0  0 -6 -3  0 -4]\n",
      "[ 4  2  3  0  0  4  0  6  1  1  1  0  0  0  1  1  0  0  0  5  0  0  0  0\n",
      "  0  0  0  2  1  0 -3  0  0  0  0  0 -5  0  0  0  0  0  0  0  0 -2  0  0\n",
      " -1 -1  0  0 -1 -1 -1 -1 -4  0  0  0 -6 -3  0 -4]\n",
      "[ 4  2  3  0  0  4  0  6  1  1  1  0  0  0  1  1  0  0  0  5  0  0  0  0\n",
      "  0  0  0  2  1  0 -3  0  0  0  0  0 -5  0  0  0  0  0  0  0  0 -2  0  0\n",
      " -1 -1  0  0 -1 -1 -1 -1  0  0  0 -4 -6 -3  0 -4]\n",
      "[ 4  2  3  0  0  4  0  6  1  1  0  0  0  0  1  1  0  0  1  5  0  0  0  0\n",
      "  0  0  0  2  1  0 -3  0  0  0  0  0 -5  0  0  0  0  0  0  0  0 -2  0  0\n",
      " -1 -1  0  0 -1 -1 -1 -1  0  0  0 -4 -6 -3  0 -4]\n",
      "[ 4  2  3  0  0  4  0  6  1  1  0  0  0  0  1  1  0  0  1  5  0  0  0  0\n",
      "  0  0  0  2 -5  0 -3  0  0  0  0  0  0  0  0  0  0  0  0  0  0 -2  0  0\n",
      " -1 -1  0  0 -1 -1 -1 -1  0  0  0 -4 -6 -3  0 -4]\n",
      "[ 4  2  3  0  0  4  0  6  1  1  0  0  0  0  1  1  0  0  1  0  0  0  0  0\n",
      "  0  0  0  2  5  0 -3  0  0  0  0  0  0  0  0  0  0  0  0  0  0 -2  0  0\n",
      " -1 -1  0  0 -1 -1 -1 -1  0  0  0 -4 -6 -3  0 -4]\n",
      "[ 4  2  3  0  0  4  0  6  1  1  0  0  0  0  1  1  0  0  1  0  0  0  0  0\n",
      "  0  0  0  2 -2  0 -3  0  0  0  0  0  0  0  0  0  0  0  0  0  0  0  0  0\n",
      " -1 -1  0  0 -1 -1 -1 -1  0  0  0 -4 -6 -3  0 -4]\n",
      "[ 4  0  3  0  0  4  0  6  1  1  0  2  0  0  1  1  0  0  1  0  0  0  0  0\n",
      "  0  0  0  2 -2  0 -3  0  0  0  0  0  0  0  0  0  0  0  0  0  0  0  0  0\n",
      " -1 -1  0  0 -1 -1 -1 -1  0  0  0 -4 -6 -3  0 -4]\n",
      "[ 4  0  3  0  0  4  0  6  1  1  0  2  0  0  1  1  0  0  1  0  0  0  0  0\n",
      "  0  0  0  2  0  0 -3  0  0  0  0  0  0  0  0  0  0  0  0  0  0 -2  0  0\n",
      " -1 -1  0  0 -1 -1 -1 -1  0  0  0 -4 -6 -3  0 -4]\n",
      "[ 4  0  3  0  0  4  0  6  1  1  0  0  0  0  1  1  0  0  1  0  0  0  0  0\n",
      "  0  0  2  2  0  0 -3  0  0  0  0  0  0  0  0  0  0  0  0  0  0 -2  0  0\n",
      " -1 -1  0  0 -1 -1 -1 -1  0  0  0 -4 -6 -3  0 -4]\n",
      "[ 4  0  3  0  0  4  0  6  1  1  0  0  0  0  1  1  0  0  1  0  0  0  0  0\n",
      "  0  0  2  2  0  0 -3  0  0  0  0  0  0  0  0  0  0  0  0  0 -1 -2  0  0\n",
      " -1 -1  0  0  0 -1 -1 -1  0  0  0 -4 -6 -3  0 -4]\n",
      "[ 4  0  3  0  0  4  0  6  1  1  0  0  0  0  1  1  0  0  1  0  0  0  0  0\n",
      "  0  0  0  2  0  0 -3  0  0  0  0  0  2  0  0  0  0  0  0  0 -1 -2  0  0\n",
      " -1 -1  0  0  0 -1 -1 -1  0  0  0 -4 -6 -3  0 -4]\n",
      "[ 4  0  3  0  0  4  0  6  1  1  0  0  0  0  1  1  0  0  1  0  0  0  0  0\n",
      "  0  0  0  2  0  0 -3  0  0  0  0  0  2  0  0  0  0  0  0 -3 -1 -2  0  0\n",
      " -1 -1  0  0  0 -1 -1 -1  0  0  0 -4 -6  0  0 -4]\n",
      "[ 4  0  0  0  0  4  0  6  1  1  0  0  0  0  1  1  0  0  1  0  0  0  0  0\n",
      "  0  0  0  2  0  3 -3  0  0  0  0  0  2  0  0  0  0  0  0 -3 -1 -2  0  0\n",
      " -1 -1  0  0  0 -1 -1 -1  0  0  0 -4 -6  0  0 -4]\n",
      "[ 4  0  0  0  0  4  0  6  1  1  0  0  0  0  1  1  0  0  1  0  0  0  0  0\n",
      "  0  0  0  2  0  3 -3  0  0  0  0  0  2  0  0  0  0  0  0 -3 -1 -2  0  0\n",
      " -1 -1  0  0  0 -1 -1 -1  0  0  0 -4  0 -4 -6  0]\n",
      "[ 4  0  0  0  0  4  0  6  1  1  0  0  0  0  1  1  0  0  1  0  0  0  3  0\n",
      "  0  0  0  2  0  0 -3  0  0  0  0  0  2  0  0  0  0  0  0 -3 -1 -2  0  0\n",
      " -1 -1  0  0  0 -1 -1 -1  0  0  0 -4  0 -4 -6  0]\n",
      "[ 4  0  0  0  0  4  0  6  1  1  0  0  0  0  1  1  0  0  1  0  0  0  3  0\n",
      "  0  0  0  2  0  0  0  0  0  0  0  0  2  0  0 -3  0  0  0 -3 -1 -2  0  0\n",
      " -1 -1  0  0  0 -1 -1 -1  0  0  0 -4  0 -4 -6  0]\n",
      "[ 0  0  0  0  4  4  0  6  1  1  0  0  0  0  1  1  0  0  1  0  0  0  3  0\n",
      "  0  0  0  2  0  0  0  0  0  0  0  0  2  0  0 -3  0  0  0 -3 -1 -2  0  0\n",
      " -1 -1  0  0  0 -1 -1 -1  0  0  0 -4  0 -4 -6  0]\n",
      "[ 0  0  0  0  4  4  0  6  1  1  0  0  0  0  1  1  0  0  1  0  0  0  3  0\n",
      "  0  0  0  2  0  0  0  0  0  0  0  0  2  0  0 -3 -1  0  0 -3 -1 -2  0  0\n",
      "  0 -1  0  0  0 -1 -1 -1  0  0  0 -4  0 -4 -6  0]\n",
      "[ 0  0  0  0  4  4  0  6  1  1  0  0  0  0  1  0  0  0  1  0  0  0  3  1\n",
      "  0  0  0  2  0  0  0  0  0  0  0  0  2  0  0 -3 -1  0  0 -3 -1 -2  0  0\n",
      "  0 -1  0  0  0 -1 -1 -1  0  0  0 -4  0 -4 -6  0]\n",
      "[ 0  0  0  0  4  4  0  6  1  1  0  0  0  0  1  0  0  0  1  0  0  0  3  1\n",
      "  0  0  0  2  0  0  0  0  0  0 -3  0  2  0  0 -3 -1  0  0  0 -1 -2  0  0\n",
      "  0 -1  0  0  0 -1 -1 -1  0  0  0 -4  0 -4 -6  0]\n",
      "[ 0  0  0  0  4  0  0  6  1  1  0  0  0  0  1  0  0  0  1  0  0  0  3  1\n",
      "  0  0  0  2  0  4  0  0  0  0 -3  0  2  0  0 -3 -1  0  0  0 -1 -2  0  0\n",
      "  0 -1  0  0  0 -1 -1 -1  0  0  0 -4  0 -4 -6  0]\n",
      "[ 0  0  0  0  4  0  0  6  1  1  0  0  0  0  1  0  0  0  1  0  0  0  3  1\n",
      "  0  0  0  2  0  4  0  0  0 -1 -3  0  2  0  0 -3 -1  0  0  0 -1 -2  0  0\n",
      "  0  0  0  0  0 -1 -1 -1  0  0  0 -4  0 -4 -6  0]\n",
      "[ 0  0  0  0  4  0  0  6  1  0  0  0  0  0  1  0  0  0  1  0  0  0  3  1\n",
      "  0  1  0  2  0  4  0  0  0 -1 -3  0  2  0  0 -3 -1  0  0  0 -1 -2  0  0\n",
      "  0  0  0  0  0 -1 -1 -1  0  0  0 -4  0 -4 -6  0]\n",
      "[ 0  0  0  0  4  0  0  6  1  0  0  0  0  0  1  0  0  0  1  0  0  0  3  1\n",
      "  0  1  0  2  0  4  0  0  0 -1  0  0  2  0  0 -3 -1  0  0 -3 -1 -2  0  0\n",
      "  0  0  0  0  0 -1 -1 -1  0  0  0 -4  0 -4 -6  0]\n",
      "[ 0  0  0  0  4  0  0  6  1  0  0  0  0  4  1  0  0  0  1  0  0  0  3  1\n",
      "  0  1  0  2  0  0  0  0  0 -1  0  0  2  0  0 -3 -1  0  0 -3 -1 -2  0  0\n",
      "  0  0  0  0  0 -1 -1 -1  0  0  0 -4  0 -4 -6  0]\n",
      "[ 0  0  0  0  4  0  0  6  1  0  0  0  0  4  1  0  0  0  1  0  0  0  3  1\n",
      "  0 -3  0  2  0  0  0  0  0 -1  0  0  2  0  0 -3 -1  0  0  0 -1 -2  0  0\n",
      "  0  0  0  0  0 -1 -1 -1  0  0  0 -4  0 -4 -6  0]\n",
      "[ 0  0  0  0  4  0  0  6  1  0  0  0  0  4  1  0  0  0  0  0  0  0  3  1\n",
      "  0  1  0  2  0  0  0  0  0 -1  0  0  2  0  0 -3 -1  0  0  0 -1 -2  0  0\n",
      "  0  0  0  0  0 -1 -1 -1  0  0  0 -4  0 -4 -6  0]\n",
      "[ 0  0  0  0  4  0  0  6  1  0  0  0  0  4  1  0  0  0  0  0  0  0  3  1\n",
      "  0  1  0 -4  0  0  0  0  0 -1  0  0  2  0  0 -3 -1  0  0  0 -1 -2  0  0\n",
      "  0  0  0  0  0 -1 -1 -1  0  0  0  0  0 -4 -6  0]\n",
      "[ 0  0  0  0  4  0  0  6  1  0  0  0  0  4  1  0  0  0  0  0  0  0  3  1\n",
      "  0  1  0 -4  0  0  0  0  0 -1  0  0  0  0  0 -3 -1  0  2  0 -1 -2  0  0\n",
      "  0  0  0  0  0 -1 -1 -1  0  0  0  0  0 -4 -6  0]\n",
      "[ 0  0  0  0  4  0  0  6  1  0  0  0  0  4  1  0  0  0  0  0  0  0  3  1\n",
      "  0  1 -4  0  0  0  0  0  0 -1  0  0  0  0  0 -3 -1  0  2  0 -1 -2  0  0\n",
      "  0  0  0  0  0 -1 -1 -1  0  0  0  0  0 -4 -6  0]\n",
      "[ 0  0  0  0  4  0  0  6  0  0  0  0  0  4  1  0  1  0  0  0  0  0  3  1\n",
      "  0  1 -4  0  0  0  0  0  0 -1  0  0  0  0  0 -3 -1  0  2  0 -1 -2  0  0\n",
      "  0  0  0  0  0 -1 -1 -1  0  0  0  0  0 -4 -6  0]\n",
      "[ 0  0  0  0  4  0  0  6  0  0  0  0  0  4  1  0  1  0  0  0  0  0  3  1\n",
      "  0  1  0  0  0  0  0  0  0 -1  0  0  0  0  0 -3 -1  0 -4  0 -1 -2  0  0\n",
      "  0  0  0  0  0 -1 -1 -1  0  0  0  0  0 -4 -6  0]\n",
      "[ 0  0  0  0  4  0  0  6  0  0  0  0  0  4  1  0  1  0  0  0  0  0  0  1\n",
      "  0  1  0  0  0  0  0  0  0 -1  0  0  3  0  0 -3 -1  0 -4  0 -1 -2  0  0\n",
      "  0  0  0  0  0 -1 -1 -1  0  0  0  0  0 -4 -6  0]\n",
      "[ 0  0  0  0  4  0  0  6  0  0  0  0  0  4  1  0  1  0  0  0  0  0  0  1\n",
      "  0  1  0  0  0  0  0  0  0 -1  0 -2  3  0  0 -3 -1  0 -4  0 -1  0  0  0\n",
      "  0  0  0  0  0 -1 -1 -1  0  0  0  0  0 -4 -6  0]\n"
     ]
    }
   ],
   "source": [
    "positions = get_board_arrays(moves_list[1000])\n",
    "\n",
    "for position in positions:\n",
    "    print(position)"
   ],
   "metadata": {
    "collapsed": false,
    "ExecuteTime": {
     "end_time": "2024-01-24T14:40:26.135497900Z",
     "start_time": "2024-01-24T14:40:26.044946Z"
    }
   },
   "id": "c8a6424f3689fec2",
   "execution_count": 12
  },
  {
   "cell_type": "code",
   "outputs": [],
   "source": [
    "def depth_first_search(starting_board: chess.Board, \n",
    "                       true_move: str,\n",
    "                       weights: torch.Tensor=torch.ones(1), \n",
    "                       depth: int=2, \n",
    "                       heuristic_function=None):\n",
    "    if heuristic_function is None:\n",
    "        def heuristic_function(board: chess.Board):\n",
    "            return torch.ones_like(weights)\n",
    "    # depth refers to depth of moves by moving player\n",
    "    boards_seen = [[starting_board]] + [[] for _ in range(depth*2)]\n",
    "    boards_not_seen = [[starting_board]] + [[] for _ in range(depth*2)]\n",
    "    \n",
    "    for i in tqdm(range(depth*2)):\n",
    "        for board in boards_not_seen[i]:\n",
    "            for move in board.legal_moves:\n",
    "                board_ = deepcopy(board)\n",
    "                san_move = board_.san(move)\n",
    "                board_.push(move)\n",
    "                if san_move != true_move:\n",
    "                    boards_not_seen[i + 1].append(board_)\n",
    "        for board in boards_seen[i]:\n",
    "            for move in board.legal_moves:\n",
    "                board_ = deepcopy(board)\n",
    "                _ = board_.push(move)\n",
    "                boards_seen[i + 1].append(board_)\n",
    "        \n",
    "    return boards_not_seen, boards_seen   \n",
    "    \n",
    "def set_board(moves: list[str]):\n",
    "    board = chess.Board()\n",
    "    for move in moves:\n",
    "        board.push_san(move)\n",
    "    return board\n",
    "\n"
   ],
   "metadata": {
    "collapsed": false,
    "ExecuteTime": {
     "end_time": "2024-01-24T14:40:26.136529700Z",
     "start_time": "2024-01-24T14:40:26.079978100Z"
    }
   },
   "id": "e2cae9485717ee51",
   "execution_count": 13
  },
  {
   "cell_type": "code",
   "outputs": [
    {
     "name": "stdout",
     "output_type": "stream",
     "text": [
      "The best move is: (Move.from_uci('g1h3'), tensor(21.8367))\n"
     ]
    }
   ],
   "source": [
    "def calculate_heuristics(board: chess.Board, tensor=False):\n",
    "    material_dict = {\n",
    "        chess.PAWN: 1,\n",
    "        chess.KNIGHT: 3,\n",
    "        chess.BISHOP: 3,\n",
    "        chess.ROOK: 5,\n",
    "        chess.QUEEN: 9,\n",
    "        chess.KING: 0  # The value for the king is typically set to 0 in material evaluation\n",
    "    }\n",
    "    board_arr = board_to_array(board, material_dict=material_dict, tensor=tensor)\n",
    "    \n",
    "    # material_white = np.sum(board_arr[board_arr > 0])\n",
    "    # material_black = np.abs(np.sum(board_arr[board_arr < 0]))\n",
    "    pieces_white = [np.sum(board_arr == i) if not tensor else torch.sum(board_arr == i) for i in range(1, 6)]\n",
    "    pieces_black = [np.sum(board_arr == i) if not tensor else torch.sum(board_arr == i) for i in range(-5, 0)]\n",
    "    check = board.is_check()\n",
    "    checkmate = board.is_checkmate()\n",
    "    out = (*pieces_white, *pieces_black, check, checkmate)\n",
    "    return torch.tensor(out, dtype=torch.float) if tensor else np.array(out, dtype=float)\n",
    "\n",
    "def evaluate(board: chess.Board, R):\n",
    "    return calculate_heuristics(board, tensor=True) @ R\n",
    "\n",
    "def alpha_beta_search(board, depth, alpha=-torch.inf, beta=torch.inf, maximize=True, R: torch.Tensor=torch.zeros(1)):\n",
    "    if depth == 0 or board.is_game_over():\n",
    "        return evaluate(board, R)\n",
    "\n",
    "    if maximize:\n",
    "        max_eval = -torch.inf\n",
    "        for move in board.legal_moves:\n",
    "            board.push(move)\n",
    "            eval = alpha_beta_search(board, depth - 1, alpha, beta, False, R=R)\n",
    "            board.pop()\n",
    "            max_eval = max(max_eval, eval)\n",
    "            alpha = max(alpha, eval)\n",
    "            if beta <= alpha:\n",
    "                break  # Beta cut-off\n",
    "        return max_eval\n",
    "    else:\n",
    "        min_eval = torch.inf\n",
    "        for move in board.legal_moves:\n",
    "            board.push(move)\n",
    "            eval = alpha_beta_search(board, depth - 1, alpha, beta, True, R=R)\n",
    "            board.pop()\n",
    "            min_eval = min(min_eval, eval)\n",
    "            beta = min(beta, eval)\n",
    "            if beta <= alpha:\n",
    "                break  # Alpha cut-off\n",
    "        return min_eval\n",
    "\n",
    "# Example usage with a chess-like board\n",
    "import chess\n",
    "\n",
    "def get_best_move(board, R, depth=3):\n",
    "    best_move, Q = None, None\n",
    "    alpha = -torch.inf\n",
    "    \n",
    "    for move in board.legal_moves:\n",
    "        board.push(move)\n",
    "        Q = alpha_beta_search(board, alpha=alpha, depth=depth, maximize=True, R=R)\n",
    "        board.pop()\n",
    "        if Q > alpha:\n",
    "            alpha = Q\n",
    "            best_move = move\n",
    "    return best_move, Q\n",
    "\n",
    "print(f\"The best move is: {get_best_move(chess.Board(), R=torch.rand(12))}\")"
   ],
   "metadata": {
    "collapsed": false,
    "ExecuteTime": {
     "end_time": "2024-01-24T19:51:26.435279600Z",
     "start_time": "2024-01-24T19:51:22.195930200Z"
    }
   },
   "id": "1d71242d9cdb3e0",
   "execution_count": 63
  },
  {
   "cell_type": "code",
   "outputs": [
    {
     "name": "stdout",
     "output_type": "stream",
     "text": [
      "(8, 0, 4, 0, 2, 2, 0, 4, 0, 8, False, False)\n"
     ]
    },
    {
     "name": "stderr",
     "output_type": "stream",
     "text": [
      "100%|██████████| 2/2 [00:00<00:00, 29.83it/s]\n"
     ]
    }
   ],
   "source": [
    "b = set_board(moves_list[0][:5])\n",
    "print(calculate_heuristics(b))\n",
    "positions_seen, positions_not_seen = depth_first_search(b, true_move=moves_list[0][5], depth=1)"
   ],
   "metadata": {
    "collapsed": false,
    "ExecuteTime": {
     "end_time": "2024-01-24T14:40:26.203030800Z",
     "start_time": "2024-01-24T14:40:26.092493900Z"
    }
   },
   "id": "5bd7a0325bea1644",
   "execution_count": 14
  },
  {
   "cell_type": "code",
   "outputs": [],
   "source": [
    "X = torch.tensor(np.array([calculate_heuristics(board) for board in positions_seen[-1] + positions_not_seen[-1]], dtype=float), requires_grad=True, dtype=torch.float)\n",
    "y = torch.tensor([1.] * len(positions_seen[-1]) + [0.] * len(positions_not_seen[-1]), requires_grad=True, dtype=torch.float)"
   ],
   "metadata": {
    "collapsed": false,
    "ExecuteTime": {
     "end_time": "2024-01-24T14:40:26.358669200Z",
     "start_time": "2024-01-24T14:40:26.187517300Z"
    }
   },
   "id": "a44f4678aaca2e",
   "execution_count": 15
  },
  {
   "cell_type": "code",
   "outputs": [
    {
     "name": "stderr",
     "output_type": "stream",
     "text": [
      "GPU available: True (cuda), used: True\n",
      "TPU available: False, using: 0 TPU cores\n",
      "IPU available: False, using: 0 IPUs\n",
      "HPU available: False, using: 0 HPUs\n",
      "LOCAL_RANK: 0 - CUDA_VISIBLE_DEVICES: [0]\n",
      "\n",
      "  | Name          | Type             | Params\n",
      "---------------------------------------------------\n",
      "0 | model         | Sequential       | 13    \n",
      "1 | loss_function | MSELoss          | 0     \n",
      "2 | mse           | MeanSquaredError | 0     \n",
      "---------------------------------------------------\n",
      "13        Trainable params\n",
      "0         Non-trainable params\n",
      "13        Total params\n",
      "0.000     Total estimated model params size (MB)\n"
     ]
    },
    {
     "data": {
      "text/plain": "Sanity Checking: |          | 0/? [00:00<?, ?it/s]",
      "application/vnd.jupyter.widget-view+json": {
       "version_major": 2,
       "version_minor": 0,
       "model_id": "58cac16b583147fb92256eee10f805d7"
      }
     },
     "metadata": {},
     "output_type": "display_data"
    },
    {
     "data": {
      "text/plain": "Training: |          | 0/? [00:00<?, ?it/s]",
      "application/vnd.jupyter.widget-view+json": {
       "version_major": 2,
       "version_minor": 0,
       "model_id": "1cecc1ab485143d6aa8ac775b4162678"
      }
     },
     "metadata": {},
     "output_type": "display_data"
    },
    {
     "data": {
      "text/plain": "Validation: |          | 0/? [00:00<?, ?it/s]",
      "application/vnd.jupyter.widget-view+json": {
       "version_major": 2,
       "version_minor": 0,
       "model_id": "e0b145be05af4651881f1f6b415b0b6d"
      }
     },
     "metadata": {},
     "output_type": "display_data"
    },
    {
     "data": {
      "text/plain": "Validation: |          | 0/? [00:00<?, ?it/s]",
      "application/vnd.jupyter.widget-view+json": {
       "version_major": 2,
       "version_minor": 0,
       "model_id": "c89cc0c08e9f4858966bd8e12a109794"
      }
     },
     "metadata": {},
     "output_type": "display_data"
    },
    {
     "data": {
      "text/plain": "Validation: |          | 0/? [00:00<?, ?it/s]",
      "application/vnd.jupyter.widget-view+json": {
       "version_major": 2,
       "version_minor": 0,
       "model_id": "5db309b27f4441528b9ca6714a480c8b"
      }
     },
     "metadata": {},
     "output_type": "display_data"
    },
    {
     "data": {
      "text/plain": "Validation: |          | 0/? [00:00<?, ?it/s]",
      "application/vnd.jupyter.widget-view+json": {
       "version_major": 2,
       "version_minor": 0,
       "model_id": "793c140eada84d3cb8bfcb8630f6d750"
      }
     },
     "metadata": {},
     "output_type": "display_data"
    },
    {
     "data": {
      "text/plain": "Validation: |          | 0/? [00:00<?, ?it/s]",
      "application/vnd.jupyter.widget-view+json": {
       "version_major": 2,
       "version_minor": 0,
       "model_id": "b5a319eed15c416f8b56b65686b6ba81"
      }
     },
     "metadata": {},
     "output_type": "display_data"
    },
    {
     "data": {
      "text/plain": "Validation: |          | 0/? [00:00<?, ?it/s]",
      "application/vnd.jupyter.widget-view+json": {
       "version_major": 2,
       "version_minor": 0,
       "model_id": "80fd4336118646a69fda4c24dfb7c051"
      }
     },
     "metadata": {},
     "output_type": "display_data"
    },
    {
     "data": {
      "text/plain": "Validation: |          | 0/? [00:00<?, ?it/s]",
      "application/vnd.jupyter.widget-view+json": {
       "version_major": 2,
       "version_minor": 0,
       "model_id": "eb27a6f7a1df4805b276baa069feb191"
      }
     },
     "metadata": {},
     "output_type": "display_data"
    },
    {
     "data": {
      "text/plain": "Validation: |          | 0/? [00:00<?, ?it/s]",
      "application/vnd.jupyter.widget-view+json": {
       "version_major": 2,
       "version_minor": 0,
       "model_id": "441f6af3e5114ff18f203445db5c3ed1"
      }
     },
     "metadata": {},
     "output_type": "display_data"
    },
    {
     "data": {
      "text/plain": "Validation: |          | 0/? [00:00<?, ?it/s]",
      "application/vnd.jupyter.widget-view+json": {
       "version_major": 2,
       "version_minor": 0,
       "model_id": "999964fd632846539ac2dc8e3d78b429"
      }
     },
     "metadata": {},
     "output_type": "display_data"
    },
    {
     "data": {
      "text/plain": "Validation: |          | 0/? [00:00<?, ?it/s]",
      "application/vnd.jupyter.widget-view+json": {
       "version_major": 2,
       "version_minor": 0,
       "model_id": "521add1c034e4518bef948a58c8d1522"
      }
     },
     "metadata": {},
     "output_type": "display_data"
    },
    {
     "name": "stderr",
     "output_type": "stream",
     "text": [
      "`Trainer.fit` stopped: `max_epochs=10` reached.\n"
     ]
    },
    {
     "data": {
      "text/plain": "VBox(children=(Label(value='0.147 MB of 0.157 MB uploaded\\r'), FloatProgress(value=0.9339184556660426, max=1.0…",
      "application/vnd.jupyter.widget-view+json": {
       "version_major": 2,
       "version_minor": 0,
       "model_id": "9ff8469c6b004ffaaa6e085608e3b85d"
      }
     },
     "metadata": {},
     "output_type": "display_data"
    },
    {
     "data": {
      "text/plain": "<IPython.core.display.HTML object>",
      "text/html": "<style>\n    table.wandb td:nth-child(1) { padding: 0 10px; text-align: left ; width: auto;} td:nth-child(2) {text-align: left ; width: 100%}\n    .wandb-row { display: flex; flex-direction: row; flex-wrap: wrap; justify-content: flex-start; width: 100% }\n    .wandb-col { display: flex; flex-direction: column; flex-basis: 100%; flex: 1; padding: 10px; }\n    </style>\n<div class=\"wandb-row\"><div class=\"wandb-col\"><h3>Run history:</h3><br/><table class=\"wandb\"><tr><td>epoch</td><td>▁▂▂▃▃▄▄▅▆▆▆▇█▁▁▂▃▃▃▄▅▆▆▆▇██▁▂▃▃▃▄▅▅▆▆▇▇█</td></tr><tr><td>train_loss_epoch</td><td>▇▃▂▂▂▂▂▂▃▃▁▃▃▃▃▃▃▃▃▃█▃▂▂▂▂▂▂▂▃</td></tr><tr><td>train_loss_step</td><td>█▆▅▃▆▆▅▃▂▁▂▂▂▂▂▂▂▂▂▁▂▂▂▂▂▂▂▂▂</td></tr><tr><td>trainer/global_step</td><td>▁▁▂▃▃▄▄▅▆▆▆▇█▁▁▂▃▃▃▄▅▆▆▆▇██▁▂▃▃▃▄▅▅▆▆▇▇█</td></tr><tr><td>val_loss</td><td>▆▁▂▂▂▂▂▂▂▂█▃▃▃▃▃▃▃▃▃▇▁▂▂▂▂▂▂▂▂</td></tr></table><br/></div><div class=\"wandb-col\"><h3>Run summary:</h3><br/><table class=\"wandb\"><tr><td>epoch</td><td>9</td></tr><tr><td>train_loss_epoch</td><td>0.33618</td></tr><tr><td>train_loss_step</td><td>0.14317</td></tr><tr><td>trainer/global_step</td><td>449</td></tr><tr><td>val_loss</td><td>0.26769</td></tr></table><br/></div></div>"
     },
     "metadata": {},
     "output_type": "display_data"
    },
    {
     "data": {
      "text/plain": "<IPython.core.display.HTML object>",
      "text/html": " View run <strong style=\"color:#cdcd00\">honest-wildflower-5</strong> at: <a href='https://wandb.ai/fabcult/irl-chess-init/runs/mtqxyn85' target=\"_blank\">https://wandb.ai/fabcult/irl-chess-init/runs/mtqxyn85</a><br/>Synced 5 W&B file(s), 0 media file(s), 30 artifact file(s) and 0 other file(s)"
     },
     "metadata": {},
     "output_type": "display_data"
    },
    {
     "data": {
      "text/plain": "<IPython.core.display.HTML object>",
      "text/html": "Find logs at: <code>.\\wandb\\run-20240124_154030-mtqxyn85\\logs</code>"
     },
     "metadata": {},
     "output_type": "display_data"
    }
   ],
   "source": [
    "import torch.nn as nn\n",
    "from torch.utils.data import DataLoader, TensorDataset\n",
    "from torchmetrics import MeanSquaredError\n",
    "import pytorch_lightning as pl\n",
    "import wandb\n",
    "\n",
    "class SimpleRegressionModel(pl.LightningModule):\n",
    "    def __init__(self, input_size, hidden_size, output_size):\n",
    "        super(SimpleRegressionModel, self).__init__()\n",
    "        self.model = nn.Sequential(\n",
    "            nn.Linear(input_size, output_size)\n",
    "        )\n",
    "        self.loss_function = nn.MSELoss()\n",
    "        self.mse = MeanSquaredError()\n",
    "\n",
    "    def forward(self, x):\n",
    "        return self.model(x)\n",
    "\n",
    "    def training_step(self, batch, batch_idx):\n",
    "        x, y = batch\n",
    "        predictions = self(x)\n",
    "        loss = self.loss_function(predictions.squeeze(), y.squeeze())\n",
    "        self.log('train_loss', loss.item(), on_epoch=True)\n",
    "        return loss\n",
    "\n",
    "    def validation_step(self, batch, batch_idx):\n",
    "        x, y = batch\n",
    "        y = y.squeeze()\n",
    "        predictions = self(x).squeeze()\n",
    "        loss = self.loss_function(predictions, y)\n",
    "        self.log('val_loss', loss.item(), on_epoch=True)\n",
    "        return loss\n",
    "\n",
    "    def configure_optimizers(self):\n",
    "        optimizer = torch.optim.Adam(self.parameters(), lr=0.001)\n",
    "        return optimizer\n",
    "\n",
    "# Example usage\n",
    "input_size = X.shape[-1]\n",
    "hidden_size = 64\n",
    "output_size = 1\n",
    "\n",
    "# Create DataLoader\n",
    "dataset = TensorDataset(X, y)\n",
    "loader = DataLoader(dataset, batch_size=32, shuffle=False)\n",
    "\n",
    "# Initialize the model\n",
    "model = SimpleRegressionModel(input_size, hidden_size, output_size)\n",
    "\n",
    "# Initialize PyTorch Lightning Trainer\n",
    "wandb_logger = pl.loggers.WandbLogger(project=\"irl-chess-init\", log_model=\"all\")\n",
    "checkpoint_callback = pl.callbacks.ModelCheckpoint(monitor=\"val_loss\", mode=\"min\")\n",
    "\n",
    "trainer = pl.Trainer(\n",
    "    max_epochs=10,         \n",
    "    precision=\"32-true\",\n",
    "    logger=wandb_logger,\n",
    "    log_every_n_steps=45\n",
    ")\n",
    "# Train the model\n",
    "trainer.fit(model, train_dataloaders=loader, val_dataloaders=loader)\n",
    "wandb.finish()"
   ],
   "metadata": {
    "collapsed": false,
    "ExecuteTime": {
     "end_time": "2024-01-24T14:42:51.681449400Z",
     "start_time": "2024-01-24T14:42:22.513613600Z"
    }
   },
   "id": "8237b2012069d0b0",
   "execution_count": 18
  },
  {
   "cell_type": "code",
   "outputs": [
    {
     "data": {
      "text/plain": "True"
     },
     "execution_count": 19,
     "metadata": {},
     "output_type": "execute_result"
    }
   ],
   "source": [
    "torch.cuda.is_available()"
   ],
   "metadata": {
    "collapsed": false,
    "ExecuteTime": {
     "end_time": "2024-01-24T14:42:51.723143800Z",
     "start_time": "2024-01-24T14:42:51.684443700Z"
    }
   },
   "id": "9c71c9cb9d478fde",
   "execution_count": 19
  },
  {
   "cell_type": "code",
   "outputs": [],
   "source": [
    "def training_procedure(theta: torch.Tensor, transition_pairs: list[tuple[chess.Board, chess.Board]], epsilon: float, epochs: int):\n",
    "    \n",
    "    for i in tqdm(range(epochs)):\n",
    "        policy = approx_value_iteration(theta, transition_pairs, epsilon)\n",
    "\n",
    "def approx_value_iteration(R: torch.Tensor, transition_pairs: list[tuple[chess.Board, chess.Board]], epsilon: float):\n",
    "    V = defaultdict(lambda: -torch.inf)\n",
    "    V_t = V\n",
    "    Q = defaultdict(lambda: 0)\n",
    "    while dict_diff(V, V_t) > epsilon:\n",
    "        for state, state_t in transition_pairs:\n",
    "            for move in state.legal_moves:\n",
    "                Q[(state, move)] = get_Q(state, state_t, move)\n",
    "\n",
    "\n",
    "def dict_diff(dict1, dict2):\n",
    "    out = torch.inf\n",
    "    for key, value in dict1.items():\n",
    "        if value != -torch.inf and dict2[key] != -torch.inf:\n",
    "            out = max(abs(value - dict2[key]), (0 if out != torch.inf else out))\n",
    "    return out\n",
    "\n",
    "def get_Q(state: chess.Board, state_t: chess.Board, move: chess.Move, R, V):\n",
    "    Q = R @ torch.tensor(calculate_heuristics(state)).T + V[state_t]\n",
    "    return Q"
   ],
   "metadata": {
    "collapsed": false,
    "ExecuteTime": {
     "end_time": "2024-01-24T14:40:44.310233300Z",
     "start_time": "2024-01-24T14:40:44.250717900Z"
    }
   },
   "id": "2ff5ab7b9008f096",
   "execution_count": 16
  },
  {
   "cell_type": "code",
   "outputs": [],
   "source": [
    "def prob_dist(R, energy, alpha, prior=lambda R: 1):\n",
    "    prob = torch.exp(alpha * energy) * prior(R)\n",
    "    return prob\n",
    "\n",
    "def policy_walk(R, states, moves, delta=1e-3, epochs=10, depth=3, alpha=2e-2):\n",
    "    for epoch in tqdm(range(epochs)):\n",
    "        add = torch.randn_like(R) * (delta / 2)\n",
    "        R_ = R + add\n",
    "        Q_moves = torch.zeros(len(states))\n",
    "        Q_policy = torch.zeros(len(states))\n",
    "        i = 0\n",
    "        energy_new, energy_old = 0, 0\n",
    "        for state, move in tqdm(zip(states, moves), total=len(states)):\n",
    "            state.push_san(move)\n",
    "            _, Q_old = get_best_move(board=state, R=R, depth=depth-1)\n",
    "            state.pop()\n",
    "            _, Q_new = get_best_move(board=state, R=R_, depth=depth)\n",
    "            _, Q_old_energy = get_best_move(board=state, R=R, depth=depth)\n",
    "            \n",
    "            Q_moves[i] = Q_old\n",
    "            Q_policy[i] = Q_new\n",
    "            \n",
    "            energy_new += Q_new\n",
    "            energy_old += Q_old_energy\n",
    "\n",
    "            i += 1\n",
    "            prob = min(1, prob_dist(R_, energy_new, alpha=alpha)/prob_dist(R_, energy_old, alpha=alpha))\n",
    "            if torch.sum(Q_policy < Q_moves):\n",
    "                if torch.rand(1).item() < prob:\n",
    "                    R = R_\n",
    "    return R"
   ],
   "metadata": {
    "collapsed": false,
    "ExecuteTime": {
     "end_time": "2024-01-24T21:04:09.016378900Z",
     "start_time": "2024-01-24T21:04:08.925827300Z"
    }
   },
   "id": "20ae9537675af300",
   "execution_count": 118
  },
  {
   "cell_type": "code",
   "outputs": [
    {
     "name": "stderr",
     "output_type": "stream",
     "text": [
      "100%|██████████| 436287/436287 [00:04<00:00, 102838.47it/s]\n"
     ]
    }
   ],
   "source": [
    "steps = 5\n",
    "elo_range = (1000, 1050)\n",
    "boards, next_moves = [], []\n",
    "for moves, data_ in tqdm(zip(moves_list, data), total=len(data)):\n",
    "    if sum(elo_range[0] > data_[1:3]) + sum(data_[1:3] > elo_range[1]):\n",
    "        continue\n",
    "    \n",
    "    board = chess.Board()\n",
    "    if len(moves) > steps + 1:\n",
    "        for move in moves[:steps]:\n",
    "            board.push_san(move)\n",
    "        boards.append(board)\n",
    "        next_moves.append(moves[steps])"
   ],
   "metadata": {
    "collapsed": false,
    "ExecuteTime": {
     "end_time": "2024-01-24T20:56:38.723868100Z",
     "start_time": "2024-01-24T20:56:34.470450100Z"
    }
   },
   "id": "92ca471c2916db49",
   "execution_count": 100
  },
  {
   "cell_type": "code",
   "outputs": [
    {
     "name": "stderr",
     "output_type": "stream",
     "text": [
      "  0%|          | 0/2 [00:00<?, ?it/s]\n",
      "  0%|          | 0/56 [00:00<?, ?it/s]\u001B[A\n",
      "  2%|▏         | 1/56 [00:00<00:15,  3.51it/s]\u001B[A\n",
      "  4%|▎         | 2/56 [00:00<00:28,  1.90it/s]\u001B[A\n",
      "  5%|▌         | 3/56 [00:01<00:39,  1.34it/s]\u001B[A\n",
      "  7%|▋         | 4/56 [00:02<00:34,  1.49it/s]\u001B[A\n",
      "  9%|▉         | 5/56 [00:02<00:29,  1.73it/s]\u001B[A\n",
      " 11%|█         | 6/56 [00:03<00:28,  1.75it/s]\u001B[A\n",
      " 12%|█▎        | 7/56 [00:03<00:26,  1.85it/s]\u001B[A\n",
      " 14%|█▍        | 8/56 [00:04<00:27,  1.77it/s]\u001B[A\n",
      " 16%|█▌        | 9/56 [00:05<00:27,  1.72it/s]\u001B[A\n",
      " 18%|█▊        | 10/56 [00:05<00:25,  1.77it/s]\u001B[A\n",
      " 20%|█▉        | 11/56 [00:06<00:29,  1.52it/s]\u001B[A\n",
      " 21%|██▏       | 12/56 [00:07<00:25,  1.71it/s]\u001B[A\n",
      " 23%|██▎       | 13/56 [00:07<00:26,  1.64it/s]\u001B[A\n",
      " 25%|██▌       | 14/56 [00:08<00:25,  1.62it/s]\u001B[A\n",
      " 27%|██▋       | 15/56 [00:08<00:22,  1.80it/s]\u001B[A\n",
      " 29%|██▊       | 16/56 [00:09<00:23,  1.68it/s]\u001B[A\n",
      " 30%|███       | 17/56 [00:10<00:23,  1.63it/s]\u001B[A\n",
      " 32%|███▏      | 18/56 [00:10<00:20,  1.88it/s]\u001B[A\n",
      " 34%|███▍      | 19/56 [00:10<00:19,  1.89it/s]\u001B[A\n",
      " 36%|███▌      | 20/56 [00:11<00:20,  1.73it/s]\u001B[A\n",
      " 38%|███▊      | 21/56 [00:12<00:19,  1.79it/s]\u001B[A\n",
      " 39%|███▉      | 22/56 [00:12<00:16,  2.04it/s]\u001B[A\n",
      " 41%|████      | 23/56 [00:12<00:13,  2.36it/s]\u001B[A\n",
      " 43%|████▎     | 24/56 [00:13<00:13,  2.33it/s]\u001B[A\n",
      " 45%|████▍     | 25/56 [00:13<00:14,  2.16it/s]\u001B[A\n",
      " 46%|████▋     | 26/56 [00:14<00:15,  2.00it/s]\u001B[A\n",
      " 48%|████▊     | 27/56 [00:14<00:13,  2.21it/s]\u001B[A\n",
      " 50%|█████     | 28/56 [00:15<00:12,  2.17it/s]\u001B[A\n",
      " 52%|█████▏    | 29/56 [00:15<00:13,  1.97it/s]\u001B[A\n",
      " 54%|█████▎    | 30/56 [00:16<00:13,  1.99it/s]\u001B[A\n",
      " 55%|█████▌    | 31/56 [00:16<00:11,  2.17it/s]\u001B[A\n",
      " 57%|█████▋    | 32/56 [00:17<00:10,  2.31it/s]\u001B[A\n",
      " 59%|█████▉    | 33/56 [00:17<00:11,  2.05it/s]\u001B[A\n",
      " 61%|██████    | 34/56 [00:18<00:11,  1.89it/s]\u001B[A\n",
      " 62%|██████▎   | 35/56 [00:18<00:10,  1.95it/s]\u001B[A\n",
      " 64%|██████▍   | 36/56 [00:19<00:09,  2.02it/s]\u001B[A\n",
      " 66%|██████▌   | 37/56 [00:19<00:08,  2.13it/s]\u001B[A\n",
      " 68%|██████▊   | 38/56 [00:20<00:09,  1.93it/s]\u001B[A\n",
      " 70%|██████▉   | 39/56 [00:20<00:09,  1.87it/s]\u001B[A\n",
      " 71%|███████▏  | 40/56 [00:21<00:08,  1.83it/s]\u001B[A\n",
      " 73%|███████▎  | 41/56 [00:22<00:09,  1.55it/s]\u001B[A\n",
      " 75%|███████▌  | 42/56 [00:22<00:08,  1.72it/s]\u001B[A\n",
      " 77%|███████▋  | 43/56 [00:23<00:07,  1.73it/s]\u001B[A\n",
      " 79%|███████▊  | 44/56 [00:23<00:06,  1.81it/s]\u001B[A\n",
      " 80%|████████  | 45/56 [00:24<00:06,  1.76it/s]\u001B[A\n",
      " 82%|████████▏ | 46/56 [00:24<00:05,  1.88it/s]\u001B[A\n",
      " 84%|████████▍ | 47/56 [00:25<00:05,  1.80it/s]\u001B[A\n",
      " 86%|████████▌ | 48/56 [00:25<00:04,  1.77it/s]\u001B[A\n",
      " 88%|████████▊ | 49/56 [00:26<00:04,  1.72it/s]\u001B[A\n",
      " 89%|████████▉ | 50/56 [00:27<00:04,  1.48it/s]\u001B[A\n",
      " 91%|█████████ | 51/56 [00:27<00:03,  1.64it/s]\u001B[A\n",
      " 93%|█████████▎| 52/56 [00:28<00:02,  1.73it/s]\u001B[A\n",
      " 95%|█████████▍| 53/56 [00:28<00:01,  1.78it/s]\u001B[A\n",
      " 96%|█████████▋| 54/56 [00:29<00:01,  1.67it/s]\u001B[A\n",
      " 98%|█████████▊| 55/56 [00:30<00:00,  1.77it/s]\u001B[A\n",
      "100%|██████████| 56/56 [00:30<00:00,  1.83it/s]\u001B[A\n",
      " 50%|█████     | 1/2 [00:30<00:30, 30.63s/it]\n",
      "  0%|          | 0/56 [00:00<?, ?it/s]\u001B[A\n",
      "  2%|▏         | 1/56 [00:00<00:16,  3.40it/s]\u001B[A\n",
      "  4%|▎         | 2/56 [00:00<00:19,  2.80it/s]\u001B[A\n",
      "  5%|▌         | 3/56 [00:01<00:23,  2.25it/s]\u001B[A\n",
      "  7%|▋         | 4/56 [00:01<00:23,  2.17it/s]\u001B[A\n",
      "  9%|▉         | 5/56 [00:02<00:22,  2.31it/s]\u001B[A\n",
      " 11%|█         | 6/56 [00:02<00:22,  2.20it/s]\u001B[A\n",
      " 12%|█▎        | 7/56 [00:03<00:21,  2.24it/s]\u001B[A\n",
      " 14%|█▍        | 8/56 [00:03<00:22,  2.10it/s]\u001B[A\n",
      " 16%|█▌        | 9/56 [00:04<00:22,  2.05it/s]\u001B[A\n",
      " 18%|█▊        | 10/56 [00:04<00:21,  2.13it/s]\u001B[A\n",
      " 20%|█▉        | 11/56 [00:05<00:25,  1.78it/s]\u001B[A\n",
      " 21%|██▏       | 12/56 [00:05<00:21,  2.01it/s]\u001B[A\n",
      " 23%|██▎       | 13/56 [00:06<00:21,  1.99it/s]\u001B[A\n",
      " 25%|██▌       | 14/56 [00:06<00:21,  1.98it/s]\u001B[A\n",
      " 27%|██▋       | 15/56 [00:07<00:18,  2.17it/s]\u001B[A\n",
      " 29%|██▊       | 16/56 [00:07<00:19,  2.02it/s]\u001B[A\n",
      " 30%|███       | 17/56 [00:08<00:20,  1.92it/s]\u001B[A\n",
      " 32%|███▏      | 18/56 [00:08<00:17,  2.19it/s]\u001B[A\n",
      " 34%|███▍      | 19/56 [00:09<00:17,  2.07it/s]\u001B[A\n",
      " 36%|███▌      | 20/56 [00:09<00:19,  1.83it/s]\u001B[A\n",
      " 38%|███▊      | 21/56 [00:10<00:18,  1.85it/s]\u001B[A\n",
      " 39%|███▉      | 22/56 [00:10<00:16,  2.11it/s]\u001B[A\n",
      " 41%|████      | 23/56 [00:10<00:13,  2.40it/s]\u001B[A\n",
      " 43%|████▎     | 24/56 [00:11<00:13,  2.37it/s]\u001B[A\n",
      " 45%|████▍     | 25/56 [00:11<00:14,  2.18it/s]\u001B[A\n",
      " 46%|████▋     | 26/56 [00:12<00:14,  2.03it/s]\u001B[A\n",
      " 48%|████▊     | 27/56 [00:12<00:13,  2.21it/s]\u001B[A\n",
      " 50%|█████     | 28/56 [00:13<00:13,  2.14it/s]\u001B[A\n",
      " 52%|█████▏    | 29/56 [00:13<00:14,  1.90it/s]\u001B[A\n",
      " 54%|█████▎    | 30/56 [00:14<00:13,  1.90it/s]\u001B[A\n",
      " 55%|█████▌    | 31/56 [00:14<00:12,  2.06it/s]\u001B[A\n",
      " 57%|█████▋    | 32/56 [00:15<00:11,  2.15it/s]\u001B[A\n",
      " 59%|█████▉    | 33/56 [00:15<00:11,  1.93it/s]\u001B[A\n",
      " 61%|██████    | 34/56 [00:16<00:12,  1.78it/s]\u001B[A\n",
      " 62%|██████▎   | 35/56 [00:17<00:11,  1.84it/s]\u001B[A\n",
      " 64%|██████▍   | 36/56 [00:17<00:10,  1.90it/s]\u001B[A\n",
      " 66%|██████▌   | 37/56 [00:17<00:09,  2.00it/s]\u001B[A\n",
      " 68%|██████▊   | 38/56 [00:18<00:09,  1.81it/s]\u001B[A\n",
      " 70%|██████▉   | 39/56 [00:19<00:09,  1.78it/s]\u001B[A\n",
      " 71%|███████▏  | 40/56 [00:19<00:09,  1.74it/s]\u001B[A\n",
      " 73%|███████▎  | 41/56 [00:20<00:09,  1.50it/s]\u001B[A\n",
      " 75%|███████▌  | 42/56 [00:21<00:08,  1.69it/s]\u001B[A\n",
      " 77%|███████▋  | 43/56 [00:21<00:07,  1.71it/s]\u001B[A\n",
      " 79%|███████▊  | 44/56 [00:22<00:06,  1.83it/s]\u001B[A\n",
      " 80%|████████  | 45/56 [00:22<00:06,  1.81it/s]\u001B[A\n",
      " 82%|████████▏ | 46/56 [00:23<00:05,  1.96it/s]\u001B[A\n",
      " 84%|████████▍ | 47/56 [00:23<00:04,  1.89it/s]\u001B[A\n",
      " 86%|████████▌ | 48/56 [00:24<00:04,  1.88it/s]\u001B[A\n",
      " 88%|████████▊ | 49/56 [00:24<00:03,  1.83it/s]\u001B[A\n",
      " 89%|████████▉ | 50/56 [00:25<00:03,  1.56it/s]\u001B[A\n",
      " 91%|█████████ | 51/56 [00:26<00:02,  1.73it/s]\u001B[A\n",
      " 93%|█████████▎| 52/56 [00:26<00:02,  1.83it/s]\u001B[A\n",
      " 95%|█████████▍| 53/56 [00:27<00:01,  1.86it/s]\u001B[A\n",
      " 96%|█████████▋| 54/56 [00:27<00:01,  1.75it/s]\u001B[A\n",
      " 98%|█████████▊| 55/56 [00:28<00:00,  1.87it/s]\u001B[A\n",
      "100%|██████████| 56/56 [00:28<00:00,  1.95it/s]\u001B[A\n",
      "100%|██████████| 2/2 [00:59<00:00, 29.65s/it]"
     ]
    },
    {
     "name": "stdout",
     "output_type": "stream",
     "text": [
      "tensor([ 3.2020e-04,  4.3811e-04,  7.8923e-04, -2.2137e-04,  1.1146e-05,\n",
      "         1.9333e-04,  2.5988e-05, -5.9187e-05,  9.8510e-04,  1.8460e-04,\n",
      "         1.3393e-03,  2.1666e-04])\n"
     ]
    },
    {
     "name": "stderr",
     "output_type": "stream",
     "text": [
      "\n"
     ]
    }
   ],
   "source": [
    "theta = torch.rand(12)\n",
    "theta_star = policy_walk(theta, boards, next_moves, epochs=2, depth=1)\n",
    "print(theta - theta_star)"
   ],
   "metadata": {
    "collapsed": false,
    "ExecuteTime": {
     "end_time": "2024-01-24T21:05:14.166284700Z",
     "start_time": "2024-01-24T21:04:14.847863100Z"
    }
   },
   "id": "c6f615612611f191",
   "execution_count": 119
  }
 ],
 "metadata": {
  "kernelspec": {
   "display_name": "Python 3",
   "language": "python",
   "name": "python3"
  },
  "language_info": {
   "codemirror_mode": {
    "name": "ipython",
    "version": 2
   },
   "file_extension": ".py",
   "mimetype": "text/x-python",
   "name": "python",
   "nbconvert_exporter": "python",
   "pygments_lexer": "ipython2",
   "version": "2.7.6"
  }
 },
 "nbformat": 4,
 "nbformat_minor": 5
}
