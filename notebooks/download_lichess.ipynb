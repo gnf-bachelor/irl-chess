{
 "cells": [
  {
   "cell_type": "code",
   "outputs": [],
   "source": [
    "import os\n",
    "import numpy as np\n",
    "from os.path import join\n",
    "from project import download_lichess_pgn\n",
    "if os.getcwd().split('\\\\')[-1] != 'irl-chess':\n",
    "    os.chdir('../')"
   ],
   "metadata": {
    "collapsed": false,
    "ExecuteTime": {
     "end_time": "2024-02-04T11:17:31.644508400Z",
     "start_time": "2024-02-04T11:17:31.621515400Z"
    }
   },
   "id": "38a132e9eb76715b",
   "execution_count": 97
  },
  {
   "cell_type": "code",
   "outputs": [
    {
     "name": "stdout",
     "output_type": "stream",
     "text": [
      "\n",
      "\n",
      "-------------------  1/5  -------------------\n"
     ]
    },
    {
     "name": "stderr",
     "output_type": "stream",
     "text": [
      "Converting to csv: 100%|██████████| 2183562/2183562 [00:03<00:00, 641627.00it/s]\n"
     ]
    },
    {
     "name": "stdout",
     "output_type": "stream",
     "text": [
      "Converted .txt to .csv!\n",
      "Time taken: 6.08 seconds for file\n",
      "Time taken: 6.08 seconds in total\n",
      "\n",
      "\n",
      "-------------------  2/5  -------------------\n"
     ]
    },
    {
     "name": "stderr",
     "output_type": "stream",
     "text": [
      "Converting to csv: 100%|██████████| 2230831/2230831 [00:05<00:00, 402214.62it/s]\n"
     ]
    },
    {
     "name": "stdout",
     "output_type": "stream",
     "text": [
      "Converted .txt to .csv!\n",
      "Time taken: 7.94 seconds for file\n",
      "Time taken: 14.02 seconds in total\n",
      "\n",
      "\n",
      "-------------------  3/5  -------------------\n"
     ]
    },
    {
     "name": "stderr",
     "output_type": "stream",
     "text": [
      "Converting to csv: 100%|██████████| 2854852/2854852 [00:04<00:00, 604661.44it/s]\n"
     ]
    },
    {
     "name": "stdout",
     "output_type": "stream",
     "text": [
      "Converted .txt to .csv!\n",
      "Time taken: 7.80 seconds for file\n",
      "Time taken: 21.82 seconds in total\n",
      "\n",
      "\n",
      "-------------------  4/5  -------------------\n"
     ]
    },
    {
     "name": "stderr",
     "output_type": "stream",
     "text": [
      "Converting to csv: 100%|██████████| 2841051/2841051 [00:04<00:00, 612976.55it/s]\n"
     ]
    },
    {
     "name": "stdout",
     "output_type": "stream",
     "text": [
      "Converted .txt to .csv!\n",
      "Time taken: 7.73 seconds for file\n",
      "Time taken: 29.55 seconds in total\n"
     ]
    }
   ],
   "source": [
    "n_files = np.inf\n",
    "websites_list = join(os.getcwd(), 'downloads', 'lichess_websites.txt')\n",
    "file_path_data = join(os.getcwd(), 'data', 'raw')\n",
    "\n",
    "download_lichess_pgn(websites_list, file_path_data, n_files=n_files, overwrite=False)"
   ],
   "metadata": {
    "collapsed": false,
    "ExecuteTime": {
     "end_time": "2024-02-04T11:44:20.982397100Z",
     "start_time": "2024-02-04T11:43:51.417889800Z"
    }
   },
   "id": "acf4deb2586fdb31",
   "execution_count": 120
  },
  {
   "cell_type": "code",
   "outputs": [],
   "source": [],
   "metadata": {
    "collapsed": false,
    "ExecuteTime": {
     "end_time": "2024-02-04T11:10:48.344868700Z",
     "start_time": "2024-02-04T11:10:48.311610800Z"
    }
   },
   "id": "621c3f09c4f33512",
   "execution_count": 92
  },
  {
   "cell_type": "code",
   "outputs": [],
   "source": [],
   "metadata": {
    "collapsed": false
   },
   "id": "ad2fe37638e26479"
  }
 ],
 "metadata": {
  "kernelspec": {
   "display_name": "Python 3",
   "language": "python",
   "name": "python3"
  },
  "language_info": {
   "codemirror_mode": {
    "name": "ipython",
    "version": 2
   },
   "file_extension": ".py",
   "mimetype": "text/x-python",
   "name": "python",
   "nbconvert_exporter": "python",
   "pygments_lexer": "ipython2",
   "version": "2.7.6"
  }
 },
 "nbformat": 4,
 "nbformat_minor": 5
}
