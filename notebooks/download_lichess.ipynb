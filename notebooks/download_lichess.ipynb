{
 "cells": [
  {
   "cell_type": "code",
   "outputs": [],
   "source": [
    "import os\n",
    "from os.path import join\n",
    "if os.getcwd().split('\\\\')[-1] != 'irl-chess':\n",
    "    os.chdir('../')"
   ],
   "metadata": {
    "collapsed": false,
    "ExecuteTime": {
     "end_time": "2024-02-02T13:40:04.034834200Z",
     "start_time": "2024-02-02T13:40:04.014747700Z"
    }
   },
   "id": "38a132e9eb76715b",
   "execution_count": 7
  },
  {
   "cell_type": "code",
   "execution_count": 13,
   "id": "initial_id",
   "metadata": {
    "collapsed": true,
    "ExecuteTime": {
     "end_time": "2024-02-02T14:03:07.487247500Z",
     "start_time": "2024-02-02T14:03:04.990638300Z"
    }
   },
   "outputs": [
    {
     "name": "stdout",
     "output_type": "stream",
     "text": [
      "Downloaded: https://database.lichess.org/standard/lichess_db_standard_rated_2013-01.pgn.zst\n",
      "Decompressed: C:\\Users\\toell\\OneDrive\\Documents\\GitHub\\irl-chess\\data\\raw\\lichess_db_standard_rated_2013-01.pgn.zst\n"
     ]
    }
   ],
   "source": [
    "import requests\n",
    "import pyzstd\n",
    "\n",
    "def decompress_zstd(zstd_path, extract_path):\n",
    "    try:\n",
    "        with open(zstd_path, 'rb') as zstd_file:\n",
    "            compressed_data = zstd_file.read()\n",
    "            decompressed_data = pyzstd.decompress(compressed_data)\n",
    "            \n",
    "        destination_path = extract_path\n",
    "        \n",
    "        with open(destination_path, 'wb') as decompressed_file:\n",
    "            decompressed_file.write(decompressed_data)\n",
    "        \n",
    "        print(f\"Decompressed: {zstd_path}\")\n",
    "    except Exception as e:\n",
    "        print(f\"Failed to decompress {zstd_path}: {e}\")\n",
    "\n",
    "def download_file(url, destination):\n",
    "    try:\n",
    "        response = requests.get(url)\n",
    "        with open(destination, 'wb') as file:\n",
    "            file.write(response.content)\n",
    "        print(f\"Downloaded: {url}\")\n",
    "        return True\n",
    "    except Exception as e:\n",
    "        print(f\"Failed to download {url}: {e}\")\n",
    "        return False\n",
    "\n",
    "file_path_download_list = join(os.getcwd(), 'downloads', 'lichess_websites.txt')  # Replace with the path to your .txt file\n",
    "file_path_data = join(os.getcwd(), 'data', 'raw')\n",
    "\n",
    "try:\n",
    "    with open(file_path_download_list, 'r') as file:\n",
    "        urls = file.readlines()\n",
    "        urls = [url.strip() for url in urls]\n",
    "\n",
    "    for i, url in enumerate(urls, start=1):\n",
    "        destination = join(file_path_data, url.split(\"/\")[-1])  # Replace with the desired file name and extension\n",
    "        if download_file(url, destination):\n",
    "            decompress_zstd(destination, destination[:-4])\n",
    "    \n",
    "except FileNotFoundError:\n",
    "    print(f\"File not found: {file_path_download_list}\")\n",
    "except Exception as e:\n",
    "    print(f\"An error occurred: {e}\")"
   ]
  },
  {
   "cell_type": "code",
   "outputs": [],
   "source": [],
   "metadata": {
    "collapsed": false
   },
   "id": "621c3f09c4f33512"
  }
 ],
 "metadata": {
  "kernelspec": {
   "display_name": "Python 3",
   "language": "python",
   "name": "python3"
  },
  "language_info": {
   "codemirror_mode": {
    "name": "ipython",
    "version": 2
   },
   "file_extension": ".py",
   "mimetype": "text/x-python",
   "name": "python",
   "nbconvert_exporter": "python",
   "pygments_lexer": "ipython2",
   "version": "2.7.6"
  }
 },
 "nbformat": 4,
 "nbformat_minor": 5
}
