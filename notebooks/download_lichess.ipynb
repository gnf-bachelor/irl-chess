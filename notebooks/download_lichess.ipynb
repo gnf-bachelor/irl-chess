{
 "cells": [
  {
   "cell_type": "code",
   "outputs": [],
   "source": [
    "import os\n",
    "import pandas as pd \n",
    "from tqdm import tqdm\n",
    "from os.path import join\n",
    "if os.getcwd().split('\\\\')[-1] != 'irl-chess':\n",
    "    os.chdir('../')"
   ],
   "metadata": {
    "collapsed": false,
    "ExecuteTime": {
     "end_time": "2024-02-04T10:43:41.731015400Z",
     "start_time": "2024-02-04T10:43:41.715518900Z"
    }
   },
   "id": "38a132e9eb76715b",
   "execution_count": 63
  },
  {
   "cell_type": "code",
   "outputs": [],
   "source": [
    "import requests\n",
    "import pyzstd\n",
    "\n",
    "def decompress_zstd(zstd_path, extract_path):\n",
    "    try:\n",
    "        with open(zstd_path, 'rb') as zstd_file:\n",
    "            compressed_data = zstd_file.read()\n",
    "            decompressed_data = pyzstd.decompress(compressed_data)\n",
    "            \n",
    "        destination_path = extract_path\n",
    "        \n",
    "        with open(destination_path, 'wb') as decompressed_file:\n",
    "            decompressed_file.write(decompressed_data)\n",
    "        \n",
    "        print(f\"Decompressed: {zstd_path}\")\n",
    "    except Exception as e:\n",
    "        print(f\"Failed to decompress {zstd_path}: {e}\")\n",
    "\n",
    "def download_file(url, destination):\n",
    "    try:\n",
    "        response = requests.get(url)\n",
    "        with open(destination, 'wb') as file:\n",
    "            file.write(response.content)\n",
    "        print(f\"Downloaded: {url}\")\n",
    "        return True\n",
    "    except Exception as e:\n",
    "        print(f\"Failed to download {url}: {e}\")\n",
    "        return False\n",
    "\n",
    "def parse_moves(moves):\n",
    "    out = ''\n",
    "    for el in moves.split(' '):\n",
    "        if '.' not in el:\n",
    "            out += el + ','\n",
    "    return out\n",
    "\n",
    "\n",
    "def txt_to_csv(filename):\n",
    "    with open(filename, 'r') as f:\n",
    "        game = []\n",
    "        for line in tqdm(f.readlines(), 'Converting to csv'):\n",
    "            if line[0] == '1':\n",
    "                game.append(parse_moves(line.strip()))\n",
    "                data_raw.append(game)\n",
    "                game = []\n",
    "            elif line.strip():\n",
    "                game.append(line.split('\"')[-2])\n",
    "    filename_out = filename[:-4].replace('raw', 'processed') + '.csv'\n",
    "    # For some reason pandas seems to add a column of None values...\n",
    "    df = pd.DataFrame(data_raw, columns=columns + ['None'])\n",
    "    df.iloc[:, :-1].to_csv(filename_out, index=False)\n",
    "    \n",
    "    \n",
    "def download_lichess_pgn(websites_list, file_path_data):\n",
    "    try:\n",
    "        with open(websites_list, 'r') as filename:\n",
    "            urls = filename.readlines()\n",
    "            urls = [url.strip() for url in urls]\n",
    "    \n",
    "        for i, url in enumerate(urls, start=1):\n",
    "            destination = join(file_path_data, url.split(\"/\")[-1])\n",
    "            print(f'\\n\\n-------------------  {i}/{len(urls)}  -------------------\\n\\n')\n",
    "            if download_file(url, destination):\n",
    "                filepath_out = destination[:-4]\n",
    "                decompress_zstd(destination, extract_path=filepath_out)\n",
    "                os.remove(destination)\n",
    "                print(f'Unzipped and deleted the zip file!')\n",
    "                txt_to_csv(filepath_out)\n",
    "                print(f'Converted the .txt to .csv!')\n",
    "            \n",
    "            if i == n_files:\n",
    "                break\n",
    "    except FileNotFoundError:\n",
    "        print(f\"File not found: {websites_list}\")\n",
    "    except Exception as e:\n",
    "        print(f\"An error occurred: {e}\")\n"
   ],
   "metadata": {
    "collapsed": false,
    "ExecuteTime": {
     "end_time": "2024-02-04T11:02:20.693651200Z",
     "start_time": "2024-02-04T11:02:20.673651500Z"
    }
   },
   "id": "2acc003580d9a07f",
   "execution_count": 85
  },
  {
   "cell_type": "code",
   "outputs": [
    {
     "name": "stdout",
     "output_type": "stream",
     "text": [
      "\n",
      "\n",
      "-------------------  1/2  -------------------\n",
      "\n",
      "Downloaded: https://database.lichess.org/standard/lichess_db_standard_rated_2013-01.pgn.zst\n",
      "Decompressed: C:\\Users\\toell\\OneDrive\\Documents\\GitHub\\irl-chess\\data\\raw\\lichess_db_standard_rated_2013-01.pgn.zst\n",
      "Unzipped and deleted the zip file!\n"
     ]
    },
    {
     "name": "stderr",
     "output_type": "stream",
     "text": [
      "Converting to csv: 100%|██████████| 2183562/2183562 [00:03<00:00, 624028.70it/s]\n"
     ]
    },
    {
     "name": "stdout",
     "output_type": "stream",
     "text": [
      "Converted the .txt to .csv!\n",
      "\n",
      "\n",
      "-------------------  2/2  -------------------\n",
      "\n",
      "Downloaded: https://database.lichess.org/standard/lichess_db_standard_rated_2013-02.pgn.zst\n",
      "Decompressed: C:\\Users\\toell\\OneDrive\\Documents\\GitHub\\irl-chess\\data\\raw\\lichess_db_standard_rated_2013-02.pgn.zst\n",
      "Unzipped and deleted the zip file!\n"
     ]
    },
    {
     "name": "stderr",
     "output_type": "stream",
     "text": [
      "Converting to csv: 100%|██████████| 2230831/2230831 [00:03<00:00, 593550.94it/s]\n"
     ]
    },
    {
     "name": "stdout",
     "output_type": "stream",
     "text": [
      "Converted the .txt to .csv!\n"
     ]
    }
   ],
   "source": [
    "n_files = 2\n",
    "websites_list = join(os.getcwd(), 'downloads', 'lichess_websites.txt')\n",
    "file_path_data = join(os.getcwd(), 'data', 'raw')\n",
    "\n",
    "download_lichess_pgn(websites_list, file_path_data)"
   ],
   "metadata": {
    "collapsed": false,
    "ExecuteTime": {
     "end_time": "2024-02-04T11:03:17.470847100Z",
     "start_time": "2024-02-04T11:02:22.252178400Z"
    }
   },
   "id": "acf4deb2586fdb31",
   "execution_count": 86
  },
  {
   "cell_type": "code",
   "outputs": [
    {
     "data": {
      "text/plain": "'C:\\\\Users\\\\toell\\\\OneDrive\\\\Documents\\\\GitHub\\\\irl-chess\\\\downloads\\\\lichess_websites.txt'"
     },
     "execution_count": 76,
     "metadata": {},
     "output_type": "execute_result"
    }
   ],
   "source": [
    "websites_list"
   ],
   "metadata": {
    "collapsed": false,
    "ExecuteTime": {
     "end_time": "2024-02-04T10:57:48.025160300Z",
     "start_time": "2024-02-04T10:57:47.980524400Z"
    }
   },
   "id": "762f43e51372057e",
   "execution_count": 76
  },
  {
   "cell_type": "code",
   "outputs": [
    {
     "name": "stderr",
     "output_type": "stream",
     "text": [
      "100%|██████████| 2183562/2183562 [00:04<00:00, 507611.82it/s]\n"
     ]
    }
   ],
   "source": [
    "files = [join(file_path_data, f'lichess_db_standard_rated_{year}-{month}.pgn') for year, month in [('2013', '01')]]\n",
    "columns = ['Event', 'White', 'Site', 'Black', 'Result', 'UTCDate', 'UTCTime', 'WhiteElo', 'BlackElo', 'WhiteRatingDiff', 'BlackRatingDiff', 'ECO', 'Opening', 'TimeControl', 'Termination', 'Moves']\n",
    "\n",
    "data_raw = []\n",
    "for filename in files:\n",
    "    txt_to_csv(filename)\n"
   ],
   "metadata": {
    "collapsed": false,
    "ExecuteTime": {
     "end_time": "2024-02-04T10:53:28.314445Z",
     "start_time": "2024-02-04T10:53:21.370162100Z"
    }
   },
   "id": "621c3f09c4f33512",
   "execution_count": 69
  },
  {
   "cell_type": "code",
   "outputs": [],
   "source": [],
   "metadata": {
    "collapsed": false
   },
   "id": "f5ac741ee3598c9b"
  }
 ],
 "metadata": {
  "kernelspec": {
   "display_name": "Python 3",
   "language": "python",
   "name": "python3"
  },
  "language_info": {
   "codemirror_mode": {
    "name": "ipython",
    "version": 2
   },
   "file_extension": ".py",
   "mimetype": "text/x-python",
   "name": "python",
   "nbconvert_exporter": "python",
   "pygments_lexer": "ipython2",
   "version": "2.7.6"
  }
 },
 "nbformat": 4,
 "nbformat_minor": 5
}
