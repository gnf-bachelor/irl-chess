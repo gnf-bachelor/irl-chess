{
 "cells": [
  {
   "cell_type": "code",
   "execution_count": 2,
   "id": "initial_id",
   "metadata": {
    "collapsed": true,
    "ExecuteTime": {
     "end_time": "2024-02-06T13:21:57.704000300Z",
     "start_time": "2024-02-06T13:21:54.760434400Z"
    }
   },
   "outputs": [
    {
     "name": "stderr",
     "output_type": "stream",
     "text": [
      "C:\\Users\\toell\\AppData\\Local\\Temp\\ipykernel_23836\\3714957782.py:4: DeprecationWarning: \n",
      "Pyarrow will become a required dependency of pandas in the next major release of pandas (pandas 3.0),\n",
      "(to allow more performant data types, such as the Arrow string type, and better interoperability with other libraries)\n",
      "but was not found to be installed on your system.\n",
      "If this would cause problems for you,\n",
      "please provide us feedback at https://github.com/pandas-dev/pandas/issues/54466\n",
      "        \n",
      "  import pandas as pd\n"
     ]
    }
   ],
   "source": [
    "import os\n",
    "\n",
    "import numpy as np\n",
    "import pandas as pd\n",
    "from os.path import join\n",
    "from tqdm import tqdm\n",
    "import matplotlib.pyplot as plt\n",
    "if os.getcwd().split('\\\\')[-1] != 'irl-chess':\n",
    "    os.chdir('../')\n",
    "from project import Searcher, policy_walk, Position, initial, get_midgame_boards, load_lichess_csv, get_best_move, piece, evaluate_board"
   ]
  },
  {
   "cell_type": "code",
   "outputs": [
    {
     "name": "stderr",
     "output_type": "stream",
     "text": [
      "  2%|▏         | 2229/120934 [00:00<00:08, 13743.95it/s]\n"
     ]
    },
    {
     "name": "stdout",
     "output_type": "stream",
     "text": [
      "100\n"
     ]
    }
   ],
   "source": [
    "df = load_lichess_csv('2013', '01')\n",
    "n_boards = 100\n",
    "boards, moves = get_midgame_boards(df, n_boards, min_elo=1200, max_elo=1400, sunfish=False)\n",
    "print(len(boards))"
   ],
   "metadata": {
    "collapsed": false,
    "ExecuteTime": {
     "end_time": "2024-02-06T13:23:32.001195200Z",
     "start_time": "2024-02-06T13:23:30.729447700Z"
    }
   },
   "id": "e3fdfda1f0d7cf9",
   "execution_count": 5
  },
  {
   "cell_type": "code",
   "outputs": [
    {
     "name": "stderr",
     "output_type": "stream",
     "text": [
      "100%|██████████| 100/100 [01:04<00:00,  1.55it/s]\n"
     ]
    }
   ],
   "source": [
    "moves_sunfish = []\n",
    "R = np.array([val for val in piece.values()])\n",
    "\n",
    "for board in tqdm(boards):\n",
    "    move, Q = get_best_move(board, R, depth=3)\n",
    "    moves_sunfish.append(move)"
   ],
   "metadata": {
    "collapsed": false,
    "ExecuteTime": {
     "end_time": "2024-02-06T13:24:36.810213800Z",
     "start_time": "2024-02-06T13:23:32.108770Z"
    }
   },
   "id": "86feabd8da4286e",
   "execution_count": 6
  },
  {
   "cell_type": "code",
   "outputs": [
    {
     "name": "stderr",
     "output_type": "stream",
     "text": [
      "  0%|          | 0/10 [00:00<?, ?it/s]\n",
      "  0%|          | 0/100 [00:00<?, ?it/s]\u001B[A\n",
      "  0%|          | 0/10 [00:00<?, ?it/s]\n"
     ]
    },
    {
     "ename": "TypeError",
     "evalue": "expected string or bytes-like object",
     "output_type": "error",
     "traceback": [
      "\u001B[1;31m---------------------------------------------------------------------------\u001B[0m",
      "\u001B[1;31mTypeError\u001B[0m                                 Traceback (most recent call last)",
      "Cell \u001B[1;32mIn[7], line 2\u001B[0m\n\u001B[0;32m      1\u001B[0m R_noisy \u001B[38;5;241m=\u001B[39m R \u001B[38;5;241m+\u001B[39m np\u001B[38;5;241m.\u001B[39mrandom\u001B[38;5;241m.\u001B[39mnormal(loc\u001B[38;5;241m=\u001B[39m\u001B[38;5;241m0\u001B[39m, scale\u001B[38;5;241m=\u001B[39m\u001B[38;5;241m10\u001B[39m, size\u001B[38;5;241m=\u001B[39mR\u001B[38;5;241m.\u001B[39mshape)\n\u001B[1;32m----> 2\u001B[0m R_ \u001B[38;5;241m=\u001B[39m \u001B[43mpolicy_walk\u001B[49m\u001B[43m(\u001B[49m\u001B[43mR_noisy\u001B[49m\u001B[43m,\u001B[49m\u001B[43m \u001B[49m\u001B[43mboards\u001B[49m\u001B[43m,\u001B[49m\u001B[43m \u001B[49m\u001B[43mmoves_sunfish\u001B[49m\u001B[43m,\u001B[49m\u001B[43m \u001B[49m\u001B[43mdelta\u001B[49m\u001B[38;5;241;43m=\u001B[39;49m\u001B[38;5;241;43m0.1\u001B[39;49m\u001B[43m)\u001B[49m\n",
      "File \u001B[1;32m~\\OneDrive\\Documents\\GitHub\\irl-chess\\project\\chess_utils\\utils.py:228\u001B[0m, in \u001B[0;36mpolicy_walk\u001B[1;34m(R, states, moves, delta, epochs, depth, alpha)\u001B[0m\n\u001B[0;32m    226\u001B[0m energy_new, energy_old \u001B[38;5;241m=\u001B[39m \u001B[38;5;241m0\u001B[39m, \u001B[38;5;241m0\u001B[39m\n\u001B[0;32m    227\u001B[0m \u001B[38;5;28;01mfor\u001B[39;00m state, move \u001B[38;5;129;01min\u001B[39;00m tqdm(\u001B[38;5;28mzip\u001B[39m(states, moves), total\u001B[38;5;241m=\u001B[39m\u001B[38;5;28mlen\u001B[39m(states)):\n\u001B[1;32m--> 228\u001B[0m     \u001B[43mstate\u001B[49m\u001B[38;5;241;43m.\u001B[39;49m\u001B[43mpush_san\u001B[49m\u001B[43m(\u001B[49m\u001B[43mmove\u001B[49m\u001B[43m)\u001B[49m\n\u001B[0;32m    229\u001B[0m     _, Q_old \u001B[38;5;241m=\u001B[39m get_best_move(board\u001B[38;5;241m=\u001B[39mstate, R\u001B[38;5;241m=\u001B[39mR, depth\u001B[38;5;241m=\u001B[39mdepth \u001B[38;5;241m-\u001B[39m \u001B[38;5;241m1\u001B[39m, white\u001B[38;5;241m=\u001B[39mstate\u001B[38;5;241m.\u001B[39mturn)\n\u001B[0;32m    230\u001B[0m     _, Q_new \u001B[38;5;241m=\u001B[39m get_best_move(board\u001B[38;5;241m=\u001B[39mstate, R\u001B[38;5;241m=\u001B[39mR_, depth\u001B[38;5;241m=\u001B[39mdepth \u001B[38;5;241m-\u001B[39m \u001B[38;5;241m1\u001B[39m, white\u001B[38;5;241m=\u001B[39mstate\u001B[38;5;241m.\u001B[39mturn)\n",
      "File \u001B[1;32m~\\OneDrive\\Documents\\GitHub\\irl-chess\\venv\\lib\\site-packages\\chess\\__init__.py:3105\u001B[0m, in \u001B[0;36mBoard.push_san\u001B[1;34m(self, san)\u001B[0m\n\u001B[0;32m   3091\u001B[0m \u001B[38;5;28;01mdef\u001B[39;00m \u001B[38;5;21mpush_san\u001B[39m(\u001B[38;5;28mself\u001B[39m, san: \u001B[38;5;28mstr\u001B[39m) \u001B[38;5;241m-\u001B[39m\u001B[38;5;241m>\u001B[39m Move:\n\u001B[0;32m   3092\u001B[0m \u001B[38;5;250m    \u001B[39m\u001B[38;5;124;03m\"\"\"\u001B[39;00m\n\u001B[0;32m   3093\u001B[0m \u001B[38;5;124;03m    Parses a move in standard algebraic notation, makes the move and puts\u001B[39;00m\n\u001B[0;32m   3094\u001B[0m \u001B[38;5;124;03m    it onto the move stack.\u001B[39;00m\n\u001B[1;32m   (...)\u001B[0m\n\u001B[0;32m   3103\u001B[0m \u001B[38;5;124;03m        - :exc:`AmbiguousMoveError` if the SAN is ambiguous.\u001B[39;00m\n\u001B[0;32m   3104\u001B[0m \u001B[38;5;124;03m    \"\"\"\u001B[39;00m\n\u001B[1;32m-> 3105\u001B[0m     move \u001B[38;5;241m=\u001B[39m \u001B[38;5;28;43mself\u001B[39;49m\u001B[38;5;241;43m.\u001B[39;49m\u001B[43mparse_san\u001B[49m\u001B[43m(\u001B[49m\u001B[43msan\u001B[49m\u001B[43m)\u001B[49m\n\u001B[0;32m   3106\u001B[0m     \u001B[38;5;28mself\u001B[39m\u001B[38;5;241m.\u001B[39mpush(move)\n\u001B[0;32m   3107\u001B[0m     \u001B[38;5;28;01mreturn\u001B[39;00m move\n",
      "File \u001B[1;32m~\\OneDrive\\Documents\\GitHub\\irl-chess\\venv\\lib\\site-packages\\chess\\__init__.py:3029\u001B[0m, in \u001B[0;36mBoard.parse_san\u001B[1;34m(self, san)\u001B[0m\n\u001B[0;32m   3026\u001B[0m     \u001B[38;5;28;01mraise\u001B[39;00m IllegalMoveError(\u001B[38;5;124mf\u001B[39m\u001B[38;5;124m\"\u001B[39m\u001B[38;5;124millegal san: \u001B[39m\u001B[38;5;132;01m{\u001B[39;00msan\u001B[38;5;132;01m!r}\u001B[39;00m\u001B[38;5;124m in \u001B[39m\u001B[38;5;132;01m{\u001B[39;00m\u001B[38;5;28mself\u001B[39m\u001B[38;5;241m.\u001B[39mfen()\u001B[38;5;132;01m}\u001B[39;00m\u001B[38;5;124m\"\u001B[39m)\n\u001B[0;32m   3028\u001B[0m \u001B[38;5;66;03m# Match normal moves.\u001B[39;00m\n\u001B[1;32m-> 3029\u001B[0m match \u001B[38;5;241m=\u001B[39m \u001B[43mSAN_REGEX\u001B[49m\u001B[38;5;241;43m.\u001B[39;49m\u001B[43mmatch\u001B[49m\u001B[43m(\u001B[49m\u001B[43msan\u001B[49m\u001B[43m)\u001B[49m\n\u001B[0;32m   3030\u001B[0m \u001B[38;5;28;01mif\u001B[39;00m \u001B[38;5;129;01mnot\u001B[39;00m match:\n\u001B[0;32m   3031\u001B[0m     \u001B[38;5;66;03m# Null moves.\u001B[39;00m\n\u001B[0;32m   3032\u001B[0m     \u001B[38;5;28;01mif\u001B[39;00m san \u001B[38;5;129;01min\u001B[39;00m [\u001B[38;5;124m\"\u001B[39m\u001B[38;5;124m--\u001B[39m\u001B[38;5;124m\"\u001B[39m, \u001B[38;5;124m\"\u001B[39m\u001B[38;5;124mZ0\u001B[39m\u001B[38;5;124m\"\u001B[39m, \u001B[38;5;124m\"\u001B[39m\u001B[38;5;124m0000\u001B[39m\u001B[38;5;124m\"\u001B[39m, \u001B[38;5;124m\"\u001B[39m\u001B[38;5;124m@@@@\u001B[39m\u001B[38;5;124m\"\u001B[39m]:\n",
      "\u001B[1;31mTypeError\u001B[0m: expected string or bytes-like object"
     ]
    }
   ],
   "source": [
    "R_noisy = R + np.random.normal(loc=0, scale=10, size=R.shape)\n",
    "R_ = policy_walk(R_noisy, boards, moves_sunfish, delta=0.1)"
   ],
   "metadata": {
    "collapsed": false,
    "ExecuteTime": {
     "end_time": "2024-02-06T13:24:36.960390200Z",
     "start_time": "2024-02-06T13:24:36.805219400Z"
    }
   },
   "id": "1d8dd6584bbd4037",
   "execution_count": 7
  },
  {
   "cell_type": "code",
   "outputs": [
    {
     "data": {
      "text/plain": "'r1Q3r1/1bk2p2/p2p1n2/1p6/4P1P1/2N5/PPP2PB1/1K1R4 b - - 1 33'"
     },
     "execution_count": 37,
     "metadata": {},
     "output_type": "execute_result"
    }
   ],
   "source": [
    "board.fen()"
   ],
   "metadata": {
    "collapsed": false,
    "ExecuteTime": {
     "end_time": "2024-02-06T12:16:08.354481200Z",
     "start_time": "2024-02-06T12:16:08.330482800Z"
    }
   },
   "id": "815a6a65b3ae7044",
   "execution_count": 37
  },
  {
   "cell_type": "code",
   "outputs": [
    {
     "data": {
      "text/plain": "62278"
     },
     "execution_count": 38,
     "metadata": {},
     "output_type": "execute_result"
    }
   ],
   "source": [
    "evaluate_board(board) @ R"
   ],
   "metadata": {
    "collapsed": false,
    "ExecuteTime": {
     "end_time": "2024-02-06T12:16:08.668580100Z",
     "start_time": "2024-02-06T12:16:08.653551300Z"
    }
   },
   "id": "249d7b91f72c380",
   "execution_count": 38
  },
  {
   "cell_type": "code",
   "outputs": [
    {
     "data": {
      "text/plain": "False"
     },
     "execution_count": 39,
     "metadata": {},
     "output_type": "execute_result"
    }
   ],
   "source": [
    "board.turn"
   ],
   "metadata": {
    "collapsed": false,
    "ExecuteTime": {
     "end_time": "2024-02-06T12:17:14.273392900Z",
     "start_time": "2024-02-06T12:17:14.222018900Z"
    }
   },
   "id": "cdeceee921dbf440",
   "execution_count": 39
  },
  {
   "cell_type": "code",
   "outputs": [],
   "source": [],
   "metadata": {
    "collapsed": false
   },
   "id": "e7464bedd3227a6f"
  }
 ],
 "metadata": {
  "kernelspec": {
   "display_name": "Python 3",
   "language": "python",
   "name": "python3"
  },
  "language_info": {
   "codemirror_mode": {
    "name": "ipython",
    "version": 2
   },
   "file_extension": ".py",
   "mimetype": "text/x-python",
   "name": "python",
   "nbconvert_exporter": "python",
   "pygments_lexer": "ipython2",
   "version": "2.7.6"
  }
 },
 "nbformat": 4,
 "nbformat_minor": 5
}
