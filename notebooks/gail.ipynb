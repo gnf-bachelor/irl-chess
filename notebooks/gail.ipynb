{
 "cells": [
  {
   "cell_type": "code",
   "outputs": [],
   "source": [
    "import os\n",
    "if os.getcwd()[-len('irl-chess'):] != 'irl-chess':\n",
    "    os.chdir('../')\n",
    "import pytorch_lightning as pl\n",
    "import torch\n",
    "import torch.nn as nn\n",
    "from torchmetrics import MeanSquaredError\n",
    "from project import alpha_beta_search, evaluate_board, get_midgame_boards, load_chess_df\n",
    "from tqdm import tqdm\n",
    "import chess\n",
    "from copy import copy"
   ],
   "metadata": {
    "collapsed": false,
    "ExecuteTime": {
     "end_time": "2024-02-20T13:38:16.119243Z",
     "start_time": "2024-02-20T13:38:16.110721500Z"
    }
   },
   "id": "9ff59d7d65d1ae76",
   "execution_count": 7
  },
  {
   "cell_type": "code",
   "outputs": [],
   "source": [
    "class SimpleRegressionModel(pl.LightningModule):\n",
    "    def __init__(self, input_size, output_size, initial_weights=None, lr=1e-3):\n",
    "        super(SimpleRegressionModel, self).__init__()\n",
    "        self.lr = lr\n",
    "        # Define the model architecture\n",
    "        self.model = nn.Sequential(\n",
    "            nn.Linear(input_size, output_size)\n",
    "        )\n",
    "\n",
    "        # Set initial weights if provided\n",
    "        if initial_weights is not None:\n",
    "            self.model[0].weight.data = initial_weights.clone()\n",
    "        self.loss_function = nn.MSELoss()\n",
    "        self.mse = MeanSquaredError()\n",
    "\n",
    "    def forward(self, x):\n",
    "        return self.model(x)\n",
    "\n",
    "    def training_step(self, batch, batch_idx):\n",
    "        x, y = batch\n",
    "        predictions = self(x)\n",
    "        loss = self.loss_function(predictions.squeeze(), y.squeeze())\n",
    "        self.log('train_loss', loss.item(), on_epoch=True)\n",
    "        return loss\n",
    "\n",
    "    def validation_step(self, batch, batch_idx):\n",
    "        x, y = batch\n",
    "        y = y.squeeze()\n",
    "        predictions = self(x).squeeze()\n",
    "        loss = self.loss_function(predictions, y)\n",
    "        self.log('val_loss', loss.item(), on_epoch=True)\n",
    "        return loss\n",
    "\n",
    "    def configure_optimizers(self):\n",
    "        optimizer = torch.optim.Adam(self.parameters(), lr=self.lr)\n",
    "        return optimizer"
   ],
   "metadata": {
    "collapsed": false,
    "ExecuteTime": {
     "end_time": "2024-02-20T13:38:17.324249900Z",
     "start_time": "2024-02-20T13:38:17.317715100Z"
    }
   },
   "id": "673fe897f8374a55",
   "execution_count": 8
  },
  {
   "cell_type": "code",
   "outputs": [],
   "source": [
    "def get_trajectories(boards, R, heuristic=None):\n",
    "    \"\"\"\n",
    "    Return a list of trajectories where each trajectory\n",
    "    has its heuristic value calculated\n",
    "    :param boards: \n",
    "    :param R: \n",
    "    :param heuristic: \n",
    "    :return: \n",
    "    \"\"\"\n",
    "    if heuristic is None:\n",
    "        heuristic = lambda board: torch.ones_like(R)\n",
    "    trajectories = torch.empty((len(boards), len(R)), dtype=R.dtype, device=R.device)\n",
    "    for i, board in enumerate(boards):\n",
    "        Q, board_, moves = alpha_beta_search(board=board, depth=depth, R=R.cpu().detach().numpy(), )\n",
    "        trajectories[i] = heuristic(board_)\n",
    "    return trajectories"
   ],
   "metadata": {
    "collapsed": false,
    "ExecuteTime": {
     "end_time": "2024-02-20T13:38:18.083725500Z",
     "start_time": "2024-02-20T13:38:18.076858400Z"
    }
   },
   "id": "9e9deafb6585c9ce",
   "execution_count": 9
  },
  {
   "cell_type": "code",
   "outputs": [],
   "source": [
    "n_trajectories = 10\n",
    "depth = 3\n",
    "n_epochs = 2\n",
    "min_elo = 1100\n",
    "max_elo = 1300\n",
    "R = torch.rand(6) * 100\n",
    "model = SimpleRegressionModel(input_size=len(R), output_size=len(R), initial_weights=R.unsqueeze(0).expand(len(R), -1).T)"
   ],
   "metadata": {
    "collapsed": false,
    "ExecuteTime": {
     "end_time": "2024-02-20T13:41:17.447877100Z",
     "start_time": "2024-02-20T13:41:17.437855500Z"
    }
   },
   "id": "3a1be1c6cd007227",
   "execution_count": 19
  },
  {
   "cell_type": "code",
   "outputs": [
    {
     "name": "stdout",
     "output_type": "stream",
     "text": [
      "\n",
      "\n",
      "-------------------  1/12  -------------------\n",
      "\n",
      "\n",
      "C:\\Users\\toell\\OneDrive\\Documents\\GitHub\\irl-chess\\data\\processed\\lichess_db_standard_rated_2013-01.csv already exists and was not changed\n",
      "Time taken: 0.00 seconds for file\n",
      "Time taken: 0.00 seconds in total\n",
      "\n",
      "\n",
      "-------------------  2/12  -------------------\n",
      "\n",
      "\n",
      "C:\\Users\\toell\\OneDrive\\Documents\\GitHub\\irl-chess\\data\\processed\\lichess_db_standard_rated_2013-02.csv already exists and was not changed\n",
      "Time taken: 0.00 seconds for file\n",
      "Time taken: 0.00 seconds in total\n",
      "\n",
      "\n",
      "-------------------  3/12  -------------------\n",
      "\n",
      "\n",
      "C:\\Users\\toell\\OneDrive\\Documents\\GitHub\\irl-chess\\data\\processed\\lichess_db_standard_rated_2013-03.csv already exists and was not changed\n",
      "Time taken: 0.00 seconds for file\n",
      "Time taken: 0.00 seconds in total\n"
     ]
    },
    {
     "name": "stderr",
     "output_type": "stream",
     "text": [
      "Contatenating DataFrames: 100%|██████████| 2/2 [00:01<00:00,  1.01it/s]\n",
      "Searching for boards:   0%|          | 1095/402536 [00:00<00:12, 33222.87it/s]\n"
     ]
    }
   ],
   "source": [
    "df = load_chess_df(n_files=3, overwrite=False)\n",
    "boards_temp = get_midgame_boards(df=df, n_boards=n_trajectories, min_elo=min_elo, max_elo=max_elo)\n",
    "boards = []\n",
    "for el in boards_temp:\n",
    "    boards += el[:1]"
   ],
   "metadata": {
    "collapsed": false,
    "ExecuteTime": {
     "end_time": "2024-02-20T13:41:21.642749500Z",
     "start_time": "2024-02-20T13:41:18.242240900Z"
    }
   },
   "id": "f0147db818b847d2",
   "execution_count": 20
  },
  {
   "cell_type": "code",
   "outputs": [],
   "source": [],
   "metadata": {
    "collapsed": false,
    "ExecuteTime": {
     "end_time": "2024-02-20T13:41:21.643756800Z",
     "start_time": "2024-02-20T13:41:21.641777300Z"
    }
   },
   "id": "c8638e14a4d2fb19",
   "execution_count": 20
  },
  {
   "cell_type": "code",
   "outputs": [
    {
     "name": "stderr",
     "output_type": "stream",
     "text": [
      "Epoch:   0%|          | 0/2 [00:00<?, ?it/s]\n"
     ]
    },
    {
     "ename": "ValueError",
     "evalue": "not enough values to unpack (expected 3, got 2)",
     "output_type": "error",
     "traceback": [
      "\u001B[1;31m---------------------------------------------------------------------------\u001B[0m",
      "\u001B[1;31mValueError\u001B[0m                                Traceback (most recent call last)",
      "Cell \u001B[1;32mIn[21], line 2\u001B[0m\n\u001B[0;32m      1\u001B[0m \u001B[38;5;28;01mfor\u001B[39;00m epoch \u001B[38;5;129;01min\u001B[39;00m tqdm(\u001B[38;5;28mrange\u001B[39m(n_epochs), desc\u001B[38;5;241m=\u001B[39m\u001B[38;5;124m'\u001B[39m\u001B[38;5;124mEpoch\u001B[39m\u001B[38;5;124m'\u001B[39m):\n\u001B[1;32m----> 2\u001B[0m     trajectories \u001B[38;5;241m=\u001B[39m \u001B[43mget_trajectories\u001B[49m\u001B[43m(\u001B[49m\u001B[43mboards\u001B[49m\u001B[38;5;241;43m=\u001B[39;49m\u001B[43mboards\u001B[49m\u001B[43m,\u001B[49m\u001B[43m \u001B[49m\u001B[43mR\u001B[49m\u001B[38;5;241;43m=\u001B[39;49m\u001B[43mR\u001B[49m\u001B[43m,\u001B[49m\u001B[43m \u001B[49m\u001B[43m)\u001B[49m\n",
      "Cell \u001B[1;32mIn[9], line 14\u001B[0m, in \u001B[0;36mget_trajectories\u001B[1;34m(boards, R, heuristic)\u001B[0m\n\u001B[0;32m     12\u001B[0m trajectories \u001B[38;5;241m=\u001B[39m torch\u001B[38;5;241m.\u001B[39mempty((\u001B[38;5;28mlen\u001B[39m(boards), \u001B[38;5;28mlen\u001B[39m(R)), dtype\u001B[38;5;241m=\u001B[39mR\u001B[38;5;241m.\u001B[39mdtype, device\u001B[38;5;241m=\u001B[39mR\u001B[38;5;241m.\u001B[39mdevice)\n\u001B[0;32m     13\u001B[0m \u001B[38;5;28;01mfor\u001B[39;00m i, board \u001B[38;5;129;01min\u001B[39;00m \u001B[38;5;28menumerate\u001B[39m(boards):\n\u001B[1;32m---> 14\u001B[0m     Q, board_, moves \u001B[38;5;241m=\u001B[39m alpha_beta_search(board\u001B[38;5;241m=\u001B[39mboard, depth\u001B[38;5;241m=\u001B[39mdepth, R\u001B[38;5;241m=\u001B[39mR\u001B[38;5;241m.\u001B[39mcpu()\u001B[38;5;241m.\u001B[39mdetach()\u001B[38;5;241m.\u001B[39mnumpy(), )\n\u001B[0;32m     15\u001B[0m     trajectories[i] \u001B[38;5;241m=\u001B[39m heuristic(board_)\n\u001B[0;32m     16\u001B[0m \u001B[38;5;28;01mreturn\u001B[39;00m trajectories\n",
      "\u001B[1;31mValueError\u001B[0m: not enough values to unpack (expected 3, got 2)"
     ]
    }
   ],
   "source": [
    "for epoch in tqdm(range(n_epochs), desc='Epoch'):\n",
    "    trajectories = get_trajectories(boards=boards, R=R, )\n",
    "    \n",
    "    "
   ],
   "metadata": {
    "collapsed": false,
    "ExecuteTime": {
     "end_time": "2024-02-20T13:41:21.817223200Z",
     "start_time": "2024-02-20T13:41:21.645753800Z"
    }
   },
   "id": "45f1f59e66f4b2ec",
   "execution_count": 21
  },
  {
   "cell_type": "code",
   "outputs": [],
   "source": [],
   "metadata": {
    "collapsed": false
   },
   "id": "b02e8acec18984ea"
  }
 ],
 "metadata": {
  "kernelspec": {
   "display_name": "Python 3",
   "language": "python",
   "name": "python3"
  },
  "language_info": {
   "codemirror_mode": {
    "name": "ipython",
    "version": 2
   },
   "file_extension": ".py",
   "mimetype": "text/x-python",
   "name": "python",
   "nbconvert_exporter": "python",
   "pygments_lexer": "ipython2",
   "version": "2.7.6"
  }
 },
 "nbformat": 4,
 "nbformat_minor": 5
}
