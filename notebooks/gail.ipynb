{
 "cells": [
  {
   "cell_type": "code",
   "outputs": [],
   "source": [
    "import pytorch_lightning as pl\n",
    "import torch\n",
    "import torch.nn as nn\n",
    "from torchmetrics import MeanSquaredError\n",
    "from project import alpha_beta_search, evaluate_board, get_midgame_boards, load_chess_df\n",
    "from tqdm import tqdm\n",
    "import chess\n",
    "from copy import copy"
   ],
   "metadata": {
    "collapsed": false,
    "ExecuteTime": {
     "end_time": "2024-02-20T13:37:00.556673600Z",
     "start_time": "2024-02-20T13:36:56.320560800Z"
    }
   },
   "id": "9ff59d7d65d1ae76",
   "execution_count": 1
  },
  {
   "cell_type": "code",
   "outputs": [],
   "source": [
    "class SimpleRegressionModel(pl.LightningModule):\n",
    "    def __init__(self, input_size, output_size, initial_weights=None, lr=1e-3):\n",
    "        super(SimpleRegressionModel, self).__init__()\n",
    "        self.lr = lr\n",
    "        # Define the model architecture\n",
    "        self.model = nn.Sequential(\n",
    "            nn.Linear(input_size, output_size)\n",
    "        )\n",
    "\n",
    "        # Set initial weights if provided\n",
    "        if initial_weights is not None:\n",
    "            self.model[0].weight.data = initial_weights.clone()\n",
    "        self.loss_function = nn.MSELoss()\n",
    "        self.mse = MeanSquaredError()\n",
    "\n",
    "    def forward(self, x):\n",
    "        return self.model(x)\n",
    "\n",
    "    def training_step(self, batch, batch_idx):\n",
    "        x, y = batch\n",
    "        predictions = self(x)\n",
    "        loss = self.loss_function(predictions.squeeze(), y.squeeze())\n",
    "        self.log('train_loss', loss.item(), on_epoch=True)\n",
    "        return loss\n",
    "\n",
    "    def validation_step(self, batch, batch_idx):\n",
    "        x, y = batch\n",
    "        y = y.squeeze()\n",
    "        predictions = self(x).squeeze()\n",
    "        loss = self.loss_function(predictions, y)\n",
    "        self.log('val_loss', loss.item(), on_epoch=True)\n",
    "        return loss\n",
    "\n",
    "    def configure_optimizers(self):\n",
    "        optimizer = torch.optim.Adam(self.parameters(), lr=self.lr)\n",
    "        return optimizer"
   ],
   "metadata": {
    "collapsed": false,
    "ExecuteTime": {
     "end_time": "2024-02-20T13:37:00.560206100Z",
     "start_time": "2024-02-20T13:37:00.556169600Z"
    }
   },
   "id": "673fe897f8374a55",
   "execution_count": 2
  },
  {
   "cell_type": "code",
   "outputs": [],
   "source": [
    "def get_trajectories(boards, R, heuristic=None):\n",
    "    \"\"\"\n",
    "    Return a list of trajectories where each trajectory\n",
    "    has its heuristic value calculated\n",
    "    :param boards: \n",
    "    :param R: \n",
    "    :param heuristic: \n",
    "    :return: \n",
    "    \"\"\"\n",
    "    if heuristic is None:\n",
    "        heuristic = lambda board: torch.ones_like(R)\n",
    "    trajectories = torch.empty((len(boards), len(R)), dtype=R.dtype, device=R.device)\n",
    "    for i, board in enumerate(boards):\n",
    "        Q, board_, moves = alpha_beta_search(board=board, depth=depth, R=R.cpu().detach().numpy(), )\n",
    "        trajectories[i] = heuristic(board_)\n",
    "    return trajectories"
   ],
   "metadata": {
    "collapsed": false,
    "ExecuteTime": {
     "end_time": "2024-02-20T13:37:00.569548500Z",
     "start_time": "2024-02-20T13:37:00.562194100Z"
    }
   },
   "id": "9e9deafb6585c9ce",
   "execution_count": 3
  },
  {
   "cell_type": "code",
   "outputs": [],
   "source": [
    "n_trajectories = 10\n",
    "depth = 3\n",
    "n_epochs = 2\n",
    "min_elo = 1100\n",
    "max_elo = 1300\n",
    "R = torch.rand(7) * 100\n",
    "model = SimpleRegressionModel(input_size=len(R), output_size=len(R), initial_weights=R.unsqueeze(0).expand(len(R), -1).T)"
   ],
   "metadata": {
    "collapsed": false,
    "ExecuteTime": {
     "end_time": "2024-02-20T13:37:00.575530100Z",
     "start_time": "2024-02-20T13:37:00.569548500Z"
    }
   },
   "id": "3a1be1c6cd007227",
   "execution_count": 4
  },
  {
   "cell_type": "code",
   "outputs": [
    {
     "ename": "FileNotFoundError",
     "evalue": "[Errno 2] No such file or directory: 'C:\\\\Users\\\\toell\\\\OneDrive\\\\Documents\\\\GitHub\\\\irl-chess\\\\notebooks\\\\downloads\\\\lichess_websites.txt'",
     "output_type": "error",
     "traceback": [
      "\u001B[1;31m---------------------------------------------------------------------------\u001B[0m",
      "\u001B[1;31mFileNotFoundError\u001B[0m                         Traceback (most recent call last)",
      "Cell \u001B[1;32mIn[5], line 1\u001B[0m\n\u001B[1;32m----> 1\u001B[0m df \u001B[38;5;241m=\u001B[39m \u001B[43mload_chess_df\u001B[49m\u001B[43m(\u001B[49m\u001B[43mn_files\u001B[49m\u001B[38;5;241;43m=\u001B[39;49m\u001B[38;5;241;43m3\u001B[39;49m\u001B[43m,\u001B[49m\u001B[43m \u001B[49m\u001B[43moverwrite\u001B[49m\u001B[38;5;241;43m=\u001B[39;49m\u001B[38;5;28;43;01mFalse\u001B[39;49;00m\u001B[43m)\u001B[49m\n\u001B[0;32m      2\u001B[0m boards \u001B[38;5;241m=\u001B[39m get_midgame_boards(df\u001B[38;5;241m=\u001B[39mdf, n_boards\u001B[38;5;241m=\u001B[39mn_trajectories, min_elo\u001B[38;5;241m=\u001B[39mmin_elo, max_elo\u001B[38;5;241m=\u001B[39mmax_elo)\n",
      "File \u001B[1;32m~\\OneDrive\\Documents\\GitHub\\irl-chess\\project\\data\\make_dataset.py:194\u001B[0m, in \u001B[0;36mload_chess_df\u001B[1;34m(n_files, overwrite)\u001B[0m\n\u001B[0;32m    191\u001B[0m websites_filepath \u001B[38;5;241m=\u001B[39m join(os\u001B[38;5;241m.\u001B[39mgetcwd(), \u001B[38;5;124m'\u001B[39m\u001B[38;5;124mdownloads\u001B[39m\u001B[38;5;124m'\u001B[39m, \u001B[38;5;124m'\u001B[39m\u001B[38;5;124mlichess_websites.txt\u001B[39m\u001B[38;5;124m'\u001B[39m)\n\u001B[0;32m    192\u001B[0m file_path_data \u001B[38;5;241m=\u001B[39m join(os\u001B[38;5;241m.\u001B[39mgetcwd(), \u001B[38;5;124m'\u001B[39m\u001B[38;5;124mdata\u001B[39m\u001B[38;5;124m'\u001B[39m, \u001B[38;5;124m'\u001B[39m\u001B[38;5;124mraw\u001B[39m\u001B[38;5;124m'\u001B[39m)\n\u001B[1;32m--> 194\u001B[0m datapaths \u001B[38;5;241m=\u001B[39m \u001B[43mdownload_lichess_pgn\u001B[49m\u001B[43m(\u001B[49m\u001B[43mwebsites_filepath\u001B[49m\u001B[43m,\u001B[49m\u001B[43m \u001B[49m\u001B[43mfile_path_data\u001B[49m\u001B[43m,\u001B[49m\u001B[43m \u001B[49m\u001B[43mn_files\u001B[49m\u001B[38;5;241;43m=\u001B[39;49m\u001B[43mn_files\u001B[49m\u001B[43m,\u001B[49m\u001B[43m \u001B[49m\u001B[43moverwrite\u001B[49m\u001B[38;5;241;43m=\u001B[39;49m\u001B[43moverwrite\u001B[49m\u001B[43m)\u001B[49m\n\u001B[0;32m    195\u001B[0m df \u001B[38;5;241m=\u001B[39m pd\u001B[38;5;241m.\u001B[39mread_csv(datapaths[\u001B[38;5;241m0\u001B[39m], index_col\u001B[38;5;241m=\u001B[39m\u001B[38;5;28;01mNone\u001B[39;00m)\n\u001B[0;32m    196\u001B[0m \u001B[38;5;28;01mfor\u001B[39;00m path \u001B[38;5;129;01min\u001B[39;00m tqdm(datapaths[\u001B[38;5;241m1\u001B[39m:], desc\u001B[38;5;241m=\u001B[39m\u001B[38;5;124m'\u001B[39m\u001B[38;5;124mContatenating DataFrames\u001B[39m\u001B[38;5;124m'\u001B[39m):\n",
      "File \u001B[1;32m~\\OneDrive\\Documents\\GitHub\\irl-chess\\project\\data\\make_dataset.py:151\u001B[0m, in \u001B[0;36mdownload_lichess_pgn\u001B[1;34m(websites_filepath, file_path_data, n_files, overwrite)\u001B[0m\n\u001B[0;32m    149\u001B[0m start \u001B[38;5;241m=\u001B[39m time\u001B[38;5;241m.\u001B[39mtime()\n\u001B[0;32m    150\u001B[0m filepaths_csv \u001B[38;5;241m=\u001B[39m []\n\u001B[1;32m--> 151\u001B[0m \u001B[38;5;28;01mwith\u001B[39;00m \u001B[38;5;28;43mopen\u001B[39;49m\u001B[43m(\u001B[49m\u001B[43mwebsites_filepath\u001B[49m\u001B[43m,\u001B[49m\u001B[43m \u001B[49m\u001B[38;5;124;43m'\u001B[39;49m\u001B[38;5;124;43mr\u001B[39;49m\u001B[38;5;124;43m'\u001B[39;49m\u001B[43m)\u001B[49m \u001B[38;5;28;01mas\u001B[39;00m filename:\n\u001B[0;32m    152\u001B[0m     urls \u001B[38;5;241m=\u001B[39m filename\u001B[38;5;241m.\u001B[39mreadlines()\n\u001B[0;32m    153\u001B[0m     urls \u001B[38;5;241m=\u001B[39m [url\u001B[38;5;241m.\u001B[39mstrip() \u001B[38;5;28;01mfor\u001B[39;00m url \u001B[38;5;129;01min\u001B[39;00m urls]\n",
      "\u001B[1;31mFileNotFoundError\u001B[0m: [Errno 2] No such file or directory: 'C:\\\\Users\\\\toell\\\\OneDrive\\\\Documents\\\\GitHub\\\\irl-chess\\\\notebooks\\\\downloads\\\\lichess_websites.txt'"
     ]
    }
   ],
   "source": [
    "df = load_chess_df(n_files=3, overwrite=False)\n",
    "boards = get_midgame_boards(df=df, n_boards=n_trajectories, min_elo=min_elo, max_elo=max_elo)"
   ],
   "metadata": {
    "collapsed": false,
    "ExecuteTime": {
     "end_time": "2024-02-20T13:37:01.305689800Z",
     "start_time": "2024-02-20T13:37:00.575530100Z"
    }
   },
   "id": "f0147db818b847d2",
   "execution_count": 5
  },
  {
   "cell_type": "code",
   "outputs": [],
   "source": [
    "for epoch in tqdm(range(n_epochs), desc='Epoch'):\n",
    "    trajectories = get_trajectories(n_trajectories, R)\n",
    "    \n",
    "    "
   ],
   "metadata": {
    "collapsed": false
   },
   "id": "45f1f59e66f4b2ec"
  }
 ],
 "metadata": {
  "kernelspec": {
   "display_name": "Python 3",
   "language": "python",
   "name": "python3"
  },
  "language_info": {
   "codemirror_mode": {
    "name": "ipython",
    "version": 2
   },
   "file_extension": ".py",
   "mimetype": "text/x-python",
   "name": "python",
   "nbconvert_exporter": "python",
   "pygments_lexer": "ipython2",
   "version": "2.7.6"
  }
 },
 "nbformat": 4,
 "nbformat_minor": 5
}
