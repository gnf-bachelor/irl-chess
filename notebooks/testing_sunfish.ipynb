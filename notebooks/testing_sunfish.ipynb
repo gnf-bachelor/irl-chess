{
 "cells": [
  {
   "cell_type": "code",
   "execution_count": 1,
   "id": "initial_id",
   "metadata": {
    "collapsed": true,
    "ExecuteTime": {
     "end_time": "2024-02-02T16:59:24.843797400Z",
     "start_time": "2024-02-02T16:59:22.487666Z"
    }
   },
   "outputs": [],
   "source": [
    "import chess\n",
    "from tqdm import tqdm\n",
    "from project import Searcher, Position, initial, sunfish_move, sunfish_move_to_str"
   ]
  },
  {
   "cell_type": "code",
   "execution_count": 2,
   "id": "f984400cd5f1fa0d",
   "metadata": {
    "collapsed": false,
    "ExecuteTime": {
     "end_time": "2024-02-02T16:59:27.876394600Z",
     "start_time": "2024-02-02T16:59:25.078710Z"
    }
   },
   "outputs": [
    {
     "name": "stdout",
     "output_type": "stream",
     "text": [
      "Move: g1f3, Info: {'depth': 6, 'gamma': 20, 'score': 19, 'nodes': 30416}\n"
     ]
    }
   ],
   "source": [
    "hist = [Position(initial, 0, (True, True), (True, True), 0, 0)]\n",
    "time_limit = 1.2  # Seconds, Could do a node limit??\n",
    "move, info = sunfish_move(Searcher(), hist, time_limit=time_limit,)\n",
    "\n",
    "print(f'Move: {sunfish_move_to_str(move)}, Info: {info}')"
   ]
  },
  {
   "cell_type": "code",
   "execution_count": 3,
   "id": "adf4068b6d652d89",
   "metadata": {
    "collapsed": false,
    "ExecuteTime": {
     "end_time": "2024-02-02T16:59:27.876394600Z",
     "start_time": "2024-02-02T16:59:27.865394500Z"
    }
   },
   "outputs": [
    {
     "data": {
      "text/plain": "Position(board='\\n         \\n         \\nr.bkqbnr \\npppppppp \\n..n..... \\n........ \\n........ \\n........ \\nPPPPPPPP \\nRNBKQBNR \\n         \\n         ', score=-37, wc=(True, True), bc=(True, True), ep=0, kp=0)"
     },
     "execution_count": 3,
     "metadata": {},
     "output_type": "execute_result"
    }
   ],
   "source": [
    "hist[0].move(move)"
   ]
  },
  {
   "cell_type": "code",
   "execution_count": 4,
   "id": "9bcb019b21a7133",
   "metadata": {
    "collapsed": false,
    "ExecuteTime": {
     "end_time": "2024-02-02T16:59:27.938396Z",
     "start_time": "2024-02-02T16:59:27.873396500Z"
    }
   },
   "outputs": [
    {
     "data": {
      "text/plain": "[Move(i=81, j=71, prom=''),\n Move(i=81, j=61, prom=''),\n Move(i=82, j=72, prom=''),\n Move(i=82, j=62, prom=''),\n Move(i=83, j=73, prom=''),\n Move(i=83, j=63, prom=''),\n Move(i=84, j=74, prom=''),\n Move(i=84, j=64, prom=''),\n Move(i=85, j=75, prom=''),\n Move(i=85, j=65, prom=''),\n Move(i=86, j=76, prom=''),\n Move(i=86, j=66, prom=''),\n Move(i=87, j=77, prom=''),\n Move(i=87, j=67, prom=''),\n Move(i=88, j=78, prom=''),\n Move(i=88, j=68, prom=''),\n Move(i=92, j=73, prom=''),\n Move(i=92, j=71, prom=''),\n Move(i=97, j=78, prom=''),\n Move(i=97, j=76, prom='')]"
     },
     "execution_count": 4,
     "metadata": {},
     "output_type": "execute_result"
    }
   ],
   "source": [
    "[el for el in hist[0].gen_moves()]"
   ]
  },
  {
   "cell_type": "code",
   "execution_count": 6,
   "id": "cf3af747ef82dc6b",
   "metadata": {
    "collapsed": false,
    "ExecuteTime": {
     "end_time": "2024-02-02T17:00:42.931726700Z",
     "start_time": "2024-02-02T17:00:42.907729Z"
    }
   },
   "outputs": [],
   "source": [
    "def play_on(board, n):\n",
    "    from copy import copy\n",
    "    board0 = copy(board)\n",
    "    for i in tqdm(range(n)):\n",
    "        moves = [el for el in board.generate_legal_moves()]\n",
    "        if len(moves):\n",
    "            board.push(moves[-1])\n",
    "        else:\n",
    "            board = board0\n"
   ]
  },
  {
   "cell_type": "code",
   "outputs": [
    {
     "name": "stderr",
     "output_type": "stream",
     "text": [
      "100%|██████████| 200000/200000 [00:14<00:00, 13566.52it/s]\n"
     ]
    }
   ],
   "source": [
    "n = int(2e5)\n",
    "play_on(chess.Board(), n)"
   ],
   "metadata": {
    "collapsed": false,
    "ExecuteTime": {
     "end_time": "2024-02-02T17:01:07.617906700Z",
     "start_time": "2024-02-02T17:00:52.857266600Z"
    }
   },
   "id": "4892b58492655ad4",
   "execution_count": 7
  },
  {
   "cell_type": "code",
   "outputs": [
    {
     "name": "stderr",
     "output_type": "stream",
     "text": [
      "100%|██████████| 200000/200000 [00:10<00:00, 19054.06it/s]\n"
     ]
    }
   ],
   "source": [
    "play_on(hist[0], n)"
   ],
   "metadata": {
    "collapsed": false,
    "ExecuteTime": {
     "end_time": "2024-02-02T17:01:21.718828100Z",
     "start_time": "2024-02-02T17:01:11.206267300Z"
    }
   },
   "id": "fe6832a4a4b86238",
   "execution_count": 8
  },
  {
   "cell_type": "code",
   "outputs": [],
   "source": [],
   "metadata": {
    "collapsed": false
   },
   "id": "c68a15dce27048f0"
  }
 ],
 "metadata": {
  "kernelspec": {
   "display_name": "Python 3",
   "language": "python",
   "name": "python3"
  },
  "language_info": {
   "codemirror_mode": {
    "name": "ipython",
    "version": 2
   },
   "file_extension": ".py",
   "mimetype": "text/x-python",
   "name": "python",
   "nbconvert_exporter": "python",
   "pygments_lexer": "ipython2",
   "version": "2.7.6"
  }
 },
 "nbformat": 4,
 "nbformat_minor": 5
}
