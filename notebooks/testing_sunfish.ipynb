{
 "cells": [
  {
   "cell_type": "code",
   "execution_count": 5,
   "id": "initial_id",
   "metadata": {
    "collapsed": true,
    "ExecuteTime": {
     "end_time": "2024-02-09T10:22:39.281663Z",
     "start_time": "2024-02-09T10:22:39.260719600Z"
    }
   },
   "outputs": [],
   "source": [
    "import chess\n",
    "from tqdm import tqdm\n",
    "from project import Searcher, Position, initial, sunfish_move, sunfish_move_to_str"
   ]
  },
  {
   "cell_type": "code",
   "execution_count": 2,
   "id": "f984400cd5f1fa0d",
   "metadata": {
    "collapsed": false,
    "ExecuteTime": {
     "end_time": "2024-02-02T16:59:27.876394600Z",
     "start_time": "2024-02-02T16:59:25.078710Z"
    }
   },
   "outputs": [
    {
     "name": "stdout",
     "output_type": "stream",
     "text": [
      "Move: g1f3, Info: {'depth': 6, 'gamma': 20, 'score': 19, 'nodes': 30416}\n"
     ]
    }
   ],
   "source": [
    "hist = [Position(initial, 0, (True, True), (True, True), 0, 0)]\n",
    "time_limit = 1.2  # Seconds, Could do a node limit??\n",
    "move, info = sunfish_move(Searcher(), hist, time_limit=time_limit,)\n",
    "\n",
    "print(f'Move: {sunfish_move_to_str(move)}, Info: {info}')"
   ]
  },
  {
   "cell_type": "code",
   "execution_count": 3,
   "id": "adf4068b6d652d89",
   "metadata": {
    "collapsed": false,
    "ExecuteTime": {
     "end_time": "2024-02-02T16:59:27.876394600Z",
     "start_time": "2024-02-02T16:59:27.865394500Z"
    }
   },
   "outputs": [
    {
     "data": {
      "text/plain": "Position(board='\\n         \\n         \\nr.bkqbnr \\npppppppp \\n..n..... \\n........ \\n........ \\n........ \\nPPPPPPPP \\nRNBKQBNR \\n         \\n         ', score=-37, wc=(True, True), bc=(True, True), ep=0, kp=0)"
     },
     "execution_count": 3,
     "metadata": {},
     "output_type": "execute_result"
    }
   ],
   "source": [
    "hist[0].move(move)"
   ]
  },
  {
   "cell_type": "code",
   "execution_count": 4,
   "id": "9bcb019b21a7133",
   "metadata": {
    "collapsed": false,
    "ExecuteTime": {
     "end_time": "2024-02-02T16:59:27.938396Z",
     "start_time": "2024-02-02T16:59:27.873396500Z"
    }
   },
   "outputs": [
    {
     "data": {
      "text/plain": "[Move(i=81, j=71, prom=''),\n Move(i=81, j=61, prom=''),\n Move(i=82, j=72, prom=''),\n Move(i=82, j=62, prom=''),\n Move(i=83, j=73, prom=''),\n Move(i=83, j=63, prom=''),\n Move(i=84, j=74, prom=''),\n Move(i=84, j=64, prom=''),\n Move(i=85, j=75, prom=''),\n Move(i=85, j=65, prom=''),\n Move(i=86, j=76, prom=''),\n Move(i=86, j=66, prom=''),\n Move(i=87, j=77, prom=''),\n Move(i=87, j=67, prom=''),\n Move(i=88, j=78, prom=''),\n Move(i=88, j=68, prom=''),\n Move(i=92, j=73, prom=''),\n Move(i=92, j=71, prom=''),\n Move(i=97, j=78, prom=''),\n Move(i=97, j=76, prom='')]"
     },
     "execution_count": 4,
     "metadata": {},
     "output_type": "execute_result"
    }
   ],
   "source": [
    "[el for el in hist[0].gen_moves()]"
   ]
  },
  {
   "cell_type": "code",
   "execution_count": 6,
   "id": "cf3af747ef82dc6b",
   "metadata": {
    "collapsed": false,
    "ExecuteTime": {
     "end_time": "2024-02-02T17:00:42.931726700Z",
     "start_time": "2024-02-02T17:00:42.907729Z"
    }
   },
   "outputs": [],
   "source": [
    "def play_on(board, n):\n",
    "    from copy import copy\n",
    "    board0 = copy(board)\n",
    "    for i in tqdm(range(n)):\n",
    "        moves = [el for el in board.generate_legal_moves()]\n",
    "        if len(moves):\n",
    "            board.push(moves[-1])\n",
    "        else:\n",
    "            board = board0\n"
   ]
  },
  {
   "cell_type": "code",
   "outputs": [
    {
     "name": "stderr",
     "output_type": "stream",
     "text": [
      "100%|██████████| 200000/200000 [00:14<00:00, 13566.52it/s]\n"
     ]
    }
   ],
   "source": [
    "n = int(2e5)\n",
    "play_on(chess.Board(), n)"
   ],
   "metadata": {
    "collapsed": false,
    "ExecuteTime": {
     "end_time": "2024-02-02T17:01:07.617906700Z",
     "start_time": "2024-02-02T17:00:52.857266600Z"
    }
   },
   "id": "4892b58492655ad4",
   "execution_count": 7
  },
  {
   "cell_type": "code",
   "outputs": [
    {
     "name": "stderr",
     "output_type": "stream",
     "text": [
      "100%|██████████| 200000/200000 [00:10<00:00, 19054.06it/s]\n"
     ]
    }
   ],
   "source": [
    "play_on(hist[0], n)"
   ],
   "metadata": {
    "collapsed": false,
    "ExecuteTime": {
     "end_time": "2024-02-02T17:01:21.718828100Z",
     "start_time": "2024-02-02T17:01:11.206267300Z"
    }
   },
   "id": "fe6832a4a4b86238",
   "execution_count": 8
  },
  {
   "cell_type": "code",
   "outputs": [],
   "source": [
    "import copy"
   ],
   "metadata": {
    "collapsed": false,
    "ExecuteTime": {
     "end_time": "2024-02-09T10:54:21.477628300Z",
     "start_time": "2024-02-09T10:54:21.462741900Z"
    }
   },
   "id": "83091a4222cc1149",
   "execution_count": 22
  },
  {
   "cell_type": "code",
   "outputs": [],
   "source": [
    "pst = {\n",
    "    'P': (   0,   0,   0,   0,   0,   0,   0,   0,\n",
    "            78,  83,  86,  73, 102,  82,  85,  90,\n",
    "             7,  29,  21,  44,  40,  31,  44,   7,\n",
    "           -17,  16,  -2,  15,  14,   0,  15, -13,\n",
    "           -26,   3,  10,   9,   6,   1,   0, -23,\n",
    "           -22,   9,   5, -11, -10,  -2,   3, -19,\n",
    "           -31,   8,  -7, -37, -36, -14,   3, -31,\n",
    "             0,   0,   0,   0,   0,   0,   0,   0),\n",
    "    'N': ( -66, -53, -75, -75, -10, -55, -58, -70,\n",
    "            -3,  -6, 100, -36,   4,  62,  -4, -14,\n",
    "            10,  67,   1,  74,  73,  27,  62,  -2,\n",
    "            24,  24,  45,  37,  33,  41,  25,  17,\n",
    "            -1,   5,  31,  21,  22,  35,   2,   0,\n",
    "           -18,  10,  13,  22,  18,  15,  11, -14,\n",
    "           -23, -15,   2,   0,   2,   0, -23, -20,\n",
    "           -74, -23, -26, -24, -19, -35, -22, -69),\n",
    "    'B': ( -59, -78, -82, -76, -23,-107, -37, -50,\n",
    "           -11,  20,  35, -42, -39,  31,   2, -22,\n",
    "            -9,  39, -32,  41,  52, -10,  28, -14,\n",
    "            25,  17,  20,  34,  26,  25,  15,  10,\n",
    "            13,  10,  17,  23,  17,  16,   0,   7,\n",
    "            14,  25,  24,  15,   8,  25,  20,  15,\n",
    "            19,  20,  11,   6,   7,   6,  20,  16,\n",
    "            -7,   2, -15, -12, -14, -15, -10, -10),\n",
    "    'R': (  35,  29,  33,   4,  37,  33,  56,  50,\n",
    "            55,  29,  56,  67,  55,  62,  34,  60,\n",
    "            19,  35,  28,  33,  45,  27,  25,  15,\n",
    "             0,   5,  16,  13,  18,  -4,  -9,  -6,\n",
    "           -28, -35, -16, -21, -13, -29, -46, -30,\n",
    "           -42, -28, -42, -25, -25, -35, -26, -46,\n",
    "           -53, -38, -31, -26, -29, -43, -44, -53,\n",
    "           -30, -24, -18,   5,  -2, -18, -31, -32),\n",
    "    'Q': (   6,   1,  -8,-104,  69,  24,  88,  26,\n",
    "            14,  32,  60, -10,  20,  76,  57,  24,\n",
    "            -2,  43,  32,  60,  72,  63,  43,   2,\n",
    "             1, -16,  22,  17,  25,  20, -13,  -6,\n",
    "           -14, -15,  -2,  -5,  -1, -10, -20, -22,\n",
    "           -30,  -6, -13, -11, -16, -11, -16, -27,\n",
    "           -36, -18,   0, -19, -15, -15, -21, -38,\n",
    "           -39, -30, -31, -13, -31, -36, -34, -42),\n",
    "    'K': (   4,  54,  47, -99, -99,  60,  83, -62,\n",
    "           -32,  10,  55,  56,  56,  55,  10,   3,\n",
    "           -62,  12, -57,  44, -67,  28,  37, -31,\n",
    "           -55,  50,  11,  -4, -19,  13,   0, -49,\n",
    "           -55, -43, -52, -28, -51, -47,  -8, -50,\n",
    "           -47, -42, -43, -79, -64, -32, -29, -32,\n",
    "            -4,   3, -14, -50, -57, -18,  13,   4,\n",
    "            17,  30,  -3, -14,   6,  -1,  40,  18),\n",
    "}\n",
    "# for black\n",
    "pst_ = copy.deepcopy(pst)\n",
    "for piece in pst_.keys():\n",
    "    piece_array = -np.array(pst[piece]).reshape((8,8))[np.arange(7,-1,-1)]\n",
    "    pst[piece.lower()] = tuple(piece_array.reshape((-1)))"
   ],
   "metadata": {
    "collapsed": false,
    "ExecuteTime": {
     "end_time": "2024-02-09T11:02:49.796933600Z",
     "start_time": "2024-02-09T11:02:49.763142200Z"
    }
   },
   "id": "60b8579ccecb2a22",
   "execution_count": 30
  },
  {
   "cell_type": "code",
   "outputs": [
    {
     "data": {
      "text/plain": "(-17,\n -30,\n 3,\n 14,\n -6,\n 1,\n -40,\n -18,\n 4,\n -3,\n 14,\n 50,\n 57,\n 18,\n -13,\n -4,\n 47,\n 42,\n 43,\n 79,\n 64,\n 32,\n 29,\n 32,\n 55,\n 43,\n 52,\n 28,\n 51,\n 47,\n 8,\n 50,\n 55,\n -50,\n -11,\n 4,\n 19,\n -13,\n 0,\n 49,\n 62,\n -12,\n 57,\n -44,\n 67,\n -28,\n -37,\n 31,\n 32,\n -10,\n -55,\n -56,\n -56,\n -55,\n -10,\n -3,\n -4,\n -54,\n -47,\n 99,\n 99,\n -60,\n -83,\n 62)"
     },
     "execution_count": 31,
     "metadata": {},
     "output_type": "execute_result"
    }
   ],
   "source": [
    "pst['k']"
   ],
   "metadata": {
    "collapsed": false,
    "ExecuteTime": {
     "end_time": "2024-02-09T11:02:52.079680100Z",
     "start_time": "2024-02-09T11:02:52.058762200Z"
    }
   },
   "id": "c12758725a99131f",
   "execution_count": 31
  },
  {
   "cell_type": "code",
   "outputs": [
    {
     "name": "stdout",
     "output_type": "stream",
     "text": [
      "0\n"
     ]
    }
   ],
   "source": [
    "s = str(chess.Board()).replace(' ','').replace('\\n','')\n",
    "eval = 0\n",
    "for i, char in enumerate(s):\n",
    "    if char == '.':\n",
    "        continue\n",
    "    else:\n",
    "        eval += pst[char][i]\n",
    "print(eval)"
   ],
   "metadata": {
    "collapsed": false,
    "ExecuteTime": {
     "end_time": "2024-02-09T11:03:34.798707500Z",
     "start_time": "2024-02-09T11:03:34.768787200Z"
    }
   },
   "id": "c68a15dce27048f0",
   "execution_count": 33
  },
  {
   "cell_type": "code",
   "outputs": [
    {
     "data": {
      "text/plain": "array([ 17,  30,  -3, -14,   6,  -1,  40,  18,  -4,   3, -14, -50, -57,\n       -18,  13,   4, -47, -42, -43, -79, -64, -32, -29, -32, -55, -43,\n       -52, -28, -51, -47,  -8, -50, -55,  50,  11,  -4, -19,  13,   0,\n       -49, -62,  12, -57,  44, -67,  28,  37, -31, -32,  10,  55,  56,\n        56,  55,  10,   3,   4,  54,  47, -99, -99,  60,  83, -62])"
     },
     "execution_count": 20,
     "metadata": {},
     "output_type": "execute_result"
    }
   ],
   "source": [
    "import numpy as np\n",
    "np.array(pst['K']).reshape((8,8))[np.arange(7,-1,-1)].reshape((-1))"
   ],
   "metadata": {
    "collapsed": false,
    "ExecuteTime": {
     "end_time": "2024-02-09T10:52:57.759672800Z",
     "start_time": "2024-02-09T10:52:57.721773800Z"
    }
   },
   "id": "e2cb0ffa7ceae994",
   "execution_count": 20
  }
 ],
 "metadata": {
  "kernelspec": {
   "display_name": "Python 3",
   "language": "python",
   "name": "python3"
  },
  "language_info": {
   "codemirror_mode": {
    "name": "ipython",
    "version": 2
   },
   "file_extension": ".py",
   "mimetype": "text/x-python",
   "name": "python",
   "nbconvert_exporter": "python",
   "pygments_lexer": "ipython2",
   "version": "2.7.6"
  }
 },
 "nbformat": 4,
 "nbformat_minor": 5
}
