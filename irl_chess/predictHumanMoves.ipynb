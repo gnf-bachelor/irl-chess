{
 "cells": [
  {
   "cell_type": "code",
   "execution_count": 3,
   "id": "initial_id",
   "metadata": {
    "collapsed": true,
    "ExecuteTime": {
     "end_time": "2024-03-22T09:06:44.192852100Z",
     "start_time": "2024-03-22T09:06:44.160685200Z"
    }
   },
   "outputs": [],
   "source": [
    "import os\n",
    "import copy\n",
    "import GPyOpt\n",
    "\n",
    "import numpy as np\n",
    "import pandas as pd\n",
    "\n",
    "from os.path import join\n",
    "from tqdm import tqdm\n",
    "from joblib import Parallel, delayed\n",
    "from GPy.kern import Matern52, Exponential\n",
    "from irl_chess.misc_utils.utils import union_dicts\n",
    "from irl_chess.misc_utils.load_save_utils import fix_cwd, load_config, create_result_path, get_states\n",
    "\n",
    "from irl_chess.chess_utils import get_new_pst\n",
    "from irl_chess.models.sunfish_GRW import sunfish_move, pst\n",
    "from irl_chess.visualizations import plot_BO_2d, char_to_idxs, plot_R_BO\n",
    "from irl_chess.misc_utils import reformat_list"
   ]
  },
  {
   "cell_type": "code",
   "outputs": [
    {
     "name": "stdout",
     "output_type": "stream",
     "text": [
      "\n",
      "\n",
      "-------------------  1/12  -------------------\n",
      "\n",
      "\n",
      "Time taken: 0.00 seconds for file\n",
      "Time taken: 0.00 seconds in total\n"
     ]
    },
    {
     "name": "stderr",
     "output_type": "stream",
     "text": [
      "\n",
      "Looking through file 0:   0%|          | 0/92811021 [00:00<?, ?it/s]\u001B[A\n",
      "Looking through file 0:   0%|          | 18346/92811021 [00:00<08:27, 182696.16it/s]\u001B[A\n",
      "Looking through file 0:   0%|          | 37925/92811021 [00:00<08:10, 189124.39it/s]\u001B[A\n",
      "Looking through file 0:   0%|          | 57468/92811021 [00:00<08:07, 190104.34it/s]\u001B[A\n",
      "Looking through file 0:   0%|          | 76888/92811021 [00:00<08:41, 177714.56it/s]\u001B[A\n",
      "Looking through file 0:   0%|          | 95515/92811021 [00:00<08:44, 176748.45it/s]\u001B[A\n",
      "Looking through file 0:   0%|          | 118143/92811021 [00:00<08:04, 191336.92it/s]\u001B[A\n",
      "Looking through file 0:   0%|          | 138629/92811021 [00:00<07:54, 195130.93it/s]\u001B[A\n",
      "Looking through file 0:   0%|          | 163756/92811021 [00:00<07:19, 210927.21it/s]\u001B[A\n",
      "Looking through file 0:   0%|          | 185492/92811021 [00:00<07:27, 206794.24it/s]\u001B[A\n",
      "Looking through file 0:   0%|          | 217513/92811021 [00:01<08:04, 191174.17it/s]\u001B[A\n"
     ]
    }
   ],
   "source": [
    "fix_cwd()\n",
    "base_config_data, model_config_data = load_config()\n",
    "config_data = union_dicts(base_config_data, model_config_data)\n",
    "\n",
    "match config_data['model']: # Load the model specified in the \"base_config\" file. Make sure the \"model\" field is set \n",
    "                            # correctly and that a model_result_string function is defined to properly store the results.\n",
    "    case \"sunfish_GRW\": # Sunfish Greedy Random Walk\n",
    "        from irl_chess.models.sunfish_GRW import run_sunfish_GRW as model, \\\n",
    "                                      sunfish_native_result_string as model_result_string\n",
    "    case \"bayesian_optimisation\":\n",
    "        from irl_chess.models.bayesian_optimisation import run_bayesian_optimisation as model, \\\n",
    "                                      bayesian_model_result_string as model_result_string\n",
    "    case _:\n",
    "        raise Exception(f\"No model found with the name {config_data['model']}\")\n",
    "\n",
    "out_path = create_result_path(base_config_data, model_config_data, model_result_string, path_result=None)\n",
    "\n",
    "websites_filepath = join(os.getcwd(), 'downloads', 'lichess_websites.txt')\n",
    "file_path_data = join(os.getcwd(), 'data', 'raw')\n",
    "\n",
    "sunfish_boards = get_states(websites_filepath=websites_filepath,\n",
    "                            file_path_data=file_path_data,\n",
    "                            config_data=config_data) # Boards in the sunfish format.\n"
   ],
   "metadata": {
    "collapsed": false,
    "ExecuteTime": {
     "end_time": "2024-03-22T09:07:35.841846800Z",
     "start_time": "2024-03-22T09:07:34.653973500Z"
    }
   },
   "id": "9fb0742eadf5c8bd",
   "execution_count": 6
  },
  {
   "cell_type": "code",
   "outputs": [
    {
     "data": {
      "text/plain": "Position(board='         \\n         \\n r..k.bnr\\n .ppb..p.\\n p.q.p..p\\n ...p.p..\\n ...P.B..\\n ..Q.P..P\\n PPP..PP.\\n RN.K..NR\\n         \\n         \\n', score=122, wc=(True, True), bc=(True, True), ep=0, kp=0)"
     },
     "execution_count": 7,
     "metadata": {},
     "output_type": "execute_result"
    }
   ],
   "source": [
    "sunfish_boards[0]"
   ],
   "metadata": {
    "collapsed": false,
    "ExecuteTime": {
     "end_time": "2024-03-22T09:07:46.388545Z",
     "start_time": "2024-03-22T09:07:46.353581Z"
    }
   },
   "id": "7dd3cb035a33a32a",
   "execution_count": 7
  }
 ],
 "metadata": {
  "kernelspec": {
   "display_name": "Python 3",
   "language": "python",
   "name": "python3"
  },
  "language_info": {
   "codemirror_mode": {
    "name": "ipython",
    "version": 2
   },
   "file_extension": ".py",
   "mimetype": "text/x-python",
   "name": "python",
   "nbconvert_exporter": "python",
   "pygments_lexer": "ipython2",
   "version": "2.7.6"
  }
 },
 "nbformat": 4,
 "nbformat_minor": 5
}
